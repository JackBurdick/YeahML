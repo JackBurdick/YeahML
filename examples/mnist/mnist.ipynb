{
 "cells": [
  {
   "cell_type": "markdown",
   "metadata": {},
   "source": [
    "# Abalone\n",
    "\n",
    "In this example, we'll demonstrate how to use [dataduit](https://github.com/JackBurdick/dataduit) to create tensorflow datasets from a pandas dataframe by specifying a config file.\n",
    "\n",
    "We'll then demonstrate how to use yeahml to create/build/evaluate a model on the created data.\n",
    "\n",
    "#### Note:\n",
    "> The model for this project likely doesn't make sense. I am not personally familiar with the dataset/problem, I was interested showing an example"
   ]
  },
  {
   "cell_type": "code",
   "execution_count": 1,
   "metadata": {},
   "outputs": [],
   "source": [
    "%load_ext autoreload\n",
    "%autoreload 2"
   ]
  },
  {
   "cell_type": "code",
   "execution_count": 2,
   "metadata": {
    "scrolled": false
   },
   "outputs": [],
   "source": [
    "import pandas as pd\n",
    "import tensorflow as tf\n",
    "import dataduit as dd\n",
    "import yeahml as yml"
   ]
  },
  {
   "cell_type": "markdown",
   "metadata": {},
   "source": [
    "## Create Datasets"
   ]
  },
  {
   "cell_type": "code",
   "execution_count": 3,
   "metadata": {},
   "outputs": [],
   "source": [
    "# only use 2 of the features\n",
    "dd_dict = {\n",
    "    \"meta\": {\n",
    "        \"name\": \"mnist\",\n",
    "        \"logging\": {\"log_stream_level\": \"INFO\"},\n",
    "        \"in\": {\"from\": \"online\", \"type\": \"tfd\"},\n",
    "    },\n",
    "    \"read\": {\n",
    "        \"split_percents\": [75, 15, 10],\n",
    "        \"split_names\": [\"train\", \"val\", \"test\"],\n",
    "        \"from_stage\": \"preprocessed\"\n",
    "\n",
    "    },\n",
    "}"
   ]
  },
  {
   "cell_type": "code",
   "execution_count": 4,
   "metadata": {},
   "outputs": [
    {
     "name": "stderr",
     "output_type": "stream",
     "text": [
      "root dir set to None\n"
     ]
    }
   ],
   "source": [
    "# create the datasets based on the above defined names/splits/specifed data\n",
    "ds_dict = dd.read(dd_dict)"
   ]
  },
  {
   "cell_type": "markdown",
   "metadata": {},
   "source": [
    "`ds_dict` is a dictionary containing the tensorflow datasets (as specified above). which can be accessed like this:\n",
    "\n",
    "```python\n",
    "ds_val = ds_dict[\"val\"]\n",
    "```"
   ]
  },
  {
   "cell_type": "markdown",
   "metadata": {},
   "source": [
    "## Specify the Model"
   ]
  },
  {
   "cell_type": "code",
   "execution_count": 5,
   "metadata": {},
   "outputs": [],
   "source": [
    "# %load_ext autoreload\n",
    "# %autoreload 2\n",
    "# import yeahml as yml"
   ]
  },
  {
   "cell_type": "code",
   "execution_count": 15,
   "metadata": {
    "scrolled": false
   },
   "outputs": [],
   "source": [
    "example = \"./main_config.yml\"\n",
    "yml_dict = yml.create_configs(example)"
   ]
  },
  {
   "cell_type": "code",
   "execution_count": 16,
   "metadata": {},
   "outputs": [
    {
     "data": {
      "text/plain": [
       "{'meta': {'yeahml_dir': 'yeahml',\n",
       "  'data_name': 'mnist',\n",
       "  'experiment_name': 'trial_00',\n",
       "  'rand_seed': None,\n",
       "  'trace_level': None,\n",
       "  'default_load_params_path': None},\n",
       " 'logging': {'console': {'level': 'info',\n",
       "   'format_str': '%(name)-12s: %(levelname)-8s %(message)s'},\n",
       "  'file': {'level': 'error',\n",
       "   'format_str': '%(filename)s:%(lineno)s - %(funcName)20s()][%(levelname)-8s]: %(message)s'}},\n",
       " 'performance': {'objectives': {'main_obj': {'loss': {'type': 'categorical_crossentropy',\n",
       "     'options': None,\n",
       "     'track': ['mean']},\n",
       "    'metric': {'type': ['categoricalaccuracy'], 'options': [None]},\n",
       "    'in_config': {'type': 'supervised',\n",
       "     'options': {'prediction': 'y_pred', 'target': 'y_target'}}},\n",
       "   'second_obj': {'loss': {'type': 'categorical_crossentropy',\n",
       "     'options': None,\n",
       "     'track': ['mean']},\n",
       "    'metric': {'type': ['topkcategoricalaccuracy', 'topkcategoricalaccuracy'],\n",
       "     'options': [{'k': 2}, {'k': 3}]},\n",
       "    'in_config': {'type': 'supervised',\n",
       "     'options': {'prediction': 'y_pred', 'target': 'y_target'}}}}},\n",
       " 'data': {'in': {'x_image': {'shape': [28, 28, 1],\n",
       "    'dtype': 'float32',\n",
       "    'startpoint': True,\n",
       "    'endpoint': False,\n",
       "    'label': False},\n",
       "   'y_target': {'shape': [1, 1],\n",
       "    'dtype': 'int32',\n",
       "    'startpoint': True,\n",
       "    'endpoint': True,\n",
       "    'label': True}}},\n",
       " 'hyper_parameters': {'dataset': {'batch': 16, 'shuffle_buffer': 128},\n",
       "  'epochs': 15,\n",
       "  'early_stopping': {'epochs': None, 'warm_up': None}},\n",
       " 'model': {'layers': {'conv_1': {'layer_base': {'str': 'conv2d',\n",
       "     'func': tensorflow.python.keras.layers.convolutional.Conv2D,\n",
       "     'func_args': ['filters',\n",
       "      'kernel_size',\n",
       "      'strides',\n",
       "      'padding',\n",
       "      'data_format',\n",
       "      'dilation_rate',\n",
       "      'activation',\n",
       "      'use_bias',\n",
       "      'kernel_initializer',\n",
       "      'bias_initializer',\n",
       "      'kernel_regularizer',\n",
       "      'bias_regularizer',\n",
       "      'activity_regularizer',\n",
       "      'kernel_constraint',\n",
       "      'bias_constraint',\n",
       "      'trainable',\n",
       "      'name',\n",
       "      'dtype',\n",
       "      'dynamic'],\n",
       "     'func_defaults': [yeahml.build.layers.config.NOTPRESENT,\n",
       "      yeahml.build.layers.config.NOTPRESENT,\n",
       "      (1, 1),\n",
       "      'valid',\n",
       "      None,\n",
       "      (1, 1),\n",
       "      None,\n",
       "      True,\n",
       "      'glorot_uniform',\n",
       "      'zeros',\n",
       "      None,\n",
       "      None,\n",
       "      None,\n",
       "      None,\n",
       "      None,\n",
       "      True,\n",
       "      None,\n",
       "      None,\n",
       "      False]},\n",
       "    'options': {'user_vals': [8,\n",
       "      3,\n",
       "      (1, 1),\n",
       "      'same',\n",
       "      None,\n",
       "      (1, 1),\n",
       "      None,\n",
       "      True,\n",
       "      'glorot_uniform',\n",
       "      'zeros',\n",
       "      None,\n",
       "      None,\n",
       "      None,\n",
       "      None,\n",
       "      None,\n",
       "      True,\n",
       "      None,\n",
       "      None,\n",
       "      False]},\n",
       "    'layer_in_name': ['x_image'],\n",
       "    'startpoint': False,\n",
       "    'endpoint': False},\n",
       "   'conv_2_downsample': {'layer_base': {'str': 'conv2d',\n",
       "     'func': tensorflow.python.keras.layers.convolutional.Conv2D,\n",
       "     'func_args': ['filters',\n",
       "      'kernel_size',\n",
       "      'strides',\n",
       "      'padding',\n",
       "      'data_format',\n",
       "      'dilation_rate',\n",
       "      'activation',\n",
       "      'use_bias',\n",
       "      'kernel_initializer',\n",
       "      'bias_initializer',\n",
       "      'kernel_regularizer',\n",
       "      'bias_regularizer',\n",
       "      'activity_regularizer',\n",
       "      'kernel_constraint',\n",
       "      'bias_constraint',\n",
       "      'trainable',\n",
       "      'name',\n",
       "      'dtype',\n",
       "      'dynamic'],\n",
       "     'func_defaults': [yeahml.build.layers.config.NOTPRESENT,\n",
       "      yeahml.build.layers.config.NOTPRESENT,\n",
       "      (1, 1),\n",
       "      'valid',\n",
       "      None,\n",
       "      (1, 1),\n",
       "      None,\n",
       "      True,\n",
       "      'glorot_uniform',\n",
       "      'zeros',\n",
       "      None,\n",
       "      None,\n",
       "      None,\n",
       "      None,\n",
       "      None,\n",
       "      True,\n",
       "      None,\n",
       "      None,\n",
       "      False]},\n",
       "    'options': {'user_vals': [8,\n",
       "      3,\n",
       "      2,\n",
       "      'same',\n",
       "      None,\n",
       "      (1, 1),\n",
       "      None,\n",
       "      True,\n",
       "      'glorot_uniform',\n",
       "      'zeros',\n",
       "      None,\n",
       "      None,\n",
       "      None,\n",
       "      None,\n",
       "      None,\n",
       "      True,\n",
       "      None,\n",
       "      None,\n",
       "      False]},\n",
       "    'layer_in_name': ['conv_1'],\n",
       "    'startpoint': False,\n",
       "    'endpoint': False},\n",
       "   'conv_3': {'layer_base': {'str': 'conv2d',\n",
       "     'func': tensorflow.python.keras.layers.convolutional.Conv2D,\n",
       "     'func_args': ['filters',\n",
       "      'kernel_size',\n",
       "      'strides',\n",
       "      'padding',\n",
       "      'data_format',\n",
       "      'dilation_rate',\n",
       "      'activation',\n",
       "      'use_bias',\n",
       "      'kernel_initializer',\n",
       "      'bias_initializer',\n",
       "      'kernel_regularizer',\n",
       "      'bias_regularizer',\n",
       "      'activity_regularizer',\n",
       "      'kernel_constraint',\n",
       "      'bias_constraint',\n",
       "      'trainable',\n",
       "      'name',\n",
       "      'dtype',\n",
       "      'dynamic'],\n",
       "     'func_defaults': [yeahml.build.layers.config.NOTPRESENT,\n",
       "      yeahml.build.layers.config.NOTPRESENT,\n",
       "      (1, 1),\n",
       "      'valid',\n",
       "      None,\n",
       "      (1, 1),\n",
       "      None,\n",
       "      True,\n",
       "      'glorot_uniform',\n",
       "      'zeros',\n",
       "      None,\n",
       "      None,\n",
       "      None,\n",
       "      None,\n",
       "      None,\n",
       "      True,\n",
       "      None,\n",
       "      None,\n",
       "      False]},\n",
       "    'options': {'user_vals': [8,\n",
       "      3,\n",
       "      1,\n",
       "      'same',\n",
       "      None,\n",
       "      (1, 1),\n",
       "      None,\n",
       "      True,\n",
       "      'glorot_uniform',\n",
       "      'zeros',\n",
       "      None,\n",
       "      None,\n",
       "      None,\n",
       "      None,\n",
       "      None,\n",
       "      True,\n",
       "      None,\n",
       "      None,\n",
       "      False]},\n",
       "    'layer_in_name': ['conv_2_downsample'],\n",
       "    'startpoint': False,\n",
       "    'endpoint': False},\n",
       "   'conv_4_downsample': {'layer_base': {'str': 'conv2d',\n",
       "     'func': tensorflow.python.keras.layers.convolutional.Conv2D,\n",
       "     'func_args': ['filters',\n",
       "      'kernel_size',\n",
       "      'strides',\n",
       "      'padding',\n",
       "      'data_format',\n",
       "      'dilation_rate',\n",
       "      'activation',\n",
       "      'use_bias',\n",
       "      'kernel_initializer',\n",
       "      'bias_initializer',\n",
       "      'kernel_regularizer',\n",
       "      'bias_regularizer',\n",
       "      'activity_regularizer',\n",
       "      'kernel_constraint',\n",
       "      'bias_constraint',\n",
       "      'trainable',\n",
       "      'name',\n",
       "      'dtype',\n",
       "      'dynamic'],\n",
       "     'func_defaults': [yeahml.build.layers.config.NOTPRESENT,\n",
       "      yeahml.build.layers.config.NOTPRESENT,\n",
       "      (1, 1),\n",
       "      'valid',\n",
       "      None,\n",
       "      (1, 1),\n",
       "      None,\n",
       "      True,\n",
       "      'glorot_uniform',\n",
       "      'zeros',\n",
       "      None,\n",
       "      None,\n",
       "      None,\n",
       "      None,\n",
       "      None,\n",
       "      True,\n",
       "      None,\n",
       "      None,\n",
       "      False]},\n",
       "    'options': {'user_vals': [8,\n",
       "      3,\n",
       "      2,\n",
       "      'same',\n",
       "      None,\n",
       "      (1, 1),\n",
       "      None,\n",
       "      True,\n",
       "      'glorot_uniform',\n",
       "      'zeros',\n",
       "      None,\n",
       "      None,\n",
       "      None,\n",
       "      None,\n",
       "      None,\n",
       "      True,\n",
       "      None,\n",
       "      None,\n",
       "      False]},\n",
       "    'layer_in_name': ['conv_3'],\n",
       "    'startpoint': False,\n",
       "    'endpoint': False},\n",
       "   'flatten_1': {'layer_base': {'str': 'flatten',\n",
       "     'func': tensorflow.python.keras.layers.core.Flatten,\n",
       "     'func_args': ['data_format', 'trainable', 'name', 'dtype', 'dynamic'],\n",
       "     'func_defaults': [None, True, None, None, False]},\n",
       "    'options': {'user_vals': []},\n",
       "    'layer_in_name': ['conv_4_downsample'],\n",
       "    'startpoint': False,\n",
       "    'endpoint': False},\n",
       "   'dense_1': {'layer_base': {'str': 'dense',\n",
       "     'func': tensorflow.python.keras.layers.core.Dense,\n",
       "     'func_args': ['units',\n",
       "      'activation',\n",
       "      'use_bias',\n",
       "      'kernel_initializer',\n",
       "      'bias_initializer',\n",
       "      'kernel_regularizer',\n",
       "      'bias_regularizer',\n",
       "      'activity_regularizer',\n",
       "      'kernel_constraint',\n",
       "      'bias_constraint',\n",
       "      'trainable',\n",
       "      'name',\n",
       "      'dtype',\n",
       "      'dynamic'],\n",
       "     'func_defaults': [yeahml.build.layers.config.NOTPRESENT,\n",
       "      None,\n",
       "      True,\n",
       "      'glorot_uniform',\n",
       "      'zeros',\n",
       "      None,\n",
       "      None,\n",
       "      None,\n",
       "      None,\n",
       "      None,\n",
       "      True,\n",
       "      None,\n",
       "      None,\n",
       "      False]},\n",
       "    'options': {'user_vals': [32,\n",
       "      <function tensorflow.python.keras.activations.elu(x, alpha=1.0)>,\n",
       "      True,\n",
       "      'glorot_uniform',\n",
       "      'zeros',\n",
       "      None,\n",
       "      None,\n",
       "      None,\n",
       "      None,\n",
       "      None,\n",
       "      True,\n",
       "      None,\n",
       "      None,\n",
       "      False]},\n",
       "    'layer_in_name': ['flatten_1'],\n",
       "    'startpoint': False,\n",
       "    'endpoint': False},\n",
       "   'y_pred': {'layer_base': {'str': 'dense',\n",
       "     'func': tensorflow.python.keras.layers.core.Dense,\n",
       "     'func_args': ['units',\n",
       "      'activation',\n",
       "      'use_bias',\n",
       "      'kernel_initializer',\n",
       "      'bias_initializer',\n",
       "      'kernel_regularizer',\n",
       "      'bias_regularizer',\n",
       "      'activity_regularizer',\n",
       "      'kernel_constraint',\n",
       "      'bias_constraint',\n",
       "      'trainable',\n",
       "      'name',\n",
       "      'dtype',\n",
       "      'dynamic'],\n",
       "     'func_defaults': [yeahml.build.layers.config.NOTPRESENT,\n",
       "      None,\n",
       "      True,\n",
       "      'glorot_uniform',\n",
       "      'zeros',\n",
       "      None,\n",
       "      None,\n",
       "      None,\n",
       "      None,\n",
       "      None,\n",
       "      True,\n",
       "      None,\n",
       "      None,\n",
       "      False]},\n",
       "    'options': {'user_vals': [10,\n",
       "      <function tensorflow.python.keras.activations.softmax(x, axis=-1)>,\n",
       "      True,\n",
       "      'glorot_uniform',\n",
       "      'zeros',\n",
       "      None,\n",
       "      None,\n",
       "      None,\n",
       "      None,\n",
       "      None,\n",
       "      True,\n",
       "      None,\n",
       "      None,\n",
       "      False]},\n",
       "    'layer_in_name': ['dense_1'],\n",
       "    'startpoint': False,\n",
       "    'endpoint': True}},\n",
       "  'model_hash': -8555211424170786125},\n",
       " 'optimize': {'optimizers': {'main_opt': {'type': 'adam',\n",
       "    'options': {'learning_rate': 0.001},\n",
       "    'objectives': ['main_obj']}}},\n",
       " 'model_io': {'inputs': ['x_image'], 'outputs': ['y_pred']},\n",
       " 'static': {'x_image': <yeahml.config.create_configs.g_node at 0x7fb8400c7f60>,\n",
       "  'y_target': <yeahml.config.create_configs.g_node at 0x7fb8400c7a90>,\n",
       "  'conv_1': <yeahml.config.create_configs.g_node at 0x7fb8400c7978>,\n",
       "  'conv_2_downsample': <yeahml.config.create_configs.g_node at 0x7fb8400c7860>,\n",
       "  'conv_3': <yeahml.config.create_configs.g_node at 0x7fb8400c7438>,\n",
       "  'conv_4_downsample': <yeahml.config.create_configs.g_node at 0x7fb8400c7518>,\n",
       "  'flatten_1': <yeahml.config.create_configs.g_node at 0x7fb8400c72b0>,\n",
       "  'dense_1': <yeahml.config.create_configs.g_node at 0x7fb8400c7160>,\n",
       "  'y_pred': <yeahml.config.create_configs.g_node at 0x7fb8400c7da0>},\n",
       " 'subgraphs': {'y_pred': {'sequence': ['x_image',\n",
       "    'conv_1',\n",
       "    'conv_2_downsample',\n",
       "    'conv_3',\n",
       "    'conv_4_downsample',\n",
       "    'flatten_1',\n",
       "    'dense_1',\n",
       "    'y_pred']}}}"
      ]
     },
     "execution_count": 16,
     "metadata": {},
     "output_type": "execute_result"
    }
   ],
   "source": [
    "yml_dict"
   ]
  },
  {
   "cell_type": "code",
   "execution_count": 17,
   "metadata": {
    "scrolled": true
   },
   "outputs": [],
   "source": [
    "# import pprint\n",
    "# pprint.pprint(yml_dict['hyper_parameters'])\n",
    "# pprint.pprint(yml_dict['optimize'])\n",
    "# pprint.pprint(yml_dict['performance'])"
   ]
  },
  {
   "cell_type": "markdown",
   "metadata": {},
   "source": [
    "## Build the model"
   ]
  },
  {
   "cell_type": "code",
   "execution_count": 18,
   "metadata": {
    "scrolled": false
   },
   "outputs": [
    {
     "name": "stderr",
     "output_type": "stream",
     "text": [
      "build_logger: INFO     -> START building graph\n",
      "build_logger: INFO     information json file created\n"
     ]
    }
   ],
   "source": [
    "# If you receive an error:\n",
    "# AttributeError: 'google.protobuf.pyext._message.RepeatedCompositeCo' object has no attribute 'append'\n",
    "# I personally used `pip install -U protobuf=3.8.0` to resolve\n",
    "# per https://github.com/tensorflow/tensorflow/issues/33348\n",
    "model = yml.build_model(yml_dict)"
   ]
  },
  {
   "cell_type": "code",
   "execution_count": 20,
   "metadata": {},
   "outputs": [
    {
     "name": "stdout",
     "output_type": "stream",
     "text": [
      "Model: \"model\"\n",
      "_________________________________________________________________\n",
      "Layer (type)                 Output Shape              Param #   \n",
      "=================================================================\n",
      "x_image (InputLayer)         [(None, 28, 28, 1)]       0         \n",
      "_________________________________________________________________\n",
      "conv_1 (Conv2D)              (None, 28, 28, 8)         80        \n",
      "_________________________________________________________________\n",
      "conv_2_downsample (Conv2D)   (None, 14, 14, 8)         584       \n",
      "_________________________________________________________________\n",
      "conv_3 (Conv2D)              (None, 14, 14, 8)         584       \n",
      "_________________________________________________________________\n",
      "conv_4_downsample (Conv2D)   (None, 7, 7, 8)           584       \n",
      "_________________________________________________________________\n",
      "flatten_1 (Flatten)          (None, 392)               0         \n",
      "_________________________________________________________________\n",
      "dense_1 (Dense)              (None, 32)                12576     \n",
      "_________________________________________________________________\n",
      "y_pred (Dense)               (None, 10)                330       \n",
      "=================================================================\n",
      "Total params: 14,738\n",
      "Trainable params: 14,738\n",
      "Non-trainable params: 0\n",
      "_________________________________________________________________\n"
     ]
    }
   ],
   "source": [
    "model.summary()"
   ]
  },
  {
   "cell_type": "markdown",
   "metadata": {},
   "source": [
    "## Train the Model\n",
    "\n",
    "Notice here that we're using the created training and validation sets from `ds_dict`"
   ]
  },
  {
   "cell_type": "code",
   "execution_count": 21,
   "metadata": {},
   "outputs": [],
   "source": [
    "# import pprint\n",
    "# pprint.pprint(yml_dict['optimize'])\n",
    "# print(\"--\")\n",
    "# pprint.pprint(yml_dict['performance'])\n",
    "ds_dict = {\"train\": tf.data.Dataset.from_tensor_slices([1, 2, 3]) , \"val\": tf.data.Dataset.from_tensor_slices([1, 2, 3]) }"
   ]
  },
  {
   "cell_type": "code",
   "execution_count": 25,
   "metadata": {
    "scrolled": true
   },
   "outputs": [
    {
     "name": "stderr",
     "output_type": "stream",
     "text": [
      "train_logger: INFO     -> START training graph\n"
     ]
    },
    {
     "name": "stdout",
     "output_type": "stream",
     "text": [
      "{'main_opt': {'optimizer': <tensorflow.python.keras.optimizer_v2.adam.Adam object at 0x7fb840064ba8>, 'objectives': ['main_obj']}}\n",
      "************************************************\n",
      "{'main_obj': {'in_config': {'type': 'supervised', 'options': {'prediction': 'y_pred', 'target': 'y_target'}}, 'loss': {'object': <function categorical_crossentropy at 0x7fb870fe1158>, 'track': {'train': {'categorical_crossentropy': {'mean': <tensorflow.python.keras.metrics.Mean object at 0x7fb840064fd0>}}, 'val': {'categorical_crossentropy': {'mean': <tensorflow.python.keras.metrics.Mean object at 0x7fb840064c18>}}}}, 'metrics': {'categoricalaccuracy': {'train': <tensorflow.python.keras.metrics.CategoricalAccuracy object at 0x7fb840064a20>, 'val': <tensorflow.python.keras.metrics.CategoricalAccuracy object at 0x7fb840072e10>}}}, 'second_obj': {'in_config': {'type': 'supervised', 'options': {'prediction': 'y_pred', 'target': 'y_target'}}, 'loss': {'object': <function categorical_crossentropy at 0x7fb870fe1158>, 'track': {'train': {'categorical_crossentropy': {'mean': <tensorflow.python.keras.metrics.Mean object at 0x7fb8186fa1d0>}}, 'val': {'categorical_crossentropy': {'mean': <tensorflow.python.keras.metrics.Mean object at 0x7fb8186fa470>}}}}, 'metrics': {'topkcategoricalaccuracy': {'train': <tensorflow.python.keras.metrics.TopKCategoricalAccuracy object at 0x7fb852d930f0>, 'val': <tensorflow.python.keras.metrics.TopKCategoricalAccuracy object at 0x7fb852d8aac8>}}}}\n",
      "************************************************\n"
     ]
    },
    {
     "ename": "NameError",
     "evalue": "name 'sys' is not defined",
     "output_type": "error",
     "traceback": [
      "\u001b[0;31m---------------------------------------------------------------------------\u001b[0m",
      "\u001b[0;31mNameError\u001b[0m                                 Traceback (most recent call last)",
      "\u001b[0;32m<ipython-input-25-5973eb18d593>\u001b[0m in \u001b[0;36m<module>\u001b[0;34m\u001b[0m\n\u001b[0;32m----> 1\u001b[0;31m \u001b[0mtrain_dict\u001b[0m \u001b[0;34m=\u001b[0m \u001b[0myml\u001b[0m\u001b[0;34m.\u001b[0m\u001b[0mtrain_model\u001b[0m\u001b[0;34m(\u001b[0m\u001b[0mmodel\u001b[0m\u001b[0;34m,\u001b[0m \u001b[0myml_dict\u001b[0m\u001b[0;34m,\u001b[0m \u001b[0;34m(\u001b[0m\u001b[0mds_dict\u001b[0m\u001b[0;34m[\u001b[0m\u001b[0;34m\"train\"\u001b[0m\u001b[0;34m]\u001b[0m\u001b[0;34m,\u001b[0m \u001b[0mds_dict\u001b[0m\u001b[0;34m[\u001b[0m\u001b[0;34m\"val\"\u001b[0m\u001b[0;34m]\u001b[0m\u001b[0;34m)\u001b[0m\u001b[0;34m)\u001b[0m\u001b[0;34m\u001b[0m\u001b[0;34m\u001b[0m\u001b[0m\n\u001b[0m",
      "\u001b[0;32m~/dev/github/YeahML/src/yeahml/train/train_model.py\u001b[0m in \u001b[0;36mtrain_model\u001b[0;34m(model, config_dict, datasets)\u001b[0m\n\u001b[1;32m    242\u001b[0m     \u001b[0;31m# create mapping of optimizers to their losses (name, and objects)\u001b[0m\u001b[0;34m\u001b[0m\u001b[0;34m\u001b[0m\u001b[0;34m\u001b[0m\u001b[0m\n\u001b[1;32m    243\u001b[0m     optimizer_to_loss_name_map = obtain_optimizer_loss_mapping(\n\u001b[0;32m--> 244\u001b[0;31m         \u001b[0moptimizers_dict\u001b[0m\u001b[0;34m,\u001b[0m \u001b[0mobjectives_dict\u001b[0m\u001b[0;34m,\u001b[0m \u001b[0mdatasets\u001b[0m\u001b[0;34m=\u001b[0m\u001b[0mDATASETS\u001b[0m\u001b[0;34m\u001b[0m\u001b[0;34m\u001b[0m\u001b[0m\n\u001b[0m\u001b[1;32m    245\u001b[0m     )\n\u001b[1;32m    246\u001b[0m \u001b[0;34m\u001b[0m\u001b[0m\n",
      "\u001b[0;32m~/dev/github/YeahML/src/yeahml/train/setup/loop_dynamics.py\u001b[0m in \u001b[0;36mobtain_optimizer_loss_mapping\u001b[0;34m(optimizers_dict, objectives_dict, datasets)\u001b[0m\n\u001b[1;32m    170\u001b[0m     \u001b[0mprint\u001b[0m\u001b[0;34m(\u001b[0m\u001b[0mobjectives_dict\u001b[0m\u001b[0;34m)\u001b[0m\u001b[0;34m\u001b[0m\u001b[0;34m\u001b[0m\u001b[0m\n\u001b[1;32m    171\u001b[0m     \u001b[0mprint\u001b[0m\u001b[0;34m(\u001b[0m\u001b[0;34m\"******\"\u001b[0m \u001b[0;34m*\u001b[0m \u001b[0;36m8\u001b[0m\u001b[0;34m)\u001b[0m\u001b[0;34m\u001b[0m\u001b[0;34m\u001b[0m\u001b[0m\n\u001b[0;32m--> 172\u001b[0;31m     \u001b[0msys\u001b[0m\u001b[0;34m.\u001b[0m\u001b[0mexit\u001b[0m\u001b[0;34m(\u001b[0m\u001b[0;34m)\u001b[0m\u001b[0;34m\u001b[0m\u001b[0;34m\u001b[0m\u001b[0m\n\u001b[0m\u001b[1;32m    173\u001b[0m \u001b[0;34m\u001b[0m\u001b[0m\n\u001b[1;32m    174\u001b[0m     \u001b[0;31m# TODO: this function needs to be rewritten -- no hardcoding and better organization\u001b[0m\u001b[0;34m\u001b[0m\u001b[0;34m\u001b[0m\u001b[0;34m\u001b[0m\u001b[0m\n",
      "\u001b[0;31mNameError\u001b[0m: name 'sys' is not defined"
     ]
    }
   ],
   "source": [
    "train_dict = yml.train_model(model, yml_dict, (ds_dict[\"train\"], ds_dict[\"val\"]))"
   ]
  },
  {
   "cell_type": "code",
   "execution_count": 6,
   "metadata": {
    "scrolled": true
   },
   "outputs": [
    {
     "ename": "NameError",
     "evalue": "name 'train_dict' is not defined",
     "output_type": "error",
     "traceback": [
      "\u001b[0;31m---------------------------------------------------------------------------\u001b[0m",
      "\u001b[0;31mNameError\u001b[0m                                 Traceback (most recent call last)",
      "\u001b[0;32m<ipython-input-6-034a9850c129>\u001b[0m in \u001b[0;36m<module>\u001b[0;34m\u001b[0m\n\u001b[0;32m----> 1\u001b[0;31m \u001b[0mprint\u001b[0m\u001b[0;34m(\u001b[0m\u001b[0mtrain_dict\u001b[0m\u001b[0;34m[\u001b[0m\u001b[0;34m\"loss\"\u001b[0m\u001b[0;34m]\u001b[0m\u001b[0;34m[\u001b[0m\u001b[0;34m'main_obj'\u001b[0m\u001b[0;34m]\u001b[0m\u001b[0;34m[\u001b[0m\u001b[0;34m'train'\u001b[0m\u001b[0;34m]\u001b[0m\u001b[0;34m[\u001b[0m\u001b[0;34m'mean'\u001b[0m\u001b[0;34m]\u001b[0m\u001b[0;34m)\u001b[0m\u001b[0;34m\u001b[0m\u001b[0;34m\u001b[0m\u001b[0m\n\u001b[0m",
      "\u001b[0;31mNameError\u001b[0m: name 'train_dict' is not defined"
     ]
    }
   ],
   "source": [
    "print(train_dict[\"loss\"]['main_obj']['train']['mean'])"
   ]
  },
  {
   "cell_type": "code",
   "execution_count": 27,
   "metadata": {},
   "outputs": [
    {
     "data": {
      "text/plain": [
       "[<matplotlib.lines.Line2D at 0x7f6abc7770b8>]"
      ]
     },
     "execution_count": 27,
     "metadata": {},
     "output_type": "execute_result"
    },
    {
     "data": {
      "image/png": "[encoded data removed]",
      "text/plain": [
       "<Figure size 432x288 with 1 Axes>"
      ]
     },
     "metadata": {
      "needs_background": "light"
     },
     "output_type": "display_data"
    }
   ],
   "source": [
    "plt.plot(train_dict[\"loss\"]['main_obj']['val']['mean'].values)\n",
    "plt.plot(train_dict[\"loss\"]['main_obj']['train']['mean'].values)"
   ]
  },
  {
   "cell_type": "code",
   "execution_count": 25,
   "metadata": {},
   "outputs": [],
   "source": [
    "import matplotlib.pyplot as plt"
   ]
  },
  {
   "cell_type": "code",
   "execution_count": 16,
   "metadata": {},
   "outputs": [],
   "source": [
    "# plt.plot(train_dict['joint'][\"main_obj__second_obj__joint_train\"][\"train\"][\"mean\"][\"epoch\"][\"values\"])\n",
    "# plt.plot(train_dict['joint'][\"main_obj__second_obj__joint_train\"][\"val\"][\"mean\"][\"epoch\"][\"values\"])"
   ]
  },
  {
   "cell_type": "code",
   "execution_count": 17,
   "metadata": {},
   "outputs": [
    {
     "data": {
      "text/plain": [
       "[<matplotlib.lines.Line2D at 0x7f4f8034f080>]"
      ]
     },
     "execution_count": 17,
     "metadata": {},
     "output_type": "execute_result"
    },
    {
     "data": {
      "image/png": "[encoded data removed]",
      "text/plain": [
       "<Figure size 432x288 with 1 Axes>"
      ]
     },
     "metadata": {
      "needs_background": "light"
     },
     "output_type": "display_data"
    }
   ],
   "source": [
    "plt.plot(train_dict[\"loss\"][\"main_obj\"]['train'][\"mean\"][\"epoch\"][\"values\"])\n",
    "plt.plot(train_dict[\"loss\"][\"main_obj\"]['val'][\"mean\"][\"epoch\"][\"values\"])"
   ]
  },
  {
   "cell_type": "code",
   "execution_count": 18,
   "metadata": {},
   "outputs": [
    {
     "data": {
      "text/plain": [
       "[<matplotlib.lines.Line2D at 0x7f4f306d29b0>]"
      ]
     },
     "execution_count": 18,
     "metadata": {},
     "output_type": "execute_result"
    },
    {
     "data": {
      "image/png": "[encoded data removed]",
      "text/plain": [
       "<Figure size 432x288 with 1 Axes>"
      ]
     },
     "metadata": {
      "needs_background": "light"
     },
     "output_type": "display_data"
    }
   ],
   "source": [
    "plt.plot(train_dict[\"loss\"][\"second_obj\"]['train'][\"mean\"][\"epoch\"][\"values\"])\n",
    "plt.plot(train_dict[\"loss\"][\"second_obj\"]['val'][\"mean\"][\"epoch\"][\"values\"])"
   ]
  },
  {
   "cell_type": "markdown",
   "metadata": {},
   "source": [
    "## Evaluate the Model"
   ]
  },
  {
   "cell_type": "code",
   "execution_count": 18,
   "metadata": {},
   "outputs": [
    {
     "ename": "ValueError",
     "evalue": "specified path is neither an h5 path, nor a directory containing directories of h5: yeahml/abalone/trial_00/model/run_2020_03_15-14_02_15/save/params/best_params.h5",
     "output_type": "error",
     "traceback": [
      "\u001b[0;31m---------------------------------------------------------------------------\u001b[0m",
      "\u001b[0;31mValueError\u001b[0m                                Traceback (most recent call last)",
      "\u001b[0;32m<ipython-input-18-388344fb5e3f>\u001b[0m in \u001b[0;36m<module>\u001b[0;34m\u001b[0m\n\u001b[1;32m      2\u001b[0m     \u001b[0mmodel\u001b[0m\u001b[0;34m,\u001b[0m\u001b[0;34m\u001b[0m\u001b[0;34m\u001b[0m\u001b[0m\n\u001b[1;32m      3\u001b[0m     \u001b[0myml_dict\u001b[0m\u001b[0;34m,\u001b[0m\u001b[0;34m\u001b[0m\u001b[0;34m\u001b[0m\u001b[0m\n\u001b[0;32m----> 4\u001b[0;31m     \u001b[0mdataset\u001b[0m\u001b[0;34m=\u001b[0m\u001b[0mds_dict\u001b[0m\u001b[0;34m[\u001b[0m\u001b[0;34m\"test\"\u001b[0m\u001b[0;34m]\u001b[0m\u001b[0;34m\u001b[0m\u001b[0;34m\u001b[0m\u001b[0m\n\u001b[0m\u001b[1;32m      5\u001b[0m )\n\u001b[1;32m      6\u001b[0m \u001b[0mprint\u001b[0m\u001b[0;34m(\u001b[0m\u001b[0meval_dict\u001b[0m\u001b[0;34m)\u001b[0m\u001b[0;34m\u001b[0m\u001b[0;34m\u001b[0m\u001b[0m\n",
      "\u001b[0;32m~/dev/github/YeahML/src/yeahml/evaluate/eval_model.py\u001b[0m in \u001b[0;36meval_model\u001b[0;34m(model, config_dict, dataset, weights_path)\u001b[0m\n\u001b[1;32m     77\u001b[0m     \u001b[0;32mif\u001b[0m \u001b[0;32mnot\u001b[0m \u001b[0mspecified_path\u001b[0m\u001b[0;34m.\u001b[0m\u001b[0mis_file\u001b[0m\u001b[0;34m(\u001b[0m\u001b[0;34m)\u001b[0m\u001b[0;34m:\u001b[0m\u001b[0;34m\u001b[0m\u001b[0;34m\u001b[0m\u001b[0m\n\u001b[1;32m     78\u001b[0m         raise ValueError(\n\u001b[0;32m---> 79\u001b[0;31m             \u001b[0;34mf\"specified path is neither an h5 path, nor a directory containing directories of h5: {specified_path}\"\u001b[0m\u001b[0;34m\u001b[0m\u001b[0;34m\u001b[0m\u001b[0m\n\u001b[0m\u001b[1;32m     80\u001b[0m         )\n\u001b[1;32m     81\u001b[0m \u001b[0;34m\u001b[0m\u001b[0m\n",
      "\u001b[0;31mValueError\u001b[0m: specified path is neither an h5 path, nor a directory containing directories of h5: yeahml/abalone/trial_00/model/run_2020_03_15-14_02_15/save/params/best_params.h5"
     ]
    }
   ],
   "source": [
    "eval_dict = yml.eval_model(\n",
    "    model,\n",
    "    yml_dict,\n",
    "    dataset=ds_dict[\"test\"]\n",
    ")\n",
    "print(eval_dict)"
   ]
  },
  {
   "cell_type": "markdown",
   "metadata": {},
   "source": [
    "## Inspect model in Tensorflow\n",
    "\n",
    "In the command line you can navigate to the `albalone` directory and run: (provided tensorboard is installed in your environment)\n",
    "\n",
    "```bash\n",
    "tensorboard --logdir model_a/\n",
    "```"
   ]
  },
  {
   "cell_type": "code",
   "execution_count": null,
   "metadata": {},
   "outputs": [],
   "source": []
  },
  {
   "cell_type": "code",
   "execution_count": null,
   "metadata": {},
   "outputs": [],
   "source": []
  }
 ],
 "metadata": {
  "kernelspec": {
   "display_name": "tf2",
   "language": "python",
   "name": "tf2"
  },
  "language_info": {
   "codemirror_mode": {
    "name": "ipython",
    "version": 3
   },
   "file_extension": ".py",
   "mimetype": "text/x-python",
   "name": "python",
   "nbconvert_exporter": "python",
   "pygments_lexer": "ipython3",
   "version": "3.6.7"
  }
 },
 "nbformat": 4,
 "nbformat_minor": 2
}
