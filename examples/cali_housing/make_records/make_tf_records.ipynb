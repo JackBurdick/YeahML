{
 "cells": [
  {
   "cell_type": "code",
   "execution_count": 1,
   "metadata": {},
   "outputs": [],
   "source": [
    "import pandas as pd\n",
    "import os\n",
    "import numpy as np\n",
    "import tensorflow as tf\n",
    "\n",
    "# matplotlib\n",
    "%matplotlib inline\n",
    "import matplotlib.pyplot as plt"
   ]
  },
  {
   "cell_type": "code",
   "execution_count": 2,
   "metadata": {},
   "outputs": [],
   "source": [
    "HOUSING_PATH = \"prep_csv\""
   ]
  },
  {
   "cell_type": "code",
   "execution_count": 3,
   "metadata": {},
   "outputs": [],
   "source": [
    "def load_housing_data(housing_path=HOUSING_PATH, ds_type=\"\"):\n",
    "    csv_path = os.path.join(housing_path, ds_type+\".csv\")\n",
    "    return pd.read_csv(csv_path)"
   ]
  },
  {
   "cell_type": "code",
   "execution_count": 4,
   "metadata": {},
   "outputs": [
    {
     "name": "stdout",
     "output_type": "stream",
     "text": [
      "<class 'pandas.core.frame.DataFrame'>\n",
      "RangeIndex: 13600 entries, 0 to 13599\n",
      "Data columns (total 10 columns):\n",
      "Unnamed: 0            13600 non-null int64\n",
      "longitude             13600 non-null float64\n",
      "latitude              13600 non-null float64\n",
      "housing_median_age    13600 non-null float64\n",
      "total_rooms           13600 non-null float64\n",
      "total_bedrooms        13600 non-null float64\n",
      "population            13600 non-null float64\n",
      "households            13600 non-null float64\n",
      "median_income         13600 non-null float64\n",
      "median_house_value    13600 non-null float64\n",
      "dtypes: float64(9), int64(1)\n",
      "memory usage: 1.0 MB\n"
     ]
    }
   ],
   "source": [
    "# view sample housing data\n",
    "housing = load_housing_data(ds_type=\"train\")\n",
    "housing.info()"
   ]
  },
  {
   "cell_type": "code",
   "execution_count": 5,
   "metadata": {},
   "outputs": [
    {
     "data": {
      "text/plain": [
       "Unnamed: 0                 0.000000\n",
       "longitude                  1.255990\n",
       "latitude                  -1.179384\n",
       "housing_median_age        -0.839725\n",
       "total_rooms                0.784693\n",
       "total_bedrooms             0.232195\n",
       "population                 0.571559\n",
       "households                 0.445669\n",
       "median_income              0.835270\n",
       "median_house_value    223500.000000\n",
       "Name: 0, dtype: float64"
      ]
     },
     "execution_count": 5,
     "metadata": {},
     "output_type": "execute_result"
    }
   ],
   "source": [
    "housing.iloc[0]"
   ]
  },
  {
   "cell_type": "markdown",
   "metadata": {},
   "source": [
    "^ everything looks as expected here. TODO: the id is manufactured+generated from data prepping and could be reverse engineered to get the original id, but should likely be modified such that the original id is retained"
   ]
  },
  {
   "cell_type": "code",
   "execution_count": 6,
   "metadata": {},
   "outputs": [
    {
     "name": "stdout",
     "output_type": "stream",
     "text": [
      "['Unnamed: 0', 'longitude', 'latitude', 'housing_median_age', 'total_rooms', 'total_bedrooms', 'population', 'households', 'median_income', 'median_house_value']\n",
      "10\n"
     ]
    }
   ],
   "source": [
    "housing_feat_labels = list(housing)\n",
    "NUM_FEATS = len(housing_feat_labels)\n",
    "print(housing_feat_labels)\n",
    "print(NUM_FEATS)"
   ]
  },
  {
   "cell_type": "code",
   "execution_count": 7,
   "metadata": {},
   "outputs": [],
   "source": [
    "def _int64_feature(value):\n",
    "    return tf.train.Feature(int64_list=tf.train.Int64List(value=[value]))\n",
    "\n",
    "def _bytes_feature(value):\n",
    "    return tf.train.Feature(bytes_list=tf.train.BytesList(value=[value]))\n",
    "\n",
    "def _floats_feature(value):\n",
    "    return tf.train.Feature(float_list=tf.train.FloatList(value=[value]))\n",
    "\n",
    "def _floats_features(value):\n",
    "    return tf.train.Feature(float_list=tf.train.FloatList(value=[value[:]]))"
   ]
  },
  {
   "cell_type": "code",
   "execution_count": 8,
   "metadata": {},
   "outputs": [],
   "source": [
    "def generate_tfrecords(input_filename, output_filename, num_feats):\n",
    "    print(\"Start to convert {} to {}\".format(input_filename, output_filename))\n",
    "    writer = tf.python_io.TFRecordWriter(output_filename)\n",
    "\n",
    "    index = 0\n",
    "    for line in open(input_filename, \"r\"):\n",
    "        index += 1\n",
    "\n",
    "        # Ignore first line (header)\n",
    "        if index == 1:\n",
    "            continue\n",
    "\n",
    "        data = line.split(\",\")\n",
    "        label = float(data[num_feats])\n",
    "        features = [float(i) for i in data[1:num_feats]]\n",
    "        iid = int(data[0])\n",
    "        \n",
    "        # create features\n",
    "        feature = {'/iid': _int64_feature(iid),\n",
    "                   '/features' : _floats_features(features),\n",
    "                   '/label': _floats_feature(label)}\n",
    "        \n",
    "        # create example protocol buffer\n",
    "        example = tf.train.Example(features=tf.train.Features(feature=feature))\n",
    "        \n",
    "        writer.write(example.SerializeToString())\n",
    "\n",
    "    writer.close()\n",
    "    print(\"Successfully convert {} to {}\".format(input_filename, output_filename))"
   ]
  },
  {
   "cell_type": "code",
   "execution_count": 9,
   "metadata": {},
   "outputs": [
    {
     "name": "stdout",
     "output_type": "stream",
     "text": [
      "Start to convert ./prep_csv/test.csv to ./tf_records/test.tfrecords\n"
     ]
    },
    {
     "ename": "TypeError",
     "evalue": "[-1.2366038187848571, 0.8121347944466298, -0.12461301908435148, 0.5546475833397159, 0.27677561603449 has type list, but expected one of: int, long, float",
     "output_type": "error",
     "traceback": [
      "\u001b[0;31m---------------------------------------------------------------------------\u001b[0m",
      "\u001b[0;31mTypeError\u001b[0m                                 Traceback (most recent call last)",
      "\u001b[0;32m<ipython-input-9-6e020a632e4d>\u001b[0m in \u001b[0;36m<module>\u001b[0;34m()\u001b[0m\n\u001b[1;32m      4\u001b[0m         \u001b[0minput_path\u001b[0m \u001b[0;34m=\u001b[0m \u001b[0mos\u001b[0m\u001b[0;34m.\u001b[0m\u001b[0mpath\u001b[0m\u001b[0;34m.\u001b[0m\u001b[0mjoin\u001b[0m\u001b[0;34m(\u001b[0m\u001b[0;34m\".\"\u001b[0m\u001b[0;34m,\u001b[0m \u001b[0mHOUSING_PATH\u001b[0m\u001b[0;34m,\u001b[0m \u001b[0mfile\u001b[0m\u001b[0;34m)\u001b[0m\u001b[0;34m\u001b[0m\u001b[0m\n\u001b[1;32m      5\u001b[0m         \u001b[0moutput_path\u001b[0m \u001b[0;34m=\u001b[0m \u001b[0mos\u001b[0m\u001b[0;34m.\u001b[0m\u001b[0mpath\u001b[0m\u001b[0;34m.\u001b[0m\u001b[0mjoin\u001b[0m\u001b[0;34m(\u001b[0m\u001b[0;34m\".\"\u001b[0m\u001b[0;34m,\u001b[0m \u001b[0;34m\"tf_records\"\u001b[0m\u001b[0;34m,\u001b[0m \u001b[0mdataset_type\u001b[0m\u001b[0;34m+\u001b[0m\u001b[0;34m\".tfrecords\"\u001b[0m\u001b[0;34m)\u001b[0m\u001b[0;34m\u001b[0m\u001b[0m\n\u001b[0;32m----> 6\u001b[0;31m         \u001b[0mgenerate_tfrecords\u001b[0m\u001b[0;34m(\u001b[0m\u001b[0minput_path\u001b[0m\u001b[0;34m,\u001b[0m \u001b[0moutput_path\u001b[0m\u001b[0;34m,\u001b[0m \u001b[0mNUM_FEATS\u001b[0m\u001b[0;34m-\u001b[0m\u001b[0;36m1\u001b[0m\u001b[0;34m)\u001b[0m\u001b[0;34m\u001b[0m\u001b[0m\n\u001b[0m",
      "\u001b[0;32m<ipython-input-8-6ed1e7a2c469>\u001b[0m in \u001b[0;36mgenerate_tfrecords\u001b[0;34m(input_filename, output_filename, num_feats)\u001b[0m\n\u001b[1;32m     18\u001b[0m         \u001b[0;31m# create features\u001b[0m\u001b[0;34m\u001b[0m\u001b[0;34m\u001b[0m\u001b[0m\n\u001b[1;32m     19\u001b[0m         feature = {'/iid': _int64_feature(iid),\n\u001b[0;32m---> 20\u001b[0;31m                    \u001b[0;34m'/features'\u001b[0m \u001b[0;34m:\u001b[0m \u001b[0m_floats_features\u001b[0m\u001b[0;34m(\u001b[0m\u001b[0mfeatures\u001b[0m\u001b[0;34m)\u001b[0m\u001b[0;34m,\u001b[0m\u001b[0;34m\u001b[0m\u001b[0m\n\u001b[0m\u001b[1;32m     21\u001b[0m                    '/label': _floats_feature(label)}\n\u001b[1;32m     22\u001b[0m \u001b[0;34m\u001b[0m\u001b[0m\n",
      "\u001b[0;32m<ipython-input-7-0c44d2872539>\u001b[0m in \u001b[0;36m_floats_features\u001b[0;34m(value)\u001b[0m\n\u001b[1;32m      9\u001b[0m \u001b[0;34m\u001b[0m\u001b[0m\n\u001b[1;32m     10\u001b[0m \u001b[0;32mdef\u001b[0m \u001b[0m_floats_features\u001b[0m\u001b[0;34m(\u001b[0m\u001b[0mvalue\u001b[0m\u001b[0;34m)\u001b[0m\u001b[0;34m:\u001b[0m\u001b[0;34m\u001b[0m\u001b[0m\n\u001b[0;32m---> 11\u001b[0;31m     \u001b[0;32mreturn\u001b[0m \u001b[0mtf\u001b[0m\u001b[0;34m.\u001b[0m\u001b[0mtrain\u001b[0m\u001b[0;34m.\u001b[0m\u001b[0mFeature\u001b[0m\u001b[0;34m(\u001b[0m\u001b[0mfloat_list\u001b[0m\u001b[0;34m=\u001b[0m\u001b[0mtf\u001b[0m\u001b[0;34m.\u001b[0m\u001b[0mtrain\u001b[0m\u001b[0;34m.\u001b[0m\u001b[0mFloatList\u001b[0m\u001b[0;34m(\u001b[0m\u001b[0mvalue\u001b[0m\u001b[0;34m=\u001b[0m\u001b[0;34m[\u001b[0m\u001b[0mvalue\u001b[0m\u001b[0;34m[\u001b[0m\u001b[0;34m:\u001b[0m\u001b[0;34m]\u001b[0m\u001b[0;34m]\u001b[0m\u001b[0;34m)\u001b[0m\u001b[0;34m)\u001b[0m\u001b[0;34m\u001b[0m\u001b[0m\n\u001b[0m",
      "\u001b[0;31mTypeError\u001b[0m: [-1.2366038187848571, 0.8121347944466298, -0.12461301908435148, 0.5546475833397159, 0.27677561603449 has type list, but expected one of: int, long, float"
     ]
    }
   ],
   "source": [
    "for file in os.listdir(HOUSING_PATH):\n",
    "    if file.endswith(\".csv\"): # only csv files\n",
    "        dataset_type = file.split(\".\")[0]\n",
    "        input_path = os.path.join(\".\", HOUSING_PATH, file)\n",
    "        output_path = os.path.join(\".\", \"tf_records\", dataset_type+\".tfrecords\")\n",
    "        generate_tfrecords(input_path, output_path, NUM_FEATS-1)"
   ]
  },
  {
   "cell_type": "code",
   "execution_count": null,
   "metadata": {},
   "outputs": [],
   "source": []
  }
 ],
 "metadata": {
  "kernelspec": {
   "display_name": "dl_cpu",
   "language": "python",
   "name": "dl_cpu"
  },
  "language_info": {
   "codemirror_mode": {
    "name": "ipython",
    "version": 3
   },
   "file_extension": ".py",
   "mimetype": "text/x-python",
   "name": "python",
   "nbconvert_exporter": "python",
   "pygments_lexer": "ipython3",
   "version": "3.6.5"
  }
 },
 "nbformat": 4,
 "nbformat_minor": 2
}
