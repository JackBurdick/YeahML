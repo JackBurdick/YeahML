{
 "cells": [
  {
   "cell_type": "code",
   "execution_count": 1,
   "metadata": {},
   "outputs": [],
   "source": [
    "import os\n",
    "import tarfile\n",
    "from six.moves import urllib"
   ]
  },
  {
   "cell_type": "code",
   "execution_count": 2,
   "metadata": {},
   "outputs": [],
   "source": [
    "# URL path specification\n",
    "HOUSING_URLs = [\n",
    "    \"https://storage.googleapis.com/mledu-datasets/california_housing_train.csv\",\n",
    "    \"https://storage.googleapis.com/mledu-datasets/california_housing_test.csv\"\n",
    "]\n",
    "\n",
    "# where to place the files\n",
    "HOUSING_DIR = \"./raw_data/\""
   ]
  },
  {
   "cell_type": "code",
   "execution_count": 3,
   "metadata": {},
   "outputs": [],
   "source": [
    "def fetch_housing_data(housing_url, housing_path):\n",
    "    # create directory if not already created\n",
    "    if not os.path.exists(housing_path):\n",
    "        os.makedirs(housing_path)\n",
    "        \n",
    "    file_name = housing_url.split(\"_\")[-1].rstrip(\"csv\").rstrip(\".\")\n",
    "    placement_path = os.path.join(housing_path, \"raw_cali_housing_\" + file_name + \".csv\")\n",
    "    urllib.request.urlretrieve(housing_url, placement_path)\n",
    "    print(\"done {}\".format(file_name))"
   ]
  },
  {
   "cell_type": "code",
   "execution_count": 4,
   "metadata": {},
   "outputs": [
    {
     "name": "stdout",
     "output_type": "stream",
     "text": [
      "done train\n",
      "done test\n"
     ]
    }
   ],
   "source": [
    "for url in HOUSING_URLs:\n",
    "    fetch_housing_data(url, HOUSING_DIR)"
   ]
  },
  {
   "cell_type": "code",
   "execution_count": null,
   "metadata": {},
   "outputs": [],
   "source": []
  }
 ],
 "metadata": {
  "kernelspec": {
   "display_name": "daily",
   "language": "python",
   "name": "daily"
  },
  "language_info": {
   "codemirror_mode": {
    "name": "ipython",
    "version": 3
   },
   "file_extension": ".py",
   "mimetype": "text/x-python",
   "name": "python",
   "nbconvert_exporter": "python",
   "pygments_lexer": "ipython3",
   "version": "3.6.7"
  }
 },
 "nbformat": 4,
 "nbformat_minor": 2
}
