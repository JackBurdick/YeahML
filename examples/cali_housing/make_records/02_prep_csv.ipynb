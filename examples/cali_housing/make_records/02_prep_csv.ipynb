{
 "cells": [
  {
   "cell_type": "markdown",
   "metadata": {},
   "source": [
    "# Prep CSV"
   ]
  },
  {
   "cell_type": "code",
   "execution_count": 1,
   "metadata": {},
   "outputs": [],
   "source": [
    "import pandas as pd\n",
    "import os\n",
    "import numpy as np\n",
    "\n",
    "# matplotlib\n",
    "%matplotlib inline\n",
    "import matplotlib.pyplot as plt"
   ]
  },
  {
   "cell_type": "code",
   "execution_count": 2,
   "metadata": {},
   "outputs": [],
   "source": [
    "HOUSING_PATH = \"raw_data\""
   ]
  },
  {
   "cell_type": "code",
   "execution_count": 3,
   "metadata": {},
   "outputs": [],
   "source": [
    "def load_housing_data(housing_path=HOUSING_PATH, ds_type=\"\"):\n",
    "    if ds_type == \"test\":\n",
    "        csv_path = os.path.join(housing_path, \"raw_cali_housing_test.csv\")\n",
    "    else:\n",
    "        csv_path = os.path.join(housing_path, \"split_\"+ds_type+\".csv\")\n",
    "    return pd.read_csv(csv_path)"
   ]
  },
  {
   "cell_type": "code",
   "execution_count": 4,
   "metadata": {},
   "outputs": [
    {
     "name": "stdout",
     "output_type": "stream",
     "text": [
      "<class 'pandas.core.frame.DataFrame'>\n",
      "RangeIndex: 13600 entries, 0 to 13599\n",
      "Data columns (total 10 columns):\n",
      "Unnamed: 0            13600 non-null int64\n",
      "longitude             13600 non-null float64\n",
      "latitude              13600 non-null float64\n",
      "housing_median_age    13600 non-null float64\n",
      "total_rooms           13600 non-null float64\n",
      "total_bedrooms        13600 non-null float64\n",
      "population            13600 non-null float64\n",
      "households            13600 non-null float64\n",
      "median_income         13600 non-null float64\n",
      "median_house_value    13600 non-null float64\n",
      "dtypes: float64(9), int64(1)\n",
      "memory usage: 1.0 MB\n"
     ]
    }
   ],
   "source": [
    "# view sample housing data\n",
    "housing = load_housing_data(ds_type=\"train\")\n",
    "housing.info()"
   ]
  },
  {
   "cell_type": "code",
   "execution_count": 5,
   "metadata": {},
   "outputs": [
    {
     "name": "stdout",
     "output_type": "stream",
     "text": [
      "['longitude', 'latitude', 'housing_median_age', 'total_rooms', 'total_bedrooms', 'population', 'households', 'median_income', 'median_house_value']\n"
     ]
    }
   ],
   "source": [
    "HEADER_COLS = list(housing.columns.values)[1:]\n",
    "print(HEADER_COLS)"
   ]
  },
  {
   "cell_type": "code",
   "execution_count": 6,
   "metadata": {},
   "outputs": [],
   "source": [
    "# we need a custom transformer to handle Pandas DataFrames\n",
    "# NOTE: there may be a `columnTransformer` class in the future\n",
    "from sklearn.base import BaseEstimator, TransformerMixin\n",
    "from sklearn.preprocessing import Imputer, StandardScaler\n",
    "from sklearn.pipeline import Pipeline, FeatureUnion\n",
    "\n",
    "class DataFrameSelector(BaseEstimator, TransformerMixin):\n",
    "    def __init__(self, attribute_names):\n",
    "        self.attribute_names = attribute_names\n",
    "    def fit(self, X, y=None):\n",
    "        return self\n",
    "    def transform(self, X):\n",
    "        return X[self.attribute_names].values"
   ]
  },
  {
   "cell_type": "code",
   "execution_count": 7,
   "metadata": {},
   "outputs": [
    {
     "name": "stderr",
     "output_type": "stream",
     "text": [
      "/Users/Jack/anaconda/envs/daily/lib/python3.7/site-packages/sklearn/utils/deprecation.py:58: DeprecationWarning: Class Imputer is deprecated; Imputer was deprecated in version 0.20 and will be removed in 0.22. Import impute.SimpleImputer from sklearn instead.\n",
      "  warnings.warn(msg, category=DeprecationWarning)\n"
     ]
    }
   ],
   "source": [
    "# TODO: modify strange list append\n",
    "temp = list(housing)\n",
    "label_val = []\n",
    "label_val.append(temp[-1])\n",
    "num_attribs = temp[1:-1] # don't use id or \"answer\"\n",
    "\n",
    "# numerical pipeline\n",
    "num_pipeline = Pipeline([\n",
    "        ('selector', DataFrameSelector(num_attribs)),\n",
    "        ('imputer', Imputer(strategy=\"median\")),\n",
    "        ('std_scaler', StandardScaler()),\n",
    "    ])\n",
    "\n",
    "# label passthrough\n",
    "label_pipeline = Pipeline([\n",
    "        ('selector', DataFrameSelector(label_val)),\n",
    "    ])\n",
    "\n",
    "# complete pipeline\n",
    "full_pipeline = FeatureUnion(transformer_list=[\n",
    "        (\"num_pipeline\", num_pipeline),\n",
    "        (\"label_pipeline\", label_pipeline),\n",
    "    ])"
   ]
  },
  {
   "cell_type": "code",
   "execution_count": 8,
   "metadata": {},
   "outputs": [
    {
     "data": {
      "text/plain": [
       "array([-1.19173712e+00,  7.70060454e-01, -4.51560797e-02,  1.06772223e+00,\n",
       "        1.22704143e+00,  1.22333017e+00,  1.27324618e+00,  6.91416926e-02,\n",
       "        2.73900000e+05])"
      ]
     },
     "execution_count": 8,
     "metadata": {},
     "output_type": "execute_result"
    }
   ],
   "source": [
    "housing_prepared = full_pipeline.fit_transform(housing)\n",
    "housing_prepared[1]"
   ]
  },
  {
   "cell_type": "code",
   "execution_count": 10,
   "metadata": {},
   "outputs": [],
   "source": [
    "train_df = pd.DataFrame(housing_prepared)\n",
    "train_df.to_csv(os.path.join(HOUSING_PATH, \"final_train.csv\"), header=HEADER_COLS)"
   ]
  },
  {
   "cell_type": "code",
   "execution_count": 11,
   "metadata": {},
   "outputs": [],
   "source": [
    "housing_val = load_housing_data(ds_type=\"valid\")\n",
    "val_transform = full_pipeline.transform(housing_val)\n",
    "val_df = pd.DataFrame(val_transform)\n",
    "val_df.to_csv(os.path.join(HOUSING_PATH, \"final_validation.csv\"), header=HEADER_COLS)"
   ]
  },
  {
   "cell_type": "code",
   "execution_count": 12,
   "metadata": {},
   "outputs": [],
   "source": [
    "housing_test = load_housing_data(ds_type=\"test\")\n",
    "test_transform = full_pipeline.transform(housing_test)\n",
    "test_df = pd.DataFrame(test_transform)\n",
    "test_df.to_csv(os.path.join(HOUSING_PATH, \"final_test.csv\"), header=HEADER_COLS)"
   ]
  },
  {
   "cell_type": "code",
   "execution_count": null,
   "metadata": {},
   "outputs": [],
   "source": []
  }
 ],
 "metadata": {
  "kernelspec": {
   "display_name": "daily",
   "language": "python",
   "name": "daily"
  },
  "language_info": {
   "codemirror_mode": {
    "name": "ipython",
    "version": 3
   },
   "file_extension": ".py",
   "mimetype": "text/x-python",
   "name": "python",
   "nbconvert_exporter": "python",
   "pygments_lexer": "ipython3",
   "version": "3.7.1"
  }
 },
 "nbformat": 4,
 "nbformat_minor": 2
}
