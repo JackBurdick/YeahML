{
 "cells": [
  {
   "cell_type": "markdown",
   "metadata": {},
   "source": [
    "# Obtain IMDB Dataset"
   ]
  },
  {
   "cell_type": "code",
   "execution_count": null,
   "metadata": {},
   "outputs": [],
   "source": [
    "import os\n",
    "import tarfile\n",
    "from six.moves import urllib\n",
    "\n",
    "# URL path specification\n",
    "IMDB_URL = (\n",
    "    \"http://ai.stanford.edu/~amaas/data/sentiment/aclImdb_v1.tar.gz\"\n",
    ")\n",
    "IMDB_DIR = \"./raw/\"\n",
    "\n",
    "\n",
    "def fetch_imdb_data(req_url=IMDB_URL, data_path=IMDB_DIR):\n",
    "    # create directory if not already created\n",
    "    if not os.path.exists(housing_path):\n",
    "        os.makedirs(housing_path)\n",
    "\n",
    "    urllib.request.urlretrieve(\n",
    "        req_url, os.path.join(data_path, \"imdb_data.tar.gz\")\n",
    "    )\n",
    "\n",
    "\n",
    "if __name__ == \"__main__\":\n",
    "    fetch_housing_data()"
   ]
  }
 ],
 "metadata": {
  "kernelspec": {
   "display_name": "daily",
   "language": "python",
   "name": "daily"
  },
  "language_info": {
   "codemirror_mode": {
    "name": "ipython",
    "version": 3
   },
   "file_extension": ".py",
   "mimetype": "text/x-python",
   "name": "python",
   "nbconvert_exporter": "python",
   "pygments_lexer": "ipython3",
   "version": "3.7.1"
  }
 },
 "nbformat": 4,
 "nbformat_minor": 2
}
