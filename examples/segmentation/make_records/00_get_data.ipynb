{
 "cells": [
  {
   "cell_type": "code",
   "execution_count": 1,
   "metadata": {},
   "outputs": [],
   "source": [
    "# https://challenge.kitware.com/#challenge/5aab46f156357d5e82b00fe5\n",
    "# Task 1: Training (Lesion Boundary Segmentation)\n",
    "import zipfile"
   ]
  },
  {
   "cell_type": "markdown",
   "metadata": {},
   "source": [
    "## Training (2018)"
   ]
  },
  {
   "cell_type": "code",
   "execution_count": 2,
   "metadata": {},
   "outputs": [],
   "source": [
    "zip_dir_path = './ISIC2018_Task1-2_Training_Input.zip'\n",
    "out_dir_path = './raw_isic_segmentation'\n",
    "with zipfile.ZipFile(zip_dir_path, 'r') as zip_ref:\n",
    "    zip_ref.extractall(out_dir_path)"
   ]
  },
  {
   "cell_type": "code",
   "execution_count": 3,
   "metadata": {},
   "outputs": [
    {
     "name": "stdout",
     "output_type": "stream",
     "text": [
      "00_get_data.ipynb\t    04_numpy_to_tfrecords.ipynb\r\n",
      "01_raw_to_numpy.ipynb\t    ISIC2018_Task1-2_Training_Input.zip\r\n",
      "02_split_prepped.ipynb\t    raw_isic_segmentation\r\n",
      "03_raw_to_numpy_test.ipynb\r\n"
     ]
    }
   ],
   "source": [
    "!ls"
   ]
  },
  {
   "cell_type": "code",
   "execution_count": 4,
   "metadata": {},
   "outputs": [],
   "source": [
    "zip_dir_path = './ISIC2018_Task1_Training_GroundTruth.zip'\n",
    "out_dir_path = './raw_isic_segmentation'\n",
    "with zipfile.ZipFile(zip_dir_path, 'r') as zip_ref:\n",
    "    zip_ref.extractall(out_dir_path)"
   ]
  },
  {
   "cell_type": "code",
   "execution_count": 5,
   "metadata": {},
   "outputs": [
    {
     "name": "stdout",
     "output_type": "stream",
     "text": [
      "00_get_data.ipynb\t    04_numpy_to_tfrecords.ipynb\r\n",
      "01_raw_to_numpy.ipynb\t    ISIC2018_Task1-2_Training_Input.zip\r\n",
      "02_split_prepped.ipynb\t    ISIC2018_Task1_Training_GroundTruth.zip\r\n",
      "03_raw_to_numpy_test.ipynb  raw_isic_segmentation\r\n"
     ]
    }
   ],
   "source": [
    "!ls"
   ]
  },
  {
   "cell_type": "markdown",
   "metadata": {},
   "source": [
    "## Test (2017)"
   ]
  },
  {
   "cell_type": "code",
   "execution_count": 6,
   "metadata": {},
   "outputs": [],
   "source": [
    "zip_dir_path = './ISIC-2017_Test_v2_Data.zip'\n",
    "out_dir_path = './raw_isic_segmentation'\n",
    "with zipfile.ZipFile(zip_dir_path, 'r') as zip_ref:\n",
    "    zip_ref.extractall(out_dir_path)"
   ]
  },
  {
   "cell_type": "code",
   "execution_count": 7,
   "metadata": {},
   "outputs": [],
   "source": [
    "zip_dir_path = './ISIC-2017_Test_v2_Part1_GroundTruth.zip'\n",
    "out_dir_path = './raw_isic_segmentation'\n",
    "with zipfile.ZipFile(zip_dir_path, 'r') as zip_ref:\n",
    "    zip_ref.extractall(out_dir_path)"
   ]
  },
  {
   "cell_type": "code",
   "execution_count": null,
   "metadata": {},
   "outputs": [],
   "source": []
  }
 ],
 "metadata": {
  "kernelspec": {
   "display_name": "tf_gpu",
   "language": "python",
   "name": "tf_gpu"
  },
  "language_info": {
   "codemirror_mode": {
    "name": "ipython",
    "version": 3
   },
   "file_extension": ".py",
   "mimetype": "text/x-python",
   "name": "python",
   "nbconvert_exporter": "python",
   "pygments_lexer": "ipython3",
   "version": "3.6.7"
  }
 },
 "nbformat": 4,
 "nbformat_minor": 2
}
