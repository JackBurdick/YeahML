{
 "cells": [
  {
   "cell_type": "markdown",
   "metadata": {},
   "source": [
    "# Handwritten"
   ]
  },
  {
   "cell_type": "code",
   "execution_count": 1,
   "metadata": {},
   "outputs": [
    {
     "data": {
      "application/javascript": [
       "\n",
       "            setTimeout(function() {\n",
       "                var nbb_cell_id = 1;\n",
       "                var nbb_unformatted_code = \"%load_ext autoreload\\n%autoreload 2\\n%load_ext nb_black\";\n",
       "                var nbb_formatted_code = \"%load_ext autoreload\\n%autoreload 2\\n%load_ext nb_black\";\n",
       "                var nbb_cells = Jupyter.notebook.get_cells();\n",
       "                for (var i = 0; i < nbb_cells.length; ++i) {\n",
       "                    if (nbb_cells[i].input_prompt_number == nbb_cell_id) {\n",
       "                        if (nbb_cells[i].get_text() == nbb_unformatted_code) {\n",
       "                             nbb_cells[i].set_text(nbb_formatted_code);\n",
       "                        }\n",
       "                        break;\n",
       "                    }\n",
       "                }\n",
       "            }, 500);\n",
       "            "
      ],
      "text/plain": [
       "<IPython.core.display.Javascript object>"
      ]
     },
     "metadata": {},
     "output_type": "display_data"
    }
   ],
   "source": [
    "%load_ext autoreload\n",
    "%autoreload 2\n",
    "%load_ext nb_black"
   ]
  },
  {
   "cell_type": "code",
   "execution_count": 2,
   "metadata": {
    "scrolled": false
   },
   "outputs": [
    {
     "data": {
      "application/javascript": [
       "\n",
       "            setTimeout(function() {\n",
       "                var nbb_cell_id = 2;\n",
       "                var nbb_unformatted_code = \"# import pandas as pd\\nimport tensorflow as tf\\nimport dataduit as dd\\nimport yeahml as yml\";\n",
       "                var nbb_formatted_code = \"# import pandas as pd\\nimport tensorflow as tf\\nimport dataduit as dd\\nimport yeahml as yml\";\n",
       "                var nbb_cells = Jupyter.notebook.get_cells();\n",
       "                for (var i = 0; i < nbb_cells.length; ++i) {\n",
       "                    if (nbb_cells[i].input_prompt_number == nbb_cell_id) {\n",
       "                        if (nbb_cells[i].get_text() == nbb_unformatted_code) {\n",
       "                             nbb_cells[i].set_text(nbb_formatted_code);\n",
       "                        }\n",
       "                        break;\n",
       "                    }\n",
       "                }\n",
       "            }, 500);\n",
       "            "
      ],
      "text/plain": [
       "<IPython.core.display.Javascript object>"
      ]
     },
     "metadata": {},
     "output_type": "display_data"
    }
   ],
   "source": [
    "# import pandas as pd\n",
    "import tensorflow as tf\n",
    "import dataduit as dd\n",
    "import yeahml as yml"
   ]
  },
  {
   "cell_type": "markdown",
   "metadata": {},
   "source": [
    "## Create Datasets"
   ]
  },
  {
   "cell_type": "code",
   "execution_count": 3,
   "metadata": {},
   "outputs": [
    {
     "name": "stderr",
     "output_type": "stream",
     "text": [
      "root dir set to None\n"
     ]
    },
    {
     "data": {
      "application/javascript": [
       "\n",
       "            setTimeout(function() {\n",
       "                var nbb_cell_id = 3;\n",
       "                var nbb_unformatted_code = \"# only use 2 of the features\\nmnist_dataset_config = {\\n    \\\"meta\\\": {\\n        \\\"name\\\": \\\"mnist\\\",\\n        \\\"logging\\\": {\\\"log_stream_level\\\": \\\"INFO\\\"},\\n        \\\"in\\\": {\\\"from\\\": \\\"online\\\", \\\"type\\\": \\\"tfd\\\"},\\n    },\\n    \\\"read\\\": {\\n        \\\"split_percents\\\": [75, 15, 10],\\n        \\\"split_names\\\": [\\\"train\\\", \\\"val\\\", \\\"test\\\"],\\n        \\\"from_stage\\\": \\\"preprocessed\\\",\\n    },\\n}\\n\\nmnist_dict_raw = dd.read(mnist_dataset_config)\";\n",
       "                var nbb_formatted_code = \"# only use 2 of the features\\nmnist_dataset_config = {\\n    \\\"meta\\\": {\\n        \\\"name\\\": \\\"mnist\\\",\\n        \\\"logging\\\": {\\\"log_stream_level\\\": \\\"INFO\\\"},\\n        \\\"in\\\": {\\\"from\\\": \\\"online\\\", \\\"type\\\": \\\"tfd\\\"},\\n    },\\n    \\\"read\\\": {\\n        \\\"split_percents\\\": [75, 15, 10],\\n        \\\"split_names\\\": [\\\"train\\\", \\\"val\\\", \\\"test\\\"],\\n        \\\"from_stage\\\": \\\"preprocessed\\\",\\n    },\\n}\\n\\nmnist_dict_raw = dd.read(mnist_dataset_config)\";\n",
       "                var nbb_cells = Jupyter.notebook.get_cells();\n",
       "                for (var i = 0; i < nbb_cells.length; ++i) {\n",
       "                    if (nbb_cells[i].input_prompt_number == nbb_cell_id) {\n",
       "                        if (nbb_cells[i].get_text() == nbb_unformatted_code) {\n",
       "                             nbb_cells[i].set_text(nbb_formatted_code);\n",
       "                        }\n",
       "                        break;\n",
       "                    }\n",
       "                }\n",
       "            }, 500);\n",
       "            "
      ],
      "text/plain": [
       "<IPython.core.display.Javascript object>"
      ]
     },
     "metadata": {},
     "output_type": "display_data"
    }
   ],
   "source": [
    "# only use 2 of the features\n",
    "mnist_dataset_config = {\n",
    "    \"meta\": {\n",
    "        \"name\": \"mnist\",\n",
    "        \"logging\": {\"log_stream_level\": \"INFO\"},\n",
    "        \"in\": {\"from\": \"online\", \"type\": \"tfd\"},\n",
    "    },\n",
    "    \"read\": {\n",
    "        \"split_percents\": [75, 15, 10],\n",
    "        \"split_names\": [\"train\", \"val\", \"test\"],\n",
    "        \"from_stage\": \"preprocessed\",\n",
    "    },\n",
    "}\n",
    "\n",
    "mnist_dict_raw = dd.read(mnist_dataset_config)"
   ]
  },
  {
   "cell_type": "code",
   "execution_count": 4,
   "metadata": {},
   "outputs": [
    {
     "name": "stderr",
     "output_type": "stream",
     "text": [
      "root dir set to None\n"
     ]
    },
    {
     "data": {
      "application/javascript": [
       "\n",
       "            setTimeout(function() {\n",
       "                var nbb_cell_id = 4;\n",
       "                var nbb_unformatted_code = \"# only use 2 of the features\\nfashion_dataset_config = {\\n    \\\"meta\\\": {\\n        \\\"name\\\": \\\"fashion_mnist\\\",\\n        \\\"logging\\\": {\\\"log_stream_level\\\": \\\"INFO\\\"},\\n        \\\"in\\\": {\\\"from\\\": \\\"online\\\", \\\"type\\\": \\\"tfd\\\"},\\n    },\\n    \\\"read\\\": {\\n        \\\"split_percents\\\": [75, 15, 10],\\n        \\\"split_names\\\": [\\\"train\\\", \\\"val\\\", \\\"test\\\"],\\n        \\\"from_stage\\\": \\\"preprocessed\\\",\\n    },\\n}\\n\\nfashion_dict_raw = dd.read(fashion_dataset_config)\";\n",
       "                var nbb_formatted_code = \"# only use 2 of the features\\nfashion_dataset_config = {\\n    \\\"meta\\\": {\\n        \\\"name\\\": \\\"fashion_mnist\\\",\\n        \\\"logging\\\": {\\\"log_stream_level\\\": \\\"INFO\\\"},\\n        \\\"in\\\": {\\\"from\\\": \\\"online\\\", \\\"type\\\": \\\"tfd\\\"},\\n    },\\n    \\\"read\\\": {\\n        \\\"split_percents\\\": [75, 15, 10],\\n        \\\"split_names\\\": [\\\"train\\\", \\\"val\\\", \\\"test\\\"],\\n        \\\"from_stage\\\": \\\"preprocessed\\\",\\n    },\\n}\\n\\nfashion_dict_raw = dd.read(fashion_dataset_config)\";\n",
       "                var nbb_cells = Jupyter.notebook.get_cells();\n",
       "                for (var i = 0; i < nbb_cells.length; ++i) {\n",
       "                    if (nbb_cells[i].input_prompt_number == nbb_cell_id) {\n",
       "                        if (nbb_cells[i].get_text() == nbb_unformatted_code) {\n",
       "                             nbb_cells[i].set_text(nbb_formatted_code);\n",
       "                        }\n",
       "                        break;\n",
       "                    }\n",
       "                }\n",
       "            }, 500);\n",
       "            "
      ],
      "text/plain": [
       "<IPython.core.display.Javascript object>"
      ]
     },
     "metadata": {},
     "output_type": "display_data"
    }
   ],
   "source": [
    "# only use 2 of the features\n",
    "fashion_dataset_config = {\n",
    "    \"meta\": {\n",
    "        \"name\": \"fashion_mnist\",\n",
    "        \"logging\": {\"log_stream_level\": \"INFO\"},\n",
    "        \"in\": {\"from\": \"online\", \"type\": \"tfd\"},\n",
    "    },\n",
    "    \"read\": {\n",
    "        \"split_percents\": [75, 15, 10],\n",
    "        \"split_names\": [\"train\", \"val\", \"test\"],\n",
    "        \"from_stage\": \"preprocessed\",\n",
    "    },\n",
    "}\n",
    "\n",
    "fashion_dict_raw = dd.read(fashion_dataset_config)"
   ]
  },
  {
   "cell_type": "code",
   "execution_count": 5,
   "metadata": {},
   "outputs": [
    {
     "name": "stderr",
     "output_type": "stream",
     "text": [
      "root dir set to None\n"
     ]
    },
    {
     "data": {
      "application/javascript": [
       "\n",
       "            setTimeout(function() {\n",
       "                var nbb_cell_id = 5;\n",
       "                var nbb_unformatted_code = \"# only use 2 of the features\\nkmnist_dataset_config = {\\n    \\\"meta\\\": {\\n        \\\"name\\\": \\\"kmnist\\\",\\n        \\\"logging\\\": {\\\"log_stream_level\\\": \\\"INFO\\\"},\\n        \\\"in\\\": {\\\"from\\\": \\\"online\\\", \\\"type\\\": \\\"tfd\\\"},\\n    },\\n    \\\"read\\\": {\\n        \\\"split_percents\\\": [75, 15, 10],\\n        \\\"split_names\\\": [\\\"train\\\", \\\"val\\\", \\\"test\\\"],\\n        \\\"from_stage\\\": \\\"preprocessed\\\",\\n    },\\n}\\n\\nkmnist_dict_raw = dd.read(kmnist_dataset_config)\";\n",
       "                var nbb_formatted_code = \"# only use 2 of the features\\nkmnist_dataset_config = {\\n    \\\"meta\\\": {\\n        \\\"name\\\": \\\"kmnist\\\",\\n        \\\"logging\\\": {\\\"log_stream_level\\\": \\\"INFO\\\"},\\n        \\\"in\\\": {\\\"from\\\": \\\"online\\\", \\\"type\\\": \\\"tfd\\\"},\\n    },\\n    \\\"read\\\": {\\n        \\\"split_percents\\\": [75, 15, 10],\\n        \\\"split_names\\\": [\\\"train\\\", \\\"val\\\", \\\"test\\\"],\\n        \\\"from_stage\\\": \\\"preprocessed\\\",\\n    },\\n}\\n\\nkmnist_dict_raw = dd.read(kmnist_dataset_config)\";\n",
       "                var nbb_cells = Jupyter.notebook.get_cells();\n",
       "                for (var i = 0; i < nbb_cells.length; ++i) {\n",
       "                    if (nbb_cells[i].input_prompt_number == nbb_cell_id) {\n",
       "                        if (nbb_cells[i].get_text() == nbb_unformatted_code) {\n",
       "                             nbb_cells[i].set_text(nbb_formatted_code);\n",
       "                        }\n",
       "                        break;\n",
       "                    }\n",
       "                }\n",
       "            }, 500);\n",
       "            "
      ],
      "text/plain": [
       "<IPython.core.display.Javascript object>"
      ]
     },
     "metadata": {},
     "output_type": "display_data"
    }
   ],
   "source": [
    "# only use 2 of the features\n",
    "kmnist_dataset_config = {\n",
    "    \"meta\": {\n",
    "        \"name\": \"kmnist\",\n",
    "        \"logging\": {\"log_stream_level\": \"INFO\"},\n",
    "        \"in\": {\"from\": \"online\", \"type\": \"tfd\"},\n",
    "    },\n",
    "    \"read\": {\n",
    "        \"split_percents\": [75, 15, 10],\n",
    "        \"split_names\": [\"train\", \"val\", \"test\"],\n",
    "        \"from_stage\": \"preprocessed\",\n",
    "    },\n",
    "}\n",
    "\n",
    "kmnist_dict_raw = dd.read(kmnist_dataset_config)"
   ]
  },
  {
   "cell_type": "code",
   "execution_count": 6,
   "metadata": {},
   "outputs": [
    {
     "data": {
      "application/javascript": [
       "\n",
       "            setTimeout(function() {\n",
       "                var nbb_cell_id = 6;\n",
       "                var nbb_unformatted_code = \"raw_datadict = {\\n    \\\"mnist\\\": mnist_dict_raw,\\n    \\\"fashion_mnist\\\": fashion_dict_raw,\\n    \\\"kmnist\\\": kmnist_dict_raw,\\n}\";\n",
       "                var nbb_formatted_code = \"raw_datadict = {\\n    \\\"mnist\\\": mnist_dict_raw,\\n    \\\"fashion_mnist\\\": fashion_dict_raw,\\n    \\\"kmnist\\\": kmnist_dict_raw,\\n}\";\n",
       "                var nbb_cells = Jupyter.notebook.get_cells();\n",
       "                for (var i = 0; i < nbb_cells.length; ++i) {\n",
       "                    if (nbb_cells[i].input_prompt_number == nbb_cell_id) {\n",
       "                        if (nbb_cells[i].get_text() == nbb_unformatted_code) {\n",
       "                             nbb_cells[i].set_text(nbb_formatted_code);\n",
       "                        }\n",
       "                        break;\n",
       "                    }\n",
       "                }\n",
       "            }, 500);\n",
       "            "
      ],
      "text/plain": [
       "<IPython.core.display.Javascript object>"
      ]
     },
     "metadata": {},
     "output_type": "display_data"
    }
   ],
   "source": [
    "raw_datadict = {\n",
    "    \"mnist\": mnist_dict_raw,\n",
    "    \"fashion_mnist\": fashion_dict_raw,\n",
    "    \"kmnist\": kmnist_dict_raw,\n",
    "}"
   ]
  },
  {
   "cell_type": "markdown",
   "metadata": {},
   "source": [
    "## alter dataset"
   ]
  },
  {
   "cell_type": "code",
   "execution_count": 7,
   "metadata": {},
   "outputs": [
    {
     "data": {
      "application/javascript": [
       "\n",
       "            setTimeout(function() {\n",
       "                var nbb_cell_id = 7;\n",
       "                var nbb_unformatted_code = \"def normalize_img(image, label):\\n    \\\"\\\"\\\"Normalizes images: `uint8` -> `float32`.\\\"\\\"\\\"\\n    return tf.cast(image, tf.float32) / 255.0, label\";\n",
       "                var nbb_formatted_code = \"def normalize_img(image, label):\\n    \\\"\\\"\\\"Normalizes images: `uint8` -> `float32`.\\\"\\\"\\\"\\n    return tf.cast(image, tf.float32) / 255.0, label\";\n",
       "                var nbb_cells = Jupyter.notebook.get_cells();\n",
       "                for (var i = 0; i < nbb_cells.length; ++i) {\n",
       "                    if (nbb_cells[i].input_prompt_number == nbb_cell_id) {\n",
       "                        if (nbb_cells[i].get_text() == nbb_unformatted_code) {\n",
       "                             nbb_cells[i].set_text(nbb_formatted_code);\n",
       "                        }\n",
       "                        break;\n",
       "                    }\n",
       "                }\n",
       "            }, 500);\n",
       "            "
      ],
      "text/plain": [
       "<IPython.core.display.Javascript object>"
      ]
     },
     "metadata": {},
     "output_type": "display_data"
    }
   ],
   "source": [
    "def normalize_img(image, label):\n",
    "    \"\"\"Normalizes images: `uint8` -> `float32`.\"\"\"\n",
    "    return tf.cast(image, tf.float32) / 255.0, label"
   ]
  },
  {
   "cell_type": "code",
   "execution_count": 8,
   "metadata": {},
   "outputs": [
    {
     "data": {
      "application/javascript": [
       "\n",
       "            setTimeout(function() {\n",
       "                var nbb_cell_id = 8;\n",
       "                var nbb_unformatted_code = \"def load_image(datapoint):\\n\\n    input_image, input_mask = normalize_img(datapoint[\\\"image\\\"], datapoint[\\\"label\\\"])\\n\\n    return input_image, input_mask\";\n",
       "                var nbb_formatted_code = \"def load_image(datapoint):\\n\\n    input_image, input_mask = normalize_img(datapoint[\\\"image\\\"], datapoint[\\\"label\\\"])\\n\\n    return input_image, input_mask\";\n",
       "                var nbb_cells = Jupyter.notebook.get_cells();\n",
       "                for (var i = 0; i < nbb_cells.length; ++i) {\n",
       "                    if (nbb_cells[i].input_prompt_number == nbb_cell_id) {\n",
       "                        if (nbb_cells[i].get_text() == nbb_unformatted_code) {\n",
       "                             nbb_cells[i].set_text(nbb_formatted_code);\n",
       "                        }\n",
       "                        break;\n",
       "                    }\n",
       "                }\n",
       "            }, 500);\n",
       "            "
      ],
      "text/plain": [
       "<IPython.core.display.Javascript object>"
      ]
     },
     "metadata": {},
     "output_type": "display_data"
    }
   ],
   "source": [
    "def load_image(datapoint):\n",
    "\n",
    "    input_image, input_mask = normalize_img(datapoint[\"image\"], datapoint[\"label\"])\n",
    "\n",
    "    return input_image, input_mask"
   ]
  },
  {
   "cell_type": "code",
   "execution_count": 9,
   "metadata": {},
   "outputs": [
    {
     "data": {
      "application/javascript": [
       "\n",
       "            setTimeout(function() {\n",
       "                var nbb_cell_id = 9;\n",
       "                var nbb_unformatted_code = \"ds_dict = {}\\nfor ds_name, raw_dict in raw_datadict.items():\\n    ds_dict[ds_name] = {}\\n    for split_name, split_ds in raw_dict.items():\\n        split_ds = split_ds.map(\\n            load_image, num_parallel_calls=tf.data.experimental.AUTOTUNE\\n        )\\n\\n        ds_dict[ds_name][split_name] = split_ds\";\n",
       "                var nbb_formatted_code = \"ds_dict = {}\\nfor ds_name, raw_dict in raw_datadict.items():\\n    ds_dict[ds_name] = {}\\n    for split_name, split_ds in raw_dict.items():\\n        split_ds = split_ds.map(\\n            load_image, num_parallel_calls=tf.data.experimental.AUTOTUNE\\n        )\\n\\n        ds_dict[ds_name][split_name] = split_ds\";\n",
       "                var nbb_cells = Jupyter.notebook.get_cells();\n",
       "                for (var i = 0; i < nbb_cells.length; ++i) {\n",
       "                    if (nbb_cells[i].input_prompt_number == nbb_cell_id) {\n",
       "                        if (nbb_cells[i].get_text() == nbb_unformatted_code) {\n",
       "                             nbb_cells[i].set_text(nbb_formatted_code);\n",
       "                        }\n",
       "                        break;\n",
       "                    }\n",
       "                }\n",
       "            }, 500);\n",
       "            "
      ],
      "text/plain": [
       "<IPython.core.display.Javascript object>"
      ]
     },
     "metadata": {},
     "output_type": "display_data"
    }
   ],
   "source": [
    "ds_dict = {}\n",
    "for ds_name, raw_dict in raw_datadict.items():\n",
    "    ds_dict[ds_name] = {}\n",
    "    for split_name, split_ds in raw_dict.items():\n",
    "        split_ds = split_ds.map(\n",
    "            load_image, num_parallel_calls=tf.data.experimental.AUTOTUNE\n",
    "        )\n",
    "\n",
    "        ds_dict[ds_name][split_name] = split_ds"
   ]
  },
  {
   "cell_type": "markdown",
   "metadata": {},
   "source": [
    "## subset"
   ]
  },
  {
   "cell_type": "code",
   "execution_count": 10,
   "metadata": {},
   "outputs": [
    {
     "data": {
      "application/javascript": [
       "\n",
       "            setTimeout(function() {\n",
       "                var nbb_cell_id = 10;\n",
       "                var nbb_unformatted_code = \"sample_size = 5000\\nfor ds_name, cur_dict in ds_dict.items():\\n    for split_name, split_ds in cur_dict.items():\\n        ds_dict[ds_name][split_name] = split_ds.take(sample_size)\";\n",
       "                var nbb_formatted_code = \"sample_size = 5000\\nfor ds_name, cur_dict in ds_dict.items():\\n    for split_name, split_ds in cur_dict.items():\\n        ds_dict[ds_name][split_name] = split_ds.take(sample_size)\";\n",
       "                var nbb_cells = Jupyter.notebook.get_cells();\n",
       "                for (var i = 0; i < nbb_cells.length; ++i) {\n",
       "                    if (nbb_cells[i].input_prompt_number == nbb_cell_id) {\n",
       "                        if (nbb_cells[i].get_text() == nbb_unformatted_code) {\n",
       "                             nbb_cells[i].set_text(nbb_formatted_code);\n",
       "                        }\n",
       "                        break;\n",
       "                    }\n",
       "                }\n",
       "            }, 500);\n",
       "            "
      ],
      "text/plain": [
       "<IPython.core.display.Javascript object>"
      ]
     },
     "metadata": {},
     "output_type": "display_data"
    }
   ],
   "source": [
    "sample_size = 5000\n",
    "for ds_name, cur_dict in ds_dict.items():\n",
    "    for split_name, split_ds in cur_dict.items():\n",
    "        ds_dict[ds_name][split_name] = split_ds.take(sample_size)"
   ]
  },
  {
   "cell_type": "code",
   "execution_count": 11,
   "metadata": {},
   "outputs": [
    {
     "data": {
      "text/plain": [
       "{'mnist': {'train': <TakeDataset shapes: ((28, 28, 1), ()), types: (tf.float32, tf.int64)>,\n",
       "  'val': <TakeDataset shapes: ((28, 28, 1), ()), types: (tf.float32, tf.int64)>,\n",
       "  'test': <TakeDataset shapes: ((28, 28, 1), ()), types: (tf.float32, tf.int64)>},\n",
       " 'fashion_mnist': {'train': <TakeDataset shapes: ((28, 28, 1), ()), types: (tf.float32, tf.int64)>,\n",
       "  'val': <TakeDataset shapes: ((28, 28, 1), ()), types: (tf.float32, tf.int64)>,\n",
       "  'test': <TakeDataset shapes: ((28, 28, 1), ()), types: (tf.float32, tf.int64)>},\n",
       " 'kmnist': {'train': <TakeDataset shapes: ((28, 28, 1), ()), types: (tf.float32, tf.int64)>,\n",
       "  'val': <TakeDataset shapes: ((28, 28, 1), ()), types: (tf.float32, tf.int64)>,\n",
       "  'test': <TakeDataset shapes: ((28, 28, 1), ()), types: (tf.float32, tf.int64)>}}"
      ]
     },
     "execution_count": 11,
     "metadata": {},
     "output_type": "execute_result"
    },
    {
     "data": {
      "application/javascript": [
       "\n",
       "            setTimeout(function() {\n",
       "                var nbb_cell_id = 11;\n",
       "                var nbb_unformatted_code = \"ds_dict\";\n",
       "                var nbb_formatted_code = \"ds_dict\";\n",
       "                var nbb_cells = Jupyter.notebook.get_cells();\n",
       "                for (var i = 0; i < nbb_cells.length; ++i) {\n",
       "                    if (nbb_cells[i].input_prompt_number == nbb_cell_id) {\n",
       "                        if (nbb_cells[i].get_text() == nbb_unformatted_code) {\n",
       "                             nbb_cells[i].set_text(nbb_formatted_code);\n",
       "                        }\n",
       "                        break;\n",
       "                    }\n",
       "                }\n",
       "            }, 500);\n",
       "            "
      ],
      "text/plain": [
       "<IPython.core.display.Javascript object>"
      ]
     },
     "metadata": {},
     "output_type": "display_data"
    }
   ],
   "source": [
    "ds_dict"
   ]
  },
  {
   "cell_type": "markdown",
   "metadata": {},
   "source": [
    "## Specify the Model"
   ]
  },
  {
   "cell_type": "code",
   "execution_count": 12,
   "metadata": {
    "scrolled": true
   },
   "outputs": [
    {
     "name": "stderr",
     "output_type": "stream",
     "text": [
      "config_logger: WARNING  some keys have not been checked for unparsed keys:\n",
      " - main_config [model][path] = ./model_config.yml\n",
      "\n",
      " This is common when the config contains model:path: <some_path>.yml and means that there could be extra keys in this model config that are not being parsed+used by yeahml. in a future release, this could be addressed by building parsing logic in `src/yeahml/config/create_configs.py`\n"
     ]
    },
    {
     "data": {
      "application/javascript": [
       "\n",
       "            setTimeout(function() {\n",
       "                var nbb_cell_id = 12;\n",
       "                var nbb_unformatted_code = \"example = \\\"./handwritten_config.yml\\\"\\nyml_dict = yml.create_configs(example)\";\n",
       "                var nbb_formatted_code = \"example = \\\"./handwritten_config.yml\\\"\\nyml_dict = yml.create_configs(example)\";\n",
       "                var nbb_cells = Jupyter.notebook.get_cells();\n",
       "                for (var i = 0; i < nbb_cells.length; ++i) {\n",
       "                    if (nbb_cells[i].input_prompt_number == nbb_cell_id) {\n",
       "                        if (nbb_cells[i].get_text() == nbb_unformatted_code) {\n",
       "                             nbb_cells[i].set_text(nbb_formatted_code);\n",
       "                        }\n",
       "                        break;\n",
       "                    }\n",
       "                }\n",
       "            }, 500);\n",
       "            "
      ],
      "text/plain": [
       "<IPython.core.display.Javascript object>"
      ]
     },
     "metadata": {},
     "output_type": "display_data"
    }
   ],
   "source": [
    "example = \"./handwritten_config.yml\"\n",
    "yml_dict = yml.create_configs(example)"
   ]
  },
  {
   "cell_type": "markdown",
   "metadata": {},
   "source": [
    "## Build the model"
   ]
  },
  {
   "cell_type": "code",
   "execution_count": 13,
   "metadata": {
    "scrolled": true
   },
   "outputs": [
    {
     "name": "stderr",
     "output_type": "stream",
     "text": [
      "build_logger: INFO     -> START building graph\n",
      "build_logger: INFO     information json file created\n"
     ]
    },
    {
     "data": {
      "application/javascript": [
       "\n",
       "            setTimeout(function() {\n",
       "                var nbb_cell_id = 13;\n",
       "                var nbb_unformatted_code = \"# If you receive an error:\\n# AttributeError: 'google.protobuf.pyext._message.RepeatedCompositeCo' object has no attribute 'append'\\n# I personally used `pip install -U protobuf=3.8.0` to resolve\\n# per https://github.com/tensorflow/tensorflow/issues/33348\\nmodel = yml.build_model(yml_dict)\";\n",
       "                var nbb_formatted_code = \"# If you receive an error:\\n# AttributeError: 'google.protobuf.pyext._message.RepeatedCompositeCo' object has no attribute 'append'\\n# I personally used `pip install -U protobuf=3.8.0` to resolve\\n# per https://github.com/tensorflow/tensorflow/issues/33348\\nmodel = yml.build_model(yml_dict)\";\n",
       "                var nbb_cells = Jupyter.notebook.get_cells();\n",
       "                for (var i = 0; i < nbb_cells.length; ++i) {\n",
       "                    if (nbb_cells[i].input_prompt_number == nbb_cell_id) {\n",
       "                        if (nbb_cells[i].get_text() == nbb_unformatted_code) {\n",
       "                             nbb_cells[i].set_text(nbb_formatted_code);\n",
       "                        }\n",
       "                        break;\n",
       "                    }\n",
       "                }\n",
       "            }, 500);\n",
       "            "
      ],
      "text/plain": [
       "<IPython.core.display.Javascript object>"
      ]
     },
     "metadata": {},
     "output_type": "display_data"
    }
   ],
   "source": [
    "# If you receive an error:\n",
    "# AttributeError: 'google.protobuf.pyext._message.RepeatedCompositeCo' object has no attribute 'append'\n",
    "# I personally used `pip install -U protobuf=3.8.0` to resolve\n",
    "# per https://github.com/tensorflow/tensorflow/issues/33348\n",
    "model = yml.build_model(yml_dict)"
   ]
  },
  {
   "cell_type": "code",
   "execution_count": 14,
   "metadata": {},
   "outputs": [
    {
     "name": "stdout",
     "output_type": "stream",
     "text": [
      "Model: \"model\"\n",
      "__________________________________________________________________________________________________\n",
      "Layer (type)                    Output Shape         Param #     Connected to                     \n",
      "==================================================================================================\n",
      "image_in (InputLayer)           [(None, 28, 28, 1)]  0                                            \n",
      "__________________________________________________________________________________________________\n",
      "conv_1 (Conv2D)                 (None, 28, 28, 8)    80          image_in[0][0]                   \n",
      "__________________________________________________________________________________________________\n",
      "conv_2_downsample (Conv2D)      (None, 14, 14, 8)    584         conv_1[0][0]                     \n",
      "__________________________________________________________________________________________________\n",
      "conv_3 (Conv2D)                 (None, 14, 14, 8)    584         conv_2_downsample[0][0]          \n",
      "__________________________________________________________________________________________________\n",
      "conv_4_downsample (Conv2D)      (None, 7, 7, 8)      584         conv_3[0][0]                     \n",
      "__________________________________________________________________________________________________\n",
      "flatten_1 (Flatten)             (None, 392)          0           conv_4_downsample[0][0]          \n",
      "__________________________________________________________________________________________________\n",
      "dense_1 (Dense)                 (None, 128)          50304       flatten_1[0][0]                  \n",
      "__________________________________________________________________________________________________\n",
      "dense_mnist (Dense)             (None, 32)           4128        dense_1[0][0]                    \n",
      "__________________________________________________________________________________________________\n",
      "dense_fashion_mnist (Dense)     (None, 32)           4128        dense_1[0][0]                    \n",
      "__________________________________________________________________________________________________\n",
      "dense_kmnist (Dense)            (None, 32)           4128        dense_1[0][0]                    \n",
      "__________________________________________________________________________________________________\n",
      "mnist_pred (Dense)              (None, 10)           330         dense_mnist[0][0]                \n",
      "__________________________________________________________________________________________________\n",
      "fashion_mnist_pred (Dense)      (None, 10)           330         dense_fashion_mnist[0][0]        \n",
      "__________________________________________________________________________________________________\n",
      "kmnist_pred (Dense)             (None, 10)           330         dense_kmnist[0][0]               \n",
      "==================================================================================================\n",
      "Total params: 65,510\n",
      "Trainable params: 65,510\n",
      "Non-trainable params: 0\n",
      "__________________________________________________________________________________________________\n"
     ]
    },
    {
     "data": {
      "application/javascript": [
       "\n",
       "            setTimeout(function() {\n",
       "                var nbb_cell_id = 14;\n",
       "                var nbb_unformatted_code = \"model.summary()\";\n",
       "                var nbb_formatted_code = \"model.summary()\";\n",
       "                var nbb_cells = Jupyter.notebook.get_cells();\n",
       "                for (var i = 0; i < nbb_cells.length; ++i) {\n",
       "                    if (nbb_cells[i].input_prompt_number == nbb_cell_id) {\n",
       "                        if (nbb_cells[i].get_text() == nbb_unformatted_code) {\n",
       "                             nbb_cells[i].set_text(nbb_formatted_code);\n",
       "                        }\n",
       "                        break;\n",
       "                    }\n",
       "                }\n",
       "            }, 500);\n",
       "            "
      ],
      "text/plain": [
       "<IPython.core.display.Javascript object>"
      ]
     },
     "metadata": {},
     "output_type": "display_data"
    }
   ],
   "source": [
    "model.summary()"
   ]
  },
  {
   "cell_type": "markdown",
   "metadata": {},
   "source": [
    "## Train the Model\n",
    "\n",
    "Notice here that we're using the created training and validation sets from `ds_dict`"
   ]
  },
  {
   "cell_type": "code",
   "execution_count": 15,
   "metadata": {},
   "outputs": [
    {
     "data": {
      "text/plain": [
       "{'mnist': {'train': <TakeDataset shapes: ((28, 28, 1), ()), types: (tf.float32, tf.int64)>,\n",
       "  'val': <TakeDataset shapes: ((28, 28, 1), ()), types: (tf.float32, tf.int64)>,\n",
       "  'test': <TakeDataset shapes: ((28, 28, 1), ()), types: (tf.float32, tf.int64)>},\n",
       " 'fashion_mnist': {'train': <TakeDataset shapes: ((28, 28, 1), ()), types: (tf.float32, tf.int64)>,\n",
       "  'val': <TakeDataset shapes: ((28, 28, 1), ()), types: (tf.float32, tf.int64)>,\n",
       "  'test': <TakeDataset shapes: ((28, 28, 1), ()), types: (tf.float32, tf.int64)>},\n",
       " 'kmnist': {'train': <TakeDataset shapes: ((28, 28, 1), ()), types: (tf.float32, tf.int64)>,\n",
       "  'val': <TakeDataset shapes: ((28, 28, 1), ()), types: (tf.float32, tf.int64)>,\n",
       "  'test': <TakeDataset shapes: ((28, 28, 1), ()), types: (tf.float32, tf.int64)>}}"
      ]
     },
     "execution_count": 15,
     "metadata": {},
     "output_type": "execute_result"
    },
    {
     "data": {
      "application/javascript": [
       "\n",
       "            setTimeout(function() {\n",
       "                var nbb_cell_id = 15;\n",
       "                var nbb_unformatted_code = \"ds_dict\";\n",
       "                var nbb_formatted_code = \"ds_dict\";\n",
       "                var nbb_cells = Jupyter.notebook.get_cells();\n",
       "                for (var i = 0; i < nbb_cells.length; ++i) {\n",
       "                    if (nbb_cells[i].input_prompt_number == nbb_cell_id) {\n",
       "                        if (nbb_cells[i].get_text() == nbb_unformatted_code) {\n",
       "                             nbb_cells[i].set_text(nbb_formatted_code);\n",
       "                        }\n",
       "                        break;\n",
       "                    }\n",
       "                }\n",
       "            }, 500);\n",
       "            "
      ],
      "text/plain": [
       "<IPython.core.display.Javascript object>"
      ]
     },
     "metadata": {},
     "output_type": "display_data"
    }
   ],
   "source": [
    "ds_dict"
   ]
  },
  {
   "cell_type": "code",
   "execution_count": 16,
   "metadata": {
    "scrolled": false
   },
   "outputs": [
    {
     "name": "stderr",
     "output_type": "stream",
     "text": [
      "train_logger: INFO     START - training\n",
      "train_logger: INFO     optimizer: kmnist_opt\n",
      "train_logger: INFO     objective: kmnist_objective\n",
      "WARNING: Logging before flag parsing goes to stderr.\n",
      "W0613 13:17:54.112638 140531077310272 optimizer_v2.py:1223] Gradients do not exist for variables ['dense_mnist/kernel:0', 'dense_mnist/bias:0', 'dense_fashion_mnist/kernel:0', 'dense_fashion_mnist/bias:0', 'mnist_pred/kernel:0', 'mnist_pred/bias:0', 'fashion_mnist_pred/kernel:0', 'fashion_mnist_pred/bias:0'] when minimizing the loss.\n",
      "W0613 13:17:54.188060 140531077310272 optimizer_v2.py:1223] Gradients do not exist for variables ['dense_mnist/kernel:0', 'dense_mnist/bias:0', 'dense_fashion_mnist/kernel:0', 'dense_fashion_mnist/bias:0', 'mnist_pred/kernel:0', 'mnist_pred/bias:0', 'fashion_mnist_pred/kernel:0', 'fashion_mnist_pred/bias:0'] when minimizing the loss.\n",
      "train_logger: INFO     epoch kmnist_objective - kmnist train: 1\n",
      "train_logger: INFO     done validation - 5000\n",
      "train_logger: INFO     optimizer: kmnist_opt\n",
      "train_logger: INFO     objective: kmnist_objective\n",
      "train_logger: INFO     epoch kmnist_objective - kmnist train: 2\n",
      "train_logger: INFO     done validation - 10000\n",
      "train_logger: INFO     optimizer: kmnist_opt\n",
      "train_logger: INFO     objective: kmnist_objective\n",
      "train_logger: INFO     epoch kmnist_objective - kmnist train: 3\n",
      "train_logger: INFO     done validation - 15000\n",
      "train_logger: INFO     optimizer: mnist_opt\n",
      "train_logger: INFO     objective: mnist_objective\n",
      "W0613 13:18:02.724400 140531077310272 optimizer_v2.py:1223] Gradients do not exist for variables ['dense_fashion_mnist/kernel:0', 'dense_fashion_mnist/bias:0', 'dense_kmnist/kernel:0', 'dense_kmnist/bias:0', 'fashion_mnist_pred/kernel:0', 'fashion_mnist_pred/bias:0', 'kmnist_pred/kernel:0', 'kmnist_pred/bias:0'] when minimizing the loss.\n",
      "W0613 13:18:02.804478 140531077310272 optimizer_v2.py:1223] Gradients do not exist for variables ['dense_fashion_mnist/kernel:0', 'dense_fashion_mnist/bias:0', 'dense_kmnist/kernel:0', 'dense_kmnist/bias:0', 'fashion_mnist_pred/kernel:0', 'fashion_mnist_pred/bias:0', 'kmnist_pred/kernel:0', 'kmnist_pred/bias:0'] when minimizing the loss.\n",
      "train_logger: INFO     epoch mnist_objective - mnist train: 1\n",
      "train_logger: INFO     done validation - 5000\n",
      "train_logger: INFO     optimizer: fashion_mnist_opt\n",
      "train_logger: INFO     objective: fashion_mnist_objective\n",
      "W0613 13:18:06.075550 140531077310272 optimizer_v2.py:1223] Gradients do not exist for variables ['dense_mnist/kernel:0', 'dense_mnist/bias:0', 'dense_kmnist/kernel:0', 'dense_kmnist/bias:0', 'mnist_pred/kernel:0', 'mnist_pred/bias:0', 'kmnist_pred/kernel:0', 'kmnist_pred/bias:0'] when minimizing the loss.\n",
      "W0613 13:18:06.147845 140531077310272 optimizer_v2.py:1223] Gradients do not exist for variables ['dense_mnist/kernel:0', 'dense_mnist/bias:0', 'dense_kmnist/kernel:0', 'dense_kmnist/bias:0', 'mnist_pred/kernel:0', 'mnist_pred/bias:0', 'kmnist_pred/kernel:0', 'kmnist_pred/bias:0'] when minimizing the loss.\n",
      "train_logger: INFO     epoch fashion_mnist_objective - fashion_mnist train: 1\n",
      "train_logger: INFO     done validation - 5000\n",
      "train_logger: INFO     optimizer: fashion_mnist_opt\n",
      "train_logger: INFO     objective: fashion_mnist_objective\n",
      "train_logger: INFO     epoch fashion_mnist_objective - fashion_mnist train: 2\n",
      "train_logger: INFO     done validation - 10000\n",
      "train_logger: INFO     optimizer: mnist_opt\n",
      "train_logger: INFO     objective: mnist_objective\n",
      "train_logger: INFO     epoch mnist_objective - mnist train: 2\n",
      "train_logger: INFO     done validation - 10000\n",
      "train_logger: INFO     optimizer: kmnist_opt\n",
      "train_logger: INFO     objective: kmnist_objective\n",
      "train_logger: INFO     epoch kmnist_objective - kmnist train: 4\n",
      "train_logger: INFO     done validation - 20000\n",
      "train_logger: INFO     optimizer: kmnist_opt\n",
      "train_logger: INFO     objective: kmnist_objective\n",
      "train_logger: INFO     kmnist_opt removed from list of opt. remaining: ['mnist_opt', 'fashion_mnist_opt']\n",
      "train_logger: INFO     is_training: True\n",
      "train_logger: INFO     epoch kmnist_objective - kmnist train: 5\n",
      "train_logger: INFO     done validation - 25000\n",
      "train_logger: INFO     optimizer: mnist_opt\n",
      "train_logger: INFO     objective: mnist_objective\n",
      "train_logger: INFO     epoch mnist_objective - mnist train: 3\n",
      "train_logger: INFO     done validation - 15000\n",
      "train_logger: INFO     optimizer: mnist_opt\n",
      "train_logger: INFO     objective: mnist_objective\n",
      "train_logger: INFO     epoch mnist_objective - mnist train: 4\n",
      "train_logger: INFO     done validation - 20000\n",
      "train_logger: INFO     optimizer: fashion_mnist_opt\n",
      "train_logger: INFO     objective: fashion_mnist_objective\n",
      "train_logger: INFO     epoch fashion_mnist_objective - fashion_mnist train: 3\n",
      "train_logger: INFO     done validation - 15000\n",
      "train_logger: INFO     optimizer: mnist_opt\n",
      "train_logger: INFO     objective: mnist_objective\n",
      "train_logger: INFO     mnist_opt removed from list of opt. remaining: ['fashion_mnist_opt']\n",
      "train_logger: INFO     is_training: True\n",
      "train_logger: INFO     epoch mnist_objective - mnist train: 5\n",
      "train_logger: INFO     done validation - 25000\n",
      "train_logger: INFO     optimizer: fashion_mnist_opt\n",
      "train_logger: INFO     objective: fashion_mnist_objective\n",
      "train_logger: INFO     epoch fashion_mnist_objective - fashion_mnist train: 4\n",
      "train_logger: INFO     done validation - 20000\n",
      "train_logger: INFO     optimizer: fashion_mnist_opt\n",
      "train_logger: INFO     objective: fashion_mnist_objective\n",
      "train_logger: INFO     fashion_mnist_opt removed from list of opt. remaining: []\n",
      "train_logger: INFO     is_training: False\n",
      "train_logger: INFO     epoch fashion_mnist_objective - fashion_mnist train: 5\n",
      "train_logger: INFO     done validation - 25000\n"
     ]
    },
    {
     "name": "stdout",
     "output_type": "stream",
     "text": [
      "CPU times: user 1min 3s, sys: 5.82 s, total: 1min 9s\n",
      "Wall time: 45.5 s\n"
     ]
    },
    {
     "data": {
      "application/javascript": [
       "\n",
       "            setTimeout(function() {\n",
       "                var nbb_cell_id = 16;\n",
       "                var nbb_unformatted_code = \"%%time\\ntrain_dict = yml.train_model(model, yml_dict, ds_dict)\";\n",
       "                var nbb_formatted_code = \"%%time\\ntrain_dict = yml.train_model(model, yml_dict, ds_dict)\";\n",
       "                var nbb_cells = Jupyter.notebook.get_cells();\n",
       "                for (var i = 0; i < nbb_cells.length; ++i) {\n",
       "                    if (nbb_cells[i].input_prompt_number == nbb_cell_id) {\n",
       "                        if (nbb_cells[i].get_text() == nbb_unformatted_code) {\n",
       "                             nbb_cells[i].set_text(nbb_formatted_code);\n",
       "                        }\n",
       "                        break;\n",
       "                    }\n",
       "                }\n",
       "            }, 500);\n",
       "            "
      ],
      "text/plain": [
       "<IPython.core.display.Javascript object>"
      ]
     },
     "metadata": {},
     "output_type": "display_data"
    }
   ],
   "source": [
    "%%time\n",
    "train_dict = yml.train_model(model, yml_dict, ds_dict)"
   ]
  },
  {
   "cell_type": "code",
   "execution_count": 17,
   "metadata": {},
   "outputs": [
    {
     "data": {
      "image/png": "[encoded data removed]",
      "text/plain": [
       "<Figure size 1152x576 with 1 Axes>"
      ]
     },
     "metadata": {
      "needs_background": "light"
     },
     "output_type": "display_data"
    },
    {
     "data": {
      "image/png": "[encoded data removed]",
      "text/plain": [
       "<Figure size 1152x576 with 1 Axes>"
      ]
     },
     "metadata": {
      "needs_background": "light"
     },
     "output_type": "display_data"
    },
    {
     "data": {
      "application/javascript": [
       "\n",
       "            setTimeout(function() {\n",
       "                var nbb_cell_id = 17;\n",
       "                var nbb_unformatted_code = \"yml.basic_plot_tracker(\\n    train_dict[\\\"tracker\\\"],\\n    metrics=True,\\n    local=False,\\n    training=True,\\n    validation=False,\\n    loss=True,\\n    size=(16, 8),\\n)\";\n",
       "                var nbb_formatted_code = \"yml.basic_plot_tracker(\\n    train_dict[\\\"tracker\\\"],\\n    metrics=True,\\n    local=False,\\n    training=True,\\n    validation=False,\\n    loss=True,\\n    size=(16, 8),\\n)\";\n",
       "                var nbb_cells = Jupyter.notebook.get_cells();\n",
       "                for (var i = 0; i < nbb_cells.length; ++i) {\n",
       "                    if (nbb_cells[i].input_prompt_number == nbb_cell_id) {\n",
       "                        if (nbb_cells[i].get_text() == nbb_unformatted_code) {\n",
       "                             nbb_cells[i].set_text(nbb_formatted_code);\n",
       "                        }\n",
       "                        break;\n",
       "                    }\n",
       "                }\n",
       "            }, 500);\n",
       "            "
      ],
      "text/plain": [
       "<IPython.core.display.Javascript object>"
      ]
     },
     "metadata": {},
     "output_type": "display_data"
    }
   ],
   "source": [
    "yml.basic_plot_tracker(\n",
    "    train_dict[\"tracker\"],\n",
    "    metrics=True,\n",
    "    local=False,\n",
    "    training=True,\n",
    "    validation=False,\n",
    "    loss=True,\n",
    "    size=(16, 8),\n",
    ")"
   ]
  },
  {
   "cell_type": "markdown",
   "metadata": {},
   "source": [
    "## Evaluate the Model"
   ]
  },
  {
   "cell_type": "code",
   "execution_count": 18,
   "metadata": {},
   "outputs": [
    {
     "data": {
      "application/javascript": [
       "\n",
       "            setTimeout(function() {\n",
       "                var nbb_cell_id = 18;\n",
       "                var nbb_unformatted_code = \"# eval_dict = yml.eval_model(\\n#     model,\\n#     yml_dict,\\n#     dataset=ds_dict[\\\"test\\\"]\\n# )\\n# print(eval_dict)\";\n",
       "                var nbb_formatted_code = \"# eval_dict = yml.eval_model(\\n#     model,\\n#     yml_dict,\\n#     dataset=ds_dict[\\\"test\\\"]\\n# )\\n# print(eval_dict)\";\n",
       "                var nbb_cells = Jupyter.notebook.get_cells();\n",
       "                for (var i = 0; i < nbb_cells.length; ++i) {\n",
       "                    if (nbb_cells[i].input_prompt_number == nbb_cell_id) {\n",
       "                        if (nbb_cells[i].get_text() == nbb_unformatted_code) {\n",
       "                             nbb_cells[i].set_text(nbb_formatted_code);\n",
       "                        }\n",
       "                        break;\n",
       "                    }\n",
       "                }\n",
       "            }, 500);\n",
       "            "
      ],
      "text/plain": [
       "<IPython.core.display.Javascript object>"
      ]
     },
     "metadata": {},
     "output_type": "display_data"
    }
   ],
   "source": [
    "# eval_dict = yml.eval_model(\n",
    "#     model,\n",
    "#     yml_dict,\n",
    "#     dataset=ds_dict[\"test\"]\n",
    "# )\n",
    "# print(eval_dict)"
   ]
  },
  {
   "cell_type": "markdown",
   "metadata": {},
   "source": [
    "## Inspect model in Tensorflow\n",
    "\n",
    "In the command line you can navigate to the `albalone` directory and run: (provided tensorboard is installed in your environment)\n",
    "\n",
    "```bash\n",
    "tensorboard --logdir model_a/\n",
    "```"
   ]
  },
  {
   "cell_type": "code",
   "execution_count": null,
   "metadata": {},
   "outputs": [],
   "source": []
  },
  {
   "cell_type": "code",
   "execution_count": null,
   "metadata": {},
   "outputs": [],
   "source": []
  }
 ],
 "metadata": {
  "kernelspec": {
   "display_name": "tf2",
   "language": "python",
   "name": "tf2"
  },
  "language_info": {
   "codemirror_mode": {
    "name": "ipython",
    "version": 3
   },
   "file_extension": ".py",
   "mimetype": "text/x-python",
   "name": "python",
   "nbconvert_exporter": "python",
   "pygments_lexer": "ipython3",
   "version": "3.6.7"
  }
 },
 "nbformat": 4,
 "nbformat_minor": 2
}
