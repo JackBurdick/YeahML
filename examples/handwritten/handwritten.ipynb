{
 "cells": [
  {
   "cell_type": "markdown",
   "metadata": {},
   "source": [
    "# Handwritten"
   ]
  },
  {
   "cell_type": "code",
   "execution_count": 1,
   "metadata": {},
   "outputs": [
    {
     "data": {
      "application/javascript": [
       "\n",
       "            setTimeout(function() {\n",
       "                var nbb_cell_id = 1;\n",
       "                var nbb_unformatted_code = \"%load_ext autoreload\\n%autoreload 2\\n%load_ext nb_black\";\n",
       "                var nbb_formatted_code = \"%load_ext autoreload\\n%autoreload 2\\n%load_ext nb_black\";\n",
       "                var nbb_cells = Jupyter.notebook.get_cells();\n",
       "                for (var i = 0; i < nbb_cells.length; ++i) {\n",
       "                    if (nbb_cells[i].input_prompt_number == nbb_cell_id) {\n",
       "                        if (nbb_cells[i].get_text() == nbb_unformatted_code) {\n",
       "                             nbb_cells[i].set_text(nbb_formatted_code);\n",
       "                        }\n",
       "                        break;\n",
       "                    }\n",
       "                }\n",
       "            }, 500);\n",
       "            "
      ],
      "text/plain": [
       "<IPython.core.display.Javascript object>"
      ]
     },
     "metadata": {},
     "output_type": "display_data"
    }
   ],
   "source": [
    "%load_ext autoreload\n",
    "%autoreload 2\n",
    "%load_ext nb_black"
   ]
  },
  {
   "cell_type": "code",
   "execution_count": 2,
   "metadata": {
    "scrolled": false
   },
   "outputs": [
    {
     "data": {
      "application/javascript": [
       "\n",
       "            setTimeout(function() {\n",
       "                var nbb_cell_id = 2;\n",
       "                var nbb_unformatted_code = \"# import pandas as pd\\nimport tensorflow as tf\\nimport dataduit as dd\\nimport yeahml as yml\\nimport matplotlib.pyplot as plt\";\n",
       "                var nbb_formatted_code = \"# import pandas as pd\\nimport tensorflow as tf\\nimport dataduit as dd\\nimport yeahml as yml\\nimport matplotlib.pyplot as plt\";\n",
       "                var nbb_cells = Jupyter.notebook.get_cells();\n",
       "                for (var i = 0; i < nbb_cells.length; ++i) {\n",
       "                    if (nbb_cells[i].input_prompt_number == nbb_cell_id) {\n",
       "                        if (nbb_cells[i].get_text() == nbb_unformatted_code) {\n",
       "                             nbb_cells[i].set_text(nbb_formatted_code);\n",
       "                        }\n",
       "                        break;\n",
       "                    }\n",
       "                }\n",
       "            }, 500);\n",
       "            "
      ],
      "text/plain": [
       "<IPython.core.display.Javascript object>"
      ]
     },
     "metadata": {},
     "output_type": "display_data"
    }
   ],
   "source": [
    "# import pandas as pd\n",
    "import tensorflow as tf\n",
    "import dataduit as dd\n",
    "import yeahml as yml\n",
    "import matplotlib.pyplot as plt"
   ]
  },
  {
   "cell_type": "markdown",
   "metadata": {},
   "source": [
    "## Create Datasets"
   ]
  },
  {
   "cell_type": "code",
   "execution_count": 3,
   "metadata": {},
   "outputs": [
    {
     "name": "stderr",
     "output_type": "stream",
     "text": [
      "root dir set to None\n"
     ]
    },
    {
     "data": {
      "application/javascript": [
       "\n",
       "            setTimeout(function() {\n",
       "                var nbb_cell_id = 3;\n",
       "                var nbb_unformatted_code = \"# only use 2 of the features\\nmnist_dataset_config = {\\n    \\\"meta\\\": {\\n        \\\"name\\\": \\\"mnist\\\",\\n        \\\"logging\\\": {\\\"log_stream_level\\\": \\\"INFO\\\"},\\n        \\\"in\\\": {\\\"from\\\": \\\"online\\\", \\\"type\\\": \\\"tfd\\\"},\\n    },\\n    \\\"read\\\": {\\n        \\\"split_percents\\\": [75, 15, 10],\\n        \\\"split_names\\\": [\\\"train\\\", \\\"val\\\", \\\"test\\\"],\\n        \\\"from_stage\\\": \\\"preprocessed\\\",\\n    },\\n}\\n\\nmnist_dict_raw = dd.read(mnist_dataset_config)\";\n",
       "                var nbb_formatted_code = \"# only use 2 of the features\\nmnist_dataset_config = {\\n    \\\"meta\\\": {\\n        \\\"name\\\": \\\"mnist\\\",\\n        \\\"logging\\\": {\\\"log_stream_level\\\": \\\"INFO\\\"},\\n        \\\"in\\\": {\\\"from\\\": \\\"online\\\", \\\"type\\\": \\\"tfd\\\"},\\n    },\\n    \\\"read\\\": {\\n        \\\"split_percents\\\": [75, 15, 10],\\n        \\\"split_names\\\": [\\\"train\\\", \\\"val\\\", \\\"test\\\"],\\n        \\\"from_stage\\\": \\\"preprocessed\\\",\\n    },\\n}\\n\\nmnist_dict_raw = dd.read(mnist_dataset_config)\";\n",
       "                var nbb_cells = Jupyter.notebook.get_cells();\n",
       "                for (var i = 0; i < nbb_cells.length; ++i) {\n",
       "                    if (nbb_cells[i].input_prompt_number == nbb_cell_id) {\n",
       "                        if (nbb_cells[i].get_text() == nbb_unformatted_code) {\n",
       "                             nbb_cells[i].set_text(nbb_formatted_code);\n",
       "                        }\n",
       "                        break;\n",
       "                    }\n",
       "                }\n",
       "            }, 500);\n",
       "            "
      ],
      "text/plain": [
       "<IPython.core.display.Javascript object>"
      ]
     },
     "metadata": {},
     "output_type": "display_data"
    }
   ],
   "source": [
    "# only use 2 of the features\n",
    "mnist_dataset_config = {\n",
    "    \"meta\": {\n",
    "        \"name\": \"mnist\",\n",
    "        \"logging\": {\"log_stream_level\": \"INFO\"},\n",
    "        \"in\": {\"from\": \"online\", \"type\": \"tfd\"},\n",
    "    },\n",
    "    \"read\": {\n",
    "        \"split_percents\": [75, 15, 10],\n",
    "        \"split_names\": [\"train\", \"val\", \"test\"],\n",
    "        \"from_stage\": \"preprocessed\",\n",
    "    },\n",
    "}\n",
    "\n",
    "mnist_dict_raw = dd.read(mnist_dataset_config)"
   ]
  },
  {
   "cell_type": "code",
   "execution_count": 4,
   "metadata": {},
   "outputs": [
    {
     "name": "stderr",
     "output_type": "stream",
     "text": [
      "root dir set to None\n"
     ]
    },
    {
     "data": {
      "application/javascript": [
       "\n",
       "            setTimeout(function() {\n",
       "                var nbb_cell_id = 4;\n",
       "                var nbb_unformatted_code = \"# only use 2 of the features\\nfashion_dataset_config = {\\n    \\\"meta\\\": {\\n        \\\"name\\\": \\\"fashion_mnist\\\",\\n        \\\"logging\\\": {\\\"log_stream_level\\\": \\\"INFO\\\"},\\n        \\\"in\\\": {\\\"from\\\": \\\"online\\\", \\\"type\\\": \\\"tfd\\\"},\\n    },\\n    \\\"read\\\": {\\n        \\\"split_percents\\\": [75, 15, 10],\\n        \\\"split_names\\\": [\\\"train\\\", \\\"val\\\", \\\"test\\\"],\\n        \\\"from_stage\\\": \\\"preprocessed\\\",\\n    },\\n}\\n\\nfashion_dict_raw = dd.read(fashion_dataset_config)\";\n",
       "                var nbb_formatted_code = \"# only use 2 of the features\\nfashion_dataset_config = {\\n    \\\"meta\\\": {\\n        \\\"name\\\": \\\"fashion_mnist\\\",\\n        \\\"logging\\\": {\\\"log_stream_level\\\": \\\"INFO\\\"},\\n        \\\"in\\\": {\\\"from\\\": \\\"online\\\", \\\"type\\\": \\\"tfd\\\"},\\n    },\\n    \\\"read\\\": {\\n        \\\"split_percents\\\": [75, 15, 10],\\n        \\\"split_names\\\": [\\\"train\\\", \\\"val\\\", \\\"test\\\"],\\n        \\\"from_stage\\\": \\\"preprocessed\\\",\\n    },\\n}\\n\\nfashion_dict_raw = dd.read(fashion_dataset_config)\";\n",
       "                var nbb_cells = Jupyter.notebook.get_cells();\n",
       "                for (var i = 0; i < nbb_cells.length; ++i) {\n",
       "                    if (nbb_cells[i].input_prompt_number == nbb_cell_id) {\n",
       "                        if (nbb_cells[i].get_text() == nbb_unformatted_code) {\n",
       "                             nbb_cells[i].set_text(nbb_formatted_code);\n",
       "                        }\n",
       "                        break;\n",
       "                    }\n",
       "                }\n",
       "            }, 500);\n",
       "            "
      ],
      "text/plain": [
       "<IPython.core.display.Javascript object>"
      ]
     },
     "metadata": {},
     "output_type": "display_data"
    }
   ],
   "source": [
    "# only use 2 of the features\n",
    "fashion_dataset_config = {\n",
    "    \"meta\": {\n",
    "        \"name\": \"fashion_mnist\",\n",
    "        \"logging\": {\"log_stream_level\": \"INFO\"},\n",
    "        \"in\": {\"from\": \"online\", \"type\": \"tfd\"},\n",
    "    },\n",
    "    \"read\": {\n",
    "        \"split_percents\": [75, 15, 10],\n",
    "        \"split_names\": [\"train\", \"val\", \"test\"],\n",
    "        \"from_stage\": \"preprocessed\",\n",
    "    },\n",
    "}\n",
    "\n",
    "fashion_dict_raw = dd.read(fashion_dataset_config)"
   ]
  },
  {
   "cell_type": "code",
   "execution_count": 5,
   "metadata": {},
   "outputs": [
    {
     "name": "stderr",
     "output_type": "stream",
     "text": [
      "root dir set to None\n"
     ]
    },
    {
     "data": {
      "application/javascript": [
       "\n",
       "            setTimeout(function() {\n",
       "                var nbb_cell_id = 5;\n",
       "                var nbb_unformatted_code = \"# only use 2 of the features\\nkmnist_dataset_config = {\\n    \\\"meta\\\": {\\n        \\\"name\\\": \\\"kmnist\\\",\\n        \\\"logging\\\": {\\\"log_stream_level\\\": \\\"INFO\\\"},\\n        \\\"in\\\": {\\\"from\\\": \\\"online\\\", \\\"type\\\": \\\"tfd\\\"},\\n    },\\n    \\\"read\\\": {\\n        \\\"split_percents\\\": [75, 15, 10],\\n        \\\"split_names\\\": [\\\"train\\\", \\\"val\\\", \\\"test\\\"],\\n        \\\"from_stage\\\": \\\"preprocessed\\\",\\n    },\\n}\\n\\nkmnist_dict_raw = dd.read(kmnist_dataset_config)\";\n",
       "                var nbb_formatted_code = \"# only use 2 of the features\\nkmnist_dataset_config = {\\n    \\\"meta\\\": {\\n        \\\"name\\\": \\\"kmnist\\\",\\n        \\\"logging\\\": {\\\"log_stream_level\\\": \\\"INFO\\\"},\\n        \\\"in\\\": {\\\"from\\\": \\\"online\\\", \\\"type\\\": \\\"tfd\\\"},\\n    },\\n    \\\"read\\\": {\\n        \\\"split_percents\\\": [75, 15, 10],\\n        \\\"split_names\\\": [\\\"train\\\", \\\"val\\\", \\\"test\\\"],\\n        \\\"from_stage\\\": \\\"preprocessed\\\",\\n    },\\n}\\n\\nkmnist_dict_raw = dd.read(kmnist_dataset_config)\";\n",
       "                var nbb_cells = Jupyter.notebook.get_cells();\n",
       "                for (var i = 0; i < nbb_cells.length; ++i) {\n",
       "                    if (nbb_cells[i].input_prompt_number == nbb_cell_id) {\n",
       "                        if (nbb_cells[i].get_text() == nbb_unformatted_code) {\n",
       "                             nbb_cells[i].set_text(nbb_formatted_code);\n",
       "                        }\n",
       "                        break;\n",
       "                    }\n",
       "                }\n",
       "            }, 500);\n",
       "            "
      ],
      "text/plain": [
       "<IPython.core.display.Javascript object>"
      ]
     },
     "metadata": {},
     "output_type": "display_data"
    }
   ],
   "source": [
    "# only use 2 of the features\n",
    "kmnist_dataset_config = {\n",
    "    \"meta\": {\n",
    "        \"name\": \"kmnist\",\n",
    "        \"logging\": {\"log_stream_level\": \"INFO\"},\n",
    "        \"in\": {\"from\": \"online\", \"type\": \"tfd\"},\n",
    "    },\n",
    "    \"read\": {\n",
    "        \"split_percents\": [75, 15, 10],\n",
    "        \"split_names\": [\"train\", \"val\", \"test\"],\n",
    "        \"from_stage\": \"preprocessed\",\n",
    "    },\n",
    "}\n",
    "\n",
    "kmnist_dict_raw = dd.read(kmnist_dataset_config)"
   ]
  },
  {
   "cell_type": "code",
   "execution_count": 6,
   "metadata": {},
   "outputs": [
    {
     "data": {
      "application/javascript": [
       "\n",
       "            setTimeout(function() {\n",
       "                var nbb_cell_id = 6;\n",
       "                var nbb_unformatted_code = \"raw_datadict = {\\n    \\\"mnist\\\": mnist_dict_raw,\\n    \\\"fashion_mnist\\\": fashion_dict_raw,\\n    \\\"kmnist\\\": kmnist_dict_raw,\\n}\";\n",
       "                var nbb_formatted_code = \"raw_datadict = {\\n    \\\"mnist\\\": mnist_dict_raw,\\n    \\\"fashion_mnist\\\": fashion_dict_raw,\\n    \\\"kmnist\\\": kmnist_dict_raw,\\n}\";\n",
       "                var nbb_cells = Jupyter.notebook.get_cells();\n",
       "                for (var i = 0; i < nbb_cells.length; ++i) {\n",
       "                    if (nbb_cells[i].input_prompt_number == nbb_cell_id) {\n",
       "                        if (nbb_cells[i].get_text() == nbb_unformatted_code) {\n",
       "                             nbb_cells[i].set_text(nbb_formatted_code);\n",
       "                        }\n",
       "                        break;\n",
       "                    }\n",
       "                }\n",
       "            }, 500);\n",
       "            "
      ],
      "text/plain": [
       "<IPython.core.display.Javascript object>"
      ]
     },
     "metadata": {},
     "output_type": "display_data"
    }
   ],
   "source": [
    "raw_datadict = {\n",
    "    \"mnist\": mnist_dict_raw,\n",
    "    \"fashion_mnist\": fashion_dict_raw,\n",
    "    \"kmnist\": kmnist_dict_raw,\n",
    "}"
   ]
  },
  {
   "cell_type": "code",
   "execution_count": 7,
   "metadata": {},
   "outputs": [
    {
     "data": {
      "text/plain": [
       "{'train': <PrefetchDataset shapes: ((28, 28, 1), ()), types: (tf.uint8, tf.int64)>,\n",
       " 'val': <PrefetchDataset shapes: ((28, 28, 1), ()), types: (tf.uint8, tf.int64)>,\n",
       " 'test': <PrefetchDataset shapes: ((28, 28, 1), ()), types: (tf.uint8, tf.int64)>}"
      ]
     },
     "execution_count": 7,
     "metadata": {},
     "output_type": "execute_result"
    },
    {
     "data": {
      "application/javascript": [
       "\n",
       "            setTimeout(function() {\n",
       "                var nbb_cell_id = 7;\n",
       "                var nbb_unformatted_code = \"mnist_dict_raw\";\n",
       "                var nbb_formatted_code = \"mnist_dict_raw\";\n",
       "                var nbb_cells = Jupyter.notebook.get_cells();\n",
       "                for (var i = 0; i < nbb_cells.length; ++i) {\n",
       "                    if (nbb_cells[i].input_prompt_number == nbb_cell_id) {\n",
       "                        if (nbb_cells[i].get_text() == nbb_unformatted_code) {\n",
       "                             nbb_cells[i].set_text(nbb_formatted_code);\n",
       "                        }\n",
       "                        break;\n",
       "                    }\n",
       "                }\n",
       "            }, 500);\n",
       "            "
      ],
      "text/plain": [
       "<IPython.core.display.Javascript object>"
      ]
     },
     "metadata": {},
     "output_type": "display_data"
    }
   ],
   "source": [
    "mnist_dict_raw"
   ]
  },
  {
   "cell_type": "markdown",
   "metadata": {},
   "source": [
    "## alter dataset"
   ]
  },
  {
   "cell_type": "code",
   "execution_count": 8,
   "metadata": {},
   "outputs": [
    {
     "data": {
      "application/javascript": [
       "\n",
       "            setTimeout(function() {\n",
       "                var nbb_cell_id = 8;\n",
       "                var nbb_unformatted_code = \"def normalize_img(image, label):\\n    \\\"\\\"\\\"Normalizes images: `uint8` -> `float32`.\\\"\\\"\\\"\\n    return tf.cast(image, tf.float32) / 255.0, label\";\n",
       "                var nbb_formatted_code = \"def normalize_img(image, label):\\n    \\\"\\\"\\\"Normalizes images: `uint8` -> `float32`.\\\"\\\"\\\"\\n    return tf.cast(image, tf.float32) / 255.0, label\";\n",
       "                var nbb_cells = Jupyter.notebook.get_cells();\n",
       "                for (var i = 0; i < nbb_cells.length; ++i) {\n",
       "                    if (nbb_cells[i].input_prompt_number == nbb_cell_id) {\n",
       "                        if (nbb_cells[i].get_text() == nbb_unformatted_code) {\n",
       "                             nbb_cells[i].set_text(nbb_formatted_code);\n",
       "                        }\n",
       "                        break;\n",
       "                    }\n",
       "                }\n",
       "            }, 500);\n",
       "            "
      ],
      "text/plain": [
       "<IPython.core.display.Javascript object>"
      ]
     },
     "metadata": {},
     "output_type": "display_data"
    }
   ],
   "source": [
    "def normalize_img(image, label):\n",
    "    \"\"\"Normalizes images: `uint8` -> `float32`.\"\"\"\n",
    "    return tf.cast(image, tf.float32) / 255.0, label"
   ]
  },
  {
   "cell_type": "code",
   "execution_count": 9,
   "metadata": {},
   "outputs": [
    {
     "data": {
      "application/javascript": [
       "\n",
       "            setTimeout(function() {\n",
       "                var nbb_cell_id = 9;\n",
       "                var nbb_unformatted_code = \"ds_dict = {}\\nfor ds_name, raw_dict in raw_datadict.items():\\n    ds_dict[ds_name] = {}\\n    for split_name, split_ds in raw_dict.items():\\n        split_ds = split_ds.map(\\n            normalize_img, num_parallel_calls=tf.data.experimental.AUTOTUNE\\n        )\\n\\n        ds_dict[ds_name][split_name] = split_ds\";\n",
       "                var nbb_formatted_code = \"ds_dict = {}\\nfor ds_name, raw_dict in raw_datadict.items():\\n    ds_dict[ds_name] = {}\\n    for split_name, split_ds in raw_dict.items():\\n        split_ds = split_ds.map(\\n            normalize_img, num_parallel_calls=tf.data.experimental.AUTOTUNE\\n        )\\n\\n        ds_dict[ds_name][split_name] = split_ds\";\n",
       "                var nbb_cells = Jupyter.notebook.get_cells();\n",
       "                for (var i = 0; i < nbb_cells.length; ++i) {\n",
       "                    if (nbb_cells[i].input_prompt_number == nbb_cell_id) {\n",
       "                        if (nbb_cells[i].get_text() == nbb_unformatted_code) {\n",
       "                             nbb_cells[i].set_text(nbb_formatted_code);\n",
       "                        }\n",
       "                        break;\n",
       "                    }\n",
       "                }\n",
       "            }, 500);\n",
       "            "
      ],
      "text/plain": [
       "<IPython.core.display.Javascript object>"
      ]
     },
     "metadata": {},
     "output_type": "display_data"
    }
   ],
   "source": [
    "ds_dict = {}\n",
    "for ds_name, raw_dict in raw_datadict.items():\n",
    "    ds_dict[ds_name] = {}\n",
    "    for split_name, split_ds in raw_dict.items():\n",
    "        split_ds = split_ds.map(\n",
    "            normalize_img, num_parallel_calls=tf.data.experimental.AUTOTUNE\n",
    "        )\n",
    "\n",
    "        ds_dict[ds_name][split_name] = split_ds"
   ]
  },
  {
   "cell_type": "code",
   "execution_count": 10,
   "metadata": {},
   "outputs": [
    {
     "data": {
      "text/plain": [
       "{'mnist': {'train': <ParallelMapDataset shapes: ((28, 28, 1), ()), types: (tf.float32, tf.int64)>,\n",
       "  'val': <ParallelMapDataset shapes: ((28, 28, 1), ()), types: (tf.float32, tf.int64)>,\n",
       "  'test': <ParallelMapDataset shapes: ((28, 28, 1), ()), types: (tf.float32, tf.int64)>},\n",
       " 'fashion_mnist': {'train': <ParallelMapDataset shapes: ((28, 28, 1), ()), types: (tf.float32, tf.int64)>,\n",
       "  'val': <ParallelMapDataset shapes: ((28, 28, 1), ()), types: (tf.float32, tf.int64)>,\n",
       "  'test': <ParallelMapDataset shapes: ((28, 28, 1), ()), types: (tf.float32, tf.int64)>},\n",
       " 'kmnist': {'train': <ParallelMapDataset shapes: ((28, 28, 1), ()), types: (tf.float32, tf.int64)>,\n",
       "  'val': <ParallelMapDataset shapes: ((28, 28, 1), ()), types: (tf.float32, tf.int64)>,\n",
       "  'test': <ParallelMapDataset shapes: ((28, 28, 1), ()), types: (tf.float32, tf.int64)>}}"
      ]
     },
     "execution_count": 10,
     "metadata": {},
     "output_type": "execute_result"
    },
    {
     "data": {
      "application/javascript": [
       "\n",
       "            setTimeout(function() {\n",
       "                var nbb_cell_id = 10;\n",
       "                var nbb_unformatted_code = \"ds_dict\";\n",
       "                var nbb_formatted_code = \"ds_dict\";\n",
       "                var nbb_cells = Jupyter.notebook.get_cells();\n",
       "                for (var i = 0; i < nbb_cells.length; ++i) {\n",
       "                    if (nbb_cells[i].input_prompt_number == nbb_cell_id) {\n",
       "                        if (nbb_cells[i].get_text() == nbb_unformatted_code) {\n",
       "                             nbb_cells[i].set_text(nbb_formatted_code);\n",
       "                        }\n",
       "                        break;\n",
       "                    }\n",
       "                }\n",
       "            }, 500);\n",
       "            "
      ],
      "text/plain": [
       "<IPython.core.display.Javascript object>"
      ]
     },
     "metadata": {},
     "output_type": "display_data"
    }
   ],
   "source": [
    "ds_dict"
   ]
  },
  {
   "cell_type": "markdown",
   "metadata": {},
   "source": [
    "## Specify the Model"
   ]
  },
  {
   "cell_type": "code",
   "execution_count": 11,
   "metadata": {},
   "outputs": [
    {
     "data": {
      "application/javascript": [
       "\n",
       "            setTimeout(function() {\n",
       "                var nbb_cell_id = 11;\n",
       "                var nbb_unformatted_code = \"# %load_ext autoreload\\n# %autoreload 2\\n# import yeahml as yml\";\n",
       "                var nbb_formatted_code = \"# %load_ext autoreload\\n# %autoreload 2\\n# import yeahml as yml\";\n",
       "                var nbb_cells = Jupyter.notebook.get_cells();\n",
       "                for (var i = 0; i < nbb_cells.length; ++i) {\n",
       "                    if (nbb_cells[i].input_prompt_number == nbb_cell_id) {\n",
       "                        if (nbb_cells[i].get_text() == nbb_unformatted_code) {\n",
       "                             nbb_cells[i].set_text(nbb_formatted_code);\n",
       "                        }\n",
       "                        break;\n",
       "                    }\n",
       "                }\n",
       "            }, 500);\n",
       "            "
      ],
      "text/plain": [
       "<IPython.core.display.Javascript object>"
      ]
     },
     "metadata": {},
     "output_type": "display_data"
    }
   ],
   "source": [
    "# %load_ext autoreload\n",
    "# %autoreload 2\n",
    "# import yeahml as yml"
   ]
  },
  {
   "cell_type": "code",
   "execution_count": 12,
   "metadata": {
    "scrolled": true
   },
   "outputs": [
    {
     "data": {
      "application/javascript": [
       "\n",
       "            setTimeout(function() {\n",
       "                var nbb_cell_id = 12;\n",
       "                var nbb_unformatted_code = \"example = \\\"./handwritten_config.yml\\\"\\nyml_dict = yml.create_configs(example)\";\n",
       "                var nbb_formatted_code = \"example = \\\"./handwritten_config.yml\\\"\\nyml_dict = yml.create_configs(example)\";\n",
       "                var nbb_cells = Jupyter.notebook.get_cells();\n",
       "                for (var i = 0; i < nbb_cells.length; ++i) {\n",
       "                    if (nbb_cells[i].input_prompt_number == nbb_cell_id) {\n",
       "                        if (nbb_cells[i].get_text() == nbb_unformatted_code) {\n",
       "                             nbb_cells[i].set_text(nbb_formatted_code);\n",
       "                        }\n",
       "                        break;\n",
       "                    }\n",
       "                }\n",
       "            }, 500);\n",
       "            "
      ],
      "text/plain": [
       "<IPython.core.display.Javascript object>"
      ]
     },
     "metadata": {},
     "output_type": "display_data"
    }
   ],
   "source": [
    "example = \"./handwritten_config.yml\"\n",
    "yml_dict = yml.create_configs(example)"
   ]
  },
  {
   "cell_type": "code",
   "execution_count": 13,
   "metadata": {},
   "outputs": [
    {
     "data": {
      "application/javascript": [
       "\n",
       "            setTimeout(function() {\n",
       "                var nbb_cell_id = 13;\n",
       "                var nbb_unformatted_code = \"# yml_dict\";\n",
       "                var nbb_formatted_code = \"# yml_dict\";\n",
       "                var nbb_cells = Jupyter.notebook.get_cells();\n",
       "                for (var i = 0; i < nbb_cells.length; ++i) {\n",
       "                    if (nbb_cells[i].input_prompt_number == nbb_cell_id) {\n",
       "                        if (nbb_cells[i].get_text() == nbb_unformatted_code) {\n",
       "                             nbb_cells[i].set_text(nbb_formatted_code);\n",
       "                        }\n",
       "                        break;\n",
       "                    }\n",
       "                }\n",
       "            }, 500);\n",
       "            "
      ],
      "text/plain": [
       "<IPython.core.display.Javascript object>"
      ]
     },
     "metadata": {},
     "output_type": "display_data"
    }
   ],
   "source": [
    "# yml_dict"
   ]
  },
  {
   "cell_type": "markdown",
   "metadata": {},
   "source": [
    "## Build the model"
   ]
  },
  {
   "cell_type": "code",
   "execution_count": 14,
   "metadata": {
    "scrolled": true
   },
   "outputs": [
    {
     "name": "stderr",
     "output_type": "stream",
     "text": [
      "build_logger: INFO     -> START building graph\n",
      "build_logger: INFO     information json file created\n"
     ]
    },
    {
     "data": {
      "application/javascript": [
       "\n",
       "            setTimeout(function() {\n",
       "                var nbb_cell_id = 14;\n",
       "                var nbb_unformatted_code = \"# If you receive an error:\\n# AttributeError: 'google.protobuf.pyext._message.RepeatedCompositeCo' object has no attribute 'append'\\n# I personally used `pip install -U protobuf=3.8.0` to resolve\\n# per https://github.com/tensorflow/tensorflow/issues/33348\\nmodel = yml.build_model(yml_dict)\";\n",
       "                var nbb_formatted_code = \"# If you receive an error:\\n# AttributeError: 'google.protobuf.pyext._message.RepeatedCompositeCo' object has no attribute 'append'\\n# I personally used `pip install -U protobuf=3.8.0` to resolve\\n# per https://github.com/tensorflow/tensorflow/issues/33348\\nmodel = yml.build_model(yml_dict)\";\n",
       "                var nbb_cells = Jupyter.notebook.get_cells();\n",
       "                for (var i = 0; i < nbb_cells.length; ++i) {\n",
       "                    if (nbb_cells[i].input_prompt_number == nbb_cell_id) {\n",
       "                        if (nbb_cells[i].get_text() == nbb_unformatted_code) {\n",
       "                             nbb_cells[i].set_text(nbb_formatted_code);\n",
       "                        }\n",
       "                        break;\n",
       "                    }\n",
       "                }\n",
       "            }, 500);\n",
       "            "
      ],
      "text/plain": [
       "<IPython.core.display.Javascript object>"
      ]
     },
     "metadata": {},
     "output_type": "display_data"
    }
   ],
   "source": [
    "# If you receive an error:\n",
    "# AttributeError: 'google.protobuf.pyext._message.RepeatedCompositeCo' object has no attribute 'append'\n",
    "# I personally used `pip install -U protobuf=3.8.0` to resolve\n",
    "# per https://github.com/tensorflow/tensorflow/issues/33348\n",
    "model = yml.build_model(yml_dict)"
   ]
  },
  {
   "cell_type": "code",
   "execution_count": 15,
   "metadata": {},
   "outputs": [
    {
     "name": "stdout",
     "output_type": "stream",
     "text": [
      "Model: \"model\"\n",
      "__________________________________________________________________________________________________\n",
      "Layer (type)                    Output Shape         Param #     Connected to                     \n",
      "==================================================================================================\n",
      "image_in (InputLayer)           [(None, 28, 28, 1)]  0                                            \n",
      "__________________________________________________________________________________________________\n",
      "conv_1 (Conv2D)                 (None, 28, 28, 8)    80          image_in[0][0]                   \n",
      "__________________________________________________________________________________________________\n",
      "conv_2_downsample (Conv2D)      (None, 14, 14, 8)    584         conv_1[0][0]                     \n",
      "__________________________________________________________________________________________________\n",
      "conv_3 (Conv2D)                 (None, 14, 14, 8)    584         conv_2_downsample[0][0]          \n",
      "__________________________________________________________________________________________________\n",
      "conv_4_downsample (Conv2D)      (None, 7, 7, 8)      584         conv_3[0][0]                     \n",
      "__________________________________________________________________________________________________\n",
      "flatten_1 (Flatten)             (None, 392)          0           conv_4_downsample[0][0]          \n",
      "__________________________________________________________________________________________________\n",
      "dense_1 (Dense)                 (None, 128)          50304       flatten_1[0][0]                  \n",
      "__________________________________________________________________________________________________\n",
      "dense_mnist (Dense)             (None, 32)           4128        dense_1[0][0]                    \n",
      "__________________________________________________________________________________________________\n",
      "dense_fashion_mnist (Dense)     (None, 32)           4128        dense_1[0][0]                    \n",
      "__________________________________________________________________________________________________\n",
      "mnist_pred (Dense)              (None, 10)           330         dense_mnist[0][0]                \n",
      "__________________________________________________________________________________________________\n",
      "fashion_mnist_pred (Dense)      (None, 10)           330         dense_fashion_mnist[0][0]        \n",
      "==================================================================================================\n",
      "Total params: 61,052\n",
      "Trainable params: 61,052\n",
      "Non-trainable params: 0\n",
      "__________________________________________________________________________________________________\n"
     ]
    },
    {
     "data": {
      "application/javascript": [
       "\n",
       "            setTimeout(function() {\n",
       "                var nbb_cell_id = 15;\n",
       "                var nbb_unformatted_code = \"model.summary()\";\n",
       "                var nbb_formatted_code = \"model.summary()\";\n",
       "                var nbb_cells = Jupyter.notebook.get_cells();\n",
       "                for (var i = 0; i < nbb_cells.length; ++i) {\n",
       "                    if (nbb_cells[i].input_prompt_number == nbb_cell_id) {\n",
       "                        if (nbb_cells[i].get_text() == nbb_unformatted_code) {\n",
       "                             nbb_cells[i].set_text(nbb_formatted_code);\n",
       "                        }\n",
       "                        break;\n",
       "                    }\n",
       "                }\n",
       "            }, 500);\n",
       "            "
      ],
      "text/plain": [
       "<IPython.core.display.Javascript object>"
      ]
     },
     "metadata": {},
     "output_type": "display_data"
    }
   ],
   "source": [
    "model.summary()"
   ]
  },
  {
   "cell_type": "markdown",
   "metadata": {},
   "source": [
    "## Train the Model\n",
    "\n",
    "Notice here that we're using the created training and validation sets from `ds_dict`"
   ]
  },
  {
   "cell_type": "code",
   "execution_count": 16,
   "metadata": {},
   "outputs": [
    {
     "data": {
      "text/plain": [
       "{'mnist': {'train': <ParallelMapDataset shapes: ((28, 28, 1), ()), types: (tf.float32, tf.int64)>,\n",
       "  'val': <ParallelMapDataset shapes: ((28, 28, 1), ()), types: (tf.float32, tf.int64)>,\n",
       "  'test': <ParallelMapDataset shapes: ((28, 28, 1), ()), types: (tf.float32, tf.int64)>},\n",
       " 'fashion_mnist': {'train': <ParallelMapDataset shapes: ((28, 28, 1), ()), types: (tf.float32, tf.int64)>,\n",
       "  'val': <ParallelMapDataset shapes: ((28, 28, 1), ()), types: (tf.float32, tf.int64)>,\n",
       "  'test': <ParallelMapDataset shapes: ((28, 28, 1), ()), types: (tf.float32, tf.int64)>},\n",
       " 'kmnist': {'train': <ParallelMapDataset shapes: ((28, 28, 1), ()), types: (tf.float32, tf.int64)>,\n",
       "  'val': <ParallelMapDataset shapes: ((28, 28, 1), ()), types: (tf.float32, tf.int64)>,\n",
       "  'test': <ParallelMapDataset shapes: ((28, 28, 1), ()), types: (tf.float32, tf.int64)>}}"
      ]
     },
     "execution_count": 16,
     "metadata": {},
     "output_type": "execute_result"
    },
    {
     "data": {
      "application/javascript": [
       "\n",
       "            setTimeout(function() {\n",
       "                var nbb_cell_id = 16;\n",
       "                var nbb_unformatted_code = \"ds_dict\";\n",
       "                var nbb_formatted_code = \"ds_dict\";\n",
       "                var nbb_cells = Jupyter.notebook.get_cells();\n",
       "                for (var i = 0; i < nbb_cells.length; ++i) {\n",
       "                    if (nbb_cells[i].input_prompt_number == nbb_cell_id) {\n",
       "                        if (nbb_cells[i].get_text() == nbb_unformatted_code) {\n",
       "                             nbb_cells[i].set_text(nbb_formatted_code);\n",
       "                        }\n",
       "                        break;\n",
       "                    }\n",
       "                }\n",
       "            }, 500);\n",
       "            "
      ],
      "text/plain": [
       "<IPython.core.display.Javascript object>"
      ]
     },
     "metadata": {},
     "output_type": "display_data"
    }
   ],
   "source": [
    "ds_dict"
   ]
  },
  {
   "cell_type": "code",
   "execution_count": 17,
   "metadata": {},
   "outputs": [
    {
     "data": {
      "text/plain": [
       "1"
      ]
     },
     "execution_count": 17,
     "metadata": {},
     "output_type": "execute_result"
    },
    {
     "data": {
      "application/javascript": [
       "\n",
       "            setTimeout(function() {\n",
       "                var nbb_cell_id = 17;\n",
       "                var nbb_unformatted_code = \"output_order = [n.name.split(\\\"/\\\")[0] for n in model.output]\\noutput_order.index(\\\"fashion_mnist_pred\\\")\\n# print(output_order)\";\n",
       "                var nbb_formatted_code = \"output_order = [n.name.split(\\\"/\\\")[0] for n in model.output]\\noutput_order.index(\\\"fashion_mnist_pred\\\")\\n# print(output_order)\";\n",
       "                var nbb_cells = Jupyter.notebook.get_cells();\n",
       "                for (var i = 0; i < nbb_cells.length; ++i) {\n",
       "                    if (nbb_cells[i].input_prompt_number == nbb_cell_id) {\n",
       "                        if (nbb_cells[i].get_text() == nbb_unformatted_code) {\n",
       "                             nbb_cells[i].set_text(nbb_formatted_code);\n",
       "                        }\n",
       "                        break;\n",
       "                    }\n",
       "                }\n",
       "            }, 500);\n",
       "            "
      ],
      "text/plain": [
       "<IPython.core.display.Javascript object>"
      ]
     },
     "metadata": {},
     "output_type": "display_data"
    }
   ],
   "source": [
    "output_order = [n.name.split(\"/\")[0] for n in model.output]\n",
    "output_order.index(\"fashion_mnist_pred\")\n",
    "# print(output_order)"
   ]
  },
  {
   "cell_type": "code",
   "execution_count": 18,
   "metadata": {
    "scrolled": false
   },
   "outputs": [
    {
     "name": "stderr",
     "output_type": "stream",
     "text": [
      "train_logger: INFO     START - training\n",
      "train_logger: INFO     optimizer: mnist_opt\n",
      "train_logger: INFO     objective: mnist_objective\n",
      "WARNING: Logging before flag parsing goes to stderr.\n",
      "W0428 20:38:36.925674 139735199622976 optimizer_v2.py:1043] Gradients do not exist for variables ['dense_fashion_mnist/kernel:0', 'dense_fashion_mnist/bias:0', 'fashion_mnist_pred/kernel:0', 'fashion_mnist_pred/bias:0'] when minimizing the loss.\n",
      "W0428 20:38:36.988179 139735199622976 optimizer_v2.py:1043] Gradients do not exist for variables ['dense_fashion_mnist/kernel:0', 'dense_fashion_mnist/bias:0', 'fashion_mnist_pred/kernel:0', 'fashion_mnist_pred/bias:0'] when minimizing the loss.\n",
      "train_logger: INFO     epoch mnist_objective - mnist train: 1\n",
      "train_logger: INFO     done validation - 45000\n",
      "train_logger: INFO     optimizer: fashion_mnist_opt\n",
      "train_logger: INFO     objective: fashion_mnist_objective\n",
      "W0428 20:39:01.509256 139735199622976 optimizer_v2.py:1043] Gradients do not exist for variables ['dense_mnist/kernel:0', 'dense_mnist/bias:0', 'mnist_pred/kernel:0', 'mnist_pred/bias:0'] when minimizing the loss.\n",
      "W0428 20:39:01.576527 139735199622976 optimizer_v2.py:1043] Gradients do not exist for variables ['dense_mnist/kernel:0', 'dense_mnist/bias:0', 'mnist_pred/kernel:0', 'mnist_pred/bias:0'] when minimizing the loss.\n",
      "train_logger: INFO     epoch fashion_mnist_objective - fashion_mnist train: 1\n",
      "train_logger: INFO     done validation - 45000\n",
      "train_logger: INFO     optimizer: mnist_opt\n",
      "train_logger: INFO     objective: mnist_objective\n",
      "train_logger: INFO     epoch mnist_objective - mnist train: 2\n",
      "train_logger: INFO     done validation - 90000\n",
      "train_logger: INFO     optimizer: fashion_mnist_opt\n",
      "train_logger: INFO     objective: fashion_mnist_objective\n",
      "train_logger: INFO     epoch fashion_mnist_objective - fashion_mnist train: 2\n",
      "train_logger: INFO     done validation - 90000\n",
      "train_logger: INFO     optimizer: fashion_mnist_opt\n",
      "train_logger: INFO     objective: fashion_mnist_objective\n",
      "train_logger: INFO     epoch fashion_mnist_objective - fashion_mnist train: 3\n",
      "train_logger: INFO     done validation - 135000\n",
      "train_logger: INFO     optimizer: fashion_mnist_opt\n",
      "train_logger: INFO     objective: fashion_mnist_objective\n",
      "train_logger: INFO     epoch fashion_mnist_objective - fashion_mnist train: 4\n",
      "train_logger: INFO     done validation - 180000\n",
      "train_logger: INFO     optimizer: fashion_mnist_opt\n",
      "train_logger: INFO     objective: fashion_mnist_objective\n",
      "train_logger: INFO     fashion_mnist_opt removed from list of opt. remaining: ['mnist_opt']\n",
      "train_logger: INFO     is_training: True\n",
      "train_logger: INFO     epoch fashion_mnist_objective - fashion_mnist train: 5\n",
      "train_logger: INFO     done validation - 225000\n",
      "train_logger: INFO     optimizer: mnist_opt\n",
      "train_logger: INFO     objective: mnist_objective\n",
      "train_logger: INFO     epoch mnist_objective - mnist train: 3\n",
      "train_logger: INFO     done validation - 135000\n",
      "train_logger: INFO     optimizer: mnist_opt\n",
      "train_logger: INFO     objective: mnist_objective\n",
      "train_logger: INFO     epoch mnist_objective - mnist train: 4\n",
      "train_logger: INFO     done validation - 180000\n",
      "train_logger: INFO     optimizer: mnist_opt\n",
      "train_logger: INFO     objective: mnist_objective\n",
      "train_logger: INFO     mnist_opt removed from list of opt. remaining: []\n",
      "train_logger: INFO     is_training: False\n",
      "train_logger: INFO     epoch mnist_objective - mnist train: 5\n",
      "train_logger: INFO     done validation - 225000\n"
     ]
    },
    {
     "name": "stdout",
     "output_type": "stream",
     "text": [
      "CPU times: user 8min 52s, sys: 44.5 s, total: 9min 36s\n",
      "Wall time: 4min\n"
     ]
    },
    {
     "data": {
      "application/javascript": [
       "\n",
       "            setTimeout(function() {\n",
       "                var nbb_cell_id = 18;\n",
       "                var nbb_unformatted_code = \"%%time\\ntrain_dict = yml.train_model(model, yml_dict, ds_dict)\";\n",
       "                var nbb_formatted_code = \"%%time\\ntrain_dict = yml.train_model(model, yml_dict, ds_dict)\";\n",
       "                var nbb_cells = Jupyter.notebook.get_cells();\n",
       "                for (var i = 0; i < nbb_cells.length; ++i) {\n",
       "                    if (nbb_cells[i].input_prompt_number == nbb_cell_id) {\n",
       "                        if (nbb_cells[i].get_text() == nbb_unformatted_code) {\n",
       "                             nbb_cells[i].set_text(nbb_formatted_code);\n",
       "                        }\n",
       "                        break;\n",
       "                    }\n",
       "                }\n",
       "            }, 500);\n",
       "            "
      ],
      "text/plain": [
       "<IPython.core.display.Javascript object>"
      ]
     },
     "metadata": {},
     "output_type": "display_data"
    }
   ],
   "source": [
    "%%time\n",
    "train_dict = yml.train_model(model, yml_dict, ds_dict)"
   ]
  },
  {
   "cell_type": "code",
   "execution_count": 19,
   "metadata": {},
   "outputs": [
    {
     "data": {
      "application/javascript": [
       "\n",
       "            setTimeout(function() {\n",
       "                var nbb_cell_id = 19;\n",
       "                var nbb_unformatted_code = \"def plot_trackers(tracker, skip=0):\\n    plt.plot(\\n        tracker.steps[skip:], tracker.values[skip:], \\\"o--\\\", linewidth=2, markersize=5\\n    )\";\n",
       "                var nbb_formatted_code = \"def plot_trackers(tracker, skip=0):\\n    plt.plot(\\n        tracker.steps[skip:], tracker.values[skip:], \\\"o--\\\", linewidth=2, markersize=5\\n    )\";\n",
       "                var nbb_cells = Jupyter.notebook.get_cells();\n",
       "                for (var i = 0; i < nbb_cells.length; ++i) {\n",
       "                    if (nbb_cells[i].input_prompt_number == nbb_cell_id) {\n",
       "                        if (nbb_cells[i].get_text() == nbb_unformatted_code) {\n",
       "                             nbb_cells[i].set_text(nbb_formatted_code);\n",
       "                        }\n",
       "                        break;\n",
       "                    }\n",
       "                }\n",
       "            }, 500);\n",
       "            "
      ],
      "text/plain": [
       "<IPython.core.display.Javascript object>"
      ]
     },
     "metadata": {},
     "output_type": "display_data"
    }
   ],
   "source": [
    "def plot_trackers(tracker, skip=0):\n",
    "    plt.plot(\n",
    "        tracker.steps[skip:], tracker.values[skip:], \"o--\", linewidth=2, markersize=5\n",
    "    )"
   ]
  },
  {
   "cell_type": "code",
   "execution_count": 20,
   "metadata": {},
   "outputs": [
    {
     "data": {
      "image/png": "[encoded data removed]",
      "text/plain": [
       "<Figure size 432x288 with 1 Axes>"
      ]
     },
     "metadata": {
      "needs_background": "light"
     },
     "output_type": "display_data"
    },
    {
     "data": {
      "application/javascript": [
       "\n",
       "            setTimeout(function() {\n",
       "                var nbb_cell_id = 20;\n",
       "                var nbb_unformatted_code = \"plot_trackers(\\n    train_dict[\\\"tracker\\\"][\\\"fashion_mnist_opt\\\"][\\\"fashion_mnist_objective\\\"][\\\"loss\\\"][\\n        \\\"fashion_mnist\\\"\\n    ][\\\"train\\\"][\\\"sparse_categorical_crossentropy\\\"][\\\"mean\\\"],\\n    5,\\n)\\nplot_trackers(\\n    train_dict[\\\"tracker\\\"][\\\"fashion_mnist_opt\\\"][\\\"fashion_mnist_objective\\\"][\\\"loss\\\"][\\n        \\\"fashion_mnist\\\"\\n    ][\\\"val\\\"][\\\"sparse_categorical_crossentropy\\\"][\\\"mean\\\"],\\n    0,\\n)\";\n",
       "                var nbb_formatted_code = \"plot_trackers(\\n    train_dict[\\\"tracker\\\"][\\\"fashion_mnist_opt\\\"][\\\"fashion_mnist_objective\\\"][\\\"loss\\\"][\\n        \\\"fashion_mnist\\\"\\n    ][\\\"train\\\"][\\\"sparse_categorical_crossentropy\\\"][\\\"mean\\\"],\\n    5,\\n)\\nplot_trackers(\\n    train_dict[\\\"tracker\\\"][\\\"fashion_mnist_opt\\\"][\\\"fashion_mnist_objective\\\"][\\\"loss\\\"][\\n        \\\"fashion_mnist\\\"\\n    ][\\\"val\\\"][\\\"sparse_categorical_crossentropy\\\"][\\\"mean\\\"],\\n    0,\\n)\";\n",
       "                var nbb_cells = Jupyter.notebook.get_cells();\n",
       "                for (var i = 0; i < nbb_cells.length; ++i) {\n",
       "                    if (nbb_cells[i].input_prompt_number == nbb_cell_id) {\n",
       "                        if (nbb_cells[i].get_text() == nbb_unformatted_code) {\n",
       "                             nbb_cells[i].set_text(nbb_formatted_code);\n",
       "                        }\n",
       "                        break;\n",
       "                    }\n",
       "                }\n",
       "            }, 500);\n",
       "            "
      ],
      "text/plain": [
       "<IPython.core.display.Javascript object>"
      ]
     },
     "metadata": {},
     "output_type": "display_data"
    }
   ],
   "source": [
    "plot_trackers(\n",
    "    train_dict[\"tracker\"][\"fashion_mnist_opt\"][\"fashion_mnist_objective\"][\"loss\"][\n",
    "        \"fashion_mnist\"\n",
    "    ][\"train\"][\"sparse_categorical_crossentropy\"][\"mean\"],\n",
    "    5,\n",
    ")\n",
    "plot_trackers(\n",
    "    train_dict[\"tracker\"][\"fashion_mnist_opt\"][\"fashion_mnist_objective\"][\"loss\"][\n",
    "        \"fashion_mnist\"\n",
    "    ][\"val\"][\"sparse_categorical_crossentropy\"][\"mean\"],\n",
    "    0,\n",
    ")"
   ]
  },
  {
   "cell_type": "code",
   "execution_count": 21,
   "metadata": {},
   "outputs": [
    {
     "data": {
      "image/png": "[encoded data removed]",
      "text/plain": [
       "<Figure size 432x288 with 1 Axes>"
      ]
     },
     "metadata": {
      "needs_background": "light"
     },
     "output_type": "display_data"
    },
    {
     "data": {
      "application/javascript": [
       "\n",
       "            setTimeout(function() {\n",
       "                var nbb_cell_id = 21;\n",
       "                var nbb_unformatted_code = \"plot_trackers(\\n    train_dict[\\\"tracker\\\"][\\\"mnist_opt\\\"][\\\"mnist_objective\\\"][\\\"loss\\\"][\\\"mnist\\\"][\\\"train\\\"][\\n        \\\"sparse_categorical_crossentropy\\\"\\n    ][\\\"mean\\\"],\\n    5,\\n)\\nplot_trackers(\\n    train_dict[\\\"tracker\\\"][\\\"mnist_opt\\\"][\\\"mnist_objective\\\"][\\\"loss\\\"][\\\"mnist\\\"][\\\"val\\\"][\\n        \\\"sparse_categorical_crossentropy\\\"\\n    ][\\\"mean\\\"],\\n    0,\\n)\";\n",
       "                var nbb_formatted_code = \"plot_trackers(\\n    train_dict[\\\"tracker\\\"][\\\"mnist_opt\\\"][\\\"mnist_objective\\\"][\\\"loss\\\"][\\\"mnist\\\"][\\\"train\\\"][\\n        \\\"sparse_categorical_crossentropy\\\"\\n    ][\\\"mean\\\"],\\n    5,\\n)\\nplot_trackers(\\n    train_dict[\\\"tracker\\\"][\\\"mnist_opt\\\"][\\\"mnist_objective\\\"][\\\"loss\\\"][\\\"mnist\\\"][\\\"val\\\"][\\n        \\\"sparse_categorical_crossentropy\\\"\\n    ][\\\"mean\\\"],\\n    0,\\n)\";\n",
       "                var nbb_cells = Jupyter.notebook.get_cells();\n",
       "                for (var i = 0; i < nbb_cells.length; ++i) {\n",
       "                    if (nbb_cells[i].input_prompt_number == nbb_cell_id) {\n",
       "                        if (nbb_cells[i].get_text() == nbb_unformatted_code) {\n",
       "                             nbb_cells[i].set_text(nbb_formatted_code);\n",
       "                        }\n",
       "                        break;\n",
       "                    }\n",
       "                }\n",
       "            }, 500);\n",
       "            "
      ],
      "text/plain": [
       "<IPython.core.display.Javascript object>"
      ]
     },
     "metadata": {},
     "output_type": "display_data"
    }
   ],
   "source": [
    "plot_trackers(\n",
    "    train_dict[\"tracker\"][\"mnist_opt\"][\"mnist_objective\"][\"loss\"][\"mnist\"][\"train\"][\n",
    "        \"sparse_categorical_crossentropy\"\n",
    "    ][\"mean\"],\n",
    "    5,\n",
    ")\n",
    "plot_trackers(\n",
    "    train_dict[\"tracker\"][\"mnist_opt\"][\"mnist_objective\"][\"loss\"][\"mnist\"][\"val\"][\n",
    "        \"sparse_categorical_crossentropy\"\n",
    "    ][\"mean\"],\n",
    "    0,\n",
    ")"
   ]
  },
  {
   "cell_type": "code",
   "execution_count": 22,
   "metadata": {},
   "outputs": [
    {
     "data": {
      "image/png": "[encoded data removed]",
      "text/plain": [
       "<Figure size 432x288 with 1 Axes>"
      ]
     },
     "metadata": {
      "needs_background": "light"
     },
     "output_type": "display_data"
    },
    {
     "data": {
      "application/javascript": [
       "\n",
       "            setTimeout(function() {\n",
       "                var nbb_cell_id = 22;\n",
       "                var nbb_unformatted_code = \"plot_trackers(\\n    train_dict[\\\"tracker\\\"][\\\"mnist_opt\\\"][\\\"mnist_objective\\\"][\\\"metrics\\\"][\\\"mnist\\\"][\\\"train\\\"][\\n        \\\"sparsecategoricalaccuracy\\\"\\n    ],\\n    5,\\n)\\nplot_trackers(\\n    train_dict[\\\"tracker\\\"][\\\"mnist_opt\\\"][\\\"mnist_objective\\\"][\\\"metrics\\\"][\\\"mnist\\\"][\\\"val\\\"][\\n        \\\"sparsecategoricalaccuracy\\\"\\n    ]\\n)\";\n",
       "                var nbb_formatted_code = \"plot_trackers(\\n    train_dict[\\\"tracker\\\"][\\\"mnist_opt\\\"][\\\"mnist_objective\\\"][\\\"metrics\\\"][\\\"mnist\\\"][\\\"train\\\"][\\n        \\\"sparsecategoricalaccuracy\\\"\\n    ],\\n    5,\\n)\\nplot_trackers(\\n    train_dict[\\\"tracker\\\"][\\\"mnist_opt\\\"][\\\"mnist_objective\\\"][\\\"metrics\\\"][\\\"mnist\\\"][\\\"val\\\"][\\n        \\\"sparsecategoricalaccuracy\\\"\\n    ]\\n)\";\n",
       "                var nbb_cells = Jupyter.notebook.get_cells();\n",
       "                for (var i = 0; i < nbb_cells.length; ++i) {\n",
       "                    if (nbb_cells[i].input_prompt_number == nbb_cell_id) {\n",
       "                        if (nbb_cells[i].get_text() == nbb_unformatted_code) {\n",
       "                             nbb_cells[i].set_text(nbb_formatted_code);\n",
       "                        }\n",
       "                        break;\n",
       "                    }\n",
       "                }\n",
       "            }, 500);\n",
       "            "
      ],
      "text/plain": [
       "<IPython.core.display.Javascript object>"
      ]
     },
     "metadata": {},
     "output_type": "display_data"
    }
   ],
   "source": [
    "plot_trackers(\n",
    "    train_dict[\"tracker\"][\"mnist_opt\"][\"mnist_objective\"][\"metrics\"][\"mnist\"][\"train\"][\n",
    "        \"sparsecategoricalaccuracy\"\n",
    "    ],\n",
    "    5,\n",
    ")\n",
    "plot_trackers(\n",
    "    train_dict[\"tracker\"][\"mnist_opt\"][\"mnist_objective\"][\"metrics\"][\"mnist\"][\"val\"][\n",
    "        \"sparsecategoricalaccuracy\"\n",
    "    ]\n",
    ")"
   ]
  },
  {
   "cell_type": "code",
   "execution_count": 23,
   "metadata": {},
   "outputs": [
    {
     "data": {
      "image/png": "[encoded data removed]",
      "text/plain": [
       "<Figure size 432x288 with 1 Axes>"
      ]
     },
     "metadata": {
      "needs_background": "light"
     },
     "output_type": "display_data"
    },
    {
     "data": {
      "application/javascript": [
       "\n",
       "            setTimeout(function() {\n",
       "                var nbb_cell_id = 23;\n",
       "                var nbb_unformatted_code = \"plot_trackers(\\n    train_dict[\\\"tracker\\\"][\\\"fashion_mnist_opt\\\"][\\\"fashion_mnist_objective\\\"][\\\"metrics\\\"][\\n        \\\"fashion_mnist\\\"\\n    ][\\\"train\\\"][\\\"sparsecategoricalaccuracy\\\"]\\n)\\nplot_trackers(\\n    train_dict[\\\"tracker\\\"][\\\"fashion_mnist_opt\\\"][\\\"fashion_mnist_objective\\\"][\\\"metrics\\\"][\\n        \\\"fashion_mnist\\\"\\n    ][\\\"val\\\"][\\\"sparsecategoricalaccuracy\\\"]\\n)\";\n",
       "                var nbb_formatted_code = \"plot_trackers(\\n    train_dict[\\\"tracker\\\"][\\\"fashion_mnist_opt\\\"][\\\"fashion_mnist_objective\\\"][\\\"metrics\\\"][\\n        \\\"fashion_mnist\\\"\\n    ][\\\"train\\\"][\\\"sparsecategoricalaccuracy\\\"]\\n)\\nplot_trackers(\\n    train_dict[\\\"tracker\\\"][\\\"fashion_mnist_opt\\\"][\\\"fashion_mnist_objective\\\"][\\\"metrics\\\"][\\n        \\\"fashion_mnist\\\"\\n    ][\\\"val\\\"][\\\"sparsecategoricalaccuracy\\\"]\\n)\";\n",
       "                var nbb_cells = Jupyter.notebook.get_cells();\n",
       "                for (var i = 0; i < nbb_cells.length; ++i) {\n",
       "                    if (nbb_cells[i].input_prompt_number == nbb_cell_id) {\n",
       "                        if (nbb_cells[i].get_text() == nbb_unformatted_code) {\n",
       "                             nbb_cells[i].set_text(nbb_formatted_code);\n",
       "                        }\n",
       "                        break;\n",
       "                    }\n",
       "                }\n",
       "            }, 500);\n",
       "            "
      ],
      "text/plain": [
       "<IPython.core.display.Javascript object>"
      ]
     },
     "metadata": {},
     "output_type": "display_data"
    }
   ],
   "source": [
    "plot_trackers(\n",
    "    train_dict[\"tracker\"][\"fashion_mnist_opt\"][\"fashion_mnist_objective\"][\"metrics\"][\n",
    "        \"fashion_mnist\"\n",
    "    ][\"train\"][\"sparsecategoricalaccuracy\"]\n",
    ")\n",
    "plot_trackers(\n",
    "    train_dict[\"tracker\"][\"fashion_mnist_opt\"][\"fashion_mnist_objective\"][\"metrics\"][\n",
    "        \"fashion_mnist\"\n",
    "    ][\"val\"][\"sparsecategoricalaccuracy\"]\n",
    ")"
   ]
  },
  {
   "cell_type": "markdown",
   "metadata": {},
   "source": [
    "## mnist metric vs fashion_mnist metric, training"
   ]
  },
  {
   "cell_type": "code",
   "execution_count": 24,
   "metadata": {},
   "outputs": [
    {
     "data": {
      "image/png": "[encoded data removed]",
      "text/plain": [
       "<Figure size 432x288 with 1 Axes>"
      ]
     },
     "metadata": {
      "needs_background": "light"
     },
     "output_type": "display_data"
    },
    {
     "data": {
      "application/javascript": [
       "\n",
       "            setTimeout(function() {\n",
       "                var nbb_cell_id = 24;\n",
       "                var nbb_unformatted_code = \"plot_trackers(\\n    train_dict[\\\"tracker\\\"][\\\"mnist_opt\\\"][\\\"mnist_objective\\\"][\\\"metrics\\\"][\\\"mnist\\\"][\\\"train\\\"][\\n        \\\"sparsecategoricalaccuracy\\\"\\n    ]\\n)\\nplot_trackers(\\n    train_dict[\\\"tracker\\\"][\\\"fashion_mnist_opt\\\"][\\\"fashion_mnist_objective\\\"][\\\"metrics\\\"][\\n        \\\"fashion_mnist\\\"\\n    ][\\\"train\\\"][\\\"sparsecategoricalaccuracy\\\"]\\n)\";\n",
       "                var nbb_formatted_code = \"plot_trackers(\\n    train_dict[\\\"tracker\\\"][\\\"mnist_opt\\\"][\\\"mnist_objective\\\"][\\\"metrics\\\"][\\\"mnist\\\"][\\\"train\\\"][\\n        \\\"sparsecategoricalaccuracy\\\"\\n    ]\\n)\\nplot_trackers(\\n    train_dict[\\\"tracker\\\"][\\\"fashion_mnist_opt\\\"][\\\"fashion_mnist_objective\\\"][\\\"metrics\\\"][\\n        \\\"fashion_mnist\\\"\\n    ][\\\"train\\\"][\\\"sparsecategoricalaccuracy\\\"]\\n)\";\n",
       "                var nbb_cells = Jupyter.notebook.get_cells();\n",
       "                for (var i = 0; i < nbb_cells.length; ++i) {\n",
       "                    if (nbb_cells[i].input_prompt_number == nbb_cell_id) {\n",
       "                        if (nbb_cells[i].get_text() == nbb_unformatted_code) {\n",
       "                             nbb_cells[i].set_text(nbb_formatted_code);\n",
       "                        }\n",
       "                        break;\n",
       "                    }\n",
       "                }\n",
       "            }, 500);\n",
       "            "
      ],
      "text/plain": [
       "<IPython.core.display.Javascript object>"
      ]
     },
     "metadata": {},
     "output_type": "display_data"
    }
   ],
   "source": [
    "plot_trackers(\n",
    "    train_dict[\"tracker\"][\"mnist_opt\"][\"mnist_objective\"][\"metrics\"][\"mnist\"][\"train\"][\n",
    "        \"sparsecategoricalaccuracy\"\n",
    "    ]\n",
    ")\n",
    "plot_trackers(\n",
    "    train_dict[\"tracker\"][\"fashion_mnist_opt\"][\"fashion_mnist_objective\"][\"metrics\"][\n",
    "        \"fashion_mnist\"\n",
    "    ][\"train\"][\"sparsecategoricalaccuracy\"]\n",
    ")"
   ]
  },
  {
   "cell_type": "markdown",
   "metadata": {},
   "source": [
    "## mnist metric vs fashion_mnist metric, validation"
   ]
  },
  {
   "cell_type": "code",
   "execution_count": 25,
   "metadata": {},
   "outputs": [
    {
     "data": {
      "image/png": "[encoded data removed]",
      "text/plain": [
       "<Figure size 432x288 with 1 Axes>"
      ]
     },
     "metadata": {
      "needs_background": "light"
     },
     "output_type": "display_data"
    },
    {
     "data": {
      "application/javascript": [
       "\n",
       "            setTimeout(function() {\n",
       "                var nbb_cell_id = 25;\n",
       "                var nbb_unformatted_code = \"plot_trackers(\\n    train_dict[\\\"tracker\\\"][\\\"mnist_opt\\\"][\\\"mnist_objective\\\"][\\\"metrics\\\"][\\\"mnist\\\"][\\\"val\\\"][\\n        \\\"sparsecategoricalaccuracy\\\"\\n    ]\\n)\\nplot_trackers(\\n    train_dict[\\\"tracker\\\"][\\\"fashion_mnist_opt\\\"][\\\"fashion_mnist_objective\\\"][\\\"metrics\\\"][\\n        \\\"fashion_mnist\\\"\\n    ][\\\"val\\\"][\\\"sparsecategoricalaccuracy\\\"]\\n)\";\n",
       "                var nbb_formatted_code = \"plot_trackers(\\n    train_dict[\\\"tracker\\\"][\\\"mnist_opt\\\"][\\\"mnist_objective\\\"][\\\"metrics\\\"][\\\"mnist\\\"][\\\"val\\\"][\\n        \\\"sparsecategoricalaccuracy\\\"\\n    ]\\n)\\nplot_trackers(\\n    train_dict[\\\"tracker\\\"][\\\"fashion_mnist_opt\\\"][\\\"fashion_mnist_objective\\\"][\\\"metrics\\\"][\\n        \\\"fashion_mnist\\\"\\n    ][\\\"val\\\"][\\\"sparsecategoricalaccuracy\\\"]\\n)\";\n",
       "                var nbb_cells = Jupyter.notebook.get_cells();\n",
       "                for (var i = 0; i < nbb_cells.length; ++i) {\n",
       "                    if (nbb_cells[i].input_prompt_number == nbb_cell_id) {\n",
       "                        if (nbb_cells[i].get_text() == nbb_unformatted_code) {\n",
       "                             nbb_cells[i].set_text(nbb_formatted_code);\n",
       "                        }\n",
       "                        break;\n",
       "                    }\n",
       "                }\n",
       "            }, 500);\n",
       "            "
      ],
      "text/plain": [
       "<IPython.core.display.Javascript object>"
      ]
     },
     "metadata": {},
     "output_type": "display_data"
    }
   ],
   "source": [
    "plot_trackers(\n",
    "    train_dict[\"tracker\"][\"mnist_opt\"][\"mnist_objective\"][\"metrics\"][\"mnist\"][\"val\"][\n",
    "        \"sparsecategoricalaccuracy\"\n",
    "    ]\n",
    ")\n",
    "plot_trackers(\n",
    "    train_dict[\"tracker\"][\"fashion_mnist_opt\"][\"fashion_mnist_objective\"][\"metrics\"][\n",
    "        \"fashion_mnist\"\n",
    "    ][\"val\"][\"sparsecategoricalaccuracy\"]\n",
    ")"
   ]
  },
  {
   "cell_type": "markdown",
   "metadata": {},
   "source": [
    "## training loss"
   ]
  },
  {
   "cell_type": "code",
   "execution_count": 26,
   "metadata": {},
   "outputs": [
    {
     "data": {
      "image/png": "[encoded data removed]",
      "text/plain": [
       "<Figure size 432x288 with 1 Axes>"
      ]
     },
     "metadata": {
      "needs_background": "light"
     },
     "output_type": "display_data"
    },
    {
     "data": {
      "application/javascript": [
       "\n",
       "            setTimeout(function() {\n",
       "                var nbb_cell_id = 26;\n",
       "                var nbb_unformatted_code = \"plot_trackers(\\n    train_dict[\\\"tracker\\\"][\\\"fashion_mnist_opt\\\"][\\\"fashion_mnist_objective\\\"][\\\"loss\\\"][\\n        \\\"fashion_mnist\\\"\\n    ][\\\"train\\\"][\\\"sparse_categorical_crossentropy\\\"][\\\"mean\\\"],\\n    0,\\n)\\nplot_trackers(\\n    train_dict[\\\"tracker\\\"][\\\"mnist_opt\\\"][\\\"mnist_objective\\\"][\\\"loss\\\"][\\\"mnist\\\"][\\\"train\\\"][\\n        \\\"sparse_categorical_crossentropy\\\"\\n    ][\\\"mean\\\"],\\n    0,\\n)\";\n",
       "                var nbb_formatted_code = \"plot_trackers(\\n    train_dict[\\\"tracker\\\"][\\\"fashion_mnist_opt\\\"][\\\"fashion_mnist_objective\\\"][\\\"loss\\\"][\\n        \\\"fashion_mnist\\\"\\n    ][\\\"train\\\"][\\\"sparse_categorical_crossentropy\\\"][\\\"mean\\\"],\\n    0,\\n)\\nplot_trackers(\\n    train_dict[\\\"tracker\\\"][\\\"mnist_opt\\\"][\\\"mnist_objective\\\"][\\\"loss\\\"][\\\"mnist\\\"][\\\"train\\\"][\\n        \\\"sparse_categorical_crossentropy\\\"\\n    ][\\\"mean\\\"],\\n    0,\\n)\";\n",
       "                var nbb_cells = Jupyter.notebook.get_cells();\n",
       "                for (var i = 0; i < nbb_cells.length; ++i) {\n",
       "                    if (nbb_cells[i].input_prompt_number == nbb_cell_id) {\n",
       "                        if (nbb_cells[i].get_text() == nbb_unformatted_code) {\n",
       "                             nbb_cells[i].set_text(nbb_formatted_code);\n",
       "                        }\n",
       "                        break;\n",
       "                    }\n",
       "                }\n",
       "            }, 500);\n",
       "            "
      ],
      "text/plain": [
       "<IPython.core.display.Javascript object>"
      ]
     },
     "metadata": {},
     "output_type": "display_data"
    }
   ],
   "source": [
    "plot_trackers(\n",
    "    train_dict[\"tracker\"][\"fashion_mnist_opt\"][\"fashion_mnist_objective\"][\"loss\"][\n",
    "        \"fashion_mnist\"\n",
    "    ][\"train\"][\"sparse_categorical_crossentropy\"][\"mean\"],\n",
    "    0,\n",
    ")\n",
    "plot_trackers(\n",
    "    train_dict[\"tracker\"][\"mnist_opt\"][\"mnist_objective\"][\"loss\"][\"mnist\"][\"train\"][\n",
    "        \"sparse_categorical_crossentropy\"\n",
    "    ][\"mean\"],\n",
    "    0,\n",
    ")"
   ]
  },
  {
   "cell_type": "markdown",
   "metadata": {},
   "source": [
    "## validation loss"
   ]
  },
  {
   "cell_type": "code",
   "execution_count": 27,
   "metadata": {},
   "outputs": [
    {
     "data": {
      "image/png": "[encoded data removed]",
      "text/plain": [
       "<Figure size 432x288 with 1 Axes>"
      ]
     },
     "metadata": {
      "needs_background": "light"
     },
     "output_type": "display_data"
    },
    {
     "data": {
      "application/javascript": [
       "\n",
       "            setTimeout(function() {\n",
       "                var nbb_cell_id = 27;\n",
       "                var nbb_unformatted_code = \"plot_trackers(\\n    train_dict[\\\"tracker\\\"][\\\"fashion_mnist_opt\\\"][\\\"fashion_mnist_objective\\\"][\\\"loss\\\"][\\n        \\\"fashion_mnist\\\"\\n    ][\\\"val\\\"][\\\"sparse_categorical_crossentropy\\\"][\\\"mean\\\"],\\n    0,\\n)\\nplot_trackers(\\n    train_dict[\\\"tracker\\\"][\\\"mnist_opt\\\"][\\\"mnist_objective\\\"][\\\"loss\\\"][\\\"mnist\\\"][\\\"val\\\"][\\n        \\\"sparse_categorical_crossentropy\\\"\\n    ][\\\"mean\\\"],\\n    0,\\n)\";\n",
       "                var nbb_formatted_code = \"plot_trackers(\\n    train_dict[\\\"tracker\\\"][\\\"fashion_mnist_opt\\\"][\\\"fashion_mnist_objective\\\"][\\\"loss\\\"][\\n        \\\"fashion_mnist\\\"\\n    ][\\\"val\\\"][\\\"sparse_categorical_crossentropy\\\"][\\\"mean\\\"],\\n    0,\\n)\\nplot_trackers(\\n    train_dict[\\\"tracker\\\"][\\\"mnist_opt\\\"][\\\"mnist_objective\\\"][\\\"loss\\\"][\\\"mnist\\\"][\\\"val\\\"][\\n        \\\"sparse_categorical_crossentropy\\\"\\n    ][\\\"mean\\\"],\\n    0,\\n)\";\n",
       "                var nbb_cells = Jupyter.notebook.get_cells();\n",
       "                for (var i = 0; i < nbb_cells.length; ++i) {\n",
       "                    if (nbb_cells[i].input_prompt_number == nbb_cell_id) {\n",
       "                        if (nbb_cells[i].get_text() == nbb_unformatted_code) {\n",
       "                             nbb_cells[i].set_text(nbb_formatted_code);\n",
       "                        }\n",
       "                        break;\n",
       "                    }\n",
       "                }\n",
       "            }, 500);\n",
       "            "
      ],
      "text/plain": [
       "<IPython.core.display.Javascript object>"
      ]
     },
     "metadata": {},
     "output_type": "display_data"
    }
   ],
   "source": [
    "plot_trackers(\n",
    "    train_dict[\"tracker\"][\"fashion_mnist_opt\"][\"fashion_mnist_objective\"][\"loss\"][\n",
    "        \"fashion_mnist\"\n",
    "    ][\"val\"][\"sparse_categorical_crossentropy\"][\"mean\"],\n",
    "    0,\n",
    ")\n",
    "plot_trackers(\n",
    "    train_dict[\"tracker\"][\"mnist_opt\"][\"mnist_objective\"][\"loss\"][\"mnist\"][\"val\"][\n",
    "        \"sparse_categorical_crossentropy\"\n",
    "    ][\"mean\"],\n",
    "    0,\n",
    ")"
   ]
  },
  {
   "cell_type": "markdown",
   "metadata": {},
   "source": [
    "## Evaluate the Model"
   ]
  },
  {
   "cell_type": "code",
   "execution_count": 28,
   "metadata": {},
   "outputs": [
    {
     "data": {
      "application/javascript": [
       "\n",
       "            setTimeout(function() {\n",
       "                var nbb_cell_id = 28;\n",
       "                var nbb_unformatted_code = \"# eval_dict = yml.eval_model(\\n#     model,\\n#     yml_dict,\\n#     dataset=ds_dict[\\\"test\\\"]\\n# )\\n# print(eval_dict)\";\n",
       "                var nbb_formatted_code = \"# eval_dict = yml.eval_model(\\n#     model,\\n#     yml_dict,\\n#     dataset=ds_dict[\\\"test\\\"]\\n# )\\n# print(eval_dict)\";\n",
       "                var nbb_cells = Jupyter.notebook.get_cells();\n",
       "                for (var i = 0; i < nbb_cells.length; ++i) {\n",
       "                    if (nbb_cells[i].input_prompt_number == nbb_cell_id) {\n",
       "                        if (nbb_cells[i].get_text() == nbb_unformatted_code) {\n",
       "                             nbb_cells[i].set_text(nbb_formatted_code);\n",
       "                        }\n",
       "                        break;\n",
       "                    }\n",
       "                }\n",
       "            }, 500);\n",
       "            "
      ],
      "text/plain": [
       "<IPython.core.display.Javascript object>"
      ]
     },
     "metadata": {},
     "output_type": "display_data"
    }
   ],
   "source": [
    "# eval_dict = yml.eval_model(\n",
    "#     model,\n",
    "#     yml_dict,\n",
    "#     dataset=ds_dict[\"test\"]\n",
    "# )\n",
    "# print(eval_dict)"
   ]
  },
  {
   "cell_type": "markdown",
   "metadata": {},
   "source": [
    "## Inspect model in Tensorflow\n",
    "\n",
    "In the command line you can navigate to the `albalone` directory and run: (provided tensorboard is installed in your environment)\n",
    "\n",
    "```bash\n",
    "tensorboard --logdir model_a/\n",
    "```"
   ]
  },
  {
   "cell_type": "code",
   "execution_count": null,
   "metadata": {},
   "outputs": [],
   "source": []
  },
  {
   "cell_type": "code",
   "execution_count": null,
   "metadata": {},
   "outputs": [],
   "source": []
  }
 ],
 "metadata": {
  "kernelspec": {
   "display_name": "tf2",
   "language": "python",
   "name": "tf2"
  },
  "language_info": {
   "codemirror_mode": {
    "name": "ipython",
    "version": 3
   },
   "file_extension": ".py",
   "mimetype": "text/x-python",
   "name": "python",
   "nbconvert_exporter": "python",
   "pygments_lexer": "ipython3",
   "version": "3.6.7"
  }
 },
 "nbformat": 4,
 "nbformat_minor": 2
}
