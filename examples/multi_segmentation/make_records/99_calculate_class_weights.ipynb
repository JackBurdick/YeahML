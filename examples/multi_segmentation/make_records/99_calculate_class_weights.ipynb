{
 "cells": [
  {
   "cell_type": "code",
   "execution_count": 1,
   "metadata": {},
   "outputs": [],
   "source": [
    "import numpy as np\n",
    "from collections import Counter\n",
    "from sklearn.utils import class_weight"
   ]
  },
  {
   "cell_type": "code",
   "execution_count": 2,
   "metadata": {},
   "outputs": [],
   "source": [
    "# load masks\n",
    "y_train = np.load('./raw/numpy_final/train_masks.npy')\n",
    "y_val = np.load('./raw/numpy_final/validation_masks.npy')"
   ]
  },
  {
   "cell_type": "code",
   "execution_count": 3,
   "metadata": {},
   "outputs": [],
   "source": [
    "# Create counter\n",
    "c = Counter()\n",
    "# validation\n",
    "for y in y_val:\n",
    "    for p in y:\n",
    "        c.update(p)\n",
    "# training\n",
    "for y in y_train:\n",
    "    for p in y:\n",
    "        c.update(p)"
   ]
  },
  {
   "cell_type": "code",
   "execution_count": 4,
   "metadata": {},
   "outputs": [
    {
     "name": "stdout",
     "output_type": "stream",
     "text": [
      "Counter({0: 2865614, 1: 1679391, 8: 320495, 4: 68707, 5: 39371, 3: 28224, 6: 20018, 2: 13712, 7: 4468})\n"
     ]
    }
   ],
   "source": [
    "print(c)"
   ]
  },
  {
   "cell_type": "code",
   "execution_count": 5,
   "metadata": {},
   "outputs": [
    {
     "name": "stdout",
     "output_type": "stream",
     "text": [
      "Counter({1: 10, 0: 5})\n",
      "{0: 2.0, 1: 1.0}\n"
     ]
    }
   ],
   "source": [
    "def class_weights_from_counter(c):\n",
    "    max_val = float(max(c.values()))       \n",
    "    cw = {class_id : max_val/num_i for class_id, num_i in c.items()}\n",
    "    return cw\n",
    "x = Counter([0,0,0,0,0,1,1,1,1,1,1,1,1,1,1])\n",
    "print(x)\n",
    "xx = class_weights_from_counter(c=x)\n",
    "print(xx)"
   ]
  },
  {
   "cell_type": "code",
   "execution_count": 6,
   "metadata": {},
   "outputs": [],
   "source": [
    "cw = class_weights_from_counter(c=c)"
   ]
  },
  {
   "cell_type": "code",
   "execution_count": 7,
   "metadata": {
    "scrolled": true
   },
   "outputs": [
    {
     "name": "stdout",
     "output_type": "stream",
     "text": [
      "0 1.0\n",
      "1 1.706341167720918\n",
      "2 208.98585180863478\n",
      "3 101.53110827664399\n",
      "4 41.70774448018397\n",
      "5 72.78489243351706\n",
      "6 143.15186332300928\n",
      "7 641.363921217547\n",
      "8 8.941212811432315\n"
     ]
    }
   ],
   "source": [
    "vals = []\n",
    "for k,v in sorted(cw.items()):\n",
    "    print(k,v)\n",
    "    vals.append(v)"
   ]
  },
  {
   "cell_type": "code",
   "execution_count": 8,
   "metadata": {
    "scrolled": true
   },
   "outputs": [
    {
     "name": "stdout",
     "output_type": "stream",
     "text": [
      "[1.0, 1.706341167720918, 208.98585180863478, 101.53110827664399, 41.70774448018397, 72.78489243351706, 143.15186332300928, 641.363921217547, 8.941212811432315]\n"
     ]
    }
   ],
   "source": [
    "print(vals)"
   ]
  },
  {
   "cell_type": "code",
   "execution_count": 11,
   "metadata": {},
   "outputs": [],
   "source": [
    "vals_trunc = [float(\"{0:.2f}\".format(v)) for v in vals]"
   ]
  },
  {
   "cell_type": "code",
   "execution_count": 12,
   "metadata": {},
   "outputs": [
    {
     "name": "stdout",
     "output_type": "stream",
     "text": [
      "[1.0, 1.71, 208.99, 101.53, 41.71, 72.78, 143.15, 641.36, 8.94]\n"
     ]
    }
   ],
   "source": [
    "print(vals_trunc)"
   ]
  },
  {
   "cell_type": "code",
   "execution_count": null,
   "metadata": {},
   "outputs": [],
   "source": []
  }
 ],
 "metadata": {
  "kernelspec": {
   "display_name": "tf_gpu",
   "language": "python",
   "name": "tf_gpu"
  },
  "language_info": {
   "codemirror_mode": {
    "name": "ipython",
    "version": 3
   },
   "file_extension": ".py",
   "mimetype": "text/x-python",
   "name": "python",
   "nbconvert_exporter": "python",
   "pygments_lexer": "ipython3",
   "version": "3.6.7"
  }
 },
 "nbformat": 4,
 "nbformat_minor": 2
}
