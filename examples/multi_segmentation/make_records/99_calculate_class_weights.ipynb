{
 "cells": [
  {
   "cell_type": "code",
   "execution_count": 15,
   "metadata": {},
   "outputs": [],
   "source": [
    "import numpy as np\n",
    "from collections import Counter\n",
    "from sklearn.utils import class_weight"
   ]
  },
  {
   "cell_type": "code",
   "execution_count": 2,
   "metadata": {},
   "outputs": [],
   "source": [
    "# load masks\n",
    "y_train = np.load('./raw/numpy_final/train_masks.npy')\n",
    "y_val = np.load('./raw/numpy_final/validation_masks.npy')"
   ]
  },
  {
   "cell_type": "code",
   "execution_count": 13,
   "metadata": {},
   "outputs": [],
   "source": [
    "# Create counter\n",
    "c = Counter()\n",
    "# validation\n",
    "for y in y_val:\n",
    "    for p in y:\n",
    "        c.update(p)\n",
    "# training\n",
    "for y in y_train:\n",
    "    for p in y:\n",
    "        c.update(p)"
   ]
  },
  {
   "cell_type": "code",
   "execution_count": 14,
   "metadata": {},
   "outputs": [
    {
     "name": "stdout",
     "output_type": "stream",
     "text": [
      "Counter({0: 2881576, 1: 1683820, 8: 301052, 4: 70133, 5: 36562, 3: 27335, 6: 20992, 2: 13918, 7: 4612})\n"
     ]
    }
   ],
   "source": [
    "print(c)"
   ]
  },
  {
   "cell_type": "code",
   "execution_count": 70,
   "metadata": {},
   "outputs": [
    {
     "name": "stdout",
     "output_type": "stream",
     "text": [
      "Counter({1: 10, 0: 5})\n",
      "{0: 2.0, 1: 1.0}\n"
     ]
    }
   ],
   "source": [
    "def class_weights_from_counter(c):\n",
    "    max_val = float(max(c.values()))       \n",
    "    cw = {class_id : max_val/num_i for class_id, num_i in c.items()}\n",
    "    return cw\n",
    "x = Counter([0,0,0,0,0,1,1,1,1,1,1,1,1,1,1])\n",
    "print(x)\n",
    "xx = class_weights_from_counter(c=x)\n",
    "print(xx)"
   ]
  },
  {
   "cell_type": "code",
   "execution_count": 71,
   "metadata": {},
   "outputs": [
    {
     "data": {
      "text/plain": [
       "{0: 1.0,\n",
       " 8: 9.571688611934151,\n",
       " 1: 1.7113325652385647,\n",
       " 6: 137.2701981707317,\n",
       " 4: 41.08730554803017,\n",
       " 2: 207.03951717200746,\n",
       " 3: 105.41708432412658,\n",
       " 7: 624.7996530789245,\n",
       " 5: 78.81341283299601}"
      ]
     },
     "execution_count": 71,
     "metadata": {},
     "output_type": "execute_result"
    }
   ],
   "source": [
    "class_weights_from_counter(c=c)"
   ]
  },
  {
   "cell_type": "code",
   "execution_count": null,
   "metadata": {},
   "outputs": [],
   "source": []
  }
 ],
 "metadata": {
  "kernelspec": {
   "display_name": "dl_cpu",
   "language": "python",
   "name": "dl_cpu"
  },
  "language_info": {
   "codemirror_mode": {
    "name": "ipython",
    "version": 3
   },
   "file_extension": ".py",
   "mimetype": "text/x-python",
   "name": "python",
   "nbconvert_exporter": "python",
   "pygments_lexer": "ipython3",
   "version": "3.6.5"
  }
 },
 "nbformat": 4,
 "nbformat_minor": 2
}
