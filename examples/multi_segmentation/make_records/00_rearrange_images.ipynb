{
 "cells": [
  {
   "cell_type": "markdown",
   "metadata": {},
   "source": [
    "# move images to a single image and label directory"
   ]
  },
  {
   "cell_type": "code",
   "execution_count": 57,
   "metadata": {},
   "outputs": [],
   "source": [
    "import os\n",
    "import shutil"
   ]
  },
  {
   "cell_type": "markdown",
   "metadata": {},
   "source": [
    "## Image"
   ]
  },
  {
   "cell_type": "code",
   "execution_count": 39,
   "metadata": {},
   "outputs": [
    {
     "name": "stdout",
     "output_type": "stream",
     "text": [
      "['male15', 'male23', 'male20', 'female03', 'female20', 'male07', 'male01', 'female10', 'female16', 'female01', 'female14', 'female07', 'female04', 'female08', 'male21']\n"
     ]
    }
   ],
   "source": [
    "root_dir = \"./raw/face_segment_data_sampleset/\"\n",
    "dir_list = []  \n",
    "for name in os.listdir(root_dir):\n",
    "    if os.path.isdir(os.path.join(root_dir,name)):\n",
    "        if name != \"celebs\" and name != \"labels\":\n",
    "            dir_list.append(name)\n",
    "print(dir_list)"
   ]
  },
  {
   "cell_type": "code",
   "execution_count": 40,
   "metadata": {},
   "outputs": [
    {
     "name": "stdout",
     "output_type": "stream",
     "text": [
      "./raw/face_segment_data_sampleset/male15/headrende0351.png\n",
      "./raw/face_segment_data_sampleset/male15/headrende0417.png\n",
      "./raw/face_segment_data_sampleset/male15/headrende0117.png\n",
      "./raw/face_segment_data_sampleset/male15/headrende0000.png\n",
      "./raw/face_segment_data_sampleset/male15/headrende0201.png\n",
      "./raw/face_segment_data_sampleset/male23/headrende0469.png\n",
      "./raw/face_segment_data_sampleset/male23/headrende0187.png\n",
      "./raw/face_segment_data_sampleset/male23/headrende0100.png\n",
      "./raw/face_segment_data_sampleset/male23/headrende0301.png\n",
      "./raw/face_segment_data_sampleset/male23/headrende0001.png\n",
      "./raw/face_segment_data_sampleset/male20/headrende0417.png\n",
      "./raw/face_segment_data_sampleset/male20/headrende0102.png\n",
      "./raw/face_segment_data_sampleset/male20/headrende0000.png\n",
      "./raw/face_segment_data_sampleset/male20/headrende0333.png\n",
      "./raw/face_segment_data_sampleset/male20/headrende0207.png\n",
      "./raw/face_segment_data_sampleset/female03/headrende0002.png\n",
      "./raw/face_segment_data_sampleset/female03/headrende0104.png\n",
      "./raw/face_segment_data_sampleset/female03/headrende0305.png\n",
      "./raw/face_segment_data_sampleset/female03/headrende0206.png\n",
      "./raw/face_segment_data_sampleset/female03/headrende0407.png\n",
      "./raw/face_segment_data_sampleset/female20/headrende0240.png\n",
      "./raw/face_segment_data_sampleset/female20/headrende0327.png\n",
      "./raw/face_segment_data_sampleset/female20/headrende0000.png\n",
      "./raw/face_segment_data_sampleset/female20/headrende0444.png\n",
      "./raw/face_segment_data_sampleset/female20/headrende0105.png\n",
      "./raw/face_segment_data_sampleset/male07/headrende0426.png\n",
      "./raw/face_segment_data_sampleset/male07/headrende0102.png\n",
      "./raw/face_segment_data_sampleset/male07/headrende0000.png\n",
      "./raw/face_segment_data_sampleset/male07/headrende0201.png\n",
      "./raw/face_segment_data_sampleset/male07/headrende0300.png\n",
      "./raw/face_segment_data_sampleset/male01/headrende0002.png\n",
      "./raw/face_segment_data_sampleset/male01/headrende0443.png\n",
      "./raw/face_segment_data_sampleset/male01/headrende0311.png\n",
      "./raw/face_segment_data_sampleset/male01/headrende0206.png\n",
      "./raw/face_segment_data_sampleset/male01/headrende0101.png\n",
      "./raw/face_segment_data_sampleset/female10/headrende0441.png\n",
      "./raw/face_segment_data_sampleset/female10/headrende0000.png\n",
      "./raw/face_segment_data_sampleset/female10/headrende0213.png\n",
      "./raw/face_segment_data_sampleset/female10/headrende0315.png\n",
      "./raw/face_segment_data_sampleset/female10/headrende0126.png\n",
      "./raw/face_segment_data_sampleset/female16/headrende0441.png\n",
      "./raw/face_segment_data_sampleset/female16/headrende0117.png\n",
      "./raw/face_segment_data_sampleset/female16/headrende0000.png\n",
      "./raw/face_segment_data_sampleset/female16/headrende0201.png\n",
      "./raw/face_segment_data_sampleset/female16/headrende0300.png\n",
      "./raw/face_segment_data_sampleset/female01/headrende0204.png\n",
      "./raw/face_segment_data_sampleset/female01/headrende0303.png\n",
      "./raw/face_segment_data_sampleset/female01/headrende0102.png\n",
      "./raw/face_segment_data_sampleset/female01/headrende0000.png\n",
      "./raw/face_segment_data_sampleset/female01/headrende0486.png\n",
      "./raw/face_segment_data_sampleset/female14/headrende0334.png\n",
      "./raw/face_segment_data_sampleset/female14/headrende0244.png\n",
      "./raw/face_segment_data_sampleset/female14/headrende0103.png\n",
      "./raw/face_segment_data_sampleset/female14/headrende0475.png\n",
      "./raw/face_segment_data_sampleset/female14/headrende0001.png\n",
      "./raw/face_segment_data_sampleset/female07/headrende0496.png\n",
      "./raw/face_segment_data_sampleset/female07/headrende0112.png\n",
      "./raw/face_segment_data_sampleset/female07/headrende0301.png\n",
      "./raw/face_segment_data_sampleset/female07/headrende0208.png\n",
      "./raw/face_segment_data_sampleset/female07/headrende0001.png\n",
      "./raw/face_segment_data_sampleset/female04/headrende0417.png\n",
      "./raw/face_segment_data_sampleset/female04/headrende0102.png\n",
      "./raw/face_segment_data_sampleset/female04/headrende0000.png\n",
      "./raw/face_segment_data_sampleset/female04/headrende0207.png\n",
      "./raw/face_segment_data_sampleset/female04/headrende0312.png\n",
      "./raw/face_segment_data_sampleset/female08/headrende0304.png\n",
      "./raw/face_segment_data_sampleset/female08/headrende0112.png\n",
      "./raw/face_segment_data_sampleset/female08/headrende0454.png\n",
      "./raw/face_segment_data_sampleset/female08/headrende0202.png\n",
      "./raw/face_segment_data_sampleset/female08/headrende0001.png\n",
      "./raw/face_segment_data_sampleset/male21/headrende0084.png\n",
      "./raw/face_segment_data_sampleset/male21/headrende0000.png\n",
      "./raw/face_segment_data_sampleset/male21/headrende0393.png\n",
      "./raw/face_segment_data_sampleset/male21/headrende0177.png\n",
      "./raw/face_segment_data_sampleset/male21/headrende0297.png\n"
     ]
    }
   ],
   "source": [
    "img_path_list = []\n",
    "for d in dir_list:\n",
    "    for _, _, fl in os.walk(os.path.join(root_dir,d)):\n",
    "        for f in fl:\n",
    "            img_path_list.append(os.path.join(root_dir,d,f))\n",
    "            print(os.path.join(root_dir,d,f))"
   ]
  },
  {
   "cell_type": "code",
   "execution_count": 41,
   "metadata": {},
   "outputs": [
    {
     "name": "stdout",
     "output_type": "stream",
     "text": [
      "75\n"
     ]
    }
   ],
   "source": [
    "print(len(img_path_list))"
   ]
  },
  {
   "cell_type": "markdown",
   "metadata": {},
   "source": [
    "## Mask"
   ]
  },
  {
   "cell_type": "code",
   "execution_count": 42,
   "metadata": {},
   "outputs": [
    {
     "name": "stdout",
     "output_type": "stream",
     "text": [
      "['male15', 'male23', 'male20', 'female03', 'female20', 'male07', 'male01', 'female10', 'female16', 'female01', 'female14', 'female07', 'female04', 'female08', 'male21']\n"
     ]
    }
   ],
   "source": [
    "root_dir = \"./raw/face_segment_data_sampleset/labels\"\n",
    "m_dir_list = []\n",
    "for name in os.listdir(root_dir):\n",
    "    if os.path.isdir(os.path.join(root_dir,name)):\n",
    "        if name != \"celebs\" and name != \"labels\":\n",
    "            m_dir_list.append(name)\n",
    "print(m_dir_list)"
   ]
  },
  {
   "cell_type": "code",
   "execution_count": 44,
   "metadata": {},
   "outputs": [],
   "source": [
    "m_path_list = []\n",
    "for d in m_dir_list:\n",
    "    for _, _, fl in os.walk(os.path.join(root_dir,d)):\n",
    "        for f in fl:\n",
    "            m_path_list.append(os.path.join(root_dir,d,f))"
   ]
  },
  {
   "cell_type": "code",
   "execution_count": 45,
   "metadata": {},
   "outputs": [
    {
     "name": "stdout",
     "output_type": "stream",
     "text": [
      "75\n"
     ]
    }
   ],
   "source": [
    "print(len(m_path_list))"
   ]
  },
  {
   "cell_type": "markdown",
   "metadata": {},
   "source": [
    "## make new dir"
   ]
  },
  {
   "cell_type": "code",
   "execution_count": 53,
   "metadata": {},
   "outputs": [],
   "source": [
    "# helper to create dirs if they don't already exist\n",
    "def maybe_create_dir(dir_path):\n",
    "    if not os.path.exists(dir_path):\n",
    "        os.makedirs(dir_path)\n",
    "        print(\"{} created\".format(dir_path))\n",
    "    else:\n",
    "        print(\"{} already exists\".format(dir_path))"
   ]
  },
  {
   "cell_type": "code",
   "execution_count": 58,
   "metadata": {},
   "outputs": [
    {
     "name": "stdout",
     "output_type": "stream",
     "text": [
      "./raw/images already exists\n",
      "./raw/masks already exists\n"
     ]
    }
   ],
   "source": [
    "img_dir = \"./raw/images\"\n",
    "mask_dir = \"./raw/masks\"\n",
    "maybe_create_dir(img_dir)\n",
    "maybe_create_dir(mask_dir)"
   ]
  },
  {
   "cell_type": "markdown",
   "metadata": {},
   "source": [
    "## Move images into a single directory\n",
    "\n",
    "- masks will be in `./masks`\n",
    "- images will be in `./images`\n",
    "\n",
    "the images will also contain a unique identifier `0-74` in this case"
   ]
  },
  {
   "cell_type": "code",
   "execution_count": 59,
   "metadata": {},
   "outputs": [
    {
     "name": "stdout",
     "output_type": "stream",
     "text": [
      "0,headrende0351.png\n",
      "1,headrende0417.png\n",
      "2,headrende0117.png\n",
      "3,headrende0000.png\n",
      "4,headrende0201.png\n",
      "5,headrende0469.png\n",
      "6,headrende0187.png\n",
      "7,headrende0100.png\n",
      "8,headrende0301.png\n",
      "9,headrende0001.png\n",
      "10,headrende0417.png\n",
      "11,headrende0102.png\n",
      "12,headrende0000.png\n",
      "13,headrende0333.png\n",
      "14,headrende0207.png\n",
      "15,headrende0002.png\n",
      "16,headrende0104.png\n",
      "17,headrende0305.png\n",
      "18,headrende0206.png\n",
      "19,headrende0407.png\n",
      "20,headrende0240.png\n",
      "21,headrende0327.png\n",
      "22,headrende0000.png\n",
      "23,headrende0444.png\n",
      "24,headrende0105.png\n",
      "25,headrende0426.png\n",
      "26,headrende0102.png\n",
      "27,headrende0000.png\n",
      "28,headrende0201.png\n",
      "29,headrende0300.png\n",
      "30,headrende0002.png\n",
      "31,headrende0443.png\n",
      "32,headrende0311.png\n",
      "33,headrende0206.png\n",
      "34,headrende0101.png\n",
      "35,headrende0441.png\n",
      "36,headrende0000.png\n",
      "37,headrende0213.png\n",
      "38,headrende0315.png\n",
      "39,headrende0126.png\n",
      "40,headrende0441.png\n",
      "41,headrende0117.png\n",
      "42,headrende0000.png\n",
      "43,headrende0201.png\n",
      "44,headrende0300.png\n",
      "45,headrende0204.png\n",
      "46,headrende0303.png\n",
      "47,headrende0102.png\n",
      "48,headrende0000.png\n",
      "49,headrende0486.png\n",
      "50,headrende0334.png\n",
      "51,headrende0244.png\n",
      "52,headrende0103.png\n",
      "53,headrende0475.png\n",
      "54,headrende0001.png\n",
      "55,headrende0496.png\n",
      "56,headrende0112.png\n",
      "57,headrende0301.png\n",
      "58,headrende0208.png\n",
      "59,headrende0001.png\n",
      "60,headrende0417.png\n",
      "61,headrende0102.png\n",
      "62,headrende0000.png\n",
      "63,headrende0207.png\n",
      "64,headrende0312.png\n",
      "65,headrende0304.png\n",
      "66,headrende0112.png\n",
      "67,headrende0454.png\n",
      "68,headrende0202.png\n",
      "69,headrende0001.png\n",
      "70,headrende0084.png\n",
      "71,headrende0000.png\n",
      "72,headrende0393.png\n",
      "73,headrende0177.png\n",
      "74,headrende0297.png\n"
     ]
    }
   ],
   "source": [
    "for i,p in enumerate(img_path_list):\n",
    "    i_path = p\n",
    "    m_path = m_path_list[i]\n",
    "    \n",
    "    # copy image\n",
    "    shutil.copy(i_path, os.path.join(img_dir,\"{}.{}\".format(i,\"png\")))\n",
    "    \n",
    "    # copy mask\n",
    "    shutil.copy(m_path, os.path.join(mask_dir,\"{}.{}\".format(i,\"png\")))\n",
    "    \n",
    "    # print mapping\n",
    "    print(\"{},{}\".format(i, i_path.split(\"/\")[-1]))\n",
    "    #print(i_path.split(\"/\")[-1], m_path.split(\"/\")[-1])"
   ]
  },
  {
   "cell_type": "code",
   "execution_count": null,
   "metadata": {},
   "outputs": [],
   "source": []
  }
 ],
 "metadata": {
  "kernelspec": {
   "display_name": "dl_cpu",
   "language": "python",
   "name": "dl_cpu"
  },
  "language_info": {
   "codemirror_mode": {
    "name": "ipython",
    "version": 3
   },
   "file_extension": ".py",
   "mimetype": "text/x-python",
   "name": "python",
   "nbconvert_exporter": "python",
   "pygments_lexer": "ipython3",
   "version": "3.6.5"
  }
 },
 "nbformat": 4,
 "nbformat_minor": 2
}
