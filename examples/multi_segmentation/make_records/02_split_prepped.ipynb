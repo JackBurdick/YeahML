{
 "cells": [
  {
   "cell_type": "code",
   "execution_count": 1,
   "metadata": {},
   "outputs": [],
   "source": [
    "import os\n",
    "import numpy as np\n",
    "\n",
    "# for shuffling data batches\n",
    "from sklearn.utils import shuffle"
   ]
  },
  {
   "cell_type": "code",
   "execution_count": 2,
   "metadata": {},
   "outputs": [
    {
     "name": "stdout",
     "output_type": "stream",
     "text": [
      "X:(75, 280, 300, 3) , y:(75, 280, 300)\n"
     ]
    }
   ],
   "source": [
    "ROOT_DIR = \"./raw/numpy\"\n",
    "\n",
    "# load entire dataset into memory\n",
    "# NOTE: depending on your machine, this may not be practical, you may have to\n",
    "# create a smaller dataset (although this should have already been noticed when\n",
    "# making this dataset)\n",
    "X_dev = np.load(ROOT_DIR + '/images.npy')\n",
    "y_dev = np.load(ROOT_DIR + '/masks.npy')\n",
    "\n",
    "# shuffle set -- not necessary, but I like to do this in case there\n",
    "# is some order to the data we don't know about.  Not that important\n",
    "# for this particular problem (segmentation), but I still feel better\n",
    "# calling a shuffle before splitting the data\n",
    "X_dev, y_dev = shuffle(X_dev, y_dev, random_state=42)\n",
    "print(\"X:{} , y:{}\".format(X_dev.shape, y_dev.shape))"
   ]
  },
  {
   "cell_type": "code",
   "execution_count": 3,
   "metadata": {},
   "outputs": [
    {
     "name": "stdout",
     "output_type": "stream",
     "text": [
      "Dev   :  X:(60, 280, 300, 3) , y:(60, 280, 300)\n",
      "Test  :  X:(15, 280, 300, 3)  , y:(15, 280, 300)\n"
     ]
    }
   ],
   "source": [
    "# here we'll use 20% for test (80% training)\n",
    "split_thresh = int(X_dev.shape[0] * 0.8)\n",
    "X_tr = X_dev[:split_thresh]\n",
    "y_tr = y_dev[:split_thresh]\n",
    "X_test = X_dev[split_thresh:]\n",
    "y_test = y_dev[split_thresh:]\n",
    "\n",
    "print(\"Dev   :  X:{} , y:{}\".format(X_tr.shape, y_tr.shape))\n",
    "print(\"Test  :  X:{}  , y:{}\".format(X_test.shape, y_test.shape))"
   ]
  },
  {
   "cell_type": "code",
   "execution_count": 4,
   "metadata": {},
   "outputs": [
    {
     "name": "stdout",
     "output_type": "stream",
     "text": [
      "Training   :  X:(48, 280, 300, 3) , y:(48, 280, 300)\n",
      "Validation :  X:(12, 280, 300, 3)  , y:(12, 280, 300)\n"
     ]
    }
   ],
   "source": [
    "# here we'll use ~20% of training for validation (80% training)\n",
    "split_thresh = int(X_tr.shape[0] * 0.8)\n",
    "X_train = X_tr[:split_thresh]\n",
    "y_train = y_tr[:split_thresh]\n",
    "X_val = X_tr[split_thresh:]\n",
    "y_val = y_tr[split_thresh:]\n",
    "\n",
    "print(\"Training   :  X:{} , y:{}\".format(X_train.shape, y_train.shape))\n",
    "print(\"Validation :  X:{}  , y:{}\".format(X_val.shape, y_val.shape))"
   ]
  },
  {
   "cell_type": "code",
   "execution_count": 5,
   "metadata": {},
   "outputs": [],
   "source": [
    "# helper to create dirs if they don't already exist\n",
    "def maybe_create_dir(dir_path):\n",
    "    if not os.path.exists(dir_path):\n",
    "        os.makedirs(dir_path)\n",
    "        print(\"{} created\".format(dir_path))\n",
    "    else:\n",
    "        print(\"{} already exists\".format(dir_path))"
   ]
  },
  {
   "cell_type": "code",
   "execution_count": 6,
   "metadata": {},
   "outputs": [
    {
     "name": "stdout",
     "output_type": "stream",
     "text": [
      "./raw/numpy_final created\n"
     ]
    }
   ],
   "source": [
    "maybe_create_dir(\"./raw/numpy_final\")"
   ]
  },
  {
   "cell_type": "code",
   "execution_count": 7,
   "metadata": {},
   "outputs": [],
   "source": [
    "# training\n",
    "np.save('./raw/numpy_final/'+  'train.npy', X_train)\n",
    "np.save('./raw/numpy_final/' + 'train_masks.npy', y_train)\n",
    "\n",
    "# val\n",
    "np.save('./raw/numpy_final/' +  'validation.npy', X_val)\n",
    "np.save('./raw/numpy_final/' + 'validation_masks.npy', y_val)\n",
    "\n",
    "# test\n",
    "np.save('./raw/numpy_final/' +  'test.npy', X_test)\n",
    "np.save('./raw/numpy_final/' + 'test_masks.npy', y_test)"
   ]
  },
  {
   "cell_type": "code",
   "execution_count": null,
   "metadata": {},
   "outputs": [],
   "source": []
  }
 ],
 "metadata": {
  "kernelspec": {
   "display_name": "tf_gpu",
   "language": "python",
   "name": "tf_gpu"
  },
  "language_info": {
   "codemirror_mode": {
    "name": "ipython",
    "version": 3
   },
   "file_extension": ".py",
   "mimetype": "text/x-python",
   "name": "python",
   "nbconvert_exporter": "python",
   "pygments_lexer": "ipython3",
   "version": "3.6.7"
  }
 },
 "nbformat": 4,
 "nbformat_minor": 2
}
