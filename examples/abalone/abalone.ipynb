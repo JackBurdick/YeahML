{
 "cells": [
  {
   "cell_type": "markdown",
   "metadata": {},
   "source": [
    "# Abalone\n",
    "\n",
    "In this example, we'll demonstrate how to use [dataduit](https://github.com/JackBurdick/dataduit) to create tensorflow datasets from a pandas dataframe by specifying a config file.\n",
    "\n",
    "We'll then demonstrate how to use yeahml to create/build/evaluate a model on the created data.\n",
    "\n",
    "#### Note:\n",
    "> The model for this project likely doesn't make sense. I am not personally familiar with the dataset/problem, I was interested showing an example"
   ]
  },
  {
   "cell_type": "code",
   "execution_count": 1,
   "metadata": {},
   "outputs": [],
   "source": [
    "%load_ext autoreload\n",
    "%autoreload 2"
   ]
  },
  {
   "cell_type": "code",
   "execution_count": 2,
   "metadata": {
    "scrolled": false
   },
   "outputs": [],
   "source": [
    "import pandas as pd\n",
    "import tensorflow as tf\n",
    "import dataduit as dd\n",
    "import yeahml as yml\n",
    "import matplotlib.pyplot as plt"
   ]
  },
  {
   "cell_type": "markdown",
   "metadata": {},
   "source": [
    "## Create Datasets"
   ]
  },
  {
   "cell_type": "code",
   "execution_count": 3,
   "metadata": {},
   "outputs": [],
   "source": [
    "# Reading a file from online\n",
    "# more information can be found here:\n",
    "# > https://archive.ics.uci.edu/ml/machine-learning-databases/abalone/\n",
    "h = [\"sex\",\n",
    "\"length\",\n",
    "\"diameter\",\n",
    "\"height\",\n",
    "\"whole_weight\",\n",
    "\"shucked_weight\",\n",
    "\"viscera_weight\",\n",
    "\"shell_weight\",\n",
    "\"rings\"]\n",
    "df = pd.read_csv('https://archive.ics.uci.edu/ml/machine-learning-databases/abalone/abalone.data',names=h)"
   ]
  },
  {
   "cell_type": "code",
   "execution_count": 4,
   "metadata": {},
   "outputs": [],
   "source": [
    "# only use 2 of the features\n",
    "dd_dict = {\n",
    "    \"meta\": {\n",
    "        \"name\": \"abalone\",\n",
    "        \"logging\": {\"log_stream_level\": \"INFO\"},\n",
    "        \"in\": {\"from\": \"memory\", \"type\": \"pandas\"},\n",
    "    },\n",
    "    \"read\": {\n",
    "        \"split_percents\": [75, 15, 10],\n",
    "        \"split_names\": [\"train\", \"val\", \"test\"],\n",
    "        \"iterate\": {\n",
    "            \"return_type\": \"tuple\",\n",
    "            \"schema\": {\n",
    "                \"x\": {\n",
    "                    \"length\": {\n",
    "                        \"indicator\": \"length\",\n",
    "                        \"datatype\": {\n",
    "                            \"in\": {\"options\": {\"dtype\": \"float64\", \"shape\": 1}},\n",
    "                            \"out\": {},\n",
    "                        },\n",
    "                        \"special\": \"decode\",\n",
    "                    },\n",
    "                    \"diameter\": {\n",
    "                        \"indicator\": \"diameter\",\n",
    "                        \"datatype\": {\n",
    "                            \"in\": {\"options\": {\"dtype\": \"float64\", \"shape\": 1}},\n",
    "                            \"out\": {},\n",
    "                        },\n",
    "                        \"special\": \"decode\",\n",
    "                    },\n",
    "                },\n",
    "                \"y\": {\n",
    "                    \"rings\": {\n",
    "                        \"datatype\": {\n",
    "                            \"in\": {\"options\": {\"dtype\": \"int64\", \"shape\": 1}},\n",
    "                            \"out\": {},\n",
    "                        }\n",
    "                    }\n",
    "                },\n",
    "            },\n",
    "        },\n",
    "    },\n",
    "}"
   ]
  },
  {
   "cell_type": "code",
   "execution_count": 5,
   "metadata": {},
   "outputs": [],
   "source": [
    "# create the datasets based on the above defined names/splits/specifed data\n",
    "ds_dict_raw = dd.read(dd_dict, df)"
   ]
  },
  {
   "cell_type": "code",
   "execution_count": 6,
   "metadata": {},
   "outputs": [],
   "source": [
    "ds_dict = {\"abalone\": ds_dict_raw}"
   ]
  },
  {
   "cell_type": "markdown",
   "metadata": {},
   "source": [
    "`ds_dict` is a dictionary containing the tensorflow datasets (as specified above). which can be accessed like this:\n",
    "\n",
    "```python\n",
    "ds_val = ds_dict[\"val\"]\n",
    "```"
   ]
  },
  {
   "cell_type": "markdown",
   "metadata": {},
   "source": [
    "## Specify the Model"
   ]
  },
  {
   "cell_type": "code",
   "execution_count": 7,
   "metadata": {
    "scrolled": true
   },
   "outputs": [],
   "source": [
    "# %load_ext autoreload\n",
    "# %autoreload 2\n",
    "# import yeahml as yml\n",
    "# import tensorflow as tf"
   ]
  },
  {
   "cell_type": "code",
   "execution_count": 8,
   "metadata": {
    "scrolled": false
   },
   "outputs": [],
   "source": [
    "example = \"./main_config.yml\"\n",
    "yml_dict = yml.create_configs(example)"
   ]
  },
  {
   "cell_type": "code",
   "execution_count": 9,
   "metadata": {},
   "outputs": [],
   "source": [
    "#yml_dict"
   ]
  },
  {
   "cell_type": "markdown",
   "metadata": {},
   "source": [
    "## Build the model"
   ]
  },
  {
   "cell_type": "code",
   "execution_count": 10,
   "metadata": {
    "scrolled": false
   },
   "outputs": [
    {
     "name": "stderr",
     "output_type": "stream",
     "text": [
      "build_logger: INFO     -> START building graph\n",
      "WARNING: Logging before flag parsing goes to stderr.\n",
      "W0427 18:58:07.906488 140166889645888 base_layer.py:1790] Layer flatten_1 is casting an input tensor from dtype float64 to the layer's dtype of float32, which is new behavior in TensorFlow 2.  The layer has dtype float32 because it's dtype defaults to floatx.\n",
      "\n",
      "If you intended to run this layer in float32, you can safely ignore this warning. If in doubt, this warning is likely only an issue if you are porting a TensorFlow 1.X model to TensorFlow 2.\n",
      "\n",
      "To change all layers to have dtype float64 by default, call `tf.keras.backend.set_floatx('float64')`. To change just this layer, pass dtype='float64' to the layer constructor. If you are the author of this layer, you can disable autocasting by passing autocast=False to the base Layer constructor.\n",
      "\n",
      "build_logger: INFO     information json file created\n"
     ]
    }
   ],
   "source": [
    "# If you receive an error:\n",
    "# AttributeError: 'google.protobuf.pyext._message.RepeatedCompositeCo' object has no attribute 'append'\n",
    "# I personally used `pip install -U protobuf=3.8.0` to resolve\n",
    "# per https://github.com/tensorflow/tensorflow/issues/33348\n",
    "model = yml.build_model(yml_dict)"
   ]
  },
  {
   "cell_type": "code",
   "execution_count": 11,
   "metadata": {},
   "outputs": [
    {
     "name": "stdout",
     "output_type": "stream",
     "text": [
      "Model: \"model\"\n",
      "__________________________________________________________________________________________________\n",
      "Layer (type)                    Output Shape         Param #     Connected to                     \n",
      "==================================================================================================\n",
      "feature_a (InputLayer)          [(None, 2, 1)]       0                                            \n",
      "__________________________________________________________________________________________________\n",
      "flatten_1 (Flatten)             (None, 2)            0           feature_a[0][0]                  \n",
      "__________________________________________________________________________________________________\n",
      "dense_1 (Dense)                 (None, 16)           48          flatten_1[0][0]                  \n",
      "__________________________________________________________________________________________________\n",
      "dense_2 (Dense)                 (None, 8)            136         dense_1[0][0]                    \n",
      "__________________________________________________________________________________________________\n",
      "dense_2b (Dense)                (None, 8)            136         dense_1[0][0]                    \n",
      "__________________________________________________________________________________________________\n",
      "concat_1 (Concatenate)          (None, 16)           0           dense_2[0][0]                    \n",
      "                                                                 dense_2b[0][0]                   \n",
      "__________________________________________________________________________________________________\n",
      "dense_3a (Dense)                (None, 8)            136         concat_1[0][0]                   \n",
      "__________________________________________________________________________________________________\n",
      "dense_3b (Dense)                (None, 8)            72          dense_2[0][0]                    \n",
      "__________________________________________________________________________________________________\n",
      "concat_3 (Concatenate)          (None, 16)           0           dense_3a[0][0]                   \n",
      "                                                                 dense_3b[0][0]                   \n",
      "__________________________________________________________________________________________________\n",
      "dense_out (Dense)               (None, 1)            17          concat_3[0][0]                   \n",
      "__________________________________________________________________________________________________\n",
      "reshape_out (Reshape)           (None, 1, 1)         0           dense_out[0][0]                  \n",
      "==================================================================================================\n",
      "Total params: 545\n",
      "Trainable params: 545\n",
      "Non-trainable params: 0\n",
      "__________________________________________________________________________________________________\n"
     ]
    }
   ],
   "source": [
    "model.summary()"
   ]
  },
  {
   "cell_type": "markdown",
   "metadata": {},
   "source": [
    "## Train the Model\n",
    "\n",
    "Notice here that we're using the created training and validation sets from `ds_dict`"
   ]
  },
  {
   "cell_type": "code",
   "execution_count": 12,
   "metadata": {},
   "outputs": [],
   "source": [
    "# a = ds_dict[\"abalone\"]['train']\n",
    "# print(a)"
   ]
  },
  {
   "cell_type": "code",
   "execution_count": 13,
   "metadata": {},
   "outputs": [],
   "source": [
    "# import pprint\n",
    "# pprint.pprint(yml_dict['optimize'])\n",
    "# print(\"--\")\n",
    "# pprint.pprint(yml_dict['performance'])\n",
    "# ds_dict = {\n",
    "#     \"abalone\": {\n",
    "#         \"train\": tf.data.Dataset.from_tensor_slices([1, 2, 3]),\n",
    "#         \"val\": tf.data.Dataset.from_tensor_slices([1, 2, 3]),\n",
    "#     }\n",
    "# }"
   ]
  },
  {
   "cell_type": "code",
   "execution_count": 14,
   "metadata": {
    "scrolled": true
   },
   "outputs": [
    {
     "name": "stderr",
     "output_type": "stream",
     "text": [
      "train_logger: INFO     START - training\n",
      "train_logger: INFO     optimizer: main_opt\n",
      "train_logger: INFO     objective: main_obj\n",
      "train_logger: INFO     epoch main_obj - abalone train: 1\n",
      "train_logger: INFO     done validation - 3133\n",
      "train_logger: INFO     optimizer: second_opt\n",
      "train_logger: INFO     objective: second_obj\n",
      "train_logger: INFO     epoch second_obj - abalone train: 1\n",
      "train_logger: INFO     done validation - 3133\n",
      "train_logger: INFO     optimizer: second_opt\n",
      "train_logger: INFO     objective: second_obj\n",
      "train_logger: INFO     epoch second_obj - abalone train: 2\n",
      "train_logger: INFO     done validation - 6266\n",
      "train_logger: INFO     optimizer: main_opt\n",
      "train_logger: INFO     objective: main_obj\n",
      "train_logger: INFO     epoch main_obj - abalone train: 2\n",
      "train_logger: INFO     done validation - 6266\n",
      "train_logger: INFO     optimizer: main_opt\n",
      "train_logger: INFO     objective: main_obj\n",
      "train_logger: INFO     epoch main_obj - abalone train: 3\n",
      "train_logger: INFO     done validation - 9399\n",
      "train_logger: INFO     optimizer: second_opt\n",
      "train_logger: INFO     objective: second_obj\n",
      "train_logger: INFO     epoch second_obj - abalone train: 3\n",
      "train_logger: INFO     done validation - 9399\n",
      "train_logger: INFO     optimizer: second_opt\n",
      "train_logger: INFO     objective: second_obj\n",
      "train_logger: INFO     epoch second_obj - abalone train: 4\n",
      "train_logger: INFO     done validation - 12532\n",
      "train_logger: INFO     optimizer: main_opt\n",
      "train_logger: INFO     objective: main_obj\n",
      "train_logger: INFO     epoch main_obj - abalone train: 4\n",
      "train_logger: INFO     done validation - 12532\n",
      "train_logger: INFO     optimizer: second_opt\n",
      "train_logger: INFO     objective: second_obj\n",
      "train_logger: INFO     epoch second_obj - abalone train: 5\n",
      "train_logger: INFO     done validation - 15665\n",
      "train_logger: INFO     optimizer: second_opt\n",
      "train_logger: INFO     objective: second_obj\n",
      "train_logger: INFO     epoch second_obj - abalone train: 6\n",
      "train_logger: INFO     done validation - 18798\n",
      "train_logger: INFO     optimizer: main_opt\n",
      "train_logger: INFO     objective: main_obj\n",
      "train_logger: INFO     epoch main_obj - abalone train: 5\n",
      "train_logger: INFO     done validation - 15665\n",
      "train_logger: INFO     optimizer: second_opt\n",
      "train_logger: INFO     objective: second_obj\n",
      "train_logger: INFO     epoch second_obj - abalone train: 7\n",
      "train_logger: INFO     done validation - 21931\n",
      "train_logger: INFO     optimizer: second_opt\n",
      "train_logger: INFO     objective: second_obj\n",
      "train_logger: INFO     epoch second_obj - abalone train: 8\n",
      "train_logger: INFO     done validation - 25064\n",
      "train_logger: INFO     optimizer: main_opt\n",
      "train_logger: INFO     objective: main_obj\n",
      "train_logger: INFO     epoch main_obj - abalone train: 6\n",
      "train_logger: INFO     done validation - 18798\n",
      "train_logger: INFO     optimizer: main_opt\n",
      "train_logger: INFO     objective: main_obj\n",
      "train_logger: INFO     epoch main_obj - abalone train: 7\n",
      "train_logger: INFO     done validation - 21931\n",
      "train_logger: INFO     optimizer: main_opt\n",
      "train_logger: INFO     objective: main_obj\n",
      "train_logger: INFO     epoch main_obj - abalone train: 8\n",
      "train_logger: INFO     done validation - 25064\n",
      "train_logger: INFO     optimizer: main_opt\n",
      "train_logger: INFO     objective: main_obj\n",
      "train_logger: INFO     epoch main_obj - abalone train: 9\n",
      "train_logger: INFO     done validation - 28197\n",
      "train_logger: INFO     optimizer: second_opt\n",
      "train_logger: INFO     objective: second_obj\n",
      "train_logger: INFO     epoch second_obj - abalone train: 9\n",
      "train_logger: INFO     done validation - 28197\n",
      "train_logger: INFO     optimizer: main_opt\n",
      "train_logger: INFO     objective: main_obj\n",
      "train_logger: INFO     epoch main_obj - abalone train: 10\n",
      "train_logger: INFO     done validation - 31330\n",
      "train_logger: INFO     optimizer: second_opt\n",
      "train_logger: INFO     objective: second_obj\n",
      "train_logger: INFO     epoch second_obj - abalone train: 10\n",
      "train_logger: INFO     done validation - 31330\n",
      "train_logger: INFO     optimizer: main_opt\n",
      "train_logger: INFO     objective: main_obj\n",
      "train_logger: INFO     epoch main_obj - abalone train: 11\n",
      "train_logger: INFO     done validation - 34463\n",
      "train_logger: INFO     optimizer: second_opt\n",
      "train_logger: INFO     objective: second_obj\n",
      "train_logger: INFO     epoch second_obj - abalone train: 11\n",
      "train_logger: INFO     done validation - 34463\n",
      "train_logger: INFO     optimizer: main_opt\n",
      "train_logger: INFO     objective: main_obj\n",
      "train_logger: INFO     epoch main_obj - abalone train: 12\n",
      "train_logger: INFO     done validation - 37596\n",
      "train_logger: INFO     optimizer: main_opt\n",
      "train_logger: INFO     objective: main_obj\n",
      "train_logger: INFO     epoch main_obj - abalone train: 13\n",
      "train_logger: INFO     done validation - 40729\n",
      "train_logger: INFO     optimizer: second_opt\n",
      "train_logger: INFO     objective: second_obj\n",
      "train_logger: INFO     epoch second_obj - abalone train: 12\n",
      "train_logger: INFO     done validation - 37596\n",
      "train_logger: INFO     optimizer: main_opt\n",
      "train_logger: INFO     objective: main_obj\n",
      "train_logger: INFO     epoch main_obj - abalone train: 14\n",
      "train_logger: INFO     done validation - 43862\n",
      "train_logger: INFO     optimizer: second_opt\n",
      "train_logger: INFO     objective: second_obj\n",
      "train_logger: INFO     epoch second_obj - abalone train: 13\n",
      "train_logger: INFO     done validation - 40729\n",
      "train_logger: INFO     optimizer: main_opt\n",
      "train_logger: INFO     objective: main_obj\n",
      "train_logger: INFO     epoch main_obj - abalone train: 15\n",
      "train_logger: INFO     done validation - 46995\n",
      "train_logger: INFO     optimizer: second_opt\n",
      "train_logger: INFO     objective: second_obj\n",
      "train_logger: INFO     epoch second_obj - abalone train: 14\n",
      "train_logger: INFO     done validation - 43862\n",
      "train_logger: INFO     optimizer: second_opt\n",
      "train_logger: INFO     objective: second_obj\n",
      "train_logger: INFO     epoch second_obj - abalone train: 15\n",
      "train_logger: INFO     done validation - 46995\n",
      "train_logger: INFO     optimizer: second_opt\n",
      "train_logger: INFO     objective: second_obj\n",
      "train_logger: INFO     epoch second_obj - abalone train: 16\n",
      "train_logger: INFO     done validation - 50128\n",
      "train_logger: INFO     optimizer: main_opt\n",
      "train_logger: INFO     objective: main_obj\n",
      "train_logger: INFO     epoch main_obj - abalone train: 16\n",
      "train_logger: INFO     done validation - 50128\n",
      "train_logger: INFO     optimizer: main_opt\n",
      "train_logger: INFO     objective: main_obj\n",
      "train_logger: INFO     epoch main_obj - abalone train: 17\n",
      "train_logger: INFO     done validation - 53261\n",
      "train_logger: INFO     optimizer: main_opt\n",
      "train_logger: INFO     objective: main_obj\n",
      "train_logger: INFO     epoch main_obj - abalone train: 18\n",
      "train_logger: INFO     done validation - 56394\n",
      "train_logger: INFO     optimizer: main_opt\n",
      "train_logger: INFO     objective: main_obj\n",
      "train_logger: INFO     epoch main_obj - abalone train: 19\n",
      "train_logger: INFO     done validation - 59527\n",
      "train_logger: INFO     optimizer: second_opt\n",
      "train_logger: INFO     objective: second_obj\n",
      "train_logger: INFO     epoch second_obj - abalone train: 17\n",
      "train_logger: INFO     done validation - 53261\n",
      "train_logger: INFO     optimizer: main_opt\n",
      "train_logger: INFO     objective: main_obj\n",
      "train_logger: INFO     main_opt removed from list of opt. remaining: ['second_opt']\n",
      "train_logger: INFO     is_training: True\n",
      "train_logger: INFO     epoch main_obj - abalone train: 20\n",
      "train_logger: INFO     done validation - 62660\n",
      "train_logger: INFO     optimizer: second_opt\n",
      "train_logger: INFO     objective: second_obj\n",
      "train_logger: INFO     epoch second_obj - abalone train: 18\n",
      "train_logger: INFO     done validation - 56394\n",
      "train_logger: INFO     optimizer: second_opt\n",
      "train_logger: INFO     objective: second_obj\n",
      "train_logger: INFO     epoch second_obj - abalone train: 19\n",
      "train_logger: INFO     done validation - 59527\n",
      "train_logger: INFO     optimizer: second_opt\n",
      "train_logger: INFO     objective: second_obj\n",
      "train_logger: INFO     second_opt removed from list of opt. remaining: []\n",
      "train_logger: INFO     is_training: False\n",
      "train_logger: INFO     epoch second_obj - abalone train: 20\n",
      "train_logger: INFO     done validation - 62660\n"
     ]
    }
   ],
   "source": [
    "train_dict = yml.train_model(model, yml_dict, ds_dict)"
   ]
  },
  {
   "cell_type": "code",
   "execution_count": 15,
   "metadata": {},
   "outputs": [],
   "source": [
    "def plot_trackers(tracker, skip=0):\n",
    "    plt.plot(tracker.steps[skip:], tracker.values[skip:], 'o--', linewidth=2, markersize=5)"
   ]
  },
  {
   "cell_type": "code",
   "execution_count": 16,
   "metadata": {
    "scrolled": true
   },
   "outputs": [
    {
     "data": {
      "image/png": "[encoded data removed]",
      "text/plain": [
       "<Figure size 432x288 with 1 Axes>"
      ]
     },
     "metadata": {
      "needs_background": "light"
     },
     "output_type": "display_data"
    }
   ],
   "source": [
    "plot_trackers(train_dict[\"tracker\"][\"main_opt\"]['main_obj'][\"loss\"][\"abalone\"]['train'][\"mse\"][\"mean\"])\n",
    "plot_trackers(train_dict[\"tracker\"][\"second_opt\"]['second_obj'][\"loss\"][\"abalone\"]['train'][\"mae\"][\"mean\"])"
   ]
  },
  {
   "cell_type": "code",
   "execution_count": 17,
   "metadata": {},
   "outputs": [
    {
     "data": {
      "image/png": "[encoded data removed]",
      "text/plain": [
       "<Figure size 432x288 with 1 Axes>"
      ]
     },
     "metadata": {
      "needs_background": "light"
     },
     "output_type": "display_data"
    }
   ],
   "source": [
    "plot_trackers(train_dict[\"tracker\"][\"main_opt\"]['main_obj'][\"loss\"][\"abalone\"]['val'][\"mse\"][\"mean\"],1)\n",
    "plot_trackers(train_dict[\"tracker\"][\"second_opt\"]['second_obj'][\"loss\"][\"abalone\"]['val'][\"mae\"][\"mean\"],1)"
   ]
  },
  {
   "cell_type": "code",
   "execution_count": 18,
   "metadata": {},
   "outputs": [
    {
     "data": {
      "image/png": "[encoded data removed]",
      "text/plain": [
       "<Figure size 432x288 with 1 Axes>"
      ]
     },
     "metadata": {
      "needs_background": "light"
     },
     "output_type": "display_data"
    }
   ],
   "source": [
    "plot_trackers(train_dict[\"tracker\"][\"main_opt\"]['main_obj'][\"metrics\"][\"abalone\"]['train'][\"meansquarederror\"])\n",
    "plot_trackers(train_dict[\"tracker\"][\"main_opt\"]['main_obj'][\"metrics\"][\"abalone\"]['val'][\"meansquarederror\"])"
   ]
  },
  {
   "cell_type": "code",
   "execution_count": 19,
   "metadata": {},
   "outputs": [
    {
     "data": {
      "image/png": "[encoded data removed]",
      "text/plain": [
       "<Figure size 432x288 with 1 Axes>"
      ]
     },
     "metadata": {
      "needs_background": "light"
     },
     "output_type": "display_data"
    }
   ],
   "source": [
    "plot_trackers(train_dict[\"tracker\"][\"second_opt\"]['second_obj'][\"metrics\"][\"abalone\"]['train'][\"meanabsoluteerror\"])\n",
    "plot_trackers(train_dict[\"tracker\"][\"second_opt\"]['second_obj'][\"metrics\"][\"abalone\"]['val'][\"meanabsoluteerror\"])"
   ]
  },
  {
   "cell_type": "markdown",
   "metadata": {},
   "source": [
    "## Evaluate the Model"
   ]
  },
  {
   "cell_type": "code",
   "execution_count": 20,
   "metadata": {},
   "outputs": [],
   "source": [
    "# eval_dict = yml.eval_model(\n",
    "#     model,\n",
    "#     yml_dict,\n",
    "#     dataset=ds_dict[\"test\"]\n",
    "# )\n",
    "# print(eval_dict)"
   ]
  },
  {
   "cell_type": "markdown",
   "metadata": {},
   "source": [
    "## Inspect model in Tensorflow\n",
    "\n",
    "In the command line you can navigate to the `albalone` directory and run: (provided tensorboard is installed in your environment)\n",
    "\n",
    "```bash\n",
    "tensorboard --logdir model_a/\n",
    "```"
   ]
  },
  {
   "cell_type": "code",
   "execution_count": null,
   "metadata": {},
   "outputs": [],
   "source": []
  },
  {
   "cell_type": "code",
   "execution_count": null,
   "metadata": {},
   "outputs": [],
   "source": []
  }
 ],
 "metadata": {
  "kernelspec": {
   "display_name": "tf2",
   "language": "python",
   "name": "tf2"
  },
  "language_info": {
   "codemirror_mode": {
    "name": "ipython",
    "version": 3
   },
   "file_extension": ".py",
   "mimetype": "text/x-python",
   "name": "python",
   "nbconvert_exporter": "python",
   "pygments_lexer": "ipython3",
   "version": "3.6.7"
  }
 },
 "nbformat": 4,
 "nbformat_minor": 2
}
