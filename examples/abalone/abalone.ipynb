{
 "cells": [
  {
   "cell_type": "markdown",
   "metadata": {},
   "source": [
    "# Abalone\n",
    "\n",
    "In this example, we'll demonstrate how to use [dataduit](https://github.com/JackBurdick/dataduit) to create tensorflow datasets from a pandas dataframe by specifying a config file.\n",
    "\n",
    "We'll then demonstrate how to use yeahml to create/build/evaluate a model on the created data.\n",
    "\n",
    "#### Note:\n",
    "> The model for this project likely doesn't make sense. I am not personally familiar with the dataset/problem, I was interested showing an example"
   ]
  },
  {
   "cell_type": "code",
   "execution_count": 1,
   "metadata": {},
   "outputs": [],
   "source": [
    "%load_ext autoreload\n",
    "%autoreload 2"
   ]
  },
  {
   "cell_type": "code",
   "execution_count": 2,
   "metadata": {
    "scrolled": false
   },
   "outputs": [],
   "source": [
    "import pandas as pd\n",
    "import tensorflow as tf\n",
    "import dataduit as dd\n",
    "import yeahml as yml"
   ]
  },
  {
   "cell_type": "markdown",
   "metadata": {},
   "source": [
    "## Create Datasets"
   ]
  },
  {
   "cell_type": "code",
   "execution_count": 3,
   "metadata": {},
   "outputs": [],
   "source": [
    "# Reading a file from online\n",
    "# more information can be found here:\n",
    "# > https://archive.ics.uci.edu/ml/machine-learning-databases/abalone/\n",
    "h = [\"sex\",\n",
    "\"length\",\n",
    "\"diameter\",\n",
    "\"height\",\n",
    "\"whole_weight\",\n",
    "\"shucked_weight\",\n",
    "\"viscera_weight\",\n",
    "\"shell_weight\",\n",
    "\"rings\"]\n",
    "df = pd.read_csv('https://archive.ics.uci.edu/ml/machine-learning-databases/abalone/abalone.data',names=h)"
   ]
  },
  {
   "cell_type": "code",
   "execution_count": 4,
   "metadata": {},
   "outputs": [],
   "source": [
    "# only use 2 of the features\n",
    "dd_dict = {\n",
    "    \"meta\": {\n",
    "        \"name\": \"abalone\",\n",
    "        \"logging\": {\"log_stream_level\": \"INFO\"},\n",
    "        \"in\": {\"from\": \"memory\", \"type\": \"pandas\"},\n",
    "    },\n",
    "    \"read\": {\n",
    "        \"split_percents\": [75, 15, 10],\n",
    "        \"split_names\": [\"train\", \"val\", \"test\"],\n",
    "        \"iterate\": {\n",
    "            \"return_type\": \"tuple\",\n",
    "            \"schema\": {\n",
    "                \"x\": {\n",
    "                    \"length\": {\n",
    "                        \"indicator\": \"length\",\n",
    "                        \"datatype\": {\n",
    "                            \"in\": {\"options\": {\"dtype\": \"float64\", \"shape\": 1}},\n",
    "                            \"out\": {},\n",
    "                        },\n",
    "                        \"special\": \"decode\",\n",
    "                    },\n",
    "                    \"diameter\": {\n",
    "                        \"indicator\": \"diameter\",\n",
    "                        \"datatype\": {\n",
    "                            \"in\": {\"options\": {\"dtype\": \"float64\", \"shape\": 1}},\n",
    "                            \"out\": {},\n",
    "                        },\n",
    "                        \"special\": \"decode\",\n",
    "                    },\n",
    "                },\n",
    "                \"y\": {\n",
    "                    \"rings\": {\n",
    "                        \"datatype\": {\n",
    "                            \"in\": {\"options\": {\"dtype\": \"int64\", \"shape\": 1}},\n",
    "                            \"out\": {},\n",
    "                        }\n",
    "                    }\n",
    "                },\n",
    "            },\n",
    "        },\n",
    "    },\n",
    "}"
   ]
  },
  {
   "cell_type": "code",
   "execution_count": 5,
   "metadata": {},
   "outputs": [],
   "source": [
    "# create the datasets based on the above defined names/splits/specifed data\n",
    "ds_dict = dd.read(dd_dict, df)"
   ]
  },
  {
   "cell_type": "markdown",
   "metadata": {},
   "source": [
    "`ds_dict` is a dictionary containing the tensorflow datasets (as specified above). which can be accessed like this:\n",
    "\n",
    "```python\n",
    "ds_val = ds_dict[\"val\"]\n",
    "```"
   ]
  },
  {
   "cell_type": "markdown",
   "metadata": {},
   "source": [
    "## Specify the Model"
   ]
  },
  {
   "cell_type": "code",
   "execution_count": 6,
   "metadata": {},
   "outputs": [],
   "source": [
    "# %load_ext autoreload\n",
    "# %autoreload 2\n",
    "# import yeahml as yml"
   ]
  },
  {
   "cell_type": "code",
   "execution_count": 7,
   "metadata": {
    "scrolled": false
   },
   "outputs": [],
   "source": [
    "example = \"./main_config.yml\"\n",
    "yml_dict = yml.create_configs(example)"
   ]
  },
  {
   "cell_type": "code",
   "execution_count": 8,
   "metadata": {
    "scrolled": true
   },
   "outputs": [],
   "source": [
    "# import pprint\n",
    "# pprint.pprint(yml_dict['hyper_parameters'])\n",
    "# pprint.pprint(yml_dict['optimize'])\n",
    "# pprint.pprint(yml_dict['performance'])"
   ]
  },
  {
   "cell_type": "markdown",
   "metadata": {},
   "source": [
    "## Build the model"
   ]
  },
  {
   "cell_type": "code",
   "execution_count": 9,
   "metadata": {
    "scrolled": false
   },
   "outputs": [
    {
     "name": "stderr",
     "output_type": "stream",
     "text": [
      "build_logger: INFO     -> START building graph\n",
      "WARNING: Logging before flag parsing goes to stderr.\n",
      "W0322 15:52:52.954067 139982176470848 base_layer.py:1790] Layer flatten_1 is casting an input tensor from dtype float64 to the layer's dtype of float32, which is new behavior in TensorFlow 2.  The layer has dtype float32 because it's dtype defaults to floatx.\n",
      "\n",
      "If you intended to run this layer in float32, you can safely ignore this warning. If in doubt, this warning is likely only an issue if you are porting a TensorFlow 1.X model to TensorFlow 2.\n",
      "\n",
      "To change all layers to have dtype float64 by default, call `tf.keras.backend.set_floatx('float64')`. To change just this layer, pass dtype='float64' to the layer constructor. If you are the author of this layer, you can disable autocasting by passing autocast=False to the base Layer constructor.\n",
      "\n",
      "build_logger: INFO     information json file created\n"
     ]
    }
   ],
   "source": [
    "# If you receive an error:\n",
    "# AttributeError: 'google.protobuf.pyext._message.RepeatedCompositeCo' object has no attribute 'append'\n",
    "# I personally used `pip install -U protobuf=3.8.0` to resolve\n",
    "# per https://github.com/tensorflow/tensorflow/issues/33348\n",
    "model = yml.build_model(yml_dict)"
   ]
  },
  {
   "cell_type": "code",
   "execution_count": 10,
   "metadata": {},
   "outputs": [
    {
     "name": "stdout",
     "output_type": "stream",
     "text": [
      "Model: \"model\"\n",
      "__________________________________________________________________________________________________\n",
      "Layer (type)                    Output Shape         Param #     Connected to                     \n",
      "==================================================================================================\n",
      "feature_a (InputLayer)          [(None, 2, 1)]       0                                            \n",
      "__________________________________________________________________________________________________\n",
      "flatten_1 (Flatten)             (None, 2)            0           feature_a[0][0]                  \n",
      "__________________________________________________________________________________________________\n",
      "dense_1 (Dense)                 (None, 16)           48          flatten_1[0][0]                  \n",
      "__________________________________________________________________________________________________\n",
      "dense_2 (Dense)                 (None, 8)            136         dense_1[0][0]                    \n",
      "__________________________________________________________________________________________________\n",
      "dense_2b (Dense)                (None, 8)            136         dense_1[0][0]                    \n",
      "__________________________________________________________________________________________________\n",
      "concat_1 (Concatenate)          (None, 16)           0           dense_2[0][0]                    \n",
      "                                                                 dense_2b[0][0]                   \n",
      "__________________________________________________________________________________________________\n",
      "dense_3a (Dense)                (None, 8)            136         concat_1[0][0]                   \n",
      "__________________________________________________________________________________________________\n",
      "dense_3b (Dense)                (None, 8)            72          dense_2[0][0]                    \n",
      "__________________________________________________________________________________________________\n",
      "concat_3 (Concatenate)          (None, 16)           0           dense_3a[0][0]                   \n",
      "                                                                 dense_3b[0][0]                   \n",
      "__________________________________________________________________________________________________\n",
      "dense_out (Dense)               (None, 1)            17          concat_3[0][0]                   \n",
      "==================================================================================================\n",
      "Total params: 545\n",
      "Trainable params: 545\n",
      "Non-trainable params: 0\n",
      "__________________________________________________________________________________________________\n"
     ]
    }
   ],
   "source": [
    "model.summary()"
   ]
  },
  {
   "cell_type": "markdown",
   "metadata": {},
   "source": [
    "## Train the Model\n",
    "\n",
    "Notice here that we're using the created training and validation sets from `ds_dict`"
   ]
  },
  {
   "cell_type": "code",
   "execution_count": 11,
   "metadata": {},
   "outputs": [],
   "source": [
    "# import pprint\n",
    "# pprint.pprint(yml_dict['optimize'])\n",
    "# print(\"--\")\n",
    "# pprint.pprint(yml_dict['performance'])"
   ]
  },
  {
   "cell_type": "code",
   "execution_count": 12,
   "metadata": {
    "scrolled": true
   },
   "outputs": [
    {
     "name": "stderr",
     "output_type": "stream",
     "text": [
      "train_logger: INFO     -> START training graph\n"
     ]
    }
   ],
   "source": [
    "train_dict = yml.train_model(model, yml_dict, (ds_dict[\"train\"], ds_dict[\"val\"]))"
   ]
  },
  {
   "cell_type": "code",
   "execution_count": 13,
   "metadata": {},
   "outputs": [
    {
     "name": "stdout",
     "output_type": "stream",
     "text": [
      "{'loss': {'main_obj': {'train': {'mean': {'epoch': {'best': 10.915673, 'steps': [0, 1, 2, 3, 4, 5, 6, 7, 8, 9, 10, 11, 12, 13, 14, 15, 16, 17, 18, 19, 20, 21, 22, 23, 24, 25, 26, 27, 28, 29], 'values': [98.86153, 63.144627, 23.404459, 11.672293, 11.311729, 11.283953, 11.260312, 11.236186, 11.212077, 11.189831, 11.167494, 11.145869, 11.126118, 11.106438, 11.088249, 11.070588, 11.054109, 11.038118, 11.023775, 11.010006, 10.997562, 10.985516, 10.974818, 10.964202, 10.954963, 10.94552, 10.93713, 10.929206, 10.921472, 10.915673]}}}, 'val': {'mean': {'epoch': {'best': 10.531285, 'steps': [0, 1, 2, 3, 4, 5, 6, 7, 8, 9, 10, 11, 12, 13, 14, 15, 16, 17, 18, 19, 20, 21, 22, 23, 24, 25, 26, 27, 28, 29], 'values': [93.15002, 53.72584, 18.21077, 11.053293, 10.880101, 10.852899, 10.828446, 10.805059, 10.78275, 10.761921, 10.7420225, 10.723212, 10.705558, 10.688909, 10.67334, 10.658593, 10.644756, 10.631747, 10.61966, 10.608288, 10.59775, 10.587933, 10.578856, 10.570427, 10.562568, 10.555262, 10.548506, 10.54222, 10.5364685, 10.531285]}}}}, 'second_obj': {'train': {'mean': {'epoch': {'best': 2.4154303, 'steps': [0, 1, 2, 3, 4, 5, 6, 7, 8, 9, 10, 11, 12, 13, 14, 15, 16, 17, 18, 19, 20, 21, 22, 23, 24, 25, 26, 27, 28, 29], 'values': [8.483184, 5.4794235, 2.7214112, 2.4576652, 2.4596663, 2.457483, 2.4549363, 2.452618, 2.4500873, 2.44762, 2.4451928, 2.442827, 2.4404485, 2.438198, 2.436097, 2.4339805, 2.4319687, 2.4300985, 2.4282625, 2.4266312, 2.425047, 2.4234724, 2.4222045, 2.421002, 2.4198718, 2.4187508, 2.4177787, 2.4168878, 2.416116, 2.4154303]}}}, 'val': {'mean': {'epoch': {'best': 2.3612266, 'steps': [0, 1, 2, 3, 4, 5, 6, 7, 8, 9, 10, 11, 12, 13, 14, 15, 16, 17, 18, 19, 20, 21, 22, 23, 24, 25, 26, 27, 28, 29], 'values': [8.072862, 4.5719705, 2.4810014, 2.4148707, 2.411939, 2.409095, 2.406205, 2.4033191, 2.4004834, 2.3976588, 2.394898, 2.3921914, 2.389586, 2.3871326, 2.3847303, 2.382423, 2.380171, 2.3780572, 2.376026, 2.3741431, 2.372342, 2.3707244, 2.3691547, 2.3677816, 2.366384, 2.3651145, 2.3639436, 2.3628497, 2.362058, 2.3612266]}}}}}, 'joint': {'main_obj__joint_train': {'train': {'mean': {'epoch': {'best': 10.915673, 'steps': [0, 1, 2, 3, 4, 5, 6, 7, 8, 9, 10, 11, 12, 13, 14, 15, 16, 17, 18, 19, 20, 21, 22, 23, 24, 25, 26, 27, 28, 29], 'values': [98.86153, 63.144627, 23.404459, 11.672293, 11.311729, 11.283953, 11.260312, 11.236186, 11.212077, 11.189831, 11.167494, 11.145869, 11.126118, 11.106438, 11.088249, 11.070588, 11.054109, 11.038118, 11.023775, 11.010006, 10.997562, 10.985516, 10.974818, 10.964202, 10.954963, 10.94552, 10.93713, 10.929206, 10.921472, 10.915673]}}}, 'val': {'mean': {'epoch': {'best': 10.531285, 'steps': [0, 1, 2, 3, 4, 5, 6, 7, 8, 9, 10, 11, 12, 13, 14, 15, 16, 17, 18, 19, 20, 21, 22, 23, 24, 25, 26, 27, 28, 29], 'values': [93.15002, 53.72584, 18.21077, 11.053293, 10.880101, 10.852899, 10.828446, 10.805059, 10.78275, 10.761921, 10.7420225, 10.723212, 10.705558, 10.688909, 10.67334, 10.658593, 10.644756, 10.631747, 10.61966, 10.608288, 10.59775, 10.587933, 10.578856, 10.570427, 10.562568, 10.555262, 10.548506, 10.54222, 10.5364685, 10.531285]}}}}, 'second_obj__joint_train': {'train': {'mean': {'epoch': {'best': 2.4154303, 'steps': [0, 1, 2, 3, 4, 5, 6, 7, 8, 9, 10, 11, 12, 13, 14, 15, 16, 17, 18, 19, 20, 21, 22, 23, 24, 25, 26, 27, 28, 29], 'values': [8.483184, 5.4794235, 2.7214112, 2.4576652, 2.4596663, 2.457483, 2.4549363, 2.452618, 2.4500873, 2.44762, 2.4451928, 2.442827, 2.4404485, 2.438198, 2.436097, 2.4339805, 2.4319687, 2.4300985, 2.4282625, 2.4266312, 2.425047, 2.4234724, 2.4222045, 2.421002, 2.4198718, 2.4187508, 2.4177787, 2.4168878, 2.416116, 2.4154303]}}}, 'val': {'mean': {'epoch': {'best': 2.3612266, 'steps': [0, 1, 2, 3, 4, 5, 6, 7, 8, 9, 10, 11, 12, 13, 14, 15, 16, 17, 18, 19, 20, 21, 22, 23, 24, 25, 26, 27, 28, 29], 'values': [8.072862, 4.5719705, 2.4810014, 2.4148707, 2.411939, 2.409095, 2.406205, 2.4033191, 2.4004834, 2.3976588, 2.394898, 2.3921914, 2.389586, 2.3871326, 2.3847303, 2.382423, 2.380171, 2.3780572, 2.376026, 2.3741431, 2.372342, 2.3707244, 2.3691547, 2.3677816, 2.366384, 2.3651145, 2.3639436, 2.3628497, 2.362058, 2.3612266]}}}}}, 'metrics': {'train': {'meansquarederror': {'epoch': {'best': 8.669888, 'steps': [0, 0, 1, 1, 2, 2, 3, 3, 4, 4, 5, 5, 6, 6, 7, 7, 8, 8, 9, 9, 10, 10, 11, 11, 12, 12, 13, 13, 14, 14, 15, 15, 16, 16, 17, 17, 18, 18, 19, 19, 20, 20, 21, 21, 22, 22, 23, 23, 24, 24, 25, 25, 26, 26, 27, 27, 28, 28, 29, 29], 'values': [98.60212, 82.21898, 62.184254, 39.316986, 21.500723, 11.951352, 9.081594, 8.795052, 8.669888, 8.763018, 8.688825, 8.798001, 8.716679, 8.834594, 8.7458, 8.870575, 8.776629, 8.909926, 8.810906, 8.94932, 8.845511, 8.988698, 8.881118, 9.029613, 8.91937, 9.06838, 8.956534, 9.1069975, 8.994856, 9.1458, 9.033348, 9.183678, 9.072504, 9.221937, 9.111138, 9.261185, 9.150617, 9.298184, 9.18978, 9.337894, 9.229103, 9.375879, 9.267253, 9.415646, 9.305567, 9.450427, 9.342116, 9.487475, 9.379516, 9.524673, 9.4148655, 9.559027, 9.45021, 9.591315, 9.484873, 9.623575, 9.517658, 9.658559, 9.551066, 9.689786]}}, 'meanabsoluteerror': {'epoch': {'best': 2.066821, 'steps': [0, 0, 1, 1, 2, 2, 3, 3, 4, 4, 5, 5, 6, 6, 7, 7, 8, 8, 9, 9, 10, 10, 11, 11, 12, 12, 13, 13, 14, 14, 15, 15, 16, 16, 17, 17, 18, 18, 19, 19, 20, 20, 21, 21, 22, 22, 23, 23, 24, 24, 25, 25, 26, 26, 27, 27, 28, 28, 29, 29], 'values': [9.383993, 8.483724, 7.2267656, 5.448981, 3.5894349, 2.3514109, 2.066821, 2.0681193, 2.0791428, 2.0809298, 2.0862167, 2.0869236, 2.092879, 2.0927749, 2.0998833, 2.0992706, 2.1071036, 2.1056, 2.1140811, 2.1121252, 2.1212673, 2.1187289, 2.1284559, 2.1254132, 2.1353018, 2.1319752, 2.1423082, 2.1385605, 2.149074, 2.1452358, 2.1558518, 2.151818, 2.16243, 2.1583297, 2.1690137, 2.164846, 2.1752222, 2.1712077, 2.1814094, 2.17756, 2.1872807, 2.1836605, 2.1931283, 2.1895242, 2.1986475, 2.1955252, 2.2042215, 2.2013836, 2.2094467, 2.2070978, 2.2147918, 2.2125688, 2.2198918, 2.2179904, 2.2248957, 2.2231925, 2.2298303, 2.2282395, 2.2341557, 2.2331111]}}}, 'val': {'meansquarederror': {'epoch': {'best': 7.840348, 'steps': [0, 0, 1, 1, 2, 2, 3, 3, 4, 4, 5, 5, 6, 6, 7, 7, 8, 8, 9, 9, 10, 10, 11, 11, 12, 12, 13, 13, 14, 14, 15, 15, 16, 16, 17, 17, 18, 18, 19, 19, 20, 20, 21, 21, 22, 22, 23, 23, 24, 24, 25, 25, 26, 26, 27, 27, 28, 28, 29, 29], 'values': [90.68258, 73.06092, 51.009956, 27.93912, 15.277025, 9.059331, 7.9906063, 8.092992, 7.840348, 8.098409, 7.8563056, 8.128883, 7.877798, 8.156952, 7.902177, 8.183626, 7.9292545, 8.215669, 7.9586506, 8.244384, 7.9896336, 8.272402, 8.021949, 8.306153, 8.055537, 8.334364, 8.089512, 8.36525, 8.123956, 8.3945265, 8.158955, 8.425408, 8.19421, 8.45353, 8.229526, 8.486031, 8.264654, 8.517031, 8.299766, 8.5507555, 8.3344145, 8.581043, 8.368568, 8.614808, 8.402116, 8.643029, 8.43498, 8.676803, 8.467549, 8.703554, 8.499417, 8.733129, 8.530673, 8.76185, 8.561388, 8.786116, 8.591023, 8.819713, 8.619456, 8.847071]}}, 'meanabsoluteerror': {'epoch': {'best': 1.973232, 'steps': [0, 0, 1, 1, 2, 2, 3, 3, 4, 4, 5, 5, 6, 6, 7, 7, 8, 8, 9, 9, 10, 10, 11, 11, 12, 12, 13, 13, 14, 14, 15, 15, 16, 16, 17, 17, 18, 18, 19, 19, 20, 20, 21, 21, 22, 22, 23, 23, 24, 24, 25, 25, 26, 26, 27, 27, 28, 28, 29, 29], 'values': [9.016375, 7.9971204, 6.499127, 4.429187, 2.8608742, 2.0246599, 1.9741843, 1.973232, 2.006971, 1.9784629, 2.0154815, 1.9835827, 2.0232747, 1.9890021, 2.0310502, 1.9947153, 2.038758, 2.0004394, 2.046197, 2.0063863, 2.0535648, 2.0123982, 2.0607786, 2.0183554, 2.0677397, 2.0244355, 2.0745716, 2.0304136, 2.0810723, 2.0364225, 2.087387, 2.0423515, 2.0934603, 2.0482414, 2.0994108, 2.0540187, 2.1050549, 2.0597582, 2.1105833, 2.0653274, 2.1159399, 2.0707767, 2.1213202, 2.0760472, 2.1264307, 2.0812361, 2.1313803, 2.0863993, 2.1361122, 2.0914447, 2.1407182, 2.0963535, 2.1451192, 2.1011658, 2.1493762, 2.1058326, 2.1534562, 2.1104367, 2.1572156, 2.1148698]}}}}}\n"
     ]
    }
   ],
   "source": [
    "print(train_dict)"
   ]
  },
  {
   "cell_type": "code",
   "execution_count": 14,
   "metadata": {},
   "outputs": [],
   "source": [
    "import matplotlib.pyplot as plt"
   ]
  },
  {
   "cell_type": "code",
   "execution_count": 16,
   "metadata": {},
   "outputs": [],
   "source": [
    "# plt.plot(train_dict['joint'][\"main_obj__second_obj__joint_train\"][\"train\"][\"mean\"][\"epoch\"][\"values\"])\n",
    "# plt.plot(train_dict['joint'][\"main_obj__second_obj__joint_train\"][\"val\"][\"mean\"][\"epoch\"][\"values\"])"
   ]
  },
  {
   "cell_type": "code",
   "execution_count": 17,
   "metadata": {},
   "outputs": [
    {
     "data": {
      "text/plain": [
       "[<matplotlib.lines.Line2D at 0x7f4f8034f080>]"
      ]
     },
     "execution_count": 17,
     "metadata": {},
     "output_type": "execute_result"
    },
    {
     "data": {
      "image/png": "[encoded data removed]",
      "text/plain": [
       "<Figure size 432x288 with 1 Axes>"
      ]
     },
     "metadata": {
      "needs_background": "light"
     },
     "output_type": "display_data"
    }
   ],
   "source": [
    "plt.plot(train_dict[\"loss\"][\"main_obj\"]['train'][\"mean\"][\"epoch\"][\"values\"])\n",
    "plt.plot(train_dict[\"loss\"][\"main_obj\"]['val'][\"mean\"][\"epoch\"][\"values\"])"
   ]
  },
  {
   "cell_type": "code",
   "execution_count": 18,
   "metadata": {},
   "outputs": [
    {
     "data": {
      "text/plain": [
       "[<matplotlib.lines.Line2D at 0x7f4f306d29b0>]"
      ]
     },
     "execution_count": 18,
     "metadata": {},
     "output_type": "execute_result"
    },
    {
     "data": {
      "image/png": "[encoded data removed]",
      "text/plain": [
       "<Figure size 432x288 with 1 Axes>"
      ]
     },
     "metadata": {
      "needs_background": "light"
     },
     "output_type": "display_data"
    }
   ],
   "source": [
    "plt.plot(train_dict[\"loss\"][\"second_obj\"]['train'][\"mean\"][\"epoch\"][\"values\"])\n",
    "plt.plot(train_dict[\"loss\"][\"second_obj\"]['val'][\"mean\"][\"epoch\"][\"values\"])"
   ]
  },
  {
   "cell_type": "markdown",
   "metadata": {},
   "source": [
    "## Evaluate the Model"
   ]
  },
  {
   "cell_type": "code",
   "execution_count": 18,
   "metadata": {},
   "outputs": [
    {
     "ename": "ValueError",
     "evalue": "specified path is neither an h5 path, nor a directory containing directories of h5: yeahml/abalone/trial_00/model/run_2020_03_15-14_02_15/save/params/best_params.h5",
     "output_type": "error",
     "traceback": [
      "\u001b[0;31m---------------------------------------------------------------------------\u001b[0m",
      "\u001b[0;31mValueError\u001b[0m                                Traceback (most recent call last)",
      "\u001b[0;32m<ipython-input-18-388344fb5e3f>\u001b[0m in \u001b[0;36m<module>\u001b[0;34m\u001b[0m\n\u001b[1;32m      2\u001b[0m     \u001b[0mmodel\u001b[0m\u001b[0;34m,\u001b[0m\u001b[0;34m\u001b[0m\u001b[0;34m\u001b[0m\u001b[0m\n\u001b[1;32m      3\u001b[0m     \u001b[0myml_dict\u001b[0m\u001b[0;34m,\u001b[0m\u001b[0;34m\u001b[0m\u001b[0;34m\u001b[0m\u001b[0m\n\u001b[0;32m----> 4\u001b[0;31m     \u001b[0mdataset\u001b[0m\u001b[0;34m=\u001b[0m\u001b[0mds_dict\u001b[0m\u001b[0;34m[\u001b[0m\u001b[0;34m\"test\"\u001b[0m\u001b[0;34m]\u001b[0m\u001b[0;34m\u001b[0m\u001b[0;34m\u001b[0m\u001b[0m\n\u001b[0m\u001b[1;32m      5\u001b[0m )\n\u001b[1;32m      6\u001b[0m \u001b[0mprint\u001b[0m\u001b[0;34m(\u001b[0m\u001b[0meval_dict\u001b[0m\u001b[0;34m)\u001b[0m\u001b[0;34m\u001b[0m\u001b[0;34m\u001b[0m\u001b[0m\n",
      "\u001b[0;32m~/dev/github/YeahML/src/yeahml/evaluate/eval_model.py\u001b[0m in \u001b[0;36meval_model\u001b[0;34m(model, config_dict, dataset, weights_path)\u001b[0m\n\u001b[1;32m     77\u001b[0m     \u001b[0;32mif\u001b[0m \u001b[0;32mnot\u001b[0m \u001b[0mspecified_path\u001b[0m\u001b[0;34m.\u001b[0m\u001b[0mis_file\u001b[0m\u001b[0;34m(\u001b[0m\u001b[0;34m)\u001b[0m\u001b[0;34m:\u001b[0m\u001b[0;34m\u001b[0m\u001b[0;34m\u001b[0m\u001b[0m\n\u001b[1;32m     78\u001b[0m         raise ValueError(\n\u001b[0;32m---> 79\u001b[0;31m             \u001b[0;34mf\"specified path is neither an h5 path, nor a directory containing directories of h5: {specified_path}\"\u001b[0m\u001b[0;34m\u001b[0m\u001b[0;34m\u001b[0m\u001b[0m\n\u001b[0m\u001b[1;32m     80\u001b[0m         )\n\u001b[1;32m     81\u001b[0m \u001b[0;34m\u001b[0m\u001b[0m\n",
      "\u001b[0;31mValueError\u001b[0m: specified path is neither an h5 path, nor a directory containing directories of h5: yeahml/abalone/trial_00/model/run_2020_03_15-14_02_15/save/params/best_params.h5"
     ]
    }
   ],
   "source": [
    "eval_dict = yml.eval_model(\n",
    "    model,\n",
    "    yml_dict,\n",
    "    dataset=ds_dict[\"test\"]\n",
    ")\n",
    "print(eval_dict)"
   ]
  },
  {
   "cell_type": "markdown",
   "metadata": {},
   "source": [
    "## Inspect model in Tensorflow\n",
    "\n",
    "In the command line you can navigate to the `albalone` directory and run: (provided tensorboard is installed in your environment)\n",
    "\n",
    "```bash\n",
    "tensorboard --logdir model_a/\n",
    "```"
   ]
  },
  {
   "cell_type": "code",
   "execution_count": null,
   "metadata": {},
   "outputs": [],
   "source": []
  },
  {
   "cell_type": "code",
   "execution_count": null,
   "metadata": {},
   "outputs": [],
   "source": []
  }
 ],
 "metadata": {
  "kernelspec": {
   "display_name": "tf2",
   "language": "python",
   "name": "tf2"
  },
  "language_info": {
   "codemirror_mode": {
    "name": "ipython",
    "version": 3
   },
   "file_extension": ".py",
   "mimetype": "text/x-python",
   "name": "python",
   "nbconvert_exporter": "python",
   "pygments_lexer": "ipython3",
   "version": "3.6.7"
  }
 },
 "nbformat": 4,
 "nbformat_minor": 2
}
