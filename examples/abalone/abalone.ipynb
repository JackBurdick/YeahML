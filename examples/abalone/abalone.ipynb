{
 "cells": [
  {
   "cell_type": "markdown",
   "metadata": {},
   "source": [
    "# Abalone\n",
    "\n",
    "In this example, we'll demonstrate how to use [dataduit](https://github.com/JackBurdick/dataduit) to create tensorflow datasets from a pandas dataframe by specifying a config file.\n",
    "\n",
    "We'll then demonstrate how to use yeahml to create/build/evaluate a model on the created data.\n",
    "\n",
    "#### Note:\n",
    "> The model for this project likely doesn't make sense. I am not personally familiar with the dataset/problem, I was interested showing an example"
   ]
  },
  {
   "cell_type": "code",
   "execution_count": 1,
   "metadata": {},
   "outputs": [],
   "source": [
    "%load_ext autoreload\n",
    "%autoreload 2"
   ]
  },
  {
   "cell_type": "code",
   "execution_count": 2,
   "metadata": {
    "scrolled": false
   },
   "outputs": [],
   "source": [
    "import pandas as pd\n",
    "import tensorflow as tf\n",
    "import dataduit as dd\n",
    "import yeahml as yml"
   ]
  },
  {
   "cell_type": "markdown",
   "metadata": {},
   "source": [
    "## Create Datasets"
   ]
  },
  {
   "cell_type": "code",
   "execution_count": 3,
   "metadata": {},
   "outputs": [],
   "source": [
    "# Reading a file from online\n",
    "# more information can be found here:\n",
    "# > https://archive.ics.uci.edu/ml/machine-learning-databases/abalone/\n",
    "h = [\"sex\",\n",
    "\"length\",\n",
    "\"diameter\",\n",
    "\"height\",\n",
    "\"whole_weight\",\n",
    "\"shucked_weight\",\n",
    "\"viscera_weight\",\n",
    "\"shell_weight\",\n",
    "\"rings\"]\n",
    "df = pd.read_csv('https://archive.ics.uci.edu/ml/machine-learning-databases/abalone/abalone.data',names=h)"
   ]
  },
  {
   "cell_type": "code",
   "execution_count": 4,
   "metadata": {},
   "outputs": [],
   "source": [
    "# only use 2 of the features\n",
    "dd_dict = {\n",
    "    \"meta\": {\n",
    "        \"name\": \"abalone\",\n",
    "        \"logging\": {\"log_stream_level\": \"INFO\"},\n",
    "        \"in\": {\"from\": \"memory\", \"type\": \"pandas\"},\n",
    "    },\n",
    "    \"read\": {\n",
    "        \"split_percents\": [75, 15, 10],\n",
    "        \"split_names\": [\"train\", \"val\", \"test\"],\n",
    "        \"iterate\": {\n",
    "            \"return_type\": \"tuple\",\n",
    "            \"schema\": {\n",
    "                \"x\": {\n",
    "                    \"length\": {\n",
    "                        \"indicator\": \"length\",\n",
    "                        \"datatype\": {\n",
    "                            \"in\": {\"options\": {\"dtype\": \"float64\", \"shape\": 1}},\n",
    "                            \"out\": {},\n",
    "                        },\n",
    "                        \"special\": \"decode\",\n",
    "                    },\n",
    "                    \"diameter\": {\n",
    "                        \"indicator\": \"diameter\",\n",
    "                        \"datatype\": {\n",
    "                            \"in\": {\"options\": {\"dtype\": \"float64\", \"shape\": 1}},\n",
    "                            \"out\": {},\n",
    "                        },\n",
    "                        \"special\": \"decode\",\n",
    "                    },\n",
    "                },\n",
    "                \"y\": {\n",
    "                    \"rings\": {\n",
    "                        \"datatype\": {\n",
    "                            \"in\": {\"options\": {\"dtype\": \"int64\", \"shape\": 1}},\n",
    "                            \"out\": {},\n",
    "                        }\n",
    "                    }\n",
    "                },\n",
    "            },\n",
    "        },\n",
    "    },\n",
    "}"
   ]
  },
  {
   "cell_type": "code",
   "execution_count": 5,
   "metadata": {},
   "outputs": [],
   "source": [
    "# create the datasets based on the above defined names/splits/specifed data\n",
    "ds_dict = dd.read(dd_dict, df)"
   ]
  },
  {
   "cell_type": "markdown",
   "metadata": {},
   "source": [
    "`ds_dict` is a dictionary containing the tensorflow datasets (as specified above). which can be accessed like this:\n",
    "\n",
    "```python\n",
    "ds_val = ds_dict[\"val\"]\n",
    "```"
   ]
  },
  {
   "cell_type": "markdown",
   "metadata": {},
   "source": [
    "## Specify the Model"
   ]
  },
  {
   "cell_type": "code",
   "execution_count": 6,
   "metadata": {
    "scrolled": false
   },
   "outputs": [],
   "source": [
    "# %load_ext autoreload\n",
    "# %autoreload 2\n",
    "# import yeahml as yml\n",
    "example = \"./main_config.yml\"\n",
    "yml_dict = yml.create_configs(example)"
   ]
  },
  {
   "cell_type": "code",
   "execution_count": 7,
   "metadata": {
    "scrolled": true
   },
   "outputs": [
    {
     "name": "stdout",
     "output_type": "stream",
     "text": [
      "{'dense_out': {'sequence': [((2,\n",
      "                              [[((2,\n",
      "                                  [['feature_a',\n",
      "                                    'flatten_1',\n",
      "                                    'dense_1',\n",
      "                                    'dense_2'],\n",
      "                                   ['feature_a',\n",
      "                                    'flatten_1',\n",
      "                                    'dense_1',\n",
      "                                    'dense_2b']]),\n",
      "                                 'concat_1'),\n",
      "                                'concat_1',\n",
      "                                'dense_3a'],\n",
      "                               ['feature_a',\n",
      "                                'flatten_1',\n",
      "                                'dense_1',\n",
      "                                'dense_2',\n",
      "                                'dense_3b']]),\n",
      "                             'concat_3'),\n",
      "                            'concat_3',\n",
      "                            'dense_out']}}\n"
     ]
    }
   ],
   "source": [
    "import pprint\n",
    "pprint.pprint(yml_dict[\"subgraphs\"])"
   ]
  },
  {
   "cell_type": "markdown",
   "metadata": {},
   "source": [
    "## Build the model"
   ]
  },
  {
   "cell_type": "code",
   "execution_count": 8,
   "metadata": {
    "scrolled": false
   },
   "outputs": [
    {
     "name": "stderr",
     "output_type": "stream",
     "text": [
      "build_logger: INFO     -> START building graph\n",
      "WARNING: Logging before flag parsing goes to stderr.\n",
      "W0311 17:03:05.084430 140657664378688 base_layer.py:1790] Layer flatten_1 is casting an input tensor from dtype float64 to the layer's dtype of float32, which is new behavior in TensorFlow 2.  The layer has dtype float32 because it's dtype defaults to floatx.\n",
      "\n",
      "If you intended to run this layer in float32, you can safely ignore this warning. If in doubt, this warning is likely only an issue if you are porting a TensorFlow 1.X model to TensorFlow 2.\n",
      "\n",
      "To change all layers to have dtype float64 by default, call `tf.keras.backend.set_floatx('float64')`. To change just this layer, pass dtype='float64' to the layer constructor. If you are the author of this layer, you can disable autocasting by passing autocast=False to the base Layer constructor.\n",
      "\n",
      "build_logger: INFO     information json file created\n"
     ]
    }
   ],
   "source": [
    "# If you receive an error:\n",
    "# AttributeError: 'google.protobuf.pyext._message.RepeatedCompositeCo' object has no attribute 'append'\n",
    "# I personally used `pip install -U protobuf=3.8.0` to resolve\n",
    "# per https://github.com/tensorflow/tensorflow/issues/33348\n",
    "model = yml.build_model(yml_dict)"
   ]
  },
  {
   "cell_type": "code",
   "execution_count": 9,
   "metadata": {},
   "outputs": [
    {
     "name": "stdout",
     "output_type": "stream",
     "text": [
      "Model: \"model\"\n",
      "__________________________________________________________________________________________________\n",
      "Layer (type)                    Output Shape         Param #     Connected to                     \n",
      "==================================================================================================\n",
      "feature_a (InputLayer)          [(None, 2, 1)]       0                                            \n",
      "__________________________________________________________________________________________________\n",
      "flatten_1 (Flatten)             (None, 2)            0           feature_a[0][0]                  \n",
      "__________________________________________________________________________________________________\n",
      "dense_1 (Dense)                 (None, 16)           48          flatten_1[0][0]                  \n",
      "__________________________________________________________________________________________________\n",
      "dense_2 (Dense)                 (None, 8)            136         dense_1[0][0]                    \n",
      "__________________________________________________________________________________________________\n",
      "dense_2b (Dense)                (None, 8)            136         dense_1[0][0]                    \n",
      "__________________________________________________________________________________________________\n",
      "concat_1 (Concatenate)          (None, 16)           0           dense_2[0][0]                    \n",
      "                                                                 dense_2b[0][0]                   \n",
      "__________________________________________________________________________________________________\n",
      "dense_3a (Dense)                (None, 8)            136         concat_1[0][0]                   \n",
      "__________________________________________________________________________________________________\n",
      "dense_3b (Dense)                (None, 8)            72          dense_2[0][0]                    \n",
      "__________________________________________________________________________________________________\n",
      "concat_3 (Concatenate)          (None, 16)           0           dense_3a[0][0]                   \n",
      "                                                                 dense_3b[0][0]                   \n",
      "__________________________________________________________________________________________________\n",
      "dense_out (Dense)               (None, 1)            17          concat_3[0][0]                   \n",
      "==================================================================================================\n",
      "Total params: 545\n",
      "Trainable params: 545\n",
      "Non-trainable params: 0\n",
      "__________________________________________________________________________________________________\n"
     ]
    }
   ],
   "source": [
    "model.summary()"
   ]
  },
  {
   "cell_type": "markdown",
   "metadata": {},
   "source": [
    "## Train the Model\n",
    "\n",
    "Notice here that we're using the created training and validation sets from `ds_dict`"
   ]
  },
  {
   "cell_type": "code",
   "execution_count": 10,
   "metadata": {
    "scrolled": true
   },
   "outputs": [
    {
     "name": "stderr",
     "output_type": "stream",
     "text": [
      "train_logger: INFO     -> START training graph\n",
      "train_logger: INFO     start creating train_dict\n",
      "train_logger: INFO     [END] creating train_dict\n"
     ]
    }
   ],
   "source": [
    "train_dict = yml.train_model(model, yml_dict, (ds_dict[\"train\"], ds_dict[\"val\"]))"
   ]
  },
  {
   "cell_type": "code",
   "execution_count": 11,
   "metadata": {},
   "outputs": [
    {
     "name": "stdout",
     "output_type": "stream",
     "text": [
      "{'train_losses': [98.86153, 82.09828, 61.93428, 41.781635, 25.87617, 16.368034, 12.445256, 11.432039, 11.273733, 11.2540865, 11.245658, 11.23651, 11.226537, 11.21602, 11.205081, 11.1938, 11.182244, 11.170487, 11.158597, 11.146648, 11.134712, 11.1228485, 11.111124, 11.09959, 11.088282, 11.077237, 11.066508, 11.056091, 11.0460205, 11.036299], 'val_losses': [90.79514, 71.904106, 50.739506, 31.959602, 18.997303, 12.570291, 10.521917, 10.129151, 10.078239, 10.06737, 10.058612, 10.049304, 10.039502, 10.02932, 10.018826, 10.008089, 9.997165, 9.986119, 9.975015, 9.963911, 9.952863, 9.941925, 9.931147, 9.920564, 9.910216, 9.900133, 9.890341, 9.880853, 9.871686, 9.862852], 'epochs': [0, 1, 2, 3, 4, 5, 6, 7, 8, 9, 10, 11, 12, 13, 14, 15, 16, 17, 18, 19, 20, 21, 22, 23, 24, 25, 26, 27, 28, 29], 'meansquarederror': 9.004641, 'val_meansquarederror': 8.18518, 'meanabsoluteerror': 2.1914637, 'val_meanabsoluteerror': 2.1028595}\n"
     ]
    }
   ],
   "source": [
    "print(train_dict)"
   ]
  },
  {
   "cell_type": "markdown",
   "metadata": {},
   "source": [
    "## Evaluate the Model"
   ]
  },
  {
   "cell_type": "code",
   "execution_count": 12,
   "metadata": {},
   "outputs": [
    {
     "name": "stderr",
     "output_type": "stream",
     "text": [
      "eval_logger : INFO     params loaded from yeahml/abalone/trial_00/model/run_2020_03_11-17_03_10/save/params/best_params.h5\n",
      "eval_logger : INFO     -> START evaluating model\n",
      "eval_logger : INFO     [END] evaluating model\n",
      "eval_logger : INFO     -> START creating eval_dict\n",
      "eval_logger : INFO     [END] creating eval_dict\n"
     ]
    },
    {
     "name": "stdout",
     "output_type": "stream",
     "text": [
      "{'meansquarederror': 6.8508453, 'meanabsoluteerror': 1.9398348}\n"
     ]
    }
   ],
   "source": [
    "eval_dict = yml.eval_model(\n",
    "    model,\n",
    "    yml_dict,\n",
    "    dataset=ds_dict[\"test\"]\n",
    ")\n",
    "print(eval_dict)"
   ]
  },
  {
   "cell_type": "markdown",
   "metadata": {},
   "source": [
    "## Inspect model in Tensorflow\n",
    "\n",
    "In the command line you can navigate to the `albalone` directory and run: (provided tensorboard is installed in your environment)\n",
    "\n",
    "```bash\n",
    "tensorboard --logdir model_a/\n",
    "```"
   ]
  },
  {
   "cell_type": "code",
   "execution_count": null,
   "metadata": {},
   "outputs": [],
   "source": []
  },
  {
   "cell_type": "code",
   "execution_count": null,
   "metadata": {},
   "outputs": [],
   "source": []
  }
 ],
 "metadata": {
  "kernelspec": {
   "display_name": "tf2",
   "language": "python",
   "name": "tf2"
  },
  "language_info": {
   "codemirror_mode": {
    "name": "ipython",
    "version": 3
   },
   "file_extension": ".py",
   "mimetype": "text/x-python",
   "name": "python",
   "nbconvert_exporter": "python",
   "pygments_lexer": "ipython3",
   "version": "3.6.7"
  }
 },
 "nbformat": 4,
 "nbformat_minor": 2
}
