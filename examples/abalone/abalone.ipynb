{
 "cells": [
  {
   "cell_type": "markdown",
   "metadata": {},
   "source": [
    "# Abalone\n",
    "\n",
    "In this example, we'll demonstrate how to use [dataduit](https://github.com/JackBurdick/dataduit) to create tensorflow datasets from a pandas dataframe by specifying a config file.\n",
    "\n",
    "We'll then demonstrate how to use yeahml to create/build/evaluate a model on the created data.\n",
    "\n",
    "#### Note:\n",
    "> The model for this project likely doesn't make sense. I am not personally familiar with the dataset/problem, I was interested showing an example"
   ]
  },
  {
   "cell_type": "code",
   "execution_count": 1,
   "metadata": {},
   "outputs": [],
   "source": [
    "%load_ext autoreload\n",
    "%autoreload 2"
   ]
  },
  {
   "cell_type": "code",
   "execution_count": 2,
   "metadata": {
    "scrolled": false
   },
   "outputs": [],
   "source": [
    "import pandas as pd\n",
    "import tensorflow as tf\n",
    "import dataduit as dd\n",
    "import yeahml as yml\n",
    "import matplotlib.pyplot as plt"
   ]
  },
  {
   "cell_type": "markdown",
   "metadata": {},
   "source": [
    "## Create Datasets"
   ]
  },
  {
   "cell_type": "code",
   "execution_count": 3,
   "metadata": {},
   "outputs": [],
   "source": [
    "# Reading a file from online\n",
    "# more information can be found here:\n",
    "# > https://archive.ics.uci.edu/ml/machine-learning-databases/abalone/\n",
    "h = [\"sex\",\n",
    "\"length\",\n",
    "\"diameter\",\n",
    "\"height\",\n",
    "\"whole_weight\",\n",
    "\"shucked_weight\",\n",
    "\"viscera_weight\",\n",
    "\"shell_weight\",\n",
    "\"rings\"]\n",
    "df = pd.read_csv('https://archive.ics.uci.edu/ml/machine-learning-databases/abalone/abalone.data',names=h)"
   ]
  },
  {
   "cell_type": "code",
   "execution_count": 4,
   "metadata": {},
   "outputs": [],
   "source": [
    "# only use 2 of the features\n",
    "dd_dict = {\n",
    "    \"meta\": {\n",
    "        \"name\": \"abalone\",\n",
    "        \"logging\": {\"log_stream_level\": \"INFO\"},\n",
    "        \"in\": {\"from\": \"memory\", \"type\": \"pandas\"},\n",
    "    },\n",
    "    \"read\": {\n",
    "        \"split_percents\": [75, 15, 10],\n",
    "        \"split_names\": [\"train\", \"val\", \"test\"],\n",
    "        \"iterate\": {\n",
    "            \"return_type\": \"tuple\",\n",
    "            \"schema\": {\n",
    "                \"x\": {\n",
    "                    \"length\": {\n",
    "                        \"indicator\": \"length\",\n",
    "                        \"datatype\": {\n",
    "                            \"in\": {\"options\": {\"dtype\": \"float64\", \"shape\": 1}},\n",
    "                            \"out\": {},\n",
    "                        },\n",
    "                        \"special\": \"decode\",\n",
    "                    },\n",
    "                    \"diameter\": {\n",
    "                        \"indicator\": \"diameter\",\n",
    "                        \"datatype\": {\n",
    "                            \"in\": {\"options\": {\"dtype\": \"float64\", \"shape\": 1}},\n",
    "                            \"out\": {},\n",
    "                        },\n",
    "                        \"special\": \"decode\",\n",
    "                    },\n",
    "                },\n",
    "                \"y\": {\n",
    "                    \"rings\": {\n",
    "                        \"datatype\": {\n",
    "                            \"in\": {\"options\": {\"dtype\": \"int64\", \"shape\": 1}},\n",
    "                            \"out\": {},\n",
    "                        }\n",
    "                    }\n",
    "                },\n",
    "            },\n",
    "        },\n",
    "    },\n",
    "}"
   ]
  },
  {
   "cell_type": "code",
   "execution_count": 5,
   "metadata": {},
   "outputs": [],
   "source": [
    "# create the datasets based on the above defined names/splits/specifed data\n",
    "ds_dict_raw = dd.read(dd_dict, df)"
   ]
  },
  {
   "cell_type": "code",
   "execution_count": 6,
   "metadata": {},
   "outputs": [],
   "source": [
    "ds_dict = {\"abalone\": ds_dict_raw}"
   ]
  },
  {
   "cell_type": "markdown",
   "metadata": {},
   "source": [
    "`ds_dict` is a dictionary containing the tensorflow datasets (as specified above). which can be accessed like this:\n",
    "\n",
    "```python\n",
    "ds_val = ds_dict[\"val\"]\n",
    "```"
   ]
  },
  {
   "cell_type": "markdown",
   "metadata": {},
   "source": [
    "## Specify the Model"
   ]
  },
  {
   "cell_type": "code",
   "execution_count": 7,
   "metadata": {
    "scrolled": true
   },
   "outputs": [],
   "source": [
    "# %load_ext autoreload\n",
    "# %autoreload 2\n",
    "# import yeahml as yml\n",
    "# import tensorflow as tf"
   ]
  },
  {
   "cell_type": "code",
   "execution_count": 8,
   "metadata": {
    "scrolled": true
   },
   "outputs": [],
   "source": [
    "example = \"./main_config.yml\"\n",
    "yml_dict = yml.create_configs(example)"
   ]
  },
  {
   "cell_type": "code",
   "execution_count": 9,
   "metadata": {},
   "outputs": [
    {
     "data": {
      "text/plain": [
       "{'meta': {'yeahml_dir': 'yeahml',\n",
       "  'data_name': 'abalone',\n",
       "  'experiment_name': 'trial_00',\n",
       "  'rand_seed': None,\n",
       "  'trace_level': None,\n",
       "  'default_load_params_path': None},\n",
       " 'logging': {'console': {'level': 'info',\n",
       "   'format_str': '%(name)-12s: %(levelname)-8s %(message)s'},\n",
       "  'file': {'level': 'error',\n",
       "   'format_str': '%(filename)s:%(lineno)s - %(funcName)20s()][%(levelname)-8s]: %(message)s'}},\n",
       " 'performance': {'objectives': {'main_obj': {'loss': {'type': 'mse',\n",
       "     'options': None,\n",
       "     'track': ['mean']},\n",
       "    'metric': {'type': ['meansquarederror'], 'options': [None]},\n",
       "    'in_config': {'type': 'supervised',\n",
       "     'options': {'prediction': 'dense_out', 'target': 'target_v'},\n",
       "     'dataset': 'abalone'}},\n",
       "   'second_obj': {'loss': {'type': 'mae', 'options': None, 'track': ['mean']},\n",
       "    'metric': {'type': ['meanabsoluteerror'], 'options': [None]},\n",
       "    'in_config': {'type': 'supervised',\n",
       "     'options': {'prediction': 'dense_out', 'target': 'target_v'},\n",
       "     'dataset': 'abalone'}}}},\n",
       " 'data': {'datasets': {'abalone': {'in': {'feature_a': {'shape': [2, 1],\n",
       "      'dtype': 'float64',\n",
       "      'startpoint': True,\n",
       "      'endpoint': False,\n",
       "      'label': False},\n",
       "     'target_v': {'shape': [1, 1],\n",
       "      'dtype': 'int32',\n",
       "      'startpoint': True,\n",
       "      'endpoint': True,\n",
       "      'label': True}},\n",
       "    'split': {'names': ['train', 'val']}}}},\n",
       " 'hyper_parameters': {'dataset': {'batch': 16, 'shuffle_buffer': 128},\n",
       "  'epochs': 20,\n",
       "  'early_stopping': {'epochs': None, 'warm_up': None}},\n",
       " 'model': {'layers': {'flatten_1': {'layer_base': {'str': 'flatten',\n",
       "     'func': tensorflow.python.keras.layers.core.Flatten,\n",
       "     'func_args': ['data_format', 'trainable', 'name', 'dtype', 'dynamic'],\n",
       "     'func_defaults': [None, True, None, None, False]},\n",
       "    'options': {'user_vals': []},\n",
       "    'layer_in_name': ['feature_a'],\n",
       "    'startpoint': False,\n",
       "    'endpoint': False},\n",
       "   'dense_1': {'layer_base': {'str': 'dense',\n",
       "     'func': tensorflow.python.keras.layers.core.Dense,\n",
       "     'func_args': ['units',\n",
       "      'activation',\n",
       "      'use_bias',\n",
       "      'kernel_initializer',\n",
       "      'bias_initializer',\n",
       "      'kernel_regularizer',\n",
       "      'bias_regularizer',\n",
       "      'activity_regularizer',\n",
       "      'kernel_constraint',\n",
       "      'bias_constraint',\n",
       "      'trainable',\n",
       "      'name',\n",
       "      'dtype',\n",
       "      'dynamic'],\n",
       "     'func_defaults': [yeahml.build.layers.config.NOTPRESENT,\n",
       "      None,\n",
       "      True,\n",
       "      'glorot_uniform',\n",
       "      'zeros',\n",
       "      None,\n",
       "      None,\n",
       "      None,\n",
       "      None,\n",
       "      None,\n",
       "      True,\n",
       "      None,\n",
       "      None,\n",
       "      False]},\n",
       "    'options': {'user_vals': [16,\n",
       "      None,\n",
       "      True,\n",
       "      'glorot_uniform',\n",
       "      'zeros',\n",
       "      None,\n",
       "      None,\n",
       "      None,\n",
       "      None,\n",
       "      None,\n",
       "      True,\n",
       "      None,\n",
       "      None,\n",
       "      False]},\n",
       "    'layer_in_name': ['flatten_1'],\n",
       "    'startpoint': False,\n",
       "    'endpoint': False},\n",
       "   'dense_2': {'layer_base': {'str': 'dense',\n",
       "     'func': tensorflow.python.keras.layers.core.Dense,\n",
       "     'func_args': ['units',\n",
       "      'activation',\n",
       "      'use_bias',\n",
       "      'kernel_initializer',\n",
       "      'bias_initializer',\n",
       "      'kernel_regularizer',\n",
       "      'bias_regularizer',\n",
       "      'activity_regularizer',\n",
       "      'kernel_constraint',\n",
       "      'bias_constraint',\n",
       "      'trainable',\n",
       "      'name',\n",
       "      'dtype',\n",
       "      'dynamic'],\n",
       "     'func_defaults': [yeahml.build.layers.config.NOTPRESENT,\n",
       "      None,\n",
       "      True,\n",
       "      'glorot_uniform',\n",
       "      'zeros',\n",
       "      None,\n",
       "      None,\n",
       "      None,\n",
       "      None,\n",
       "      None,\n",
       "      True,\n",
       "      None,\n",
       "      None,\n",
       "      False]},\n",
       "    'options': {'user_vals': [8,\n",
       "      <function tensorflow.python.keras.activations.elu(x, alpha=1.0)>,\n",
       "      True,\n",
       "      'glorot_uniform',\n",
       "      'zeros',\n",
       "      None,\n",
       "      None,\n",
       "      None,\n",
       "      None,\n",
       "      None,\n",
       "      True,\n",
       "      None,\n",
       "      None,\n",
       "      False]},\n",
       "    'layer_in_name': ['dense_1'],\n",
       "    'startpoint': False,\n",
       "    'endpoint': False},\n",
       "   'dense_2b': {'layer_base': {'str': 'dense',\n",
       "     'func': tensorflow.python.keras.layers.core.Dense,\n",
       "     'func_args': ['units',\n",
       "      'activation',\n",
       "      'use_bias',\n",
       "      'kernel_initializer',\n",
       "      'bias_initializer',\n",
       "      'kernel_regularizer',\n",
       "      'bias_regularizer',\n",
       "      'activity_regularizer',\n",
       "      'kernel_constraint',\n",
       "      'bias_constraint',\n",
       "      'trainable',\n",
       "      'name',\n",
       "      'dtype',\n",
       "      'dynamic'],\n",
       "     'func_defaults': [yeahml.build.layers.config.NOTPRESENT,\n",
       "      None,\n",
       "      True,\n",
       "      'glorot_uniform',\n",
       "      'zeros',\n",
       "      None,\n",
       "      None,\n",
       "      None,\n",
       "      None,\n",
       "      None,\n",
       "      True,\n",
       "      None,\n",
       "      None,\n",
       "      False]},\n",
       "    'options': {'user_vals': [8,\n",
       "      <function tensorflow.python.keras.activations.elu(x, alpha=1.0)>,\n",
       "      True,\n",
       "      'glorot_uniform',\n",
       "      'zeros',\n",
       "      None,\n",
       "      None,\n",
       "      None,\n",
       "      None,\n",
       "      None,\n",
       "      True,\n",
       "      None,\n",
       "      None,\n",
       "      False]},\n",
       "    'layer_in_name': ['dense_1'],\n",
       "    'startpoint': False,\n",
       "    'endpoint': False},\n",
       "   'concat_1': {'layer_base': {'str': 'concatenate',\n",
       "     'func': tensorflow.python.keras.layers.merge.Concatenate,\n",
       "     'func_args': ['axis', 'trainable', 'name', 'dtype', 'dynamic'],\n",
       "     'func_defaults': [-1, True, None, None, False]},\n",
       "    'options': {'user_vals': []},\n",
       "    'layer_in_name': ['dense_2', 'dense_2b'],\n",
       "    'startpoint': False,\n",
       "    'endpoint': False},\n",
       "   'dense_3a': {'layer_base': {'str': 'dense',\n",
       "     'func': tensorflow.python.keras.layers.core.Dense,\n",
       "     'func_args': ['units',\n",
       "      'activation',\n",
       "      'use_bias',\n",
       "      'kernel_initializer',\n",
       "      'bias_initializer',\n",
       "      'kernel_regularizer',\n",
       "      'bias_regularizer',\n",
       "      'activity_regularizer',\n",
       "      'kernel_constraint',\n",
       "      'bias_constraint',\n",
       "      'trainable',\n",
       "      'name',\n",
       "      'dtype',\n",
       "      'dynamic'],\n",
       "     'func_defaults': [yeahml.build.layers.config.NOTPRESENT,\n",
       "      None,\n",
       "      True,\n",
       "      'glorot_uniform',\n",
       "      'zeros',\n",
       "      None,\n",
       "      None,\n",
       "      None,\n",
       "      None,\n",
       "      None,\n",
       "      True,\n",
       "      None,\n",
       "      None,\n",
       "      False]},\n",
       "    'options': {'user_vals': [8,\n",
       "      <function tensorflow.python.keras.activations.elu(x, alpha=1.0)>,\n",
       "      True,\n",
       "      'glorot_uniform',\n",
       "      'zeros',\n",
       "      None,\n",
       "      None,\n",
       "      None,\n",
       "      None,\n",
       "      None,\n",
       "      True,\n",
       "      None,\n",
       "      None,\n",
       "      False]},\n",
       "    'layer_in_name': ['concat_1'],\n",
       "    'startpoint': False,\n",
       "    'endpoint': False},\n",
       "   'dense_3b': {'layer_base': {'str': 'dense',\n",
       "     'func': tensorflow.python.keras.layers.core.Dense,\n",
       "     'func_args': ['units',\n",
       "      'activation',\n",
       "      'use_bias',\n",
       "      'kernel_initializer',\n",
       "      'bias_initializer',\n",
       "      'kernel_regularizer',\n",
       "      'bias_regularizer',\n",
       "      'activity_regularizer',\n",
       "      'kernel_constraint',\n",
       "      'bias_constraint',\n",
       "      'trainable',\n",
       "      'name',\n",
       "      'dtype',\n",
       "      'dynamic'],\n",
       "     'func_defaults': [yeahml.build.layers.config.NOTPRESENT,\n",
       "      None,\n",
       "      True,\n",
       "      'glorot_uniform',\n",
       "      'zeros',\n",
       "      None,\n",
       "      None,\n",
       "      None,\n",
       "      None,\n",
       "      None,\n",
       "      True,\n",
       "      None,\n",
       "      None,\n",
       "      False]},\n",
       "    'options': {'user_vals': [8,\n",
       "      <function tensorflow.python.keras.activations.elu(x, alpha=1.0)>,\n",
       "      True,\n",
       "      'glorot_uniform',\n",
       "      'zeros',\n",
       "      None,\n",
       "      None,\n",
       "      None,\n",
       "      None,\n",
       "      None,\n",
       "      True,\n",
       "      None,\n",
       "      None,\n",
       "      False]},\n",
       "    'layer_in_name': ['dense_2'],\n",
       "    'startpoint': False,\n",
       "    'endpoint': False},\n",
       "   'concat_3': {'layer_base': {'str': 'concatenate',\n",
       "     'func': tensorflow.python.keras.layers.merge.Concatenate,\n",
       "     'func_args': ['axis', 'trainable', 'name', 'dtype', 'dynamic'],\n",
       "     'func_defaults': [-1, True, None, None, False]},\n",
       "    'options': {'user_vals': []},\n",
       "    'layer_in_name': ['dense_3a', 'dense_3b'],\n",
       "    'startpoint': False,\n",
       "    'endpoint': False},\n",
       "   'dense_out': {'layer_base': {'str': 'dense',\n",
       "     'func': tensorflow.python.keras.layers.core.Dense,\n",
       "     'func_args': ['units',\n",
       "      'activation',\n",
       "      'use_bias',\n",
       "      'kernel_initializer',\n",
       "      'bias_initializer',\n",
       "      'kernel_regularizer',\n",
       "      'bias_regularizer',\n",
       "      'activity_regularizer',\n",
       "      'kernel_constraint',\n",
       "      'bias_constraint',\n",
       "      'trainable',\n",
       "      'name',\n",
       "      'dtype',\n",
       "      'dynamic'],\n",
       "     'func_defaults': [yeahml.build.layers.config.NOTPRESENT,\n",
       "      None,\n",
       "      True,\n",
       "      'glorot_uniform',\n",
       "      'zeros',\n",
       "      None,\n",
       "      None,\n",
       "      None,\n",
       "      None,\n",
       "      None,\n",
       "      True,\n",
       "      None,\n",
       "      None,\n",
       "      False]},\n",
       "    'options': {'user_vals': [1,\n",
       "      <function tensorflow.python.keras.activations.linear(x)>,\n",
       "      True,\n",
       "      'glorot_uniform',\n",
       "      'zeros',\n",
       "      None,\n",
       "      None,\n",
       "      None,\n",
       "      None,\n",
       "      None,\n",
       "      True,\n",
       "      None,\n",
       "      None,\n",
       "      False]},\n",
       "    'layer_in_name': ['concat_3'],\n",
       "    'startpoint': False,\n",
       "    'endpoint': False},\n",
       "   'reshape_out': {'layer_base': {'str': 'reshape',\n",
       "     'func': tensorflow.python.keras.layers.core.Reshape,\n",
       "     'func_args': ['target_shape', 'trainable', 'name', 'dtype', 'dynamic'],\n",
       "     'func_defaults': [yeahml.build.layers.config.NOTPRESENT,\n",
       "      True,\n",
       "      None,\n",
       "      None,\n",
       "      False]},\n",
       "    'options': {'user_vals': [[1, 1], True, None, None, False]},\n",
       "    'layer_in_name': ['dense_out'],\n",
       "    'startpoint': False,\n",
       "    'endpoint': True}},\n",
       "  'model_hash': 3154245756787869412},\n",
       " 'optimize': {'optimizers': {'main_opt': {'type': 'adam',\n",
       "    'options': {'learning_rate': 2e-05, 'beta_1': 0.91},\n",
       "    'objectives': ['main_obj']},\n",
       "   'second_opt': {'type': 'adam',\n",
       "    'options': {'learning_rate': 2e-05, 'beta_1': 0.91},\n",
       "    'objectives': ['second_obj']}},\n",
       "  'directive': {'YEAHML_1': {'optimizers': ['YEAHML_0', 'second_opt'],\n",
       "    'operation': '&'},\n",
       "   'YEAHML_0': {'optimizers': ['main_opt', 'second_opt'], 'operation': ','}}},\n",
       " 'model_io': {'inputs': ['feature_a'], 'outputs': ['reshape_out']},\n",
       " 'static': {'feature_a': <yeahml.config.create_configs.g_node at 0x7f75cc3e44e0>,\n",
       "  'target_v': <yeahml.config.create_configs.g_node at 0x7f75efe51a20>,\n",
       "  'flatten_1': <yeahml.config.create_configs.g_node at 0x7f75cc3ddd68>,\n",
       "  'dense_1': <yeahml.config.create_configs.g_node at 0x7f75cc3dd7f0>,\n",
       "  'dense_2': <yeahml.config.create_configs.g_node at 0x7f75cc3ddba8>,\n",
       "  'dense_2b': <yeahml.config.create_configs.g_node at 0x7f75cc3dddd8>,\n",
       "  'concat_1': <yeahml.config.create_configs.g_node at 0x7f75cc3dd978>,\n",
       "  'dense_3a': <yeahml.config.create_configs.g_node at 0x7f75cc3f0e10>,\n",
       "  'dense_3b': <yeahml.config.create_configs.g_node at 0x7f75cc3f0d68>,\n",
       "  'concat_3': <yeahml.config.create_configs.g_node at 0x7f75cc3f06d8>,\n",
       "  'dense_out': <yeahml.config.create_configs.g_node at 0x7f75cc3f0a20>,\n",
       "  'reshape_out': <yeahml.config.create_configs.g_node at 0x7f75cc404160>},\n",
       " 'subgraphs': {'reshape_out': {'sequence': [((2,\n",
       "      [[((2,\n",
       "          [['feature_a', 'flatten_1', 'dense_1', 'dense_2'],\n",
       "           ['feature_a', 'flatten_1', 'dense_1', 'dense_2b']]),\n",
       "         'concat_1'),\n",
       "        'concat_1',\n",
       "        'dense_3a'],\n",
       "       ['feature_a', 'flatten_1', 'dense_1', 'dense_2', 'dense_3b']]),\n",
       "     'concat_3'),\n",
       "    'concat_3',\n",
       "    'dense_out',\n",
       "    'reshape_out']}}}"
      ]
     },
     "execution_count": 9,
     "metadata": {},
     "output_type": "execute_result"
    }
   ],
   "source": [
    "yml_dict"
   ]
  },
  {
   "cell_type": "code",
   "execution_count": 10,
   "metadata": {
    "scrolled": true
   },
   "outputs": [],
   "source": [
    "# import pprint\n",
    "# pprint.pprint(yml_dict['hyper_parameters'])\n",
    "# pprint.pprint(yml_dict['optimize'])\n",
    "# pprint.pprint(yml_dict['performance'])"
   ]
  },
  {
   "cell_type": "markdown",
   "metadata": {},
   "source": [
    "## Build the model"
   ]
  },
  {
   "cell_type": "code",
   "execution_count": 11,
   "metadata": {
    "scrolled": false
   },
   "outputs": [
    {
     "name": "stderr",
     "output_type": "stream",
     "text": [
      "build_logger: INFO     -> START building graph\n",
      "WARNING: Logging before flag parsing goes to stderr.\n",
      "W0418 14:57:17.176603 140146529736512 base_layer.py:1790] Layer flatten_1 is casting an input tensor from dtype float64 to the layer's dtype of float32, which is new behavior in TensorFlow 2.  The layer has dtype float32 because it's dtype defaults to floatx.\n",
      "\n",
      "If you intended to run this layer in float32, you can safely ignore this warning. If in doubt, this warning is likely only an issue if you are porting a TensorFlow 1.X model to TensorFlow 2.\n",
      "\n",
      "To change all layers to have dtype float64 by default, call `tf.keras.backend.set_floatx('float64')`. To change just this layer, pass dtype='float64' to the layer constructor. If you are the author of this layer, you can disable autocasting by passing autocast=False to the base Layer constructor.\n",
      "\n",
      "build_logger: INFO     information json file created\n"
     ]
    }
   ],
   "source": [
    "# If you receive an error:\n",
    "# AttributeError: 'google.protobuf.pyext._message.RepeatedCompositeCo' object has no attribute 'append'\n",
    "# I personally used `pip install -U protobuf=3.8.0` to resolve\n",
    "# per https://github.com/tensorflow/tensorflow/issues/33348\n",
    "model = yml.build_model(yml_dict)"
   ]
  },
  {
   "cell_type": "code",
   "execution_count": 12,
   "metadata": {},
   "outputs": [
    {
     "name": "stdout",
     "output_type": "stream",
     "text": [
      "Model: \"model\"\n",
      "__________________________________________________________________________________________________\n",
      "Layer (type)                    Output Shape         Param #     Connected to                     \n",
      "==================================================================================================\n",
      "feature_a (InputLayer)          [(None, 2, 1)]       0                                            \n",
      "__________________________________________________________________________________________________\n",
      "flatten_1 (Flatten)             (None, 2)            0           feature_a[0][0]                  \n",
      "__________________________________________________________________________________________________\n",
      "dense_1 (Dense)                 (None, 16)           48          flatten_1[0][0]                  \n",
      "__________________________________________________________________________________________________\n",
      "dense_2 (Dense)                 (None, 8)            136         dense_1[0][0]                    \n",
      "__________________________________________________________________________________________________\n",
      "dense_2b (Dense)                (None, 8)            136         dense_1[0][0]                    \n",
      "__________________________________________________________________________________________________\n",
      "concat_1 (Concatenate)          (None, 16)           0           dense_2[0][0]                    \n",
      "                                                                 dense_2b[0][0]                   \n",
      "__________________________________________________________________________________________________\n",
      "dense_3a (Dense)                (None, 8)            136         concat_1[0][0]                   \n",
      "__________________________________________________________________________________________________\n",
      "dense_3b (Dense)                (None, 8)            72          dense_2[0][0]                    \n",
      "__________________________________________________________________________________________________\n",
      "concat_3 (Concatenate)          (None, 16)           0           dense_3a[0][0]                   \n",
      "                                                                 dense_3b[0][0]                   \n",
      "__________________________________________________________________________________________________\n",
      "dense_out (Dense)               (None, 1)            17          concat_3[0][0]                   \n",
      "__________________________________________________________________________________________________\n",
      "reshape_out (Reshape)           (None, 1, 1)         0           dense_out[0][0]                  \n",
      "==================================================================================================\n",
      "Total params: 545\n",
      "Trainable params: 545\n",
      "Non-trainable params: 0\n",
      "__________________________________________________________________________________________________\n"
     ]
    }
   ],
   "source": [
    "model.summary()"
   ]
  },
  {
   "cell_type": "markdown",
   "metadata": {},
   "source": [
    "## Train the Model\n",
    "\n",
    "Notice here that we're using the created training and validation sets from `ds_dict`"
   ]
  },
  {
   "cell_type": "code",
   "execution_count": 13,
   "metadata": {},
   "outputs": [],
   "source": [
    "# a = ds_dict[\"abalone\"]['train']\n",
    "# print(a)"
   ]
  },
  {
   "cell_type": "code",
   "execution_count": 14,
   "metadata": {},
   "outputs": [],
   "source": [
    "# import pprint\n",
    "# pprint.pprint(yml_dict['optimize'])\n",
    "# print(\"--\")\n",
    "# pprint.pprint(yml_dict['performance'])\n",
    "# ds_dict = {\n",
    "#     \"abalone\": {\n",
    "#         \"train\": tf.data.Dataset.from_tensor_slices([1, 2, 3]),\n",
    "#         \"val\": tf.data.Dataset.from_tensor_slices([1, 2, 3]),\n",
    "#     }\n",
    "# }"
   ]
  },
  {
   "cell_type": "code",
   "execution_count": 15,
   "metadata": {
    "scrolled": true
   },
   "outputs": [
    {
     "name": "stderr",
     "output_type": "stream",
     "text": [
      "train_logger: INFO     -> START training graph\n"
     ]
    }
   ],
   "source": [
    "train_dict = yml.train_model(model, yml_dict, ds_dict)"
   ]
  },
  {
   "cell_type": "code",
   "execution_count": 16,
   "metadata": {},
   "outputs": [
    {
     "name": "stdout",
     "output_type": "stream",
     "text": [
      "{'tracker': {'main_opt': {'optimizer': <tensorflow.python.keras.optimizer_v2.adam.Adam object at 0x7f75cc35ee10>, 'objectives': ['main_obj'], 'main_obj': {'loss': {'abalone': {'train': {'mse': {'mean': <yeahml.train.setup.tracker.tracker.Tracker object at 0x7f75cc312160>}}, 'val': {'mse': {'mean': <yeahml.train.setup.tracker.tracker.Tracker object at 0x7f75cc312208>}}}}, 'metrics': {'abalone': {'train': {'meansquarederror': <yeahml.train.setup.tracker.tracker.Tracker object at 0x7f75cc312278>}, 'val': {'meansquarederror': <yeahml.train.setup.tracker.tracker.Tracker object at 0x7f75cc3122e8>}}}}, 'joint': None}, 'second_opt': {'optimizer': <tensorflow.python.keras.optimizer_v2.adam.Adam object at 0x7f75cc2f8198>, 'objectives': ['second_obj'], 'second_obj': {'loss': {'abalone': {'train': {'mae': {'mean': <yeahml.train.setup.tracker.tracker.Tracker object at 0x7f75cc312390>}}, 'val': {'mae': {'mean': <yeahml.train.setup.tracker.tracker.Tracker object at 0x7f75cc312438>}}}}, 'metrics': {'abalone': {'train': {'meanabsoluteerror': <yeahml.train.setup.tracker.tracker.Tracker object at 0x7f75cc3124a8>}, 'val': {'meanabsoluteerror': <yeahml.train.setup.tracker.tracker.Tracker object at 0x7f75cc312518>}}}}, 'joint': None}}}\n"
     ]
    }
   ],
   "source": [
    "print(train_dict)"
   ]
  },
  {
   "cell_type": "code",
   "execution_count": 17,
   "metadata": {},
   "outputs": [
    {
     "name": "stdout",
     "output_type": "stream",
     "text": [
      "dict_keys(['main_opt', 'second_opt'])\n"
     ]
    }
   ],
   "source": [
    "print(train_dict[\"tracker\"].keys())"
   ]
  },
  {
   "cell_type": "code",
   "execution_count": 18,
   "metadata": {},
   "outputs": [],
   "source": [
    "def plot_trackers(tracker, skip=0):\n",
    "    plt.plot(tracker.steps[skip:], tracker.values[skip:], 'o--', linewidth=2, markersize=5)"
   ]
  },
  {
   "cell_type": "code",
   "execution_count": 19,
   "metadata": {
    "scrolled": true
   },
   "outputs": [
    {
     "data": {
      "image/png": "[encoded data removed]",
      "text/plain": [
       "<Figure size 432x288 with 1 Axes>"
      ]
     },
     "metadata": {
      "needs_background": "light"
     },
     "output_type": "display_data"
    }
   ],
   "source": [
    "plot_trackers(train_dict[\"tracker\"][\"main_opt\"]['main_obj'][\"loss\"][\"abalone\"]['train'][\"mse\"][\"mean\"])\n",
    "plot_trackers(train_dict[\"tracker\"][\"second_opt\"]['second_obj'][\"loss\"][\"abalone\"]['train'][\"mae\"][\"mean\"])"
   ]
  },
  {
   "cell_type": "code",
   "execution_count": 20,
   "metadata": {},
   "outputs": [
    {
     "data": {
      "image/png": "[encoded data removed]",
      "text/plain": [
       "<Figure size 432x288 with 1 Axes>"
      ]
     },
     "metadata": {
      "needs_background": "light"
     },
     "output_type": "display_data"
    }
   ],
   "source": [
    "plot_trackers(train_dict[\"tracker\"][\"main_opt\"]['main_obj'][\"loss\"][\"abalone\"]['val'][\"mse\"][\"mean\"],1)\n",
    "plot_trackers(train_dict[\"tracker\"][\"second_opt\"]['second_obj'][\"loss\"][\"abalone\"]['val'][\"mae\"][\"mean\"],1)"
   ]
  },
  {
   "cell_type": "code",
   "execution_count": 21,
   "metadata": {},
   "outputs": [
    {
     "data": {
      "image/png": "[encoded data removed]",
      "text/plain": [
       "<Figure size 432x288 with 1 Axes>"
      ]
     },
     "metadata": {
      "needs_background": "light"
     },
     "output_type": "display_data"
    }
   ],
   "source": [
    "plot_trackers(train_dict[\"tracker\"][\"main_opt\"]['main_obj'][\"metrics\"][\"abalone\"]['train'][\"meansquarederror\"])\n",
    "plot_trackers(train_dict[\"tracker\"][\"main_opt\"]['main_obj'][\"metrics\"][\"abalone\"]['val'][\"meansquarederror\"])"
   ]
  },
  {
   "cell_type": "code",
   "execution_count": 22,
   "metadata": {},
   "outputs": [
    {
     "data": {
      "image/png": "[encoded data removed]",
      "text/plain": [
       "<Figure size 432x288 with 1 Axes>"
      ]
     },
     "metadata": {
      "needs_background": "light"
     },
     "output_type": "display_data"
    }
   ],
   "source": [
    "plot_trackers(train_dict[\"tracker\"][\"second_opt\"]['second_obj'][\"metrics\"][\"abalone\"]['train'][\"meanabsoluteerror\"])\n",
    "plot_trackers(train_dict[\"tracker\"][\"second_opt\"]['second_obj'][\"metrics\"][\"abalone\"]['val'][\"meanabsoluteerror\"])"
   ]
  },
  {
   "cell_type": "markdown",
   "metadata": {},
   "source": [
    "## Evaluate the Model"
   ]
  },
  {
   "cell_type": "code",
   "execution_count": null,
   "metadata": {},
   "outputs": [],
   "source": [
    "eval_dict = yml.eval_model(\n",
    "    model,\n",
    "    yml_dict,\n",
    "    dataset=ds_dict[\"test\"]\n",
    ")\n",
    "print(eval_dict)"
   ]
  },
  {
   "cell_type": "markdown",
   "metadata": {},
   "source": [
    "## Inspect model in Tensorflow\n",
    "\n",
    "In the command line you can navigate to the `albalone` directory and run: (provided tensorboard is installed in your environment)\n",
    "\n",
    "```bash\n",
    "tensorboard --logdir model_a/\n",
    "```"
   ]
  },
  {
   "cell_type": "code",
   "execution_count": null,
   "metadata": {},
   "outputs": [],
   "source": []
  },
  {
   "cell_type": "code",
   "execution_count": null,
   "metadata": {},
   "outputs": [],
   "source": []
  }
 ],
 "metadata": {
  "kernelspec": {
   "display_name": "tf2",
   "language": "python",
   "name": "tf2"
  },
  "language_info": {
   "codemirror_mode": {
    "name": "ipython",
    "version": 3
   },
   "file_extension": ".py",
   "mimetype": "text/x-python",
   "name": "python",
   "nbconvert_exporter": "python",
   "pygments_lexer": "ipython3",
   "version": "3.6.7"
  }
 },
 "nbformat": 4,
 "nbformat_minor": 2
}
