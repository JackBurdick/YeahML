{
 "cells": [
  {
   "cell_type": "markdown",
   "metadata": {},
   "source": [
    "# Abalone\n",
    "\n",
    "In this example, we'll demonstrate how to use [dataduit](https://github.com/JackBurdick/dataduit) to create tensorflow datasets from a pandas dataframe by specifying a config file.\n",
    "\n",
    "We'll then demonstrate how to use yeahml to create/build/evaluate a model on the created data.\n",
    "\n",
    "#### Note:\n",
    "> The model for this project likely doesn't make sense. I am not personally familiar with the dataset/problem, I was interested showing an example"
   ]
  },
  {
   "cell_type": "code",
   "execution_count": 1,
   "metadata": {},
   "outputs": [],
   "source": [
    "%load_ext autoreload\n",
    "%autoreload 2"
   ]
  },
  {
   "cell_type": "code",
   "execution_count": 2,
   "metadata": {
    "scrolled": false
   },
   "outputs": [],
   "source": [
    "import pandas as pd\n",
    "import tensorflow as tf\n",
    "import dataduit as dd\n",
    "import yeahml as yml"
   ]
  },
  {
   "cell_type": "markdown",
   "metadata": {},
   "source": [
    "## Create Datasets"
   ]
  },
  {
   "cell_type": "code",
   "execution_count": 3,
   "metadata": {},
   "outputs": [],
   "source": [
    "# Reading a file from online\n",
    "# more information can be found here:\n",
    "# > https://archive.ics.uci.edu/ml/machine-learning-databases/abalone/\n",
    "h = [\"sex\",\n",
    "\"length\",\n",
    "\"diameter\",\n",
    "\"height\",\n",
    "\"whole_weight\",\n",
    "\"shucked_weight\",\n",
    "\"viscera_weight\",\n",
    "\"shell_weight\",\n",
    "\"rings\"]\n",
    "df = pd.read_csv('https://archive.ics.uci.edu/ml/machine-learning-databases/abalone/abalone.data',names=h)"
   ]
  },
  {
   "cell_type": "code",
   "execution_count": 4,
   "metadata": {},
   "outputs": [],
   "source": [
    "# only use 2 of the features\n",
    "dd_dict = {\n",
    "    \"meta\": {\n",
    "        \"name\": \"abalone\",\n",
    "        \"logging\": {\"log_stream_level\": \"INFO\"},\n",
    "        \"in\": {\"from\": \"memory\", \"type\": \"pandas\"},\n",
    "    },\n",
    "    \"read\": {\n",
    "        \"split_percents\": [75, 15, 10],\n",
    "        \"split_names\": [\"train\", \"val\", \"test\"],\n",
    "        \"iterate\": {\n",
    "            \"return_type\": \"tuple\",\n",
    "            \"schema\": {\n",
    "                \"x\": {\n",
    "                    \"length\": {\n",
    "                        \"indicator\": \"length\",\n",
    "                        \"datatype\": {\n",
    "                            \"in\": {\"options\": {\"dtype\": \"float64\", \"shape\": 1}},\n",
    "                            \"out\": {},\n",
    "                        },\n",
    "                        \"special\": \"decode\",\n",
    "                    },\n",
    "                    \"diameter\": {\n",
    "                        \"indicator\": \"diameter\",\n",
    "                        \"datatype\": {\n",
    "                            \"in\": {\"options\": {\"dtype\": \"float64\", \"shape\": 1}},\n",
    "                            \"out\": {},\n",
    "                        },\n",
    "                        \"special\": \"decode\",\n",
    "                    },\n",
    "                },\n",
    "                \"y\": {\n",
    "                    \"rings\": {\n",
    "                        \"datatype\": {\n",
    "                            \"in\": {\"options\": {\"dtype\": \"int64\", \"shape\": 1}},\n",
    "                            \"out\": {},\n",
    "                        }\n",
    "                    }\n",
    "                },\n",
    "            },\n",
    "        },\n",
    "    },\n",
    "}"
   ]
  },
  {
   "cell_type": "code",
   "execution_count": 5,
   "metadata": {},
   "outputs": [],
   "source": [
    "# create the datasets based on the above defined names/splits/specifed data\n",
    "ds_dict = dd.read(dd_dict, df)"
   ]
  },
  {
   "cell_type": "markdown",
   "metadata": {},
   "source": [
    "`ds_dict` is a dictionary containing the tensorflow datasets (as specified above). which can be accessed like this:\n",
    "\n",
    "```python\n",
    "ds_val = ds_dict[\"val\"]\n",
    "```"
   ]
  },
  {
   "cell_type": "markdown",
   "metadata": {},
   "source": [
    "## Specify the Model"
   ]
  },
  {
   "cell_type": "code",
   "execution_count": 6,
   "metadata": {},
   "outputs": [],
   "source": [
    "# %load_ext autoreload\n",
    "# %autoreload 2\n",
    "# import yeahml as yml"
   ]
  },
  {
   "cell_type": "code",
   "execution_count": 7,
   "metadata": {
    "scrolled": false
   },
   "outputs": [],
   "source": [
    "example = \"./main_config.yml\"\n",
    "yml_dict = yml.create_configs(example)"
   ]
  },
  {
   "cell_type": "code",
   "execution_count": 8,
   "metadata": {
    "scrolled": true
   },
   "outputs": [],
   "source": [
    "# import pprint\n",
    "# pprint.pprint(yml_dict['hyper_parameters'])\n",
    "# pprint.pprint(yml_dict['optimize'])\n",
    "# pprint.pprint(yml_dict['performance'])"
   ]
  },
  {
   "cell_type": "markdown",
   "metadata": {},
   "source": [
    "## Build the model"
   ]
  },
  {
   "cell_type": "code",
   "execution_count": 9,
   "metadata": {
    "scrolled": false
   },
   "outputs": [
    {
     "name": "stderr",
     "output_type": "stream",
     "text": [
      "build_logger: INFO     -> START building graph\n",
      "WARNING: Logging before flag parsing goes to stderr.\n",
      "W0316 20:39:54.436348 140190860474176 base_layer.py:1790] Layer flatten_1 is casting an input tensor from dtype float64 to the layer's dtype of float32, which is new behavior in TensorFlow 2.  The layer has dtype float32 because it's dtype defaults to floatx.\n",
      "\n",
      "If you intended to run this layer in float32, you can safely ignore this warning. If in doubt, this warning is likely only an issue if you are porting a TensorFlow 1.X model to TensorFlow 2.\n",
      "\n",
      "To change all layers to have dtype float64 by default, call `tf.keras.backend.set_floatx('float64')`. To change just this layer, pass dtype='float64' to the layer constructor. If you are the author of this layer, you can disable autocasting by passing autocast=False to the base Layer constructor.\n",
      "\n",
      "build_logger: INFO     information json file created\n"
     ]
    }
   ],
   "source": [
    "# If you receive an error:\n",
    "# AttributeError: 'google.protobuf.pyext._message.RepeatedCompositeCo' object has no attribute 'append'\n",
    "# I personally used `pip install -U protobuf=3.8.0` to resolve\n",
    "# per https://github.com/tensorflow/tensorflow/issues/33348\n",
    "model = yml.build_model(yml_dict)"
   ]
  },
  {
   "cell_type": "code",
   "execution_count": 10,
   "metadata": {},
   "outputs": [
    {
     "name": "stdout",
     "output_type": "stream",
     "text": [
      "Model: \"model\"\n",
      "__________________________________________________________________________________________________\n",
      "Layer (type)                    Output Shape         Param #     Connected to                     \n",
      "==================================================================================================\n",
      "feature_a (InputLayer)          [(None, 2, 1)]       0                                            \n",
      "__________________________________________________________________________________________________\n",
      "flatten_1 (Flatten)             (None, 2)            0           feature_a[0][0]                  \n",
      "__________________________________________________________________________________________________\n",
      "dense_1 (Dense)                 (None, 16)           48          flatten_1[0][0]                  \n",
      "__________________________________________________________________________________________________\n",
      "dense_2 (Dense)                 (None, 8)            136         dense_1[0][0]                    \n",
      "__________________________________________________________________________________________________\n",
      "dense_2b (Dense)                (None, 8)            136         dense_1[0][0]                    \n",
      "__________________________________________________________________________________________________\n",
      "concat_1 (Concatenate)          (None, 16)           0           dense_2[0][0]                    \n",
      "                                                                 dense_2b[0][0]                   \n",
      "__________________________________________________________________________________________________\n",
      "dense_3a (Dense)                (None, 8)            136         concat_1[0][0]                   \n",
      "__________________________________________________________________________________________________\n",
      "dense_3b (Dense)                (None, 8)            72          dense_2[0][0]                    \n",
      "__________________________________________________________________________________________________\n",
      "concat_3 (Concatenate)          (None, 16)           0           dense_3a[0][0]                   \n",
      "                                                                 dense_3b[0][0]                   \n",
      "__________________________________________________________________________________________________\n",
      "dense_out (Dense)               (None, 1)            17          concat_3[0][0]                   \n",
      "==================================================================================================\n",
      "Total params: 545\n",
      "Trainable params: 545\n",
      "Non-trainable params: 0\n",
      "__________________________________________________________________________________________________\n"
     ]
    }
   ],
   "source": [
    "model.summary()"
   ]
  },
  {
   "cell_type": "markdown",
   "metadata": {},
   "source": [
    "## Train the Model\n",
    "\n",
    "Notice here that we're using the created training and validation sets from `ds_dict`"
   ]
  },
  {
   "cell_type": "code",
   "execution_count": 11,
   "metadata": {},
   "outputs": [],
   "source": [
    "# import pprint\n",
    "# pprint.pprint(yml_dict['optimize'])\n",
    "# print(\"--\")\n",
    "# pprint.pprint(yml_dict['performance'])"
   ]
  },
  {
   "cell_type": "code",
   "execution_count": 13,
   "metadata": {
    "scrolled": true
   },
   "outputs": [
    {
     "name": "stderr",
     "output_type": "stream",
     "text": [
      "train_logger: INFO     -> START training graph\n"
     ]
    },
    {
     "name": "stdout",
     "output_type": "stream",
     "text": [
      "[90.77919, 9.005727]\n",
      "[81.29429, 8.443843]\n",
      "[71.01876, 7.7571373]\n",
      "[61.129025, 6.996398]\n",
      "[52.59191, 6.256836]\n",
      "[45.87036, 5.6350985]\n",
      "[40.81132, 5.1655817]\n",
      "[36.9764, 4.8131084]\n",
      "[33.98813, 4.540001]\n",
      "[31.596052, 4.3217735]\n",
      "[29.637938, 4.143204]\n",
      "[28.005306, 3.9943159]\n",
      "[26.623028, 3.868238]\n",
      "[25.43742, 3.7600822]\n",
      "[24.409143, 3.666257]\n",
      "[23.50868, 3.584074]\n",
      "[22.71346, 3.5114763]\n",
      "[22.00595, 3.446866]\n",
      "[21.3723, 3.388975]\n",
      "[20.80142, 3.3367944]\n",
      "[20.284365, 3.289507]\n",
      "[19.81379, 3.2464437]\n",
      "[19.38365, 3.2070553]\n",
      "[18.9889, 3.1708806]\n",
      "[18.625309, 3.1375346]\n",
      "[18.289288, 3.1066906]\n",
      "[17.977787, 3.078068]\n",
      "[17.6882, 3.051432]\n",
      "[17.418262, 3.0265765]\n"
     ]
    },
    {
     "name": "stderr",
     "output_type": "stream",
     "text": [
      "train_logger: INFO     start creating train_dict\n"
     ]
    },
    {
     "name": "stdout",
     "output_type": "stream",
     "text": [
      "[17.16603, 3.0033243]\n"
     ]
    }
   ],
   "source": [
    "train_dict = yml.train_model(model, yml_dict, (ds_dict[\"train\"], ds_dict[\"val\"]))"
   ]
  },
  {
   "cell_type": "code",
   "execution_count": 13,
   "metadata": {},
   "outputs": [
    {
     "name": "stdout",
     "output_type": "stream",
     "text": [
      "{'val_losses': ([90.77919, 81.29429, 71.01876, 61.129025, 52.59191, 45.87036, 40.81132, 36.9764, 33.98813, 31.596052, 29.637938, 28.005306, 26.623028, 25.43742, 24.409143, 23.50868, 22.71346, 22.00595, 21.3723, 20.80142, 20.284365, 19.81379, 19.38365, 18.9889, 18.625309, 18.289288, 17.977787, 17.6882, 17.418262, 17.16603], [9.005727, 8.443843, 7.7571373, 6.996398, 6.256836, 5.6350985, 5.1655817, 4.8131084, 4.540001, 4.3217735, 4.143204, 3.9943159, 3.868238, 3.7600822, 3.666257, 3.584074, 3.5114763, 3.446866, 3.388975, 3.3367944, 3.289507, 3.2464437, 3.2070553, 3.1708806, 3.1375346, 3.1066906, 3.078068, 3.051432, 3.0265765, 3.0033243]), 'epochs': [0, 1, 2, 3, 4, 5, 6, 7, 8, 9, 10, 11, 12, 13, 14, 15, 16, 17, 18, 19, 20, 21, 22, 23, 24, 25, 26, 27, 28, 29]}\n"
     ]
    }
   ],
   "source": [
    "print(train_dict)"
   ]
  },
  {
   "cell_type": "code",
   "execution_count": 14,
   "metadata": {},
   "outputs": [],
   "source": [
    "import matplotlib.pyplot as plt"
   ]
  },
  {
   "cell_type": "code",
   "execution_count": 15,
   "metadata": {},
   "outputs": [
    {
     "name": "stdout",
     "output_type": "stream",
     "text": [
      "[90.77919, 71.01876, 52.59191, 40.81132, 33.98813, 29.637938, 26.623028, 24.409143, 22.71346, 21.3723, 20.284365, 19.38365, 18.625309, 17.977787, 17.418262]\n",
      "[8.443843, 6.996398, 5.6350985, 4.8131084, 4.3217735, 3.9943159, 3.7600822, 3.584074, 3.446866, 3.3367944, 3.2464437, 3.1708806, 3.1066906, 3.051432, 3.0033243]\n"
     ]
    }
   ],
   "source": [
    "print(train_dict[\"val_losses\"][0][::2])\n",
    "print(train_dict[\"val_losses\"][1][1::2])"
   ]
  },
  {
   "cell_type": "code",
   "execution_count": 16,
   "metadata": {},
   "outputs": [
    {
     "data": {
      "text/plain": [
       "[<matplotlib.lines.Line2D at 0x7fed90024240>]"
      ]
     },
     "execution_count": 16,
     "metadata": {},
     "output_type": "execute_result"
    },
    {
     "data": {
      "image/png": "[encoded data removed]",
      "text/plain": [
       "<Figure size 432x288 with 1 Axes>"
      ]
     },
     "metadata": {
      "needs_background": "light"
     },
     "output_type": "display_data"
    }
   ],
   "source": [
    "plt.plot(train_dict[\"val_losses\"][1][1::2])"
   ]
  },
  {
   "cell_type": "code",
   "execution_count": 17,
   "metadata": {},
   "outputs": [
    {
     "data": {
      "text/plain": [
       "[<matplotlib.lines.Line2D at 0x7fed687a1f98>]"
      ]
     },
     "execution_count": 17,
     "metadata": {},
     "output_type": "execute_result"
    },
    {
     "data": {
      "image/png": "[encoded data removed]",
      "text/plain": [
       "<Figure size 432x288 with 1 Axes>"
      ]
     },
     "metadata": {
      "needs_background": "light"
     },
     "output_type": "display_data"
    }
   ],
   "source": [
    "plt.plot(train_dict[\"val_losses\"][0][::2])"
   ]
  },
  {
   "cell_type": "markdown",
   "metadata": {},
   "source": [
    "## Evaluate the Model"
   ]
  },
  {
   "cell_type": "code",
   "execution_count": 18,
   "metadata": {},
   "outputs": [
    {
     "ename": "ValueError",
     "evalue": "specified path is neither an h5 path, nor a directory containing directories of h5: yeahml/abalone/trial_00/model/run_2020_03_15-14_02_15/save/params/best_params.h5",
     "output_type": "error",
     "traceback": [
      "\u001b[0;31m---------------------------------------------------------------------------\u001b[0m",
      "\u001b[0;31mValueError\u001b[0m                                Traceback (most recent call last)",
      "\u001b[0;32m<ipython-input-18-388344fb5e3f>\u001b[0m in \u001b[0;36m<module>\u001b[0;34m\u001b[0m\n\u001b[1;32m      2\u001b[0m     \u001b[0mmodel\u001b[0m\u001b[0;34m,\u001b[0m\u001b[0;34m\u001b[0m\u001b[0;34m\u001b[0m\u001b[0m\n\u001b[1;32m      3\u001b[0m     \u001b[0myml_dict\u001b[0m\u001b[0;34m,\u001b[0m\u001b[0;34m\u001b[0m\u001b[0;34m\u001b[0m\u001b[0m\n\u001b[0;32m----> 4\u001b[0;31m     \u001b[0mdataset\u001b[0m\u001b[0;34m=\u001b[0m\u001b[0mds_dict\u001b[0m\u001b[0;34m[\u001b[0m\u001b[0;34m\"test\"\u001b[0m\u001b[0;34m]\u001b[0m\u001b[0;34m\u001b[0m\u001b[0;34m\u001b[0m\u001b[0m\n\u001b[0m\u001b[1;32m      5\u001b[0m )\n\u001b[1;32m      6\u001b[0m \u001b[0mprint\u001b[0m\u001b[0;34m(\u001b[0m\u001b[0meval_dict\u001b[0m\u001b[0;34m)\u001b[0m\u001b[0;34m\u001b[0m\u001b[0;34m\u001b[0m\u001b[0m\n",
      "\u001b[0;32m~/dev/github/YeahML/src/yeahml/evaluate/eval_model.py\u001b[0m in \u001b[0;36meval_model\u001b[0;34m(model, config_dict, dataset, weights_path)\u001b[0m\n\u001b[1;32m     77\u001b[0m     \u001b[0;32mif\u001b[0m \u001b[0;32mnot\u001b[0m \u001b[0mspecified_path\u001b[0m\u001b[0;34m.\u001b[0m\u001b[0mis_file\u001b[0m\u001b[0;34m(\u001b[0m\u001b[0;34m)\u001b[0m\u001b[0;34m:\u001b[0m\u001b[0;34m\u001b[0m\u001b[0;34m\u001b[0m\u001b[0m\n\u001b[1;32m     78\u001b[0m         raise ValueError(\n\u001b[0;32m---> 79\u001b[0;31m             \u001b[0;34mf\"specified path is neither an h5 path, nor a directory containing directories of h5: {specified_path}\"\u001b[0m\u001b[0;34m\u001b[0m\u001b[0;34m\u001b[0m\u001b[0m\n\u001b[0m\u001b[1;32m     80\u001b[0m         )\n\u001b[1;32m     81\u001b[0m \u001b[0;34m\u001b[0m\u001b[0m\n",
      "\u001b[0;31mValueError\u001b[0m: specified path is neither an h5 path, nor a directory containing directories of h5: yeahml/abalone/trial_00/model/run_2020_03_15-14_02_15/save/params/best_params.h5"
     ]
    }
   ],
   "source": [
    "eval_dict = yml.eval_model(\n",
    "    model,\n",
    "    yml_dict,\n",
    "    dataset=ds_dict[\"test\"]\n",
    ")\n",
    "print(eval_dict)"
   ]
  },
  {
   "cell_type": "markdown",
   "metadata": {},
   "source": [
    "## Inspect model in Tensorflow\n",
    "\n",
    "In the command line you can navigate to the `albalone` directory and run: (provided tensorboard is installed in your environment)\n",
    "\n",
    "```bash\n",
    "tensorboard --logdir model_a/\n",
    "```"
   ]
  },
  {
   "cell_type": "code",
   "execution_count": null,
   "metadata": {},
   "outputs": [],
   "source": []
  },
  {
   "cell_type": "code",
   "execution_count": null,
   "metadata": {},
   "outputs": [],
   "source": []
  }
 ],
 "metadata": {
  "kernelspec": {
   "display_name": "tf2",
   "language": "python",
   "name": "tf2"
  },
  "language_info": {
   "codemirror_mode": {
    "name": "ipython",
    "version": 3
   },
   "file_extension": ".py",
   "mimetype": "text/x-python",
   "name": "python",
   "nbconvert_exporter": "python",
   "pygments_lexer": "ipython3",
   "version": "3.6.7"
  }
 },
 "nbformat": 4,
 "nbformat_minor": 2
}
