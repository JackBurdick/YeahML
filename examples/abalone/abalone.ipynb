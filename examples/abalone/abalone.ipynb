{
 "cells": [
  {
   "cell_type": "markdown",
   "metadata": {},
   "source": [
    "# Abalone\n",
    "\n",
    "In this example, we'll demonstrate how to use [dataduit](https://github.com/JackBurdick/dataduit) to create tensorflow datasets from a pandas dataframe by specifying a config file.\n",
    "\n",
    "We'll then demonstrate how to use yeahml to create/build/evaluate a model on the created data.\n",
    "\n",
    "#### Note:\n",
    "> The model for this project likely doesn't make sense. I am not personally familiar with the dataset/problem, I was interested showing an example"
   ]
  },
  {
   "cell_type": "code",
   "execution_count": 1,
   "metadata": {},
   "outputs": [],
   "source": [
    "%load_ext autoreload\n",
    "%autoreload 2"
   ]
  },
  {
   "cell_type": "code",
   "execution_count": 2,
   "metadata": {
    "scrolled": false
   },
   "outputs": [],
   "source": [
    "import pandas as pd\n",
    "import tensorflow as tf\n",
    "import dataduit as dd\n",
    "import yeahml as yml"
   ]
  },
  {
   "cell_type": "markdown",
   "metadata": {},
   "source": [
    "## Create Datasets"
   ]
  },
  {
   "cell_type": "code",
   "execution_count": 3,
   "metadata": {},
   "outputs": [],
   "source": [
    "# Reading a file from online\n",
    "# more information can be found here:\n",
    "# > https://archive.ics.uci.edu/ml/machine-learning-databases/abalone/\n",
    "h = [\"sex\",\n",
    "\"length\",\n",
    "\"diameter\",\n",
    "\"height\",\n",
    "\"whole_weight\",\n",
    "\"shucked_weight\",\n",
    "\"viscera_weight\",\n",
    "\"shell_weight\",\n",
    "\"rings\"]\n",
    "df = pd.read_csv('https://archive.ics.uci.edu/ml/machine-learning-databases/abalone/abalone.data',names=h)"
   ]
  },
  {
   "cell_type": "code",
   "execution_count": 4,
   "metadata": {},
   "outputs": [],
   "source": [
    "# only use 2 of the features\n",
    "dd_dict = {\n",
    "    \"meta\": {\n",
    "        \"name\": \"abalone\",\n",
    "        \"logging\": {\"log_stream_level\": \"INFO\"},\n",
    "        \"in\": {\"from\": \"memory\", \"type\": \"pandas\"},\n",
    "    },\n",
    "    \"read\": {\n",
    "        \"split_percents\": [75, 15, 10],\n",
    "        \"split_names\": [\"train\", \"val\", \"test\"],\n",
    "        \"iterate\": {\n",
    "            \"return_type\": \"tuple\",\n",
    "            \"schema\": {\n",
    "                \"x\": {\n",
    "                    \"length\": {\n",
    "                        \"indicator\": \"length\",\n",
    "                        \"datatype\": {\n",
    "                            \"in\": {\"options\": {\"dtype\": \"float64\", \"shape\": 1}},\n",
    "                            \"out\": {},\n",
    "                        },\n",
    "                        \"special\": \"decode\",\n",
    "                    },\n",
    "                    \"diameter\": {\n",
    "                        \"indicator\": \"diameter\",\n",
    "                        \"datatype\": {\n",
    "                            \"in\": {\"options\": {\"dtype\": \"float64\", \"shape\": 1}},\n",
    "                            \"out\": {},\n",
    "                        },\n",
    "                        \"special\": \"decode\",\n",
    "                    },\n",
    "                },\n",
    "                \"y\": {\n",
    "                    \"rings\": {\n",
    "                        \"datatype\": {\n",
    "                            \"in\": {\"options\": {\"dtype\": \"int64\", \"shape\": 1}},\n",
    "                            \"out\": {},\n",
    "                        }\n",
    "                    }\n",
    "                },\n",
    "            },\n",
    "        },\n",
    "    },\n",
    "}"
   ]
  },
  {
   "cell_type": "code",
   "execution_count": 5,
   "metadata": {},
   "outputs": [],
   "source": [
    "# create the datasets based on the above defined names/splits/specifed data\n",
    "ds_dict = dd.read(dd_dict, df)"
   ]
  },
  {
   "cell_type": "markdown",
   "metadata": {},
   "source": [
    "`ds_dict` is a dictionary containing the tensorflow datasets (as specified above). which can be accessed like this:\n",
    "\n",
    "```python\n",
    "ds_val = ds_dict[\"val\"]\n",
    "```"
   ]
  },
  {
   "cell_type": "markdown",
   "metadata": {},
   "source": [
    "## Specify the Model"
   ]
  },
  {
   "cell_type": "code",
   "execution_count": 6,
   "metadata": {
    "scrolled": true
   },
   "outputs": [],
   "source": [
    "# %load_ext autoreload\n",
    "# %autoreload 2\n",
    "# import yeahml as yml\n",
    "example = \"./main_config.yml\"\n",
    "yml_dict = yml.create_configs(example)"
   ]
  },
  {
   "cell_type": "code",
   "execution_count": 7,
   "metadata": {
    "scrolled": false
   },
   "outputs": [
    {
     "name": "stdout",
     "output_type": "stream",
     "text": [
      "{'data': {'in_dim': [None, 2, 1],\n",
      "          'in_dtype': 'float64',\n",
      "          'input_layer_dim': [2, 1],\n",
      "          'label_dtype': 'int32',\n",
      "          'label_one_hot': False,\n",
      "          'output_dim': [None, 1],\n",
      "          'reshape_in_to': None},\n",
      " 'hyper_parameters': {'dataset': {'batch': 16, 'shuffle_buffer': 128},\n",
      "                      'early_stopping': {'epochs': None, 'warm_up': None},\n",
      "                      'epochs': 30,\n",
      "                      'optimizer': {'options': {'beta_1': 0.91,\n",
      "                                                'learning_rate': 0.0001},\n",
      "                                    'type': 'adam'}},\n",
      " 'logging': {'console': {'format_str': '%(name)-12s: %(levelname)-8s '\n",
      "                                       '%(message)s',\n",
      "                         'level': 'info'},\n",
      "             'file': {'format_str': '%(filename)s:%(lineno)s - '\n",
      "                                    '%(funcName)20s()][%(levelname)-8s]: '\n",
      "                                    '%(message)s',\n",
      "                      'level': 'error'}},\n",
      " 'meta': {'data_name': 'abalone',\n",
      "          'default_load_params_path': None,\n",
      "          'experiment_name': 'trial_00',\n",
      "          'rand_seed': None,\n",
      "          'trace_level': None,\n",
      "          'yeahml_dir': 'yeahml'},\n",
      " 'model': {'layers': {'dense_1': {'input_str': None,\n",
      "                                  'options': {'activation': {'type': 'elu'},\n",
      "                                              'units': 16},\n",
      "                                  'type': 'dense'},\n",
      "                      'dense_2': {'input_str': None,\n",
      "                                  'options': {'activation': {'type': 'linear'},\n",
      "                                              'units': 8},\n",
      "                                  'type': 'dense'},\n",
      "                      'dense_3_output': {'input_str': None,\n",
      "                                         'options': {'activation': {'type': 'linear'},\n",
      "                                                     'units': 1},\n",
      "                                         'type': 'dense'}},\n",
      "           'model_hash': 3253842335684337464,\n",
      "           'model_root_dir': PosixPath('yeahml/abalone/trial_00'),\n",
      "           'save/model': 'yeahml/abalone/trial_00/save/model',\n",
      "           'save/params': 'yeahml/abalone/trial_00/save/params',\n",
      "           'tf_logs': 'yeahml/abalone/trial_00/tf_logs',\n",
      "           'yf_logs': 'yeahml/abalone/trial_00/yf_logs'},\n",
      " 'performance': {'loss': {'options': None, 'type': 'mse'},\n",
      "                 'metric': {'options': [None, None],\n",
      "                            'type': ['meansquarederror', 'meanabsoluteerror']}}}\n"
     ]
    }
   ],
   "source": [
    "import pprint\n",
    "pprint.pprint(yml_dict)"
   ]
  },
  {
   "cell_type": "markdown",
   "metadata": {},
   "source": [
    "## Build the model"
   ]
  },
  {
   "cell_type": "code",
   "execution_count": 8,
   "metadata": {
    "scrolled": true
   },
   "outputs": [
    {
     "name": "stderr",
     "output_type": "stream",
     "text": [
      "build_logger: INFO     -> START building graph\n",
      "build_logger: INFO     -> START building hidden block\n",
      "graph_logger: INFO     | dense_1         | no_shape\n",
      "graph_logger: INFO     | dense_2         | no_shape\n",
      "graph_logger: INFO     | dense_3_output  | no_shape\n",
      "build_logger: INFO     [END] building hidden block\n",
      "build_logger: INFO     information json file created\n"
     ]
    }
   ],
   "source": [
    "# If you receive an error:\n",
    "# AttributeError: 'google.protobuf.pyext._message.RepeatedCompositeCo' object has no attribute 'append'\n",
    "# I personally used `pip install -U protobuf=3.8.0` to resolve\n",
    "# per https://github.com/tensorflow/tensorflow/issues/33348\n",
    "model = yml.build_model(yml_dict)"
   ]
  },
  {
   "cell_type": "code",
   "execution_count": 9,
   "metadata": {},
   "outputs": [
    {
     "name": "stdout",
     "output_type": "stream",
     "text": [
      "Model: \"model\"\n",
      "_________________________________________________________________\n",
      "Layer (type)                 Output Shape              Param #   \n",
      "=================================================================\n",
      "input_1 (InputLayer)         [(None, 2, 1)]            0         \n",
      "_________________________________________________________________\n",
      "dense_1 (Dense)              (None, 2, 16)             32        \n",
      "_________________________________________________________________\n",
      "dense_2 (Dense)              (None, 2, 8)              136       \n",
      "_________________________________________________________________\n",
      "dense_3_output (Dense)       (None, 2, 1)              9         \n",
      "=================================================================\n",
      "Total params: 177\n",
      "Trainable params: 177\n",
      "Non-trainable params: 0\n",
      "_________________________________________________________________\n"
     ]
    }
   ],
   "source": [
    "model.summary()"
   ]
  },
  {
   "cell_type": "markdown",
   "metadata": {},
   "source": [
    "## Train the Model\n",
    "\n",
    "Notice here that we're using the created training and validation sets from `ds_dict`"
   ]
  },
  {
   "cell_type": "code",
   "execution_count": 10,
   "metadata": {
    "scrolled": true
   },
   "outputs": [
    {
     "name": "stderr",
     "output_type": "stream",
     "text": [
      "train_logger: INFO     -> START training graph\n",
      "WARNING: Logging before flag parsing goes to stderr.\n",
      "W0202 17:52:35.153477 140451729581888 base_layer.py:1790] Layer dense_1 is casting an input tensor from dtype float64 to the layer's dtype of float32, which is new behavior in TensorFlow 2.  The layer has dtype float32 because it's dtype defaults to floatx.\n",
      "\n",
      "If you intended to run this layer in float32, you can safely ignore this warning. If in doubt, this warning is likely only an issue if you are porting a TensorFlow 1.X model to TensorFlow 2.\n",
      "\n",
      "To change all layers to have dtype float64 by default, call `tf.keras.backend.set_floatx('float64')`. To change just this layer, pass dtype='float64' to the layer constructor. If you are the author of this layer, you can disable autocasting by passing autocast=False to the base Layer constructor.\n",
      "\n",
      "train_logger: INFO     start creating train_dict\n",
      "train_logger: INFO     [END] creating train_dict\n"
     ]
    }
   ],
   "source": [
    "train_dict = yml.train_model(model, yml_dict, (ds_dict[\"train\"], ds_dict[\"val\"]))"
   ]
  },
  {
   "cell_type": "markdown",
   "metadata": {},
   "source": [
    "## Evaluate the Model"
   ]
  },
  {
   "cell_type": "code",
   "execution_count": 11,
   "metadata": {},
   "outputs": [
    {
     "name": "stderr",
     "output_type": "stream",
     "text": [
      "eval_logger : INFO     params loaded from yeahml/abalone/trial_00/save/params/run_2020_02_02-17_52_34/best_params.h5\n",
      "eval_logger : INFO     -> START evaluating model\n",
      "eval_logger : INFO     [END] evaluating model\n",
      "eval_logger : INFO     -> START creating eval_dict\n",
      "eval_logger : INFO     [END] creating eval_dict\n"
     ]
    },
    {
     "name": "stdout",
     "output_type": "stream",
     "text": [
      "{'meansquarederror': 6.541078, 'meanabsoluteerror': 1.9089029}\n"
     ]
    }
   ],
   "source": [
    "eval_dict = yml.eval_model(\n",
    "    model,\n",
    "    yml_dict,\n",
    "    dataset=ds_dict[\"test\"]\n",
    ")\n",
    "print(eval_dict)"
   ]
  },
  {
   "cell_type": "markdown",
   "metadata": {},
   "source": [
    "## Inspect model in Tensorflow\n",
    "\n",
    "In the command line you can navigate to the `albalone` directory and run: (provided tensorboard is installed in your environment)\n",
    "\n",
    "```bash\n",
    "tensorboard --logdir model_a/\n",
    "```"
   ]
  },
  {
   "cell_type": "code",
   "execution_count": null,
   "metadata": {},
   "outputs": [],
   "source": []
  }
 ],
 "metadata": {
  "kernelspec": {
   "display_name": "tf2",
   "language": "python",
   "name": "tf2"
  },
  "language_info": {
   "codemirror_mode": {
    "name": "ipython",
    "version": 3
   },
   "file_extension": ".py",
   "mimetype": "text/x-python",
   "name": "python",
   "nbconvert_exporter": "python",
   "pygments_lexer": "ipython3",
   "version": "3.6.7"
  }
 },
 "nbformat": 4,
 "nbformat_minor": 2
}
