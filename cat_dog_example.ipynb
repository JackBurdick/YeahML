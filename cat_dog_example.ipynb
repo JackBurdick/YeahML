{
 "cells": [
  {
   "cell_type": "code",
   "execution_count": 1,
   "metadata": {},
   "outputs": [],
   "source": [
    "%load_ext autoreload\n",
    "%autoreload 2\n",
    "\n",
    "import yeahml as yml"
   ]
  },
  {
   "cell_type": "markdown",
   "metadata": {},
   "source": [
    "## Set up\n",
    "\n",
    "First, we need to make sure a configuration file has been created and follows the reccomended format"
   ]
  },
  {
   "cell_type": "code",
   "execution_count": 2,
   "metadata": {},
   "outputs": [
    {
     "name": "stdout",
     "output_type": "stream",
     "text": [
      "# all paths are relative to yaml/execution?\r\n",
      "# TODO: naming/structure will need to be improved\r\n",
      "meta:\r\n",
      "  name: 'cats_v_dogs'\r\n",
      "  experiment_dir: 'trial_01'\r\n",
      "  saver:\r\n",
      "    save_params_name: \"best_params_saver\"\r\n",
      "\r\n",
      "logging:\r\n",
      "  console:\r\n",
      "    level: 'info'\r\n",
      "    format_str: null\r\n",
      "  file:\r\n",
      "    level: 'debug'\r\n",
      "    format_str: null\r\n",
      "  graph_spec: True\r\n",
      "\r\n",
      "performance:\r\n",
      "  loss_fn: \r\n",
      "    type: 'binary_crossentropy'\r\n",
      "  type: [\"BinaryAccuracy\"]\r\n",
      "\r\n",
      "data:\r\n",
      "  in: \r\n",
      "    dim: [150, 150, 3]\r\n",
      "    dtype: 'float32'\r\n",
      "  label:\r\n",
      "    dim: [1]\r\n",
      "    dtype: 'int64'\r\n",
      "  TFR_parse:\r\n",
      "    feature:\r\n",
      "      name: \"/image\"\r\n",
      "      dtype: \"float32\"\r\n",
      "      tftype: \"fixedlenfeature\"\r\n",
      "      in_type: \"string\"\r\n",
      "    label:\r\n",
      "      name: \"/label\"\r\n",
      "      dtype: \"int64\" # what to decode it to\r\n",
      "      tftype: \"fixedlenfeature\"\r\n",
      "      in_type: \"int64\" # what it is encoded as\r\n",
      "  TFR:\r\n",
      "    dir: './examples/cats_v_dogs/data/record_holder/150'\r\n",
      "    train: 'train.tfrecords'\r\n",
      "    validation: 'val.tfrecords'\r\n",
      "    test: 'test.tfrecords'\r\n",
      "  # image:\r\n",
      "  #   standardize: True\r\n",
      "  #   augmentation:\r\n",
      "  #     aug_val: True\r\n",
      "  #     v_flip: True\r\n",
      "  #     h_flip: True\r\n",
      "  #     #rotate: 0\r\n",
      "  #     max_brightness: 0.2\r\n",
      "\r\n",
      "hyper_parameters:\r\n",
      "  optimizer: \r\n",
      "    type: 'adam'\r\n",
      "    learning_rate: 0.001\r\n",
      "  batch_size: 32\r\n",
      "  epochs: 3\r\n",
      "  shuffle_buffer: 128\r\n",
      "  # early_stopping:\r\n",
      "  #   epochs: 3\r\n",
      "  #   warm_up_epochs: 5\r\n",
      "\r\n",
      "model:\r\n",
      "  path: './examples/cats_v_dogs/model_config.yaml'"
     ]
    }
   ],
   "source": [
    "!cat ./examples/cats_v_dogs/main_config.yaml"
   ]
  },
  {
   "cell_type": "markdown",
   "metadata": {},
   "source": [
    "## Parse configuration files\n",
    "\n",
    "Next, we will parse out the relevant bits of information into modular components."
   ]
  },
  {
   "cell_type": "code",
   "execution_count": 3,
   "metadata": {},
   "outputs": [
    {
     "name": "stdout",
     "output_type": "stream",
     "text": [
      "./examples/cats_v_dogs/trial_01 created\n",
      "./examples/cats_v_dogs/trial_01/best_params created\n",
      "./examples/cats_v_dogs/trial_01/tf_logs created\n",
      "./examples/cats_v_dogs/trial_01/yf_logs created\n"
     ]
    }
   ],
   "source": [
    "## Core Logic\n",
    "example = \"./examples/cats_v_dogs/main_config.yaml\"\n",
    "config_dict = yml.create_configs(example)"
   ]
  },
  {
   "cell_type": "code",
   "execution_count": 4,
   "metadata": {},
   "outputs": [],
   "source": [
    "meta_cdict = config_dict[\"meta\"]\n",
    "log_cdict = config_dict[\"logging\"]\n",
    "perf_cdict = config_dict[\"performance\"]\n",
    "data_cdict = config_dict[\"data\"]\n",
    "hp_cdict = config_dict[\"hyper_parameters\"]\n",
    "model_cdict = config_dict[\"model\"]"
   ]
  },
  {
   "cell_type": "markdown",
   "metadata": {},
   "source": [
    "## Examine configs\n",
    "\n",
    "Each of these configs is a simple python dictionary with the expected format for yeahml.\n",
    "\n",
    "They can be extracted/created seperately if desired (an example of modifying the `model_cdict` is shown next)"
   ]
  },
  {
   "cell_type": "code",
   "execution_count": 5,
   "metadata": {},
   "outputs": [
    {
     "data": {
      "text/plain": [
       "{'meta': {'name': 'cats_v_dogs',\n",
       "  'experiment_dir': 'trial_01',\n",
       "  'save_params': 'best_params_saver',\n",
       "  'log_dir': './examples/cats_v_dogs/trial_01',\n",
       "  'save_weights_path': './examples/cats_v_dogs/trial_01/best_params/best_params_saver.h5',\n",
       "  'best_params': './examples/cats_v_dogs/trial_01/best_params',\n",
       "  'tf_logs': './examples/cats_v_dogs/trial_01/tf_logs',\n",
       "  'yf_logs': './examples/cats_v_dogs/trial_01/yf_logs'},\n",
       " 'logging': {'log_c_lvl': 'INFO',\n",
       "  'log_c_str': '%(name)-12s: %(levelname)-8s %(message)s',\n",
       "  'log_f_lvl': 'DEBUG',\n",
       "  'log_f_str': '[%(asctime)s - %(filename)s:%(lineno)s - %(funcName)20s()][%(levelname)-8s]: %(message)s',\n",
       "  'log_g_lvl': 'DEBUG',\n",
       "  'log_g_str': '%(name)-12s: %(levelname)-8s %(message)s',\n",
       "  'log_p_lvl': 'DEBUG',\n",
       "  'log_p_str': '[%(levelname)-8s] %(message)s'},\n",
       " 'performance': {'loss_fn': {'type': 'binary_crossentropy'},\n",
       "  'met_list': ['binaryaccuracy'],\n",
       "  'met_opts_list': None},\n",
       " 'data': {'input_layer_dim': [150, 150, 3],\n",
       "  'in_dim': [None, 150, 150, 3],\n",
       "  'in_dtype': 'float32',\n",
       "  'reshape_in_to': None,\n",
       "  'output_dim': [None, 1],\n",
       "  'label_dtype': 'int64',\n",
       "  'label_one_hot': False,\n",
       "  'TFR_dir': './examples/cats_v_dogs/data/record_holder/150',\n",
       "  'TFR_train': 'train.tfrecords',\n",
       "  'TFR_test': 'test.tfrecords',\n",
       "  'TFR_val': 'val.tfrecords',\n",
       "  'data_in_dict': {'dim': [150, 150, 3], 'dtype': 'float32'},\n",
       "  'data_out_dict': {'dim': [1], 'dtype': 'int64'},\n",
       "  'TFR_parse': {'feature': {'name': '/image',\n",
       "    'dtype': 'float32',\n",
       "    'tftype': 'fixedlenfeature',\n",
       "    'in_type': 'string'},\n",
       "   'label': {'name': '/label',\n",
       "    'dtype': 'int64',\n",
       "    'tftype': 'fixedlenfeature',\n",
       "    'in_type': 'int64'}}},\n",
       " 'hyper_parameters': {'epochs': 3,\n",
       "  'batch_size': 32,\n",
       "  'optimizer_dict': {'type': 'adam', 'learning_rate': 0.001},\n",
       "  'early_stopping_e': 0,\n",
       "  'warm_up_epochs': 5,\n",
       "  'shuffle_buffer': 128},\n",
       " 'model': {'layers': {'batch_norm_0': {'type': 'batchnormalization',\n",
       "    'options': None,\n",
       "    'input_str': None},\n",
       "   'conv_1': {'type': 'conv2d',\n",
       "    'options': {'filters': 16,\n",
       "     'kernel_size': 3,\n",
       "     'strides': 2,\n",
       "     'activation': {'type': 'elu'}},\n",
       "    'input_str': None},\n",
       "   'batch_norm_1': {'type': 'batchnormalization',\n",
       "    'options': None,\n",
       "    'input_str': None},\n",
       "   'pool_1': {'type': 'averagepooling2d',\n",
       "    'options': {'pool_size': 2, 'strides': 2},\n",
       "    'input_str': None},\n",
       "   'conv_2': {'type': 'conv2d',\n",
       "    'options': {'filters': 32,\n",
       "     'kernel_size': 3,\n",
       "     'strides': 1,\n",
       "     'activation': {'type': 'relu', 'max_value': 6}},\n",
       "    'input_str': None},\n",
       "   'batch_norm_2': {'type': 'batchnormalization',\n",
       "    'options': None,\n",
       "    'input_str': None},\n",
       "   'pool_2': {'type': 'averagepooling2d',\n",
       "    'options': {'pool_size': 2, 'strides': 2},\n",
       "    'input_str': None},\n",
       "   'conv_3': {'type': 'conv2d',\n",
       "    'options': {'filters': 64,\n",
       "     'kernel_size': 3,\n",
       "     'strides': 1,\n",
       "     'activation': {'type': 'relu', 'max_value': 6}},\n",
       "    'input_str': None},\n",
       "   'batch_norm_3': {'type': 'batchnormalization',\n",
       "    'options': None,\n",
       "    'input_str': None},\n",
       "   'pool_3': {'type': 'maxpooling2d',\n",
       "    'options': {'pool_size': 2, 'strides': 2},\n",
       "    'input_str': None},\n",
       "   'dropout_1': {'type': 'dropout',\n",
       "    'options': {'rate': 0.5},\n",
       "    'input_str': None},\n",
       "   'flatten_1': {'type': 'flatten', 'options': None, 'input_str': None},\n",
       "   'dense_1': {'type': 'dense',\n",
       "    'options': {'units': 64, 'activation': {'type': 'relu', 'max_value': 6}},\n",
       "    'input_str': None},\n",
       "   'dropout_2': {'type': 'dropout',\n",
       "    'options': {'rate': 0.5},\n",
       "    'input_str': None},\n",
       "   'batch_norm_4': {'type': 'batchnormalization',\n",
       "    'options': None,\n",
       "    'input_str': None},\n",
       "   'dense_2': {'type': 'dense',\n",
       "    'options': {'units': 16, 'activation': {'type': 'relu', 'max_value': 6}},\n",
       "    'input_str': None},\n",
       "   'dense_out': {'type': 'dense',\n",
       "    'options': {'units': 1, 'activation': {'type': 'sigmoid'}},\n",
       "    'input_str': None}}}}"
      ]
     },
     "execution_count": 5,
     "metadata": {},
     "output_type": "execute_result"
    }
   ],
   "source": [
    "config_dict"
   ]
  },
  {
   "cell_type": "markdown",
   "metadata": {},
   "source": [
    "## Build the model\n",
    "(according to our specifications)"
   ]
  },
  {
   "cell_type": "code",
   "execution_count": 6,
   "metadata": {},
   "outputs": [
    {
     "name": "stderr",
     "output_type": "stream",
     "text": [
      "build_logger: INFO     -> START building graph\n",
      "build_logger: INFO     -> START building hidden block\n",
      "graph_logger: INFO     | batch_norm_0    | no_shape\n",
      "graph_logger: INFO     | conv_1          | no_shape\n",
      "graph_logger: INFO     | batch_norm_1    | no_shape\n",
      "graph_logger: INFO     | pool_1          | no_shape\n",
      "graph_logger: INFO     | conv_2          | no_shape\n",
      "graph_logger: INFO     | batch_norm_2    | no_shape\n",
      "graph_logger: INFO     | pool_2          | no_shape\n",
      "graph_logger: INFO     | conv_3          | no_shape\n",
      "graph_logger: INFO     | batch_norm_3    | no_shape\n",
      "graph_logger: INFO     | pool_3          | no_shape\n",
      "graph_logger: INFO     | dropout_1       | no_shape\n",
      "graph_logger: INFO     | flatten_1       | no_shape\n",
      "graph_logger: INFO     | dense_1         | no_shape\n",
      "graph_logger: INFO     | dropout_2       | no_shape\n",
      "graph_logger: INFO     | batch_norm_4    | no_shape\n",
      "graph_logger: INFO     | dense_2         | no_shape\n",
      "graph_logger: INFO     | dense_out       | no_shape\n",
      "build_logger: INFO     [END] building hidden block\n"
     ]
    }
   ],
   "source": [
    "model = yml.build_model(meta_cdict, model_cdict, log_cdict, data_cdict)"
   ]
  },
  {
   "cell_type": "code",
   "execution_count": 7,
   "metadata": {},
   "outputs": [
    {
     "name": "stdout",
     "output_type": "stream",
     "text": [
      "Model: \"model\"\n",
      "_________________________________________________________________\n",
      "Layer (type)                 Output Shape              Param #   \n",
      "=================================================================\n",
      "input_1 (InputLayer)         [(None, 150, 150, 3)]     0         \n",
      "_________________________________________________________________\n",
      "batch_norm_0 (BatchNormaliza (None, 150, 150, 3)       12        \n",
      "_________________________________________________________________\n",
      "conv_1 (Conv2D)              (None, 74, 74, 16)        448       \n",
      "_________________________________________________________________\n",
      "batch_norm_1 (BatchNormaliza (None, 74, 74, 16)        64        \n",
      "_________________________________________________________________\n",
      "pool_1 (AveragePooling2D)    (None, 37, 37, 16)        0         \n",
      "_________________________________________________________________\n",
      "conv_2 (Conv2D)              (None, 35, 35, 32)        4640      \n",
      "_________________________________________________________________\n",
      "batch_norm_2 (BatchNormaliza (None, 35, 35, 32)        128       \n",
      "_________________________________________________________________\n",
      "pool_2 (AveragePooling2D)    (None, 17, 17, 32)        0         \n",
      "_________________________________________________________________\n",
      "conv_3 (Conv2D)              (None, 15, 15, 64)        18496     \n",
      "_________________________________________________________________\n",
      "batch_norm_3 (BatchNormaliza (None, 15, 15, 64)        256       \n",
      "_________________________________________________________________\n",
      "pool_3 (MaxPooling2D)        (None, 7, 7, 64)          0         \n",
      "_________________________________________________________________\n",
      "dropout_1 (Dropout)          (None, 7, 7, 64)          0         \n",
      "_________________________________________________________________\n",
      "flatten_1 (Flatten)          (None, 3136)              0         \n",
      "_________________________________________________________________\n",
      "dense_1 (Dense)              (None, 64)                200768    \n",
      "_________________________________________________________________\n",
      "dropout_2 (Dropout)          (None, 64)                0         \n",
      "_________________________________________________________________\n",
      "batch_norm_4 (BatchNormaliza (None, 64)                256       \n",
      "_________________________________________________________________\n",
      "dense_2 (Dense)              (None, 16)                1040      \n",
      "_________________________________________________________________\n",
      "dense_out (Dense)            (None, 1)                 17        \n",
      "=================================================================\n",
      "Total params: 226,125\n",
      "Trainable params: 225,767\n",
      "Non-trainable params: 358\n",
      "_________________________________________________________________\n",
      "None\n"
     ]
    }
   ],
   "source": [
    "# this is a standard tf2 model\n",
    "print(model.summary())"
   ]
  },
  {
   "cell_type": "markdown",
   "metadata": {},
   "source": [
    "## Train the model"
   ]
  },
  {
   "cell_type": "code",
   "execution_count": 8,
   "metadata": {},
   "outputs": [
    {
     "name": "stderr",
     "output_type": "stream",
     "text": [
      "train_logger: INFO     -> START training graph\n",
      "train_logger: INFO     start creating train_dict\n",
      "train_logger: INFO     [END] creating train_dict\n"
     ]
    }
   ],
   "source": [
    "train_dict = yml.train_model(\n",
    "    model, meta_cdict, log_cdict, data_cdict, hp_cdict, perf_cdict\n",
    ")"
   ]
  },
  {
   "cell_type": "code",
   "execution_count": 9,
   "metadata": {},
   "outputs": [
    {
     "name": "stdout",
     "output_type": "stream",
     "text": [
      "{'train_losses': [0.68455386, 0.63612455, 0.6074224], 'val_losses': [0.6097455, 0.5796257, 0.6080216], 'epochs': [0, 1, 2], 'binaryaccuracy': 0.6684375, 'val_binaryaccuracy': 0.6618125}\n"
     ]
    }
   ],
   "source": [
    "# the returned train_dict contains relevant information from training\n",
    "print(train_dict)"
   ]
  },
  {
   "cell_type": "markdown",
   "metadata": {},
   "source": [
    "## Evaluate Model"
   ]
  },
  {
   "cell_type": "code",
   "execution_count": 10,
   "metadata": {},
   "outputs": [
    {
     "name": "stderr",
     "output_type": "stream",
     "text": [
      "eval_logger : INFO     params loaded from ./examples/cats_v_dogs/trial_01/best_params/best_params_saver.h5\n",
      "eval_logger : INFO     -> START evaluating model\n",
      "eval_logger : INFO     [END] evaluating model\n",
      "eval_logger : INFO     -> START creating eval_dict\n",
      "eval_logger : INFO     [END] creating eval_dict\n"
     ]
    },
    {
     "name": "stdout",
     "output_type": "stream",
     "text": [
      "{'binaryaccuracy': 0.7010625}\n"
     ]
    }
   ],
   "source": [
    "eval_dict = yml.eval_model(\n",
    "    model,\n",
    "    meta_cdict,\n",
    "    log_cdict,\n",
    "    data_cdict,\n",
    "    hp_cdict,\n",
    "    perf_cdict,\n",
    ")\n",
    "print(eval_dict)"
   ]
  },
  {
   "cell_type": "code",
   "execution_count": null,
   "metadata": {},
   "outputs": [],
   "source": []
  }
 ],
 "metadata": {
  "kernelspec": {
   "display_name": "tf2",
   "language": "python",
   "name": "tf2"
  },
  "language_info": {
   "codemirror_mode": {
    "name": "ipython",
    "version": 3
   },
   "file_extension": ".py",
   "mimetype": "text/x-python",
   "name": "python",
   "nbconvert_exporter": "python",
   "pygments_lexer": "ipython3",
   "version": "3.6.8"
  }
 },
 "nbformat": 4,
 "nbformat_minor": 2
}
