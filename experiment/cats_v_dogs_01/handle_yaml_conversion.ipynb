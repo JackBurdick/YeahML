{
 "cells": [
  {
   "cell_type": "code",
   "execution_count": 1,
   "metadata": {},
   "outputs": [],
   "source": [
    "import yaml"
   ]
  },
  {
   "cell_type": "code",
   "execution_count": 2,
   "metadata": {},
   "outputs": [],
   "source": [
    "def parse_yaml_from_path(path: str) -> dict:\n",
    "    # return python dict from yaml path\n",
    "    with open(path, \"r\") as stream:\n",
    "        try:\n",
    "            y = yaml.load(stream)\n",
    "            return y\n",
    "        except yaml.YAMLError as exc:\n",
    "            print(exc)\n",
    "            return None\n",
    "\n",
    "\n",
    "def create_model_and_arch_config(path: str) -> (dict, dict):\n",
    "    # return the model and archtitecture configuration dicts\n",
    "    m_config = parse_yaml_from_path(path)\n",
    "    # create architecture config\n",
    "    if m_config[\"architecture\"][\"yaml\"]:\n",
    "        a_config = parse_yaml_from_path(m_config[\"architecture\"][\"yaml\"])\n",
    "    else:\n",
    "        a_config = m_config[\"architecture\"]\n",
    "\n",
    "    return (m_config, a_config)"
   ]
  },
  {
   "cell_type": "code",
   "execution_count": 3,
   "metadata": {},
   "outputs": [
    {
     "name": "stdout",
     "output_type": "stream",
     "text": [
      "{'overall': {'verbosity': 0, 'tf_log_level': 'warn'}, 'data': {'in_dim': [150, 150, 3], 'reshape_in_to': None, 'directory': None, 'output_dim': 1}, 'saver': {'save_weights': None, 'load_weights': None, 'save_graph': None, 'load_graph': None}, 'tensorboard': {'log_dir': None}, 'hyper_parameters': {'lr': '1e-3', 'batch_size': 16, 'epochs': 3}, 'architecture': {'yaml': './architecture.yaml'}, 'implementation': {'optimizer': 'adam', 'initialization': None, 'default_activation': 'elu'}}\n",
      "{'layers': None}\n"
     ]
    }
   ],
   "source": [
    "MC, AC = create_model_and_arch_config(\"./model_config.yaml\")\n",
    "print(MC)\n",
    "print(AC)"
   ]
  },
  {
   "cell_type": "code",
   "execution_count": 4,
   "metadata": {},
   "outputs": [],
   "source": [
    "MCd = {}\n",
    "MCd[\"in_dim\"] = MC[\"data\"][\"in_dim\"]"
   ]
  },
  {
   "cell_type": "code",
   "execution_count": 6,
   "metadata": {},
   "outputs": [
    {
     "name": "stdout",
     "output_type": "stream",
     "text": [
      "[None, 150, 150, 3]\n"
     ]
    }
   ],
   "source": [
    "if MCd[\"in_dim\"][0]:\n",
    "    MCd[\"in_dim\"].insert(0, None)  # add batching\n",
    "print(MCd[\"in_dim\"])"
   ]
  },
  {
   "cell_type": "code",
   "execution_count": null,
   "metadata": {},
   "outputs": [],
   "source": []
  }
 ],
 "metadata": {
  "kernelspec": {
   "display_name": "dl_edge",
   "language": "python",
   "name": "dl_edge"
  },
  "language_info": {
   "codemirror_mode": {
    "name": "ipython",
    "version": 3
   },
   "file_extension": ".py",
   "mimetype": "text/x-python",
   "name": "python",
   "nbconvert_exporter": "python",
   "pygments_lexer": "ipython3",
   "version": "3.6.5"
  }
 },
 "nbformat": 4,
 "nbformat_minor": 2
}
