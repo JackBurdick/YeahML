{
 "cells": [
  {
   "cell_type": "code",
   "execution_count": 2,
   "metadata": {},
   "outputs": [],
   "source": [
    "%load_ext autoreload\n",
    "%autoreload 2\n",
    "\n",
    "import yeahml as yml"
   ]
  },
  {
   "cell_type": "markdown",
   "metadata": {},
   "source": [
    "## Set up\n",
    "\n",
    "First, we need to make sure a configuration file has been created and follows the reccomended format"
   ]
  },
  {
   "cell_type": "code",
   "execution_count": 3,
   "metadata": {},
   "outputs": [
    {
     "name": "stdout",
     "output_type": "stream",
     "text": [
      "meta:\r\n",
      "  name: 'mnist'\r\n",
      "  experiment_dir: 'trial_01'\r\n",
      "  # TODO: information on when to save params, currently only best params saved\r\n",
      "logging:\r\n",
      "  console:\r\n",
      "    level: 'info'\r\n",
      "    format_str: null\r\n",
      "  file:\r\n",
      "    level: 'ERROR'\r\n",
      "    format_str: null\r\n",
      "  graph_spec: True\r\n",
      "\r\n",
      "performance:\r\n",
      "  loss_fn: \r\n",
      "    type: 'categorical_crossentropy'\r\n",
      "  type: [\"MeanSquaredError\", \"TopKCategoricalAccuracy\", \"CategoricalAccuracy\"]\r\n",
      "  options: [null, \r\n",
      "            {\"k\": 2}, \r\n",
      "            null]\r\n",
      "\r\n",
      "# TODO: this section needs to be redone\r\n",
      "data:\r\n",
      "  in:\r\n",
      "    dim: [784]\r\n",
      "    dtype: 'float32'\r\n",
      "    reshape_to: [28, 28, 1]\r\n",
      "  label:\r\n",
      "    dim: [10]\r\n",
      "    dtype: 'float32'\r\n",
      "    one_hot: True # TODO: ensure this is being used\r\n",
      "  TFR_parse:\r\n",
      "    feature:\r\n",
      "      name: \"/image\"\r\n",
      "      dtype: \"int8\"\r\n",
      "      tftype: \"fixedlenfeature\"\r\n",
      "      in_type: \"string\"\r\n",
      "    label:\r\n",
      "      name: \"/label\"\r\n",
      "      dtype: \"int64\" # what to decode it to\r\n",
      "      tftype: \"fixedlenfeature\"\r\n",
      "      in_type: \"int64\" # what it is encoded as\r\n",
      "  TFR:\r\n",
      "    dir: './examples/mnist/data/'\r\n",
      "    train: 'train.tfrecords'\r\n",
      "    validation: 'validation.tfrecords'\r\n",
      "    test: 'test.tfrecords'\r\n",
      "\r\n",
      "hyper_parameters:\r\n",
      "  optimizer: \r\n",
      "    type: 'adam'\r\n",
      "    learning_rate: 0.0001\r\n",
      "  batch_size: 32\r\n",
      "  epochs: 3\r\n",
      "  shuffle_buffer: 128\r\n",
      "model:\r\n",
      "  path: './examples/mnist/model_config.yaml'\r\n",
      "\r\n"
     ]
    }
   ],
   "source": [
    "!cat ./examples/mnist/main_config.yaml"
   ]
  },
  {
   "cell_type": "markdown",
   "metadata": {},
   "source": [
    "## Parse configuration files\n",
    "\n",
    "Next, we will parse out the relevant bits of information into modular components."
   ]
  },
  {
   "cell_type": "code",
   "execution_count": 7,
   "metadata": {},
   "outputs": [
    {
     "name": "stdout",
     "output_type": "stream",
     "text": [
      "-8090147948956741930\n"
     ]
    }
   ],
   "source": [
    "## Core Logic\n",
    "example = \"./examples/mnist/main_config.yaml\"\n",
    "config_dict = yml.create_configs(example)"
   ]
  },
  {
   "cell_type": "markdown",
   "metadata": {},
   "source": [
    "## Examine configs\n",
    "\n",
    "Each of these configs is a simple python dictionary with the expected format for yeahml.\n",
    "\n",
    "They can be extracted/created seperately if desired (an example of modifying the `model_cdict` is shown next)"
   ]
  },
  {
   "cell_type": "code",
   "execution_count": 8,
   "metadata": {},
   "outputs": [
    {
     "data": {
      "text/plain": [
       "{'meta': {'name': 'mnist',\n",
       "  'experiment_dir': 'trial_01',\n",
       "  'log_dir': './examples/mnist/trial_01'},\n",
       " 'logging': {'log_c_lvl': 'INFO',\n",
       "  'log_c_str': '%(name)-12s: %(levelname)-8s %(message)s',\n",
       "  'log_f_lvl': 'ERROR',\n",
       "  'log_f_str': '[%(asctime)s - %(filename)s:%(lineno)s - %(funcName)20s()][%(levelname)-8s]: %(message)s',\n",
       "  'log_g_lvl': 'DEBUG',\n",
       "  'log_g_str': '%(name)-12s: %(levelname)-8s %(message)s',\n",
       "  'log_p_lvl': 'DEBUG',\n",
       "  'log_p_str': '[%(levelname)-8s] %(message)s'},\n",
       " 'performance': {'loss_fn': {'type': 'categorical_crossentropy'},\n",
       "  'met_list': ['meansquarederror',\n",
       "   'topkcategoricalaccuracy',\n",
       "   'categoricalaccuracy'],\n",
       "  'met_opts_list': [None, {'k': 2}, None]},\n",
       " 'data': {'input_layer_dim': [-1, 28, 28, 1],\n",
       "  'in_dim': [None, 784],\n",
       "  'in_dtype': 'float32',\n",
       "  'reshape_in_to': [-1, 28, 28, 1],\n",
       "  'output_dim': [None, 10],\n",
       "  'label_dtype': 'float32',\n",
       "  'label_one_hot': True,\n",
       "  'TFR_dir': './examples/mnist/data/',\n",
       "  'TFR_train': 'train.tfrecords',\n",
       "  'TFR_test': 'test.tfrecords',\n",
       "  'TFR_val': 'validation.tfrecords',\n",
       "  'data_in_dict': {'dim': [784],\n",
       "   'dtype': 'float32',\n",
       "   'reshape_to': [-1, 28, 28, 1]},\n",
       "  'data_out_dict': {'dim': [10], 'dtype': 'float32', 'one_hot': True},\n",
       "  'TFR_parse': {'feature': {'name': '/image',\n",
       "    'dtype': 'int8',\n",
       "    'tftype': 'fixedlenfeature',\n",
       "    'in_type': 'string'},\n",
       "   'label': {'name': '/label',\n",
       "    'dtype': 'int64',\n",
       "    'tftype': 'fixedlenfeature',\n",
       "    'in_type': 'int64'}}},\n",
       " 'hyper_parameters': {'epochs': 3,\n",
       "  'batch_size': 32,\n",
       "  'optimizer_dict': {'type': 'adam', 'learning_rate': 0.0001},\n",
       "  'early_stopping_e': 0,\n",
       "  'warm_up_epochs': 5,\n",
       "  'shuffle_buffer': 128},\n",
       " 'model': {'model_root_dir': './examples/mnist/trial_01/model_a',\n",
       "  'layers': {'conv_1': {'type': 'conv2d',\n",
       "    'options': {'filters': 32,\n",
       "     'kernel_size': 3,\n",
       "     'strides': 1,\n",
       "     'trainable': False,\n",
       "     'activation': {'type': 'relu', 'max_value': 6}},\n",
       "    'input_str': None},\n",
       "   'conv_2': {'type': 'conv2d',\n",
       "    'options': {'filters': 64,\n",
       "     'kernel_size': 3,\n",
       "     'strides': 1,\n",
       "     'trainable': True,\n",
       "     'kernel_initializer': {'type': 'glorot_normal', 'options': {'seed': 42}},\n",
       "     'activation': {'type': 'Relu'}},\n",
       "    'input_str': None},\n",
       "   'dropout_1': {'type': 'dropout',\n",
       "    'options': {'rate': 0.5},\n",
       "    'input_str': None},\n",
       "   'pool_1': {'type': 'averagepooling2d',\n",
       "    'options': {'pool_size': 2, 'strides': 2},\n",
       "    'input_str': None},\n",
       "   'flatten_1': {'type': 'flatten', 'options': None, 'input_str': None},\n",
       "   'dense_1': {'type': 'dense',\n",
       "    'options': {'units': 32,\n",
       "     'kernel_regularizer': {'type': 'L1', 'l': 0.01},\n",
       "     'kernel_constraint': {'type': 'MaxNorm'},\n",
       "     'activation': {'type': 'relu', 'max_value': 6}},\n",
       "    'input_str': None},\n",
       "   'dense_2_output': {'type': 'dense',\n",
       "    'options': {'units': 10, 'activation': {'type': 'softmax'}},\n",
       "    'input_str': None}},\n",
       "  'save/model': './examples/mnist/trial_01/model_a/save/model',\n",
       "  'save/params': './examples/mnist/trial_01/model_a/save/params',\n",
       "  'tf_logs': './examples/mnist/trial_01/model_a/tf_logs',\n",
       "  'yf_logs': './examples/mnist/trial_01/model_a/yf_logs',\n",
       "  'model_hash': -8090147948956741930}}"
      ]
     },
     "execution_count": 8,
     "metadata": {},
     "output_type": "execute_result"
    }
   ],
   "source": [
    "config_dict"
   ]
  },
  {
   "cell_type": "markdown",
   "metadata": {},
   "source": [
    "## Build the model\n",
    "(according to our specifications)"
   ]
  },
  {
   "cell_type": "code",
   "execution_count": 34,
   "metadata": {},
   "outputs": [
    {
     "name": "stderr",
     "output_type": "stream",
     "text": [
      "build_logger: INFO     -> START building graph\n",
      "build_logger: INFO     -> START building hidden block\n",
      "graph_logger: INFO     | conv_1          | no_shape\n",
      "graph_logger: INFO     | conv_2          | no_shape\n",
      "graph_logger: INFO     | dropout_1       | no_shape\n",
      "graph_logger: INFO     | pool_1          | no_shape\n",
      "graph_logger: INFO     | flatten_1       | no_shape\n",
      "graph_logger: INFO     | dense_1         | no_shape\n",
      "graph_logger: INFO     | dense_2_output  | no_shape\n",
      "build_logger: INFO     [END] building hidden block\n",
      "build_logger: INFO     information json file created\n"
     ]
    }
   ],
   "source": [
    "model = yml.build_model(config_dict)"
   ]
  },
  {
   "cell_type": "code",
   "execution_count": 10,
   "metadata": {},
   "outputs": [
    {
     "name": "stdout",
     "output_type": "stream",
     "text": [
      "Model: \"model\"\n",
      "_________________________________________________________________\n",
      "Layer (type)                 Output Shape              Param #   \n",
      "=================================================================\n",
      "input_1 (InputLayer)         [(None, 28, 28, 1)]       0         \n",
      "_________________________________________________________________\n",
      "conv_1 (Conv2D)              (None, 26, 26, 32)        320       \n",
      "_________________________________________________________________\n",
      "conv_2 (Conv2D)              (None, 24, 24, 64)        18496     \n",
      "_________________________________________________________________\n",
      "dropout_1 (Dropout)          (None, 24, 24, 64)        0         \n",
      "_________________________________________________________________\n",
      "pool_1 (AveragePooling2D)    (None, 12, 12, 64)        0         \n",
      "_________________________________________________________________\n",
      "flatten_1 (Flatten)          (None, 9216)              0         \n",
      "_________________________________________________________________\n",
      "dense_1 (Dense)              (None, 32)                294944    \n",
      "_________________________________________________________________\n",
      "dense_2_output (Dense)       (None, 10)                330       \n",
      "=================================================================\n",
      "Total params: 314,090\n",
      "Trainable params: 313,770\n",
      "Non-trainable params: 320\n",
      "_________________________________________________________________\n",
      "None\n"
     ]
    }
   ],
   "source": [
    "# this is a standard tf2 model\n",
    "print(model.summary())"
   ]
  },
  {
   "cell_type": "markdown",
   "metadata": {},
   "source": [
    "## Train the model"
   ]
  },
  {
   "cell_type": "code",
   "execution_count": 11,
   "metadata": {},
   "outputs": [
    {
     "name": "stderr",
     "output_type": "stream",
     "text": [
      "train_logger: INFO     -> START training graph\n",
      "train_logger: INFO     start creating train_dict\n",
      "train_logger: INFO     [END] creating train_dict\n"
     ]
    }
   ],
   "source": [
    "train_dict = yml.train_model(model, config_dict)"
   ]
  },
  {
   "cell_type": "code",
   "execution_count": 12,
   "metadata": {},
   "outputs": [
    {
     "name": "stdout",
     "output_type": "stream",
     "text": [
      "{'train_losses': [5.2153835, 0.9760489, 0.8170814], 'val_losses': [0.7062942, 0.56644136, 0.5246587], 'epochs': [0, 1, 2], 'meansquarederror': 0.02217643, 'val_meansquarederror': 0.024458267, 'topkcategoricalaccuracy': 0.93845457, 'val_topkcategoricalaccuracy': 0.92425454, 'categoricalaccuracy': 0.8475091, 'val_categoricalaccuracy': 0.8289818}\n"
     ]
    }
   ],
   "source": [
    "# the returned train_dict contains relevant information from training\n",
    "print(train_dict)"
   ]
  },
  {
   "cell_type": "markdown",
   "metadata": {},
   "source": [
    "## Let's try a different model\n",
    "\n",
    "We can create a new model by simply specifying the model archicture \"on the fly\""
   ]
  },
  {
   "cell_type": "code",
   "execution_count": 13,
   "metadata": {},
   "outputs": [
    {
     "name": "stdout",
     "output_type": "stream",
     "text": [
      "8226787121120433438\n"
     ]
    }
   ],
   "source": [
    "new_model = '''\n",
    "meta:\n",
    "  name: \"model_b\"\n",
    "  name_override: True\n",
    "  activation:\n",
    "    type: 'elu'\n",
    "\n",
    "layers:\n",
    "  conv_1:\n",
    "    type: 'conv2d'\n",
    "    options:\n",
    "      filters: 32\n",
    "      kernel_size: 3\n",
    "  conv_2:\n",
    "    type: 'conv2d'\n",
    "    options:\n",
    "      filters: 64\n",
    "      kernel_size: 3\n",
    "  dropout_1:\n",
    "    type: 'dropout'\n",
    "    options:\n",
    "      rate: 0.5\n",
    "  pool_1:\n",
    "    type: 'AveragePooling2D'\n",
    "    options:\n",
    "      pool_size: 2\n",
    "      strides: 2\n",
    "  flatten_1:\n",
    "    type: 'flatten'\n",
    "  dense_1:\n",
    "    type: 'dense'\n",
    "    options:\n",
    "      units: 16\n",
    "      kernel_regularizer:\n",
    "        type: 'L1'\n",
    "        l: 0.01\n",
    "  dense_2_output:\n",
    "    type: 'dense'\n",
    "    options:\n",
    "      units: 10\n",
    "      activation:\n",
    "        type: 'softmax'\n",
    "'''\n",
    "\n",
    "# use the specified configuration method to ensure proper formatting\n",
    "new_model_conf = yml.config.config_model(new_model, config_dict)"
   ]
  },
  {
   "cell_type": "markdown",
   "metadata": {},
   "source": [
    "## Build and Train"
   ]
  },
  {
   "cell_type": "code",
   "execution_count": 14,
   "metadata": {
    "scrolled": true
   },
   "outputs": [
    {
     "name": "stderr",
     "output_type": "stream",
     "text": [
      "build_logger: INFO     -> START building graph\n",
      "build_logger: INFO     -> START building hidden block\n",
      "graph_logger: INFO     | conv_1          | no_shape\n",
      "graph_logger: INFO     | conv_2          | no_shape\n",
      "graph_logger: INFO     | dropout_1       | no_shape\n",
      "graph_logger: INFO     | pool_1          | no_shape\n",
      "graph_logger: INFO     | flatten_1       | no_shape\n",
      "graph_logger: INFO     | dense_1         | no_shape\n",
      "graph_logger: INFO     | dense_2_output  | no_shape\n",
      "build_logger: INFO     [END] building hidden block\n",
      "train_logger: INFO     -> START training graph\n",
      "train_logger: INFO     start creating train_dict\n",
      "train_logger: INFO     [END] creating train_dict\n"
     ]
    }
   ],
   "source": [
    "model_b = yml.build_model(new_model_conf)\n",
    "train_dict = yml.train_model(model_b, new_model_conf)"
   ]
  },
  {
   "cell_type": "code",
   "execution_count": 15,
   "metadata": {},
   "outputs": [
    {
     "name": "stdout",
     "output_type": "stream",
     "text": [
      "{'train_losses': [4.971495, 1.0700443, 0.7730109], 'val_losses': [0.6853227, 0.4991753, 0.35921574], 'epochs': [0, 1, 2], 'meansquarederror': 0.018187756, 'val_meansquarederror': 0.017009854, 'topkcategoricalaccuracy': 0.95281816, 'val_topkcategoricalaccuracy': 0.95887274, 'categoricalaccuracy': 0.8790182, 'val_categoricalaccuracy': 0.88336366}\n"
     ]
    }
   ],
   "source": [
    "print(train_dict)"
   ]
  },
  {
   "cell_type": "markdown",
   "metadata": {},
   "source": [
    "## Evaluate Model"
   ]
  },
  {
   "cell_type": "code",
   "execution_count": 16,
   "metadata": {},
   "outputs": [
    {
     "name": "stderr",
     "output_type": "stream",
     "text": [
      "eval_logger : INFO     params loaded from examples/mnist/trial_01/model_b/save/params/run_2019_12_22-12_51_19/best_params.h5\n",
      "eval_logger : INFO     -> START evaluating model\n",
      "eval_logger : INFO     [END] evaluating model\n",
      "eval_logger : INFO     -> START creating eval_dict\n",
      "eval_logger : INFO     [END] creating eval_dict\n"
     ]
    },
    {
     "name": "stdout",
     "output_type": "stream",
     "text": [
      "{'meansquarederror': 0.017009858, 'topkcategoricalaccuracy': 0.95887274, 'categoricalaccuracy': 0.88336366}\n"
     ]
    }
   ],
   "source": [
    "eval_dict = yml.eval_model(\n",
    "    model_b,\n",
    "    new_model_conf\n",
    ")\n",
    "print(eval_dict)"
   ]
  },
  {
   "cell_type": "code",
   "execution_count": 1,
   "metadata": {},
   "outputs": [
    {
     "ename": "NameError",
     "evalue": "name 'yml' is not defined",
     "output_type": "error",
     "traceback": [
      "\u001b[0;31m---------------------------------------------------------------------------\u001b[0m",
      "\u001b[0;31mNameError\u001b[0m                                 Traceback (most recent call last)",
      "\u001b[0;32m<ipython-input-1-96aaf533efad>\u001b[0m in \u001b[0;36m<module>\u001b[0;34m\u001b[0m\n\u001b[0;32m----> 1\u001b[0;31m eval_dict = yml.eval_model(\n\u001b[0m\u001b[1;32m      2\u001b[0m     \u001b[0mmodel\u001b[0m\u001b[0;34m,\u001b[0m\u001b[0;34m\u001b[0m\u001b[0;34m\u001b[0m\u001b[0m\n\u001b[1;32m      3\u001b[0m     \u001b[0mconfig_dict\u001b[0m\u001b[0;34m\u001b[0m\u001b[0;34m\u001b[0m\u001b[0m\n\u001b[1;32m      4\u001b[0m )\n\u001b[1;32m      5\u001b[0m \u001b[0mprint\u001b[0m\u001b[0;34m(\u001b[0m\u001b[0meval_dict\u001b[0m\u001b[0;34m)\u001b[0m\u001b[0;34m\u001b[0m\u001b[0;34m\u001b[0m\u001b[0m\n",
      "\u001b[0;31mNameError\u001b[0m: name 'yml' is not defined"
     ]
    }
   ],
   "source": [
    "eval_dict = yml.eval_model(\n",
    "    model,\n",
    "    config_dict\n",
    ")\n",
    "print(eval_dict)"
   ]
  },
  {
   "cell_type": "code",
   "execution_count": null,
   "metadata": {},
   "outputs": [],
   "source": []
  }
 ],
 "metadata": {
  "kernelspec": {
   "display_name": "tf2",
   "language": "python",
   "name": "tf2"
  },
  "language_info": {
   "codemirror_mode": {
    "name": "ipython",
    "version": 3
   },
   "file_extension": ".py",
   "mimetype": "text/x-python",
   "name": "python",
   "nbconvert_exporter": "python",
   "pygments_lexer": "ipython3",
   "version": "3.6.7"
  }
 },
 "nbformat": 4,
 "nbformat_minor": 2
}
