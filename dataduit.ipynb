{
 "cells": [
  {
   "cell_type": "markdown",
   "metadata": {},
   "source": [
    "# Dataduit\n",
    "\n",
    "In this example, we'll demonstrate how to use [dataduit](https://github.com/JackBurdick/dataduit) to create tensorflow datasets from a pandas dataframe by specifying a config file.\n",
    "\n",
    "We'll then demonstrate how to use yeahml to create/build/evaluate a model on the created data.\n",
    "\n",
    "#### Note:\n",
    "> neither dataduit nor yeaml are installed in the environment so I have both repositories cloned to my machine and I am operating in the yeahml directory but including the dataduit project (by using sys.path.append(\"../path/to/dataduit\") in the next cell. This will hopefully change in the future. Also, the model for this project likely doesn't make sense. I am not personally familiar with the dataset, I only wanted to show that it is possible to use these two libraries together"
   ]
  },
  {
   "cell_type": "code",
   "execution_count": 1,
   "metadata": {},
   "outputs": [],
   "source": [
    "%load_ext autoreload\n",
    "%autoreload 2\n",
    "\n",
    "import sys\n",
    "sys.path.append(\"../dataduit/\")"
   ]
  },
  {
   "cell_type": "code",
   "execution_count": 2,
   "metadata": {
    "scrolled": true
   },
   "outputs": [],
   "source": [
    "import pandas as pd\n",
    "import tensorflow as tf\n",
    "import dataduit as dd\n",
    "import yeahml as yml"
   ]
  },
  {
   "cell_type": "markdown",
   "metadata": {},
   "source": [
    "## Create Datasets"
   ]
  },
  {
   "cell_type": "code",
   "execution_count": 3,
   "metadata": {},
   "outputs": [
    {
     "data": {
      "text/plain": [
       "{'meta': {'name': 'albalone',\n",
       "  'logging': {'log_stream_level': 'INFO'},\n",
       "  'in': {'from': 'memory', 'type': 'pandas'}},\n",
       " 'read': {'split_percents': [75, 15, 10],\n",
       "  'split_names': ['train', 'val', 'test'],\n",
       "  'iterate': {'return_type': 'tuple',\n",
       "   'schema': {'x': {'length': {'indicator': 'length',\n",
       "      'datatype': {'in': {'options': {'dtype': 'float64', 'shape': 1}},\n",
       "       'out': {}},\n",
       "      'special': 'decode'},\n",
       "     'diameter': {'indicator': 'diameter',\n",
       "      'datatype': {'in': {'options': {'dtype': 'float64', 'shape': 1}},\n",
       "       'out': {}},\n",
       "      'special': 'decode'}},\n",
       "    'y': {'rings': {'datatype': {'in': {'options': {'dtype': 'int64',\n",
       "         'shape': 1}},\n",
       "       'out': {}}}}}}}}"
      ]
     },
     "execution_count": 3,
     "metadata": {},
     "output_type": "execute_result"
    }
   ],
   "source": [
    "# the config file looks something like this:\n",
    "# right now the config file is a python dict object, but eventually \n",
    "# we'll be able to write json or yaml files to be parsed into this dict\n",
    "from pandas_dev import conf_dict\n",
    "conf_dict"
   ]
  },
  {
   "cell_type": "code",
   "execution_count": 4,
   "metadata": {},
   "outputs": [],
   "source": [
    "# Reading a file from online\n",
    "# more information can be found here:\n",
    "# > https://archive.ics.uci.edu/ml/machine-learning-databases/abalone/\n",
    "h = [\"sex\",\n",
    "\"length\",\n",
    "\"diameter\",\n",
    "\"height\",\n",
    "\"whole_weight\",\n",
    "\"shucked_weight\",\n",
    "\"viscera_weight\",\n",
    "\"shell_weight\",\n",
    "\"rings\"]\n",
    "df = pd.read_csv('https://archive.ics.uci.edu/ml/machine-learning-databases/abalone/abalone.data',names=h)"
   ]
  },
  {
   "cell_type": "code",
   "execution_count": 5,
   "metadata": {},
   "outputs": [],
   "source": [
    "# create the datasets based on the above defined names/splits/specifed data\n",
    "ds_dict = dd.read(conf_dict, df)"
   ]
  },
  {
   "cell_type": "markdown",
   "metadata": {},
   "source": [
    "`ds_dict` is just a dictionary containing the tensorflow datasets. which can be accessed like this:\n",
    "\n",
    "```python\n",
    "ds_val = ds_dict[\"val\"]\n",
    "```"
   ]
  },
  {
   "cell_type": "markdown",
   "metadata": {},
   "source": [
    "## Specify the Model"
   ]
  },
  {
   "cell_type": "code",
   "execution_count": 6,
   "metadata": {
    "scrolled": true
   },
   "outputs": [],
   "source": [
    "example = \"./examples/abalone/main_config.yml\"\n",
    "config_dict = yml.create_configs(example)"
   ]
  },
  {
   "cell_type": "markdown",
   "metadata": {},
   "source": [
    "The config looks something like this"
   ]
  },
  {
   "cell_type": "code",
   "execution_count": 7,
   "metadata": {
    "scrolled": false
   },
   "outputs": [
    {
     "name": "stdout",
     "output_type": "stream",
     "text": [
      "meta:\r\n",
      "  name: 'abalone'\r\n",
      "  experiment_dir: 'trial_00'\r\n",
      "  # TODO: information on when to save params, currently only best params saved\r\n",
      "logging:\r\n",
      "  console:\r\n",
      "    level: 'info'\r\n",
      "    format_str: null\r\n",
      "  file:\r\n",
      "    level: 'ERROR'\r\n",
      "    format_str: null\r\n",
      "  graph_spec: True\r\n",
      "\r\n",
      "performance:\r\n",
      "  loss_fn: \r\n",
      "    type: 'MSE'\r\n",
      "  type: [\"MeanSquaredError\", \"MeanAbsoluteError\"]\r\n",
      "  options: [null, \r\n",
      "            null]\r\n",
      "\r\n",
      "# TODO: this section needs to be redone\r\n",
      "data:\r\n",
      "  in:\r\n",
      "    dim: [2,1]\r\n",
      "    dtype: 'float64'\r\n",
      "  label:\r\n",
      "    dim: [1]\r\n",
      "    dtype: 'int32'\r\n",
      "\r\n",
      "hyper_parameters:\r\n",
      "  optimizer: \r\n",
      "    type: 'adam'\r\n",
      "    learning_rate: 0.0001\r\n",
      "  epochs: 30\r\n",
      "  dataset:\r\n",
      "    # TODO: I would like to make this logic more abstract\r\n",
      "    # I think the only options that should be applied here are \"batch\" and \"shuffle\"\r\n",
      "    batch: 16\r\n",
      "    shuffle: 128 # this should be grouped with batchsize\r\n",
      "model:\r\n",
      "  path: './examples/abalone/model_config.yml'\r\n",
      "\r\n"
     ]
    }
   ],
   "source": [
    "!cat ./examples/abalone/main_config.yml"
   ]
  },
  {
   "cell_type": "markdown",
   "metadata": {},
   "source": [
    "And the model config looks like this:"
   ]
  },
  {
   "cell_type": "code",
   "execution_count": 8,
   "metadata": {},
   "outputs": [
    {
     "name": "stdout",
     "output_type": "stream",
     "text": [
      "meta:\r\n",
      "  name: \"model_a\"\r\n",
      "  name_override: True\r\n",
      "  activation:\r\n",
      "    type: 'elu'\r\n",
      "\r\n",
      "layers:\r\n",
      "  dense_1:\r\n",
      "    type: 'dense'\r\n",
      "    options:\r\n",
      "      units: 16\r\n",
      "  dense_2:\r\n",
      "    type: 'dense'\r\n",
      "    options:\r\n",
      "      units: 8\r\n",
      "      activation:\r\n",
      "        type: 'linear'\r\n",
      "  dense_3_output:\r\n",
      "    type: 'dense'\r\n",
      "    options:\r\n",
      "      units: 1\r\n",
      "      activation:\r\n",
      "        type: 'linear'"
     ]
    }
   ],
   "source": [
    "!cat ./examples/abalone/model_config.yml"
   ]
  },
  {
   "cell_type": "markdown",
   "metadata": {},
   "source": [
    "## Build the model"
   ]
  },
  {
   "cell_type": "code",
   "execution_count": 9,
   "metadata": {},
   "outputs": [
    {
     "name": "stderr",
     "output_type": "stream",
     "text": [
      "build_logger: INFO     -> START building graph\n",
      "build_logger: INFO     -> START building hidden block\n",
      "graph_logger: INFO     | dense_1         | no_shape\n",
      "graph_logger: INFO     | dense_2         | no_shape\n",
      "graph_logger: INFO     | dense_3_output  | no_shape\n",
      "build_logger: INFO     [END] building hidden block\n",
      "build_logger: INFO     information json file created\n"
     ]
    }
   ],
   "source": [
    "model = yml.build_model(config_dict)"
   ]
  },
  {
   "cell_type": "code",
   "execution_count": 10,
   "metadata": {},
   "outputs": [
    {
     "name": "stdout",
     "output_type": "stream",
     "text": [
      "Model: \"model\"\n",
      "_________________________________________________________________\n",
      "Layer (type)                 Output Shape              Param #   \n",
      "=================================================================\n",
      "input_1 (InputLayer)         [(None, 2, 1)]            0         \n",
      "_________________________________________________________________\n",
      "dense_1 (Dense)              (None, 2, 16)             32        \n",
      "_________________________________________________________________\n",
      "dense_2 (Dense)              (None, 2, 8)              136       \n",
      "_________________________________________________________________\n",
      "dense_3_output (Dense)       (None, 2, 1)              9         \n",
      "=================================================================\n",
      "Total params: 177\n",
      "Trainable params: 177\n",
      "Non-trainable params: 0\n",
      "_________________________________________________________________\n"
     ]
    }
   ],
   "source": [
    "model.summary()"
   ]
  },
  {
   "cell_type": "markdown",
   "metadata": {},
   "source": [
    "## Train the Model\n",
    "\n",
    "Notice here that we're using the created training and validation sets from `ds_dict`"
   ]
  },
  {
   "cell_type": "code",
   "execution_count": 11,
   "metadata": {
    "scrolled": false
   },
   "outputs": [
    {
     "name": "stderr",
     "output_type": "stream",
     "text": [
      "train_logger: INFO     -> START training graph\n",
      "WARNING: Logging before flag parsing goes to stderr.\n",
      "W0115 17:23:33.572206 140689008121664 base_layer.py:1814] Layer dense_1 is casting an input tensor from dtype float64 to the layer's dtype of float32, which is new behavior in TensorFlow 2.  The layer has dtype float32 because it's dtype defaults to floatx.\n",
      "\n",
      "If you intended to run this layer in float32, you can safely ignore this warning. If in doubt, this warning is likely only an issue if you are porting a TensorFlow 1.X model to TensorFlow 2.\n",
      "\n",
      "To change all layers to have dtype float64 by default, call `tf.keras.backend.set_floatx('float64')`. To change just this layer, pass dtype='float64' to the layer constructor. If you are the author of this layer, you can disable autocasting by passing autocast=False to the base Layer constructor.\n",
      "\n",
      "train_logger: INFO     start creating train_dict\n",
      "train_logger: INFO     [END] creating train_dict\n"
     ]
    }
   ],
   "source": [
    "train_dict = yml.train_model(model, config_dict, (ds_dict[\"train\"], ds_dict[\"val\"]))"
   ]
  },
  {
   "cell_type": "markdown",
   "metadata": {},
   "source": [
    "## Evaluate the Model"
   ]
  },
  {
   "cell_type": "code",
   "execution_count": 12,
   "metadata": {},
   "outputs": [
    {
     "name": "stderr",
     "output_type": "stream",
     "text": [
      "eval_logger : INFO     params loaded from examples/abalone/trial_00/model_a/save/params/run_2020_01_15-17_23_33/best_params.h5\n",
      "eval_logger : INFO     -> START evaluating model\n",
      "eval_logger : INFO     [END] evaluating model\n",
      "eval_logger : INFO     -> START creating eval_dict\n",
      "eval_logger : INFO     [END] creating eval_dict\n"
     ]
    },
    {
     "name": "stdout",
     "output_type": "stream",
     "text": [
      "{'meansquarederror': 6.5413327, 'meanabsoluteerror': 1.9091898}\n"
     ]
    }
   ],
   "source": [
    "eval_dict = yml.eval_model(\n",
    "    model,\n",
    "    config_dict,\n",
    "    dataset=ds_dict[\"test\"]\n",
    ")\n",
    "print(eval_dict)"
   ]
  },
  {
   "cell_type": "markdown",
   "metadata": {},
   "source": [
    "## Inspect model in Tensorflow\n",
    "\n",
    "In the command line you can navigate to the `albalone` directory and run: (provided tensorboard is installed in your environment)\n",
    "\n",
    "```bash\n",
    "tensorboard --logdir model_a/\n",
    "```"
   ]
  },
  {
   "cell_type": "code",
   "execution_count": null,
   "metadata": {},
   "outputs": [],
   "source": []
  }
 ],
 "metadata": {
  "kernelspec": {
   "display_name": "tf2",
   "language": "python",
   "name": "tf2"
  },
  "language_info": {
   "codemirror_mode": {
    "name": "ipython",
    "version": 3
   },
   "file_extension": ".py",
   "mimetype": "text/x-python",
   "name": "python",
   "nbconvert_exporter": "python",
   "pygments_lexer": "ipython3",
   "version": "3.6.7"
  }
 },
 "nbformat": 4,
 "nbformat_minor": 2
}
