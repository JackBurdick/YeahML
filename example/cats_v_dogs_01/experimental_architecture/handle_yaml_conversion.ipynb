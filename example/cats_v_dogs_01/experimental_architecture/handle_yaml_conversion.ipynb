{
 "cells": [
  {
   "cell_type": "code",
   "execution_count": 1,
   "metadata": {},
   "outputs": [],
   "source": [
    "import yaml"
   ]
  },
  {
   "cell_type": "code",
   "execution_count": 2,
   "metadata": {},
   "outputs": [],
   "source": [
    "def parse_yaml_from_path(path: str) -> dict:\n",
    "    # return python dict from yaml path\n",
    "    with open(path, \"r\") as stream:\n",
    "        try:\n",
    "            y = yaml.load(stream)\n",
    "            return y\n",
    "        except yaml.YAMLError as exc:\n",
    "            print(exc)\n",
    "            return None\n",
    "\n",
    "\n",
    "def create_model_and_arch_config(path: str) -> (dict, dict):\n",
    "    # return the model and archtitecture configuration dicts\n",
    "    m_config = parse_yaml_from_path(path)\n",
    "    # create architecture config\n",
    "    if m_config[\"architecture\"][\"yaml\"]:\n",
    "        a_config = parse_yaml_from_path(m_config[\"architecture\"][\"yaml\"])\n",
    "    else:\n",
    "        a_config = m_config[\"architecture\"]\n",
    "\n",
    "    return (m_config, a_config)"
   ]
  },
  {
   "cell_type": "code",
   "execution_count": 5,
   "metadata": {},
   "outputs": [
    {
     "name": "stdout",
     "output_type": "stream",
     "text": [
      "{'layers': {'conv_1': {'type': 'conv2d', 'options': {'filters': 32, 'kernel_size': 3, 'padding': 'SAME', 'strides': 2}, 'activation': 'elu'}, 'conv_2': {'type': 'conv2d', 'options': {'filters': 64, 'kernel_size': 3, 'padding': 'SAME', 'strides': 2}, 'activation': 'elu'}, 'conv_3': {'type': 'conv2d', 'options': {'filters': 96, 'kernel_size': 3, 'padding': 'SAME', 'strides': 2}, 'activation': 'elu'}, 'pool_1': {'type': 'max_pooling2d', 'options': {'pool_size': [2, 2], 'strides': 2}}, 'conv_4': {'type': 'conv2d', 'options': {'filters': 128, 'kernel_size': 3, 'padding': 'SAME', 'strides': 1}, 'activation': 'elu'}, 'conv_5': {'type': 'conv2d', 'options': {'filters': 192, 'kernel_size': 3, 'padding': 'SAME', 'strides': 1}, 'activation': 'elu'}, 'dense_1': {'type': 'dense', 'options': {'units': 256}, 'activation': 'elu'}, 'dense_2': {'type': 'dense', 'options': {'units': 64}, 'activation': 'elu'}, 'dense_3': {'type': 'dense', 'options': {'units': 16}, 'activation': 'elu'}}}\n"
     ]
    }
   ],
   "source": [
    "_, AC = create_model_and_arch_config(\"./model_config.yaml\")\n",
    "#print(MC)\n",
    "print(AC)"
   ]
  },
  {
   "cell_type": "code",
   "execution_count": 23,
   "metadata": {},
   "outputs": [
    {
     "name": "stdout",
     "output_type": "stream",
     "text": [
      "<class 'str'>\n",
      "<class 'str'>\n",
      "<class 'str'>\n",
      "<class 'str'>\n",
      "<class 'str'>\n",
      "<class 'str'>\n",
      "<class 'str'>\n",
      "<class 'str'>\n",
      "<class 'str'>\n"
     ]
    }
   ],
   "source": [
    "for l_name in AC['layers']:\n",
    "    layer = AC['layers'][str(l_name)]\n",
    "    ltype = layer['type']\n",
    "    try:\n",
    "        opts = layer['options']\n",
    "    except:\n",
    "        opts = None\n",
    "        pass\n",
    "    try:\n",
    "        actfn = layer['activation']\n",
    "    except KeyError:\n",
    "        actfn = None\n",
    "        pass"
   ]
  },
  {
   "cell_type": "code",
   "execution_count": 6,
   "metadata": {},
   "outputs": [
    {
     "name": "stdout",
     "output_type": "stream",
     "text": [
      "[None, 150, 150, 3]\n"
     ]
    }
   ],
   "source": []
  },
  {
   "cell_type": "code",
   "execution_count": null,
   "metadata": {},
   "outputs": [],
   "source": []
  }
 ],
 "metadata": {
  "kernelspec": {
   "display_name": "dl_edge",
   "language": "python",
   "name": "dl_edge"
  },
  "language_info": {
   "codemirror_mode": {
    "name": "ipython",
    "version": 3
   },
   "file_extension": ".py",
   "mimetype": "text/x-python",
   "name": "python",
   "nbconvert_exporter": "python",
   "pygments_lexer": "ipython3",
   "version": "3.6.5"
  }
 },
 "nbformat": 4,
 "nbformat_minor": 2
}
